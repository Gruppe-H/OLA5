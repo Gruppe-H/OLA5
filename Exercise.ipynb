{
 "cells": [
  {
   "cell_type": "markdown",
   "id": "cfaf9fa8-5e65-45af-8b89-506c439f661d",
   "metadata": {},
   "source": [
    "# Exercise 5"
   ]
  },
  {
   "cell_type": "code",
   "execution_count": 1,
   "id": "728bbc76-8e11-4b94-a151-05fc51e6bde4",
   "metadata": {
    "scrolled": true
   },
   "outputs": [],
   "source": [
    "#!pip install streamlit"
   ]
  },
  {
   "cell_type": "code",
   "execution_count": 2,
   "id": "d6b73b2d-b5fc-40ce-981b-8772103a6820",
   "metadata": {},
   "outputs": [],
   "source": [
    "## !streamlit hello"
   ]
  },
  {
   "cell_type": "code",
   "execution_count": 3,
   "id": "9ba11115-d061-4e08-8d19-7f88d549eb3d",
   "metadata": {
    "scrolled": true
   },
   "outputs": [],
   "source": [
    "#!pip install langchain"
   ]
  },
  {
   "cell_type": "code",
   "execution_count": 4,
   "id": "7dfdb156-bf3b-4cd3-a7ca-6fe0edcd24c5",
   "metadata": {},
   "outputs": [],
   "source": [
    "#!pip install langdetect"
   ]
  },
  {
   "cell_type": "code",
   "execution_count": 5,
   "id": "05c9b200-f2e3-42ea-93ec-e0ad57d18995",
   "metadata": {},
   "outputs": [],
   "source": [
    "#!pip install -U torch"
   ]
  },
  {
   "cell_type": "markdown",
   "id": "04dcb4f5-3194-40f1-aacf-132a5c8fefdf",
   "metadata": {},
   "source": [
    "## Set Enviroment "
   ]
  },
  {
   "cell_type": "code",
   "execution_count": 6,
   "id": "17dc64bb-3180-49c0-aa85-e2487818a433",
   "metadata": {},
   "outputs": [],
   "source": [
    "import os\n",
    "import pandas as pd"
   ]
  },
  {
   "cell_type": "code",
   "execution_count": 7,
   "id": "2d851e54-5dae-4df6-a792-439230126c97",
   "metadata": {},
   "outputs": [],
   "source": [
    "import langdetect\n",
    "from langdetect import DetectorFactory, detect, detect_langs"
   ]
  },
  {
   "cell_type": "code",
   "execution_count": 8,
   "id": "3cf99065-b7c1-4a2a-b9ed-9c0755bd1b82",
   "metadata": {},
   "outputs": [],
   "source": [
    "from langchain.llms import Ollama\n",
    "from langchain.callbacks.manager import CallbackManager\n",
    "from langchain.callbacks.streaming_stdout import StreamingStdOutCallbackHandler"
   ]
  },
  {
   "cell_type": "code",
   "execution_count": 9,
   "id": "97f18d42-9d9d-459c-85db-7fb89bb3d62f",
   "metadata": {},
   "outputs": [],
   "source": [
    "\n",
    "from langchain.docstore.document import Document\n",
    "from langchain.text_splitter import RecursiveCharacterTextSplitter\n",
    "from langchain.vectorstores import Chroma\n",
    "from langchain.chains import ConversationalRetrievalChain\n",
    "from langchain.memory import ConversationBufferMemory\n",
    "from langchain.prompts import PromptTemplate"
   ]
  },
  {
   "cell_type": "code",
   "execution_count": 10,
   "id": "d5af439d-bca5-45bb-802f-b1639d4a43d5",
   "metadata": {},
   "outputs": [],
   "source": [
    "# Embedding facilities\n",
    "from langchain.embeddings import HuggingFaceEmbeddings"
   ]
  },
  {
   "cell_type": "code",
   "execution_count": 11,
   "id": "4a7cff1c-5f20-47a9-865e-29be87928509",
   "metadata": {},
   "outputs": [],
   "source": [
    "# Pipelines\n",
    "from langchain import HuggingFacePipeline\n",
    "from langchain.chains import RetrievalQA"
   ]
  },
  {
   "cell_type": "markdown",
   "id": "438840ac-cfb9-4c18-8265-ecb383398277",
   "metadata": {},
   "source": [
    "## Load Documents"
   ]
  },
  {
   "cell_type": "code",
   "execution_count": 12,
   "id": "ebdc951d-80e1-46d2-8cf2-e5da197c02c3",
   "metadata": {},
   "outputs": [],
   "source": [
    "import myloadlib\n",
    "from myloadlib import loadDir, loadFile, loadWiki, loadYoutube, readAPI"
   ]
  },
  {
   "cell_type": "code",
   "execution_count": 13,
   "id": "0932c18c-3ace-48bf-9a86-8f64020d2919",
   "metadata": {},
   "outputs": [
    {
     "data": {
      "text/plain": [
       "<module 'myloadlib' from '/Users/mariamcnally/Desktop/SW2Semester/AI/OLA5/myloadlib.py'>"
      ]
     },
     "execution_count": 13,
     "metadata": {},
     "output_type": "execute_result"
    }
   ],
   "source": [
    "import importlib \n",
    "importlib.reload(myloadlib)"
   ]
  },
  {
   "cell_type": "code",
   "execution_count": 14,
   "id": "6b27dfb0-bfb1-4475-9d94-0558dc6bc264",
   "metadata": {},
   "outputs": [],
   "source": [
    "# Collect all here\n",
    "documents = []"
   ]
  },
  {
   "cell_type": "markdown",
   "id": "22113093-ce47-45ed-b2b2-cf9f459c572c",
   "metadata": {},
   "source": [
    "## Load single files"
   ]
  },
  {
   "cell_type": "code",
   "execution_count": 15,
   "id": "310103aa-5e9b-44f4-aff5-993700838ef4",
   "metadata": {},
   "outputs": [],
   "source": [
    "file = \"/Users/mariamcnally/Desktop/SW2Semester/AI/DataWrangling.pdf\""
   ]
  },
  {
   "cell_type": "code",
   "execution_count": 16,
   "id": "4bb6440e-2574-47ec-aa22-0376efc41c70",
   "metadata": {},
   "outputs": [],
   "source": [
    "#!pip install pypdf"
   ]
  },
  {
   "cell_type": "code",
   "execution_count": 17,
   "id": "4a915478-86e9-4261-b2c2-3e826eaeae59",
   "metadata": {},
   "outputs": [
    {
     "name": "stderr",
     "output_type": "stream",
     "text": [
      "Ignoring wrong pointing object 6 0 (offset 0)\n",
      "Ignoring wrong pointing object 8 0 (offset 0)\n",
      "Ignoring wrong pointing object 11 0 (offset 0)\n",
      "Ignoring wrong pointing object 13 0 (offset 0)\n",
      "Ignoring wrong pointing object 15 0 (offset 0)\n",
      "Ignoring wrong pointing object 17 0 (offset 0)\n",
      "Ignoring wrong pointing object 19 0 (offset 0)\n",
      "Ignoring wrong pointing object 21 0 (offset 0)\n"
     ]
    }
   ],
   "source": [
    "docs = myloadlib.loadFile(file)"
   ]
  },
  {
   "cell_type": "code",
   "execution_count": 18,
   "id": "ce6e044b-ba68-44af-adc9-0b54be98b380",
   "metadata": {},
   "outputs": [
    {
     "data": {
      "text/plain": [
       "2"
      ]
     },
     "execution_count": 18,
     "metadata": {},
     "output_type": "execute_result"
    }
   ],
   "source": [
    "documents.extend(docs)\n",
    "len(documents)"
   ]
  },
  {
   "cell_type": "code",
   "execution_count": 19,
   "id": "71d6b155-a7ad-4f96-8799-4c76f185ac95",
   "metadata": {},
   "outputs": [
    {
     "data": {
      "text/plain": [
       "{'source': '/Users/mariamcnally/Desktop/SW2Semester/AI/DataWrangling.pdf',\n",
       " 'page': 0}"
      ]
     },
     "execution_count": 19,
     "metadata": {},
     "output_type": "execute_result"
    }
   ],
   "source": [
    "# metadata of loaded Document\n",
    "docs[0].metadata "
   ]
  },
  {
   "cell_type": "markdown",
   "id": "c6aea562-013b-4182-bff9-96ac549d16af",
   "metadata": {},
   "source": [
    "Content of page [0] = page 1. "
   ]
  },
  {
   "cell_type": "code",
   "execution_count": 20,
   "id": "b4a67e29-a9ba-41d1-a186-af03622038ee",
   "metadata": {},
   "outputs": [
    {
     "data": {
      "text/plain": [
       "'Data Wrangling To get the data into a good state before analysing it there are some steps we need to go  through . The following process is a basic outline of what needs to happen before data is  ready for modelling and analysis. • Data\\tDiscovery:\\tThis\\tis\\tan\\tall-encompassing\\tterm\\tthat\\tdescribes\\tunderstanding\\twhat\\tyour\\tdata\\tis\\tall\\tabout.\\tIn\\tthis\\tfirst\\tstep,\\tyou\\tget\\tfamiliar\\twith\\tyour\\tdata\\t\\tand\\tensure\\tit\\tis\\tcapable\\tof\\tbeing\\tused\\tto\\thelp\\twork\\ton\\tyour\\tproblem.\\t\\t• Data\\tStructuring:\\tWhen\\tyou\\tcollect\\traw\\tdata,\\tit\\tinitially\\tis\\tin\\tall\\tshapes\\tand\\t\\tsizes,\\tand\\thas\\tno\\tdefinite\\tstructure.\\tSuch\\tdata\\tneeds\\tto\\tbe\\trestructured\\tto\\tsuit\\tthe\\t\\tanalytical\\tmodel\\tthat\\tyour\\tenterprise\\tplans\\tto\\tdeploy\\t\\t\\t• Data\\tCleaning:\\tRaw\\tdata\\tcomes\\twith\\tsome\\terrors\\tthat\\tneed\\tto\\tbe\\tfixed\\tbefore\\t\\tdata\\tis\\tpassed\\ton\\tto\\tthe\\tnext\\tstage.\\tCleaning\\tinvolves\\tthe\\ttackling\\tof\\toutliers,\\t\\tmaking\\tcorrections,\\tor\\tdeleting\\tbad\\tdata\\tcompletely\\t\\t\\t• Data\\tEnriching:\\tBy\\tthis\\tstage,\\tyou\\thave\\tkind\\tof\\tbecome\\tfamiliar\\twith\\tthe\\tdata\\tin\\t\\thand.\\tNow\\tis\\tthe\\ttime\\tto\\task\\tyourself\\tthis\\tquestion\\t–\\tdo\\tyou\\tneed\\tto\\tembellish\\t\\tthe\\traw\\tdata?\\tDo\\tyou\\twant\\tto\\taugment\\tit\\twith\\tother\\tdata?\\t\\t\\t• Data\\tValidating:\\tThis\\tactivity\\tsurfaces\\tdata\\tquality\\tissues,\\tand\\tthey\\thave\\tto\\tbe\\t\\taddressed\\twith\\tthe\\tnecessary\\ttransformations.\\tThe\\trules\\tof\\tvalidation\\trules\\trequire\\trepetitive\\tprogramming\\tsteps\\tto\\tcheck\\tthe\\tauthenticity\\tand\\tthe\\tquality\\tof\\tyour\\tdata\\t\\t• Data\\tPublishing:\\tOnce\\tall\\tthe\\tabove\\tsteps\\tare\\tcompleted,\\tthe\\tfinal\\toutput\\tof\\tthe\\twrangling\\tcan\\tbe\\tpublished\\tas\\tpart\\tof\\ta\\tdata\\tpipeline\\tand\\tis\\tready\\tfor\\tanalysis.\\tData wrangling is a core iterative process that throws up the cleanest, most useful data possible before you start your actual analysis. It is THE most important stage in building credible models as everything else depends on the quality of the data.  Examples\\tof\\tthe\\tsteps\\t Data\\tDiscovery\\t\\tThink\\tabout\\tthe\\tTitanic\\tdata\\tset\\t–\\twhat\\tcan\\tbe\\tsaid\\tabout\\tit\\t–\\twhat\\tcannot\\tbe\\tsaid;\\tit\\tgives\\tus\\tinformation\\ton\\tsurvivors\\t/\\tdeaths\\t/\\tgender\\t/\\tticket\\tclass\\tetc\\tbut\\tnot\\ton\\tweight\\tof\\tpassengers\\t(does\\tit\\tinfluence\\tsurvival\\tchance?).\\tAlso\\tit\\tgives\\tus\\tno\\tphysical\\tstate\\tinformation\\t(what\\twas\\tthe\\taverage\\tdrop\\theight\\tof\\tlifeboats\\tinto\\tthe\\tsea\\tfor\\texample).\\t\\t\\t\\tData\\tStructuring\\tIf\\tyou\\tare\\tcollecting\\traw\\tdata\\tyou\\twill\\tneed\\tto\\tput\\tthe\\tdata\\tinto\\ta\\tstandardized\\tformat,\\tyou\\tmight\\tneed\\tto\\tconvert\\tintegers\\tto\\ttext\\tor\\ttext\\tto\\tnumerical\\tdata.\\tFor\\texample\\tif\\tyou\\t'"
      ]
     },
     "execution_count": 20,
     "metadata": {},
     "output_type": "execute_result"
    }
   ],
   "source": [
    "documents[0].page_content\n",
    "#docs[0].page_content[:1000]\n",
    "# First 1000 charactors."
   ]
  },
  {
   "cell_type": "markdown",
   "id": "96af8478-011c-45f3-abf3-b0116a993293",
   "metadata": {},
   "source": [
    "## Load Youtube"
   ]
  },
  {
   "cell_type": "code",
   "execution_count": 21,
   "id": "14c296e4-0f2e-4c3a-ad0c-593b650cdf5f",
   "metadata": {},
   "outputs": [],
   "source": [
    "url = 'https://www.youtube.com/watch?v=Zjq0MoUZqVY'\n",
    "save_dir=\"./youtube/\""
   ]
  },
  {
   "cell_type": "code",
   "execution_count": 22,
   "id": "61b23376-339c-4623-8f6c-d8f7b31d62fb",
   "metadata": {},
   "outputs": [
    {
     "data": {
      "text/plain": [
       "'https://www.youtube.com/watch?v=Zjq0MoUZqVY'"
      ]
     },
     "execution_count": 22,
     "metadata": {},
     "output_type": "execute_result"
    }
   ],
   "source": [
    "url"
   ]
  },
  {
   "cell_type": "code",
   "execution_count": 23,
   "id": "744fccee-d41b-4e80-a494-3c6aab4259fc",
   "metadata": {},
   "outputs": [],
   "source": [
    "lang = 'en'"
   ]
  },
  {
   "cell_type": "code",
   "execution_count": 24,
   "id": "e01324e0-eb58-4703-b5c9-fbbec670ada1",
   "metadata": {},
   "outputs": [],
   "source": [
    "#!pip install youtube-transcript-api"
   ]
  },
  {
   "cell_type": "code",
   "execution_count": 25,
   "id": "4f86c158-862b-43f6-a75b-03045e17f24f",
   "metadata": {},
   "outputs": [],
   "source": [
    "#!pip install pytube"
   ]
  },
  {
   "cell_type": "code",
   "execution_count": 27,
   "id": "2583324c-7695-457c-b5ee-04a8912f9cda",
   "metadata": {},
   "outputs": [],
   "source": [
    "docs = myloadlib.loadYoutube(url, lang)"
   ]
  },
  {
   "cell_type": "code",
   "execution_count": 55,
   "id": "db2cc286-9b9b-44d1-88f5-d352e9467664",
   "metadata": {},
   "outputs": [
    {
     "data": {
      "text/plain": [
       "6"
      ]
     },
     "execution_count": 55,
     "metadata": {},
     "output_type": "execute_result"
    }
   ],
   "source": [
    "documents.extend(docs)\n",
    "len(documents)"
   ]
  },
  {
   "cell_type": "code",
   "execution_count": 59,
   "id": "48211019-5282-4ba7-baff-a7016419354d",
   "metadata": {},
   "outputs": [
    {
     "data": {
      "text/plain": [
       "'Document'"
      ]
     },
     "execution_count": 59,
     "metadata": {},
     "output_type": "execute_result"
    }
   ],
   "source": [
    "documents[3].type"
   ]
  },
  {
   "cell_type": "code",
   "execution_count": 66,
   "id": "875cd210-10f1-4f71-b58c-21f747994a7b",
   "metadata": {},
   "outputs": [
    {
     "data": {
      "text/plain": [
       "'Data Wrangling To get the data into a good state before analysing it there are some steps we need to go  through . The following process is a basic outline of what needs to happen before data is  ready for modelling and analysis. • Data\\tDiscovery:\\tThis\\tis\\tan\\tall-encompassing\\tterm\\tthat\\tdescribes\\tunderstanding\\twhat\\tyour\\tdata\\tis\\tall\\tabout.\\tIn\\tthis\\tfirst\\tstep,\\tyou\\tget\\tfamiliar\\twith\\tyour\\tdata\\t\\tand\\tensure\\tit\\tis\\tcapable\\tof\\tbeing\\tused\\tto\\thelp\\twork\\ton\\tyour\\tproblem.\\t\\t• Data\\tStructuring:\\tWhen\\tyou\\tcollect\\traw\\tdata,\\tit\\tinitially\\tis\\tin\\tall\\tshapes\\tand\\t\\tsizes,\\tand\\thas\\tno\\tdefinite\\tstructure.\\tSuch\\tdata\\tneeds\\tto\\tbe\\trestructured\\tto\\tsuit\\tthe\\t\\tanalytical\\tmodel\\tthat\\tyour\\tenterprise\\tplans\\tto\\tdeploy\\t\\t\\t• Data\\tCleaning:\\tRaw\\tdata\\tcomes\\twith\\tsome\\terrors\\tthat\\tneed\\tto\\tbe\\tfixed\\tbefore\\t\\tdata\\tis\\tpassed\\ton\\tto\\tthe\\tnext\\tstage.\\tCleaning\\tinvolves\\tthe\\ttackling\\tof\\toutliers,\\t\\tmaking\\tcorrections,\\tor\\tdeleting\\tbad\\tdata\\tcompletely\\t\\t\\t• Data\\tEnriching:\\tBy\\tthis\\tstage,\\tyou\\thave\\tkind\\tof\\tbecome\\tfamiliar\\twith\\tthe\\tdata\\tin\\t\\thand.\\tNow\\tis\\tthe\\ttime\\tto\\task\\tyourself\\tthis\\tquestion\\t–\\tdo\\tyou\\tneed\\tto\\tembellish\\t\\tthe\\traw\\tdata?\\tDo\\tyou\\twant\\tto\\taugment\\tit\\twith\\tother\\tdata?\\t\\t\\t• Data\\tValidating:\\tThis\\tactivity\\tsurfaces\\tdata\\tquality\\tissues,\\tand\\tthey\\thave\\tto\\tbe\\t\\taddressed\\twith\\tthe\\tnecessary\\ttransformations.\\tThe\\trules\\tof\\tvalidation\\trules\\trequire\\trepetitive\\tprogramming\\tsteps\\tto\\tcheck\\tthe\\tauthenticity\\tand\\tthe\\tquality\\tof\\tyour\\tdata\\t\\t• Data\\tPublishing:\\tOnce\\tall\\tthe\\tabove\\tsteps\\tare\\tcompleted,\\tthe\\tfinal\\toutput\\tof\\tthe\\twrangling\\tcan\\tbe\\tpublished\\tas\\tpart\\tof\\ta\\tdata\\tpipeline\\tand\\tis\\tready\\tfor\\tanalysis.\\tData wrangling is a core iterative process that throws up the cleanest, most useful data possible before you start your actual analysis. It is THE most important stage in building credible models as everything else depends on the quality of the data.  Examples\\tof\\tthe\\tsteps\\t Data\\tDiscovery\\t\\tThink\\tabout\\tthe\\tTitanic\\tdata\\tset\\t–\\twhat\\tcan\\tbe\\tsaid\\tabout\\tit\\t–\\twhat\\tcannot\\tbe\\tsaid;\\tit\\tgives\\tus\\tinformation\\ton\\tsurvivors\\t/\\tdeaths\\t/\\tgender\\t/\\tticket\\tclass\\tetc\\tbut\\tnot\\ton\\tweight\\tof\\tpassengers\\t(does\\tit\\tinfluence\\tsurvival\\tchance?).\\tAlso\\tit\\tgives\\tus\\tno\\tphysical\\tstate\\tinformation\\t(what\\twas\\tthe\\taverage\\tdrop\\theight\\tof\\tlifeboats\\tinto\\tthe\\tsea\\tfor\\texample).\\t\\t\\t\\tData\\tStructuring\\tIf\\tyou\\tare\\tcollecting\\traw\\tdata\\tyou\\twill\\tneed\\tto\\tput\\tthe\\tdata\\tinto\\ta\\tstandardized\\tformat,\\tyou\\tmight\\tneed\\tto\\tconvert\\tintegers\\tto\\ttext\\tor\\ttext\\tto\\tnumerical\\tdata.\\tFor\\texample\\tif\\tyou\\t'"
      ]
     },
     "execution_count": 66,
     "metadata": {},
     "output_type": "execute_result"
    }
   ],
   "source": [
    "documents[0].page_content"
   ]
  },
  {
   "cell_type": "code",
   "execution_count": null,
   "id": "0dbe8c06-990b-4e28-ac6d-2d9df12c2ca9",
   "metadata": {},
   "outputs": [],
   "source": []
  },
  {
   "cell_type": "markdown",
   "id": "95b2a009-3953-4424-a1ad-44a0975bd92e",
   "metadata": {},
   "source": [
    "## Load wiki"
   ]
  },
  {
   "cell_type": "code",
   "execution_count": 28,
   "id": "47a4fec9-7516-48d5-b0ae-1ae164836a7a",
   "metadata": {},
   "outputs": [],
   "source": [
    "subject = \"Knitting\""
   ]
  },
  {
   "cell_type": "code",
   "execution_count": 29,
   "id": "a050c7fd-663d-4056-9abe-2c9de0fc6fb0",
   "metadata": {},
   "outputs": [],
   "source": [
    "lang = 'en'"
   ]
  },
  {
   "cell_type": "code",
   "execution_count": 30,
   "id": "b7aa867f-356a-46a8-a1f5-1a2d368de8bb",
   "metadata": {},
   "outputs": [],
   "source": [
    "#!pip install wikipedia"
   ]
  },
  {
   "cell_type": "code",
   "execution_count": 31,
   "id": "8470c251-80e1-41bf-8d91-2fc5dc21aaf5",
   "metadata": {},
   "outputs": [],
   "source": [
    "docs = myloadlib.loadWiki(subject, lang, 2)"
   ]
  },
  {
   "cell_type": "code",
   "execution_count": 32,
   "id": "4e2e075b-abce-4cea-8b92-aa9a1040ca5c",
   "metadata": {},
   "outputs": [],
   "source": [
    "documents.extend(docs)"
   ]
  },
  {
   "cell_type": "markdown",
   "id": "6086c650-d6ce-48ed-be77-04c353fc80a0",
   "metadata": {},
   "source": [
    "Should be 4 at the moment, but will update everytime its run, and or other Docs/documents are ran again"
   ]
  },
  {
   "cell_type": "code",
   "execution_count": 33,
   "id": "66cea9a6-3bbe-43fb-8e11-ef6292d132a9",
   "metadata": {},
   "outputs": [
    {
     "data": {
      "text/plain": [
       "4"
      ]
     },
     "execution_count": 33,
     "metadata": {},
     "output_type": "execute_result"
    }
   ],
   "source": [
    "len(documents)"
   ]
  },
  {
   "cell_type": "code",
   "execution_count": 34,
   "id": "717553fc-efcb-4a36-8efd-bb7ac2962f3a",
   "metadata": {},
   "outputs": [],
   "source": [
    "## Choose not to show Load youtube"
   ]
  },
  {
   "cell_type": "code",
   "execution_count": 35,
   "id": "a38adc0d-48d2-4289-8be6-0bd01da6fd5e",
   "metadata": {},
   "outputs": [],
   "source": [
    "#!pip install spacy\n",
    "#!pip install https://github.com/explosion/spacy-models/releases/download/en_core_web_md-3.0.0/en_core_web_md-3.0.0.tar.gz"
   ]
  },
  {
   "cell_type": "code",
   "execution_count": 36,
   "id": "b50e1ecd-9246-4c43-bdbd-1782e9290f77",
   "metadata": {},
   "outputs": [],
   "source": [
    "#!pip install wordcloud"
   ]
  },
  {
   "cell_type": "code",
   "execution_count": 37,
   "id": "6784d329-a149-4578-96c8-597b38c2f1df",
   "metadata": {},
   "outputs": [],
   "source": [
    "import myutils\n",
    "from myutils import chunkDocs, langDetect, wordCloud"
   ]
  },
  {
   "cell_type": "code",
   "execution_count": 38,
   "id": "3111db97-f3c5-40f6-b3ea-032d7f87cffa",
   "metadata": {},
   "outputs": [
    {
     "data": {
      "text/plain": [
       "<module 'myutils' from '/Users/mariamcnally/Desktop/SW2Semester/AI/OLA5/myutils.py'>"
      ]
     },
     "execution_count": 38,
     "metadata": {},
     "output_type": "execute_result"
    }
   ],
   "source": [
    "import importlib \n",
    "importlib.reload(myutils)"
   ]
  },
  {
   "cell_type": "code",
   "execution_count": 39,
   "id": "6daf9ad3-e3bf-4f5f-b68b-3810fe16a2bd",
   "metadata": {},
   "outputs": [
    {
     "data": {
      "text/plain": [
       "[Document(page_content='Data Wrangling To get the data into a good state before analysing it there are some steps we need to go  through . The following process is a basic outline of what needs to happen before data is  ready for modelling and analysis. •', metadata={'source': '/Users/mariamcnally/Desktop/SW2Semester/AI/DataWrangling.pdf', 'page': 0}),\n",
       " Document(page_content='Data\\tDiscovery:\\tThis\\tis\\tan\\tall-encompassing\\tterm\\tthat\\tdescribes\\tunderstanding\\twhat\\tyour\\tdata\\tis\\tall\\tabout.\\tIn\\tthis\\tfirst\\tstep,\\tyou\\tget\\tfamiliar\\twith\\tyour\\tdata\\t\\tand\\tensure\\tit\\tis\\tcapable\\tof\\tbeing\\tused\\tto\\thelp\\twork\\ton\\tyour\\tproblem.\\t\\t•', metadata={'source': '/Users/mariamcnally/Desktop/SW2Semester/AI/DataWrangling.pdf', 'page': 0}),\n",
       " Document(page_content='Data\\tStructuring:\\tWhen\\tyou\\tcollect\\traw\\tdata,\\tit\\tinitially\\tis\\tin\\tall\\tshapes\\tand\\t\\tsizes,\\tand\\thas\\tno\\tdefinite\\tstructure.\\tSuch\\tdata\\tneeds\\tto\\tbe\\trestructured\\tto\\tsuit\\tthe\\t\\tanalytical\\tmodel\\tthat\\tyour\\tenterprise\\tplans\\tto\\tdeploy\\t\\t\\t•', metadata={'source': '/Users/mariamcnally/Desktop/SW2Semester/AI/DataWrangling.pdf', 'page': 0}),\n",
       " Document(page_content='Data\\tCleaning:\\tRaw\\tdata\\tcomes\\twith\\tsome\\terrors\\tthat\\tneed\\tto\\tbe\\tfixed\\tbefore\\t\\tdata\\tis\\tpassed\\ton\\tto\\tthe\\tnext\\tstage.\\tCleaning\\tinvolves\\tthe\\ttackling\\tof\\toutliers,\\t\\tmaking\\tcorrections,\\tor\\tdeleting\\tbad\\tdata\\tcompletely\\t\\t\\t•', metadata={'source': '/Users/mariamcnally/Desktop/SW2Semester/AI/DataWrangling.pdf', 'page': 0}),\n",
       " Document(page_content='Data\\tEnriching:\\tBy\\tthis\\tstage,\\tyou\\thave\\tkind\\tof\\tbecome\\tfamiliar\\twith\\tthe\\tdata\\tin\\t\\thand.\\tNow\\tis\\tthe\\ttime\\tto\\task\\tyourself\\tthis\\tquestion\\t–\\tdo\\tyou\\tneed\\tto\\tembellish\\t\\tthe\\traw\\tdata?\\tDo\\tyou\\twant\\tto\\taugment\\tit\\twith\\tother\\tdata?\\t\\t\\t•', metadata={'source': '/Users/mariamcnally/Desktop/SW2Semester/AI/DataWrangling.pdf', 'page': 0}),\n",
       " Document(page_content='Data\\tValidating:\\tThis\\tactivity\\tsurfaces\\tdata\\tquality\\tissues,\\tand\\tthey\\thave\\tto\\tbe\\t\\taddressed\\twith\\tthe\\tnecessary\\ttransformations.\\tThe\\trules\\tof\\tvalidation\\trules\\trequire\\trepetitive\\tprogramming\\tsteps\\tto\\tcheck\\tthe\\tauthenticity\\tand\\tthe\\tquality\\tof\\tyour\\tdata\\t\\t•', metadata={'source': '/Users/mariamcnally/Desktop/SW2Semester/AI/DataWrangling.pdf', 'page': 0}),\n",
       " Document(page_content='Data\\tPublishing:\\tOnce\\tall\\tthe\\tabove\\tsteps\\tare\\tcompleted,\\tthe\\tfinal\\toutput\\tof\\tthe\\twrangling\\tcan\\tbe\\tpublished\\tas\\tpart\\tof\\ta\\tdata\\tpipeline\\tand\\tis\\tready\\tfor\\tanalysis.\\tData wrangling is a core iterative process that throws up the cleanest, most useful data possible before you start your actual analysis. It is THE most important stage in building', metadata={'source': '/Users/mariamcnally/Desktop/SW2Semester/AI/DataWrangling.pdf', 'page': 0}),\n",
       " Document(page_content='credible models as everything else depends on the quality of the data.  Examples\\tof\\tthe\\tsteps', metadata={'source': '/Users/mariamcnally/Desktop/SW2Semester/AI/DataWrangling.pdf', 'page': 0}),\n",
       " Document(page_content='Data\\tDiscovery\\t\\tThink\\tabout\\tthe\\tTitanic\\tdata\\tset\\t–\\twhat\\tcan\\tbe\\tsaid\\tabout\\tit\\t–\\twhat\\tcannot\\tbe\\tsaid;\\tit\\tgives\\tus\\tinformation\\ton\\tsurvivors\\t/\\tdeaths\\t/\\tgender\\t/\\tticket\\tclass\\tetc\\tbut\\tnot\\ton\\tweight\\tof\\tpassengers\\t(does\\tit\\tinfluence\\tsurvival\\tchance?).\\tAlso\\tit\\tgives\\tus\\tno\\tphysical\\tstate\\tinformation\\t(what\\twas\\tthe\\taverage\\tdrop\\theight\\tof\\tlifeboats\\tinto\\tthe\\tse', metadata={'source': '/Users/mariamcnally/Desktop/SW2Semester/AI/DataWrangling.pdf', 'page': 0}),\n",
       " Document(page_content='a\\tfor\\texample).\\t\\t\\t\\tData\\tStructuring\\tIf\\tyou\\tare\\tcollecting\\traw\\tdata\\tyou\\twill\\tneed\\tto\\tput\\tthe\\tdata\\tinto\\ta\\tstandardized\\tformat,\\tyou\\tmight\\tneed\\tto\\tconvert\\tintegers\\tto\\ttext\\tor\\ttext\\tto\\tnumerical\\tdata.\\tFor\\texample\\tif\\tyou', metadata={'source': '/Users/mariamcnally/Desktop/SW2Semester/AI/DataWrangling.pdf', 'page': 0}),\n",
       " Document(page_content='are\\tscraping\\ttwitter\\tfeeds\\tyou\\tmight\\tneed\\tto\\tparse\\tdates\\tand\\tput\\tthem\\tin\\ta\\tstandardized\\tYYYY-mm-dd\\tformat\\t–\\tadjust\\tAmerican\\tdates\\tetc.\\tStructuring\\tthe\\tdata\\tso\\tit\\tcan\\tbe\\tused\\tin\\ta\\t2D\\tPandas\\tdataframe\\tfor\\texample\\twith\\tcolumns\\tand\\ta\\trow\\tfor\\teach\\tcolumn.\\t\\t\\tData\\tCleaning\\t This is what most people find is the core activity in data preparation – as it', metadata={'source': '/Users/mariamcnally/Desktop/SW2Semester/AI/DataWrangling.pdf', 'page': 1}),\n",
       " Document(page_content='involves ensuring the data is consistent and credible. Activities include IMPUTING values – if there are missing values then either replacing them using a standard method such as taking an average of previous and subsequent data points or removing the data completely etc. If there are missing values then decisions need to be made and recorded as', metadata={'source': '/Users/mariamcnally/Desktop/SW2Semester/AI/DataWrangling.pdf', 'page': 1}),\n",
       " Document(page_content='part of the documentation so that the changes are transparent.', metadata={'source': '/Users/mariamcnally/Desktop/SW2Semester/AI/DataWrangling.pdf', 'page': 1}),\n",
       " Document(page_content='Data\\tEnriching:\\t\\tThis\\tstep\\tshould\\tbe\\ttaken\\tcarefully\\tas\\tit\\tinvolves\\ttransforming\\toriginal\\tdata\\tin\\tnew\\tways\\tor\\tadding\\tdata\\tthat\\twasn’t\\tpart\\tof\\tthe\\toriginal\\tdata\\tset.\\tAn\\texample\\tcould\\tbe\\tsimilar\\tto\\tdoing\\ta\\tdatabase\\tjoin\\tto\\tconnect\\tdata\\tfrom\\t2\\tseparate\\tsources\\tto\\tcreate\\ta\\tnew\\tone\\t(for\\texample\\tname\\tand\\taddress\\tinformation\\tcombined\\twith\\tgeographic\\tdata', metadata={'source': '/Users/mariamcnally/Desktop/SW2Semester/AI/DataWrangling.pdf', 'page': 1}),\n",
       " Document(page_content='and\\tsome\\tdemographic\\tdata\\tto\\tsee\\tif\\tage\\tand\\tlocation\\tis\\tcorrelated\\twith\\tname\\tchoices\\t(this\\tis\\twhat\\tGerman\\thealth\\tbodies\\thad\\tto\\tdo\\tto\\ttry\\tand\\t‘guess’\\tthe\\tage\\tof\\tpeople\\tto\\tcall\\tin\\tfor\\ttheir\\tcovid\\tvaccination!).\\tIt\\tcould\\tbe\\tthat\\tlike\\tthe\\tDanish\\tCPR\\tsystem\\tthere\\tis\\tdate\\tof\\tbirth\\tinformation\\tinside\\tanother\\tpiece\\tof\\tdata\\t–\\tso\\tyou\\tcan\\tembellish\\tyour\\tdata', metadata={'source': '/Users/mariamcnally/Desktop/SW2Semester/AI/DataWrangling.pdf', 'page': 1}),\n",
       " Document(page_content='using\\tfurther\\tdata\\tembedded\\tinside\\tother\\tdata\\titems.\\t\\tData\\tValidating\\t\\tYou\\tneed\\tto\\tmake\\tsure\\tall\\tthe\\tdata\\tis\\tof\\tthe\\tdata\\ttype\\tyou\\tare\\texpecting,\\tthat\\tit\\tfalls\\twithin\\tan\\texpected\\trange\\tand\\tthat\\tit\\tis\\tconsistent.\\tThis\\tstep\\tis\\tconcerned\\twith\\tmaking\\tsure\\tthere\\tis\\thigh\\tconfidence\\tthat\\tdata\\tis\\tnot\\tbeing\\tmissed\\tbecause\\tit\\tis\\toutside\\ta\\trange\\twhere\\tthe\\tran', metadata={'source': '/Users/mariamcnally/Desktop/SW2Semester/AI/DataWrangling.pdf', 'page': 1}),\n",
       " Document(page_content='ge\\tis\\tincorrectly\\tset,\\twhere\\tdata\\thas\\taccidentally\\tbeen\\tstored\\tas\\tan\\tinteger\\trather\\tthan\\ta\\tfloating\\tpoint\\tnumber\\tetc.\\tIt\\tis\\ta\\tdouble\\tcheck\\tthat\\tyour\\tdata\\tstructuring\\tand\\tdata\\tcleaning\\thave\\tall\\tbeen\\tdone\\tproperly\\t(for\\texample,\\tif\\tyou\\tare\\tsupposed\\tto\\thave\\tunique\\tvalues\\tin\\ta\\tcolumn\\tthat\\tthey\\tare\\tindeed\\tunique).\\t\\tData\\tPublishing\\t\\tThis\\tis\\tthe\\tfinal\\tstep', metadata={'source': '/Users/mariamcnally/Desktop/SW2Semester/AI/DataWrangling.pdf', 'page': 1}),\n",
       " Document(page_content='and\\tis\\ta\\tstrong\\tcandidate\\tfor\\tbeing\\tdone\\tinside\\ta\\tversion\\tcontrol\\ttool\\tlike\\tgit.\\tOften\\tfor\\tbig\\tdata\\tprojects\\tsuch\\tas\\tin\\tmarketing\\tthis\\twill\\tsit\\tinside\\ta\\tdistributed\\tdatastore\\t(can\\tbe\\trelational\\t(Postgresql)\\t,\\tkey-value\\t(Google\\tBigTable\\t/\\tHBase)\\tor\\tother\\ttypes\\tof\\tNoSQL\\tdatabase.\\tIn\\tMachine\\tlearning\\tthen\\ttools\\tlike\\tCassandra\\tand\\tCouchbase\\tor\\tPostgre', metadata={'source': '/Users/mariamcnally/Desktop/SW2Semester/AI/DataWrangling.pdf', 'page': 1}),\n",
       " Document(page_content='sql\\tare\\tpopular.', metadata={'source': '/Users/mariamcnally/Desktop/SW2Semester/AI/DataWrangling.pdf', 'page': 1}),\n",
       " Document(page_content='Knitting is a method for production of textile fabrics by interlacing yarn loops with loops of the same or other yarns. It is used to create many types of garments. Knitting may be done by hand or by machine.', metadata={'title': 'Knitting', 'summary': 'Knitting is a method for production of textile fabrics by interlacing yarn loops with loops of the same or other yarns. It is used to create many types of garments. Knitting may be done by hand or by machine.\\nKnitting creates stitches: loops of yarn in a row, they can be either flat or in the round (tubular). There are usually many active stitches on the knitting needle at one time. Knitted fabric consists of a number of consecutive rows of connected loops that intermesh with the next and previous rows.  As each row is formed, each newly created loop is pulled through one or more loops from the prior row and placed on the gaining needle so that the loops from the prior row can be pulled off the other needle without unraveling.\\nDifferences in yarn (varying in fibre type, weight, uniformity and twist), needle size, and stitch type allow for a variety of knitted fabrics with different properties, including color, texture, thickness, heat retention, water resistance, and integrity. A small sample of knitwork is known as a swatch.', 'source': 'https://en.wikipedia.org/wiki/Knitting'}),\n",
       " Document(page_content='Knitting creates stitches: loops of yarn in a row, they can be either flat or in the round (tubular). There are usually many active stitches on the knitting needle at one time. Knitted fabric consists of a number of consecutive rows of connected loops that intermesh with the next and previous rows.  As each row is formed, each newly created loop', metadata={'title': 'Knitting', 'summary': 'Knitting is a method for production of textile fabrics by interlacing yarn loops with loops of the same or other yarns. It is used to create many types of garments. Knitting may be done by hand or by machine.\\nKnitting creates stitches: loops of yarn in a row, they can be either flat or in the round (tubular). There are usually many active stitches on the knitting needle at one time. Knitted fabric consists of a number of consecutive rows of connected loops that intermesh with the next and previous rows.  As each row is formed, each newly created loop is pulled through one or more loops from the prior row and placed on the gaining needle so that the loops from the prior row can be pulled off the other needle without unraveling.\\nDifferences in yarn (varying in fibre type, weight, uniformity and twist), needle size, and stitch type allow for a variety of knitted fabrics with different properties, including color, texture, thickness, heat retention, water resistance, and integrity. A small sample of knitwork is known as a swatch.', 'source': 'https://en.wikipedia.org/wiki/Knitting'}),\n",
       " Document(page_content='is pulled through one or more loops from the prior row and placed on the gaining needle so that the loops from the prior row can be pulled off the other needle without unraveling.', metadata={'title': 'Knitting', 'summary': 'Knitting is a method for production of textile fabrics by interlacing yarn loops with loops of the same or other yarns. It is used to create many types of garments. Knitting may be done by hand or by machine.\\nKnitting creates stitches: loops of yarn in a row, they can be either flat or in the round (tubular). There are usually many active stitches on the knitting needle at one time. Knitted fabric consists of a number of consecutive rows of connected loops that intermesh with the next and previous rows.  As each row is formed, each newly created loop is pulled through one or more loops from the prior row and placed on the gaining needle so that the loops from the prior row can be pulled off the other needle without unraveling.\\nDifferences in yarn (varying in fibre type, weight, uniformity and twist), needle size, and stitch type allow for a variety of knitted fabrics with different properties, including color, texture, thickness, heat retention, water resistance, and integrity. A small sample of knitwork is known as a swatch.', 'source': 'https://en.wikipedia.org/wiki/Knitting'}),\n",
       " Document(page_content='Differences in yarn (varying in fibre type, weight, uniformity and twist), needle size, and stitch type allow for a variety of knitted fabrics with different properties, including color, texture, thickness, heat retention, water resistance, and integrity. A small sample of knitwork is known as a swatch.', metadata={'title': 'Knitting', 'summary': 'Knitting is a method for production of textile fabrics by interlacing yarn loops with loops of the same or other yarns. It is used to create many types of garments. Knitting may be done by hand or by machine.\\nKnitting creates stitches: loops of yarn in a row, they can be either flat or in the round (tubular). There are usually many active stitches on the knitting needle at one time. Knitted fabric consists of a number of consecutive rows of connected loops that intermesh with the next and previous rows.  As each row is formed, each newly created loop is pulled through one or more loops from the prior row and placed on the gaining needle so that the loops from the prior row can be pulled off the other needle without unraveling.\\nDifferences in yarn (varying in fibre type, weight, uniformity and twist), needle size, and stitch type allow for a variety of knitted fabrics with different properties, including color, texture, thickness, heat retention, water resistance, and integrity. A small sample of knitwork is known as a swatch.', 'source': 'https://en.wikipedia.org/wiki/Knitting'}),\n",
       " Document(page_content='== Structure ==\\n\\n\\n=== Courses and wales ===', metadata={'title': 'Knitting', 'summary': 'Knitting is a method for production of textile fabrics by interlacing yarn loops with loops of the same or other yarns. It is used to create many types of garments. Knitting may be done by hand or by machine.\\nKnitting creates stitches: loops of yarn in a row, they can be either flat or in the round (tubular). There are usually many active stitches on the knitting needle at one time. Knitted fabric consists of a number of consecutive rows of connected loops that intermesh with the next and previous rows.  As each row is formed, each newly created loop is pulled through one or more loops from the prior row and placed on the gaining needle so that the loops from the prior row can be pulled off the other needle without unraveling.\\nDifferences in yarn (varying in fibre type, weight, uniformity and twist), needle size, and stitch type allow for a variety of knitted fabrics with different properties, including color, texture, thickness, heat retention, water resistance, and integrity. A small sample of knitwork is known as a swatch.', 'source': 'https://en.wikipedia.org/wiki/Knitting'}),\n",
       " Document(page_content='Like weaving, knitting is a technique for producing a two-dimensional fabric made from a one-dimensional yarn or thread. In weaving, threads are always straight, running parallel either lengthwise (warp threads) or crosswise (weft threads). By contrast, the yarn in knitted fabrics follows a meandering path (a course), forming symmetric loops (also', metadata={'title': 'Knitting', 'summary': 'Knitting is a method for production of textile fabrics by interlacing yarn loops with loops of the same or other yarns. It is used to create many types of garments. Knitting may be done by hand or by machine.\\nKnitting creates stitches: loops of yarn in a row, they can be either flat or in the round (tubular). There are usually many active stitches on the knitting needle at one time. Knitted fabric consists of a number of consecutive rows of connected loops that intermesh with the next and previous rows.  As each row is formed, each newly created loop is pulled through one or more loops from the prior row and placed on the gaining needle so that the loops from the prior row can be pulled off the other needle without unraveling.\\nDifferences in yarn (varying in fibre type, weight, uniformity and twist), needle size, and stitch type allow for a variety of knitted fabrics with different properties, including color, texture, thickness, heat retention, water resistance, and integrity. A small sample of knitwork is known as a swatch.', 'source': 'https://en.wikipedia.org/wiki/Knitting'}),\n",
       " Document(page_content='called bights) symmetrically above and below the mean path of the yarn. These meandering loops can be easily stretched in different directions giving knit fabrics much more elasticity than woven fabrics. Depending on the yarn and knitting pattern, knitted garments can stretch as much as 500%. For this reason, knitting was initially developed for', metadata={'title': 'Knitting', 'summary': 'Knitting is a method for production of textile fabrics by interlacing yarn loops with loops of the same or other yarns. It is used to create many types of garments. Knitting may be done by hand or by machine.\\nKnitting creates stitches: loops of yarn in a row, they can be either flat or in the round (tubular). There are usually many active stitches on the knitting needle at one time. Knitted fabric consists of a number of consecutive rows of connected loops that intermesh with the next and previous rows.  As each row is formed, each newly created loop is pulled through one or more loops from the prior row and placed on the gaining needle so that the loops from the prior row can be pulled off the other needle without unraveling.\\nDifferences in yarn (varying in fibre type, weight, uniformity and twist), needle size, and stitch type allow for a variety of knitted fabrics with different properties, including color, texture, thickness, heat retention, water resistance, and integrity. A small sample of knitwork is known as a swatch.', 'source': 'https://en.wikipedia.org/wiki/Knitting'}),\n",
       " Document(page_content=\"garments that must be elastic or stretch in response to the wearer's motions, such as socks and hosiery. For comparison, woven garments stretch mainly along one or other of a related pair of directions that lie roughly diagonally between the warp and the weft, while contracting in the other direction of the pair (stretching and contracting with\", metadata={'title': 'Knitting', 'summary': 'Knitting is a method for production of textile fabrics by interlacing yarn loops with loops of the same or other yarns. It is used to create many types of garments. Knitting may be done by hand or by machine.\\nKnitting creates stitches: loops of yarn in a row, they can be either flat or in the round (tubular). There are usually many active stitches on the knitting needle at one time. Knitted fabric consists of a number of consecutive rows of connected loops that intermesh with the next and previous rows.  As each row is formed, each newly created loop is pulled through one or more loops from the prior row and placed on the gaining needle so that the loops from the prior row can be pulled off the other needle without unraveling.\\nDifferences in yarn (varying in fibre type, weight, uniformity and twist), needle size, and stitch type allow for a variety of knitted fabrics with different properties, including color, texture, thickness, heat retention, water resistance, and integrity. A small sample of knitwork is known as a swatch.', 'source': 'https://en.wikipedia.org/wiki/Knitting'}),\n",
       " Document(page_content=\"the bias), and are not very elastic, unless they are woven from stretchable material such as spandex. Knitted garments are often more form-fitting than woven garments, since their elasticity allows them to contour to the body's outline more closely; by contrast, curvature is introduced into most woven garments only with sewn darts, flares, gussets\", metadata={'title': 'Knitting', 'summary': 'Knitting is a method for production of textile fabrics by interlacing yarn loops with loops of the same or other yarns. It is used to create many types of garments. Knitting may be done by hand or by machine.\\nKnitting creates stitches: loops of yarn in a row, they can be either flat or in the round (tubular). There are usually many active stitches on the knitting needle at one time. Knitted fabric consists of a number of consecutive rows of connected loops that intermesh with the next and previous rows.  As each row is formed, each newly created loop is pulled through one or more loops from the prior row and placed on the gaining needle so that the loops from the prior row can be pulled off the other needle without unraveling.\\nDifferences in yarn (varying in fibre type, weight, uniformity and twist), needle size, and stitch type allow for a variety of knitted fabrics with different properties, including color, texture, thickness, heat retention, water resistance, and integrity. A small sample of knitwork is known as a swatch.', 'source': 'https://en.wikipedia.org/wiki/Knitting'}),\n",
       " Document(page_content='and gores, the seams of which lower the elasticity of the woven fabric still further. Extra curvature can be introduced into knitted garments without seams, as in the heel of a sock; the effect of darts, flares, etc. can be obtained with short rows or by increasing or decreasing the number of stitches. Thread used in weaving is usually much finer', metadata={'title': 'Knitting', 'summary': 'Knitting is a method for production of textile fabrics by interlacing yarn loops with loops of the same or other yarns. It is used to create many types of garments. Knitting may be done by hand or by machine.\\nKnitting creates stitches: loops of yarn in a row, they can be either flat or in the round (tubular). There are usually many active stitches on the knitting needle at one time. Knitted fabric consists of a number of consecutive rows of connected loops that intermesh with the next and previous rows.  As each row is formed, each newly created loop is pulled through one or more loops from the prior row and placed on the gaining needle so that the loops from the prior row can be pulled off the other needle without unraveling.\\nDifferences in yarn (varying in fibre type, weight, uniformity and twist), needle size, and stitch type allow for a variety of knitted fabrics with different properties, including color, texture, thickness, heat retention, water resistance, and integrity. A small sample of knitwork is known as a swatch.', 'source': 'https://en.wikipedia.org/wiki/Knitting'}),\n",
       " Document(page_content='than the yarn used in knitting, which can give the knitted fabric more bulk and less drape than a woven fabric.', metadata={'title': 'Knitting', 'summary': 'Knitting is a method for production of textile fabrics by interlacing yarn loops with loops of the same or other yarns. It is used to create many types of garments. Knitting may be done by hand or by machine.\\nKnitting creates stitches: loops of yarn in a row, they can be either flat or in the round (tubular). There are usually many active stitches on the knitting needle at one time. Knitted fabric consists of a number of consecutive rows of connected loops that intermesh with the next and previous rows.  As each row is formed, each newly created loop is pulled through one or more loops from the prior row and placed on the gaining needle so that the loops from the prior row can be pulled off the other needle without unraveling.\\nDifferences in yarn (varying in fibre type, weight, uniformity and twist), needle size, and stitch type allow for a variety of knitted fabrics with different properties, including color, texture, thickness, heat retention, water resistance, and integrity. A small sample of knitwork is known as a swatch.', 'source': 'https://en.wikipedia.org/wiki/Knitting'}),\n",
       " Document(page_content=\"If they are not secured, the loops of a knitted course will come undone when their yarn is pulled; this is known as ripping out, unravelling knitting, or humorously, frogging (because you 'rip it', this sounds like a frog croaking: 'rib-bit'). To secure a stitch, at least one new loop is passed through it. Although the new stitch is itself\", metadata={'title': 'Knitting', 'summary': 'Knitting is a method for production of textile fabrics by interlacing yarn loops with loops of the same or other yarns. It is used to create many types of garments. Knitting may be done by hand or by machine.\\nKnitting creates stitches: loops of yarn in a row, they can be either flat or in the round (tubular). There are usually many active stitches on the knitting needle at one time. Knitted fabric consists of a number of consecutive rows of connected loops that intermesh with the next and previous rows.  As each row is formed, each newly created loop is pulled through one or more loops from the prior row and placed on the gaining needle so that the loops from the prior row can be pulled off the other needle without unraveling.\\nDifferences in yarn (varying in fibre type, weight, uniformity and twist), needle size, and stitch type allow for a variety of knitted fabrics with different properties, including color, texture, thickness, heat retention, water resistance, and integrity. A small sample of knitwork is known as a swatch.', 'source': 'https://en.wikipedia.org/wiki/Knitting'}),\n",
       " Document(page_content='unsecured (\"active\" or \"live\"), it secures the stitch(es) suspended from it. A sequence of stitches in which each stitch is suspended from the next is called a wale. To secure the initial stitches of a knitted fabric, a method for casting on is used; to secure the final stitches in a wale, one uses a method of binding/casting off. During knitting,', metadata={'title': 'Knitting', 'summary': 'Knitting is a method for production of textile fabrics by interlacing yarn loops with loops of the same or other yarns. It is used to create many types of garments. Knitting may be done by hand or by machine.\\nKnitting creates stitches: loops of yarn in a row, they can be either flat or in the round (tubular). There are usually many active stitches on the knitting needle at one time. Knitted fabric consists of a number of consecutive rows of connected loops that intermesh with the next and previous rows.  As each row is formed, each newly created loop is pulled through one or more loops from the prior row and placed on the gaining needle so that the loops from the prior row can be pulled off the other needle without unraveling.\\nDifferences in yarn (varying in fibre type, weight, uniformity and twist), needle size, and stitch type allow for a variety of knitted fabrics with different properties, including color, texture, thickness, heat retention, water resistance, and integrity. A small sample of knitwork is known as a swatch.', 'source': 'https://en.wikipedia.org/wiki/Knitting'}),\n",
       " Document(page_content='the active stitches are secured mechanically, either from individual hooks (in knitting machines) or from a knitting needle or frame in hand-knitting.', metadata={'title': 'Knitting', 'summary': 'Knitting is a method for production of textile fabrics by interlacing yarn loops with loops of the same or other yarns. It is used to create many types of garments. Knitting may be done by hand or by machine.\\nKnitting creates stitches: loops of yarn in a row, they can be either flat or in the round (tubular). There are usually many active stitches on the knitting needle at one time. Knitted fabric consists of a number of consecutive rows of connected loops that intermesh with the next and previous rows.  As each row is formed, each newly created loop is pulled through one or more loops from the prior row and placed on the gaining needle so that the loops from the prior row can be pulled off the other needle without unraveling.\\nDifferences in yarn (varying in fibre type, weight, uniformity and twist), needle size, and stitch type allow for a variety of knitted fabrics with different properties, including color, texture, thickness, heat retention, water resistance, and integrity. A small sample of knitwork is known as a swatch.', 'source': 'https://en.wikipedia.org/wiki/Knitting'}),\n",
       " Document(page_content='=== Weft and warp knitting ===\\n\\nThere are two major varieties of knitting: weft knitting and warp knitting. In the more common weft knitting, the wales are perpendicular to the course of the yarn.  In warp knit', metadata={'title': 'Knitting', 'summary': 'Knitting is a method for production of textile fabrics by interlacing yarn loops with loops of the same or other yarns. It is used to create many types of garments. Knitting may be done by hand or by machine.\\nKnitting creates stitches: loops of yarn in a row, they can be either flat or in the round (tubular). There are usually many active stitches on the knitting needle at one time. Knitted fabric consists of a number of consecutive rows of connected loops that intermesh with the next and previous rows.  As each row is formed, each newly created loop is pulled through one or more loops from the prior row and placed on the gaining needle so that the loops from the prior row can be pulled off the other needle without unraveling.\\nDifferences in yarn (varying in fibre type, weight, uniformity and twist), needle size, and stitch type allow for a variety of knitted fabrics with different properties, including color, texture, thickness, heat retention, water resistance, and integrity. A small sample of knitwork is known as a swatch.', 'source': 'https://en.wikipedia.org/wiki/Knitting'}),\n",
       " Document(page_content='A knitting machine is a device used to create knitted fabrics in a semi or fully automated fashion. There are numerous types of knitting machines, ranging from simple spool or board templates with no moving parts to highly complex mechanisms controlled by electronics. All, however, produce various types of knitted fabrics, usually either flat or', metadata={'title': 'Knitting machine', 'summary': 'A knitting machine is a device used to create knitted fabrics in a semi or fully automated fashion. There are numerous types of knitting machines, ranging from simple spool or board templates with no moving parts to highly complex mechanisms controlled by electronics. All, however, produce various types of knitted fabrics, usually either flat or tubular, and of varying degrees of complexity. Pattern stitches can be selected by hand manipulation of the needles, push-buttons and dials, mechanical punch cards, or electronic pattern reading devices and computers.', 'source': 'https://en.wikipedia.org/wiki/Knitting_machine'}),\n",
       " Document(page_content='tubular, and of varying degrees of complexity. Pattern stitches can be selected by hand manipulation of the needles, push-buttons and dials, mechanical punch cards, or electronic pattern reading devices and computers.', metadata={'title': 'Knitting machine', 'summary': 'A knitting machine is a device used to create knitted fabrics in a semi or fully automated fashion. There are numerous types of knitting machines, ranging from simple spool or board templates with no moving parts to highly complex mechanisms controlled by electronics. All, however, produce various types of knitted fabrics, usually either flat or tubular, and of varying degrees of complexity. Pattern stitches can be selected by hand manipulation of the needles, push-buttons and dials, mechanical punch cards, or electronic pattern reading devices and computers.', 'source': 'https://en.wikipedia.org/wiki/Knitting_machine'}),\n",
       " Document(page_content='== Process ==\\n\\nEarly flat bed stocking frames had low carbon steel bearded needles where the tips were reflexed and could be depressed onto a hollow closing the loop. The needles were supported on a needle bar (bed) that passed back and forth, to and from the operator. The beards were simultaneously depressed by a presser bar.', metadata={'title': 'Knitting machine', 'summary': 'A knitting machine is a device used to create knitted fabrics in a semi or fully automated fashion. There are numerous types of knitting machines, ranging from simple spool or board templates with no moving parts to highly complex mechanisms controlled by electronics. All, however, produce various types of knitted fabrics, usually either flat or tubular, and of varying degrees of complexity. Pattern stitches can be selected by hand manipulation of the needles, push-buttons and dials, mechanical punch cards, or electronic pattern reading devices and computers.', 'source': 'https://en.wikipedia.org/wiki/Knitting_machine'}),\n",
       " Document(page_content='The needle bar goes forward- the open needles clear the web\\nThe weft thread is laid on the needles\\nThe weft thread falls loosely\\nThe needle bar draws back, the weft is pulled in the open needles\\nThe needle bar draws back, the presser bar drops, the needle loops close and the weft is drawn back through the web', metadata={'title': 'Knitting machine', 'summary': 'A knitting machine is a device used to create knitted fabrics in a semi or fully automated fashion. There are numerous types of knitting machines, ranging from simple spool or board templates with no moving parts to highly complex mechanisms controlled by electronics. All, however, produce various types of knitted fabrics, usually either flat or tubular, and of varying degrees of complexity. Pattern stitches can be selected by hand manipulation of the needles, push-buttons and dials, mechanical punch cards, or electronic pattern reading devices and computers.', 'source': 'https://en.wikipedia.org/wiki/Knitting_machine'}),\n",
       " Document(page_content='The needles open, a new row has been added to the web which drops under gravity\\nThis basic process can still be recognised in all machines, but it has been refined as new technologies have become available.', metadata={'title': 'Knitting machine', 'summary': 'A knitting machine is a device used to create knitted fabrics in a semi or fully automated fashion. There are numerous types of knitting machines, ranging from simple spool or board templates with no moving parts to highly complex mechanisms controlled by electronics. All, however, produce various types of knitted fabrics, usually either flat or tubular, and of varying degrees of complexity. Pattern stitches can be selected by hand manipulation of the needles, push-buttons and dials, mechanical punch cards, or electronic pattern reading devices and computers.', 'source': 'https://en.wikipedia.org/wiki/Knitting_machine'}),\n",
       " Document(page_content='== Types ==', metadata={'title': 'Knitting machine', 'summary': 'A knitting machine is a device used to create knitted fabrics in a semi or fully automated fashion. There are numerous types of knitting machines, ranging from simple spool or board templates with no moving parts to highly complex mechanisms controlled by electronics. All, however, produce various types of knitted fabrics, usually either flat or tubular, and of varying degrees of complexity. Pattern stitches can be selected by hand manipulation of the needles, push-buttons and dials, mechanical punch cards, or electronic pattern reading devices and computers.', 'source': 'https://en.wikipedia.org/wiki/Knitting_machine'}),\n",
       " Document(page_content='A few simple devices permit knitting without needles for toy or hobby purposes. The simplest of these is spool knitting, followed by knitting boards or knitting looms, which consist of two rows of pins mounted in two parallel rows approximately 0.5 inches (1.3 cm) apart. Yarn is wound around the pins; various patterns of winding produce different', metadata={'title': 'Knitting machine', 'summary': 'A knitting machine is a device used to create knitted fabrics in a semi or fully automated fashion. There are numerous types of knitting machines, ranging from simple spool or board templates with no moving parts to highly complex mechanisms controlled by electronics. All, however, produce various types of knitted fabrics, usually either flat or tubular, and of varying degrees of complexity. Pattern stitches can be selected by hand manipulation of the needles, push-buttons and dials, mechanical punch cards, or electronic pattern reading devices and computers.', 'source': 'https://en.wikipedia.org/wiki/Knitting_machine'}),\n",
       " Document(page_content='textured knitting. A needle or special tool is then used to transfer the loops of yarn from around the pins, either off the pins or to other pins, to produce the knitting. Knitting boards can produce complex designs. Other semi-mechanical knitting devices are available.', metadata={'title': 'Knitting machine', 'summary': 'A knitting machine is a device used to create knitted fabrics in a semi or fully automated fashion. There are numerous types of knitting machines, ranging from simple spool or board templates with no moving parts to highly complex mechanisms controlled by electronics. All, however, produce various types of knitted fabrics, usually either flat or tubular, and of varying degrees of complexity. Pattern stitches can be selected by hand manipulation of the needles, push-buttons and dials, mechanical punch cards, or electronic pattern reading devices and computers.', 'source': 'https://en.wikipedia.org/wiki/Knitting_machine'}),\n",
       " Document(page_content='To produce larger and more complex knitted items, such as garments, domestic and industrial machines, with either flat or circular beds, producing rectangular or tubular fabrics, respectively, are needed.  Double bed machines have two flat beds facing each other, in order to produce purl and plain rib fabrics plus a variety of multi patterns.', metadata={'title': 'Knitting machine', 'summary': 'A knitting machine is a device used to create knitted fabrics in a semi or fully automated fashion. There are numerous types of knitting machines, ranging from simple spool or board templates with no moving parts to highly complex mechanisms controlled by electronics. All, however, produce various types of knitted fabrics, usually either flat or tubular, and of varying degrees of complexity. Pattern stitches can be selected by hand manipulation of the needles, push-buttons and dials, mechanical punch cards, or electronic pattern reading devices and computers.', 'source': 'https://en.wikipedia.org/wiki/Knitting_machine'}),\n",
       " Document(page_content='Ribbing attachments can be added to single bed machines to achieve a similar result.', metadata={'title': 'Knitting machine', 'summary': 'A knitting machine is a device used to create knitted fabrics in a semi or fully automated fashion. There are numerous types of knitting machines, ranging from simple spool or board templates with no moving parts to highly complex mechanisms controlled by electronics. All, however, produce various types of knitted fabrics, usually either flat or tubular, and of varying degrees of complexity. Pattern stitches can be selected by hand manipulation of the needles, push-buttons and dials, mechanical punch cards, or electronic pattern reading devices and computers.', 'source': 'https://en.wikipedia.org/wiki/Knitting_machine'}),\n",
       " Document(page_content='Late 20th century domestic/studio models typically use up to 200 latch-hook needles to hold the stitches in fine, standard, mid-gauge or bulky gauge needle. A carriage or cam box is passed across the bed of needles causing the needle movements required to produce each next stitch. By means of various selection methods, e.g. punch cards, particular', metadata={'title': 'Knitting machine', 'summary': 'A knitting machine is a device used to create knitted fabrics in a semi or fully automated fashion. There are numerous types of knitting machines, ranging from simple spool or board templates with no moving parts to highly complex mechanisms controlled by electronics. All, however, produce various types of knitted fabrics, usually either flat or tubular, and of varying degrees of complexity. Pattern stitches can be selected by hand manipulation of the needles, push-buttons and dials, mechanical punch cards, or electronic pattern reading devices and computers.', 'source': 'https://en.wikipedia.org/wiki/Knitting_machine'}),\n",
       " Document(page_content='needles can be caused to travel by alternate pathways through the cam box. Thus needles will knit or not, and the unknitted yarn portions will lie under (slip stitch) or over the needle or be held in the needle hook (tuck stitch). Needles can be placed in holding position to allow short row shaping. In modern machines, patterns can be obtained via', metadata={'title': 'Knitting machine', 'summary': 'A knitting machine is a device used to create knitted fabrics in a semi or fully automated fashion. There are numerous types of knitting machines, ranging from simple spool or board templates with no moving parts to highly complex mechanisms controlled by electronics. All, however, produce various types of knitted fabrics, usually either flat or tubular, and of varying degrees of complexity. Pattern stitches can be selected by hand manipulation of the needles, push-buttons and dials, mechanical punch cards, or electronic pattern reading devices and computers.', 'source': 'https://en.wikipedia.org/wiki/Knitting_machine'}),\n",
       " Document(page_content='either mechanical control, using punchcards, or electronic control, using computer software for patterning.', metadata={'title': 'Knitting machine', 'summary': 'A knitting machine is a device used to create knitted fabrics in a semi or fully automated fashion. There are numerous types of knitting machines, ranging from simple spool or board templates with no moving parts to highly complex mechanisms controlled by electronics. All, however, produce various types of knitted fabrics, usually either flat or tubular, and of varying degrees of complexity. Pattern stitches can be selected by hand manipulation of the needles, push-buttons and dials, mechanical punch cards, or electronic pattern reading devices and computers.', 'source': 'https://en.wikipedia.org/wiki/Knitting_machine'}),\n",
       " Document(page_content='Automatic patterning machines can knit two-colour Fair Isle patterns automatically, and have machine stitch patterning features such as slipping, tucking, plating and knitweaving. Plating refers to knitting with two strands of yarn that are held in such a way that one is in front of the other. Plated effects can be particularly striking in a', metadata={'title': 'Knitting machine', 'summary': 'A knitting machine is a device used to create knitted fabrics in a semi or fully automated fashion. There are numerous types of knitting machines, ranging from simple spool or board templates with no moving parts to highly complex mechanisms controlled by electronics. All, however, produce various types of knitted fabrics, usually either flat or tubular, and of varying degrees of complexity. Pattern stitches can be selected by hand manipulation of the needles, push-buttons and dials, mechanical punch cards, or electronic pattern reading devices and computers.', 'source': 'https://en.wikipedia.org/wiki/Knitting_machine'}),\n",
       " Document(page_content='ribbed fabric. Knitweaving refers to a technique in which a separate piece of yarn, often heavier than the knitted fabric, is carried along and caught between stitches to produce an effect like weaving. With knitwoven fabric, the purl side (usually the wrong side) is the right side of the fabric. Current standard gauge models have the option of a', metadata={'title': 'Knitting machine', 'summary': 'A knitting machine is a device used to create knitted fabrics in a semi or fully automated fashion. There are numerous types of knitting machines, ranging from simple spool or board templates with no moving parts to highly complex mechanisms controlled by electronics. All, however, produce various types of knitted fabrics, usually either flat or tubular, and of varying degrees of complexity. Pattern stitches can be selected by hand manipulation of the needles, push-buttons and dials, mechanical punch cards, or electronic pattern reading devices and computers.', 'source': 'https://en.wikipedia.org/wiki/Knitting_machine'}),\n",
       " Document(page_content='lace carriage, wh', metadata={'title': 'Knitting machine', 'summary': 'A knitting machine is a device used to create knitted fabrics in a semi or fully automated fashion. There are numerous types of knitting machines, ranging from simple spool or board templates with no moving parts to highly complex mechanisms controlled by electronics. All, however, produce various types of knitted fabrics, usually either flat or tubular, and of varying degrees of complexity. Pattern stitches can be selected by hand manipulation of the needles, push-buttons and dials, mechanical punch cards, or electronic pattern reading devices and computers.', 'source': 'https://en.wikipedia.org/wiki/Knitting_machine'})]"
      ]
     },
     "execution_count": 39,
     "metadata": {},
     "output_type": "execute_result"
    }
   ],
   "source": [
    "splits = myutils.chunkDocs(documents, 350)  \n",
    "splits"
   ]
  },
  {
   "cell_type": "code",
   "execution_count": 40,
   "id": "2cf73f60-b029-49fe-954c-c4b688902e81",
   "metadata": {},
   "outputs": [
    {
     "data": {
      "text/plain": [
       "50"
      ]
     },
     "execution_count": 40,
     "metadata": {},
     "output_type": "execute_result"
    }
   ],
   "source": [
    "len(splits)"
   ]
  },
  {
   "cell_type": "code",
   "execution_count": 41,
   "id": "98a4f486-9c4a-4712-89f7-9c1898c9e46b",
   "metadata": {},
   "outputs": [
    {
     "data": {
      "text/plain": [
       "Document(page_content='credible models as everything else depends on the quality of the data.  Examples\\tof\\tthe\\tsteps', metadata={'source': '/Users/mariamcnally/Desktop/SW2Semester/AI/DataWrangling.pdf', 'page': 0})"
      ]
     },
     "execution_count": 41,
     "metadata": {},
     "output_type": "execute_result"
    }
   ],
   "source": [
    "splits[7]"
   ]
  },
  {
   "cell_type": "code",
   "execution_count": 42,
   "id": "5a8974e6-e288-40e9-ba96-0f4f7d8ed604",
   "metadata": {},
   "outputs": [
    {
     "data": {
      "text/html": [
       "<div>\n",
       "<style scoped>\n",
       "    .dataframe tbody tr th:only-of-type {\n",
       "        vertical-align: middle;\n",
       "    }\n",
       "\n",
       "    .dataframe tbody tr th {\n",
       "        vertical-align: top;\n",
       "    }\n",
       "\n",
       "    .dataframe thead th {\n",
       "        text-align: right;\n",
       "    }\n",
       "</style>\n",
       "<table border=\"1\" class=\"dataframe\">\n",
       "  <thead>\n",
       "    <tr style=\"text-align: right;\">\n",
       "      <th></th>\n",
       "      <th>page_content</th>\n",
       "      <th>metadata</th>\n",
       "      <th>type</th>\n",
       "    </tr>\n",
       "  </thead>\n",
       "  <tbody>\n",
       "    <tr>\n",
       "      <th>42</th>\n",
       "      <td>(page_content, To produce larger and more comp...</td>\n",
       "      <td>(metadata, {'title': 'Knitting machine', 'summ...</td>\n",
       "      <td>(type, Document)</td>\n",
       "    </tr>\n",
       "    <tr>\n",
       "      <th>14</th>\n",
       "      <td>(page_content, and\\tsome\\tdemographic\\tdata\\tt...</td>\n",
       "      <td>(metadata, {'source': '/Users/mariamcnally/Des...</td>\n",
       "      <td>(type, Document)</td>\n",
       "    </tr>\n",
       "    <tr>\n",
       "      <th>23</th>\n",
       "      <td>(page_content, == Structure ==\\n\\n\\n=== Course...</td>\n",
       "      <td>(metadata, {'title': 'Knitting', 'summary': 'K...</td>\n",
       "      <td>(type, Document)</td>\n",
       "    </tr>\n",
       "  </tbody>\n",
       "</table>\n",
       "</div>"
      ],
      "text/plain": [
       "                                         page_content  \\\n",
       "42  (page_content, To produce larger and more comp...   \n",
       "14  (page_content, and\\tsome\\tdemographic\\tdata\\tt...   \n",
       "23  (page_content, == Structure ==\\n\\n\\n=== Course...   \n",
       "\n",
       "                                             metadata              type  \n",
       "42  (metadata, {'title': 'Knitting machine', 'summ...  (type, Document)  \n",
       "14  (metadata, {'source': '/Users/mariamcnally/Des...  (type, Document)  \n",
       "23  (metadata, {'title': 'Knitting', 'summary': 'K...  (type, Document)  "
      ]
     },
     "execution_count": 42,
     "metadata": {},
     "output_type": "execute_result"
    }
   ],
   "source": [
    "# put splits in dataframe\n",
    "df = pd.DataFrame(splits, columns=['page_content', 'metadata', 'type'])\n",
    "df.sample(3)"
   ]
  },
  {
   "cell_type": "code",
   "execution_count": 43,
   "id": "13b9b351-8227-47cc-8920-c6c64ac170a0",
   "metadata": {},
   "outputs": [
    {
     "data": {
      "text/plain": [
       "('page_content',\n",
       " 'Data Wrangling To get the data into a good state before analysing it there are some steps we need to go  through . The following process is a basic outline of what needs to happen before data is  ready for modelling and analysis. •')"
      ]
     },
     "execution_count": 43,
     "metadata": {},
     "output_type": "execute_result"
    }
   ],
   "source": [
    "df['page_content'][0]"
   ]
  },
  {
   "cell_type": "code",
   "execution_count": 44,
   "id": "d2a953d3-9a5b-49f3-a70d-09b7b9c117a7",
   "metadata": {},
   "outputs": [
    {
     "data": {
      "text/plain": [
       "('metadata',\n",
       " {'source': '/Users/mariamcnally/Desktop/SW2Semester/AI/DataWrangling.pdf',\n",
       "  'page': 0})"
      ]
     },
     "execution_count": 44,
     "metadata": {},
     "output_type": "execute_result"
    }
   ],
   "source": [
    "df['metadata'][0]"
   ]
  },
  {
   "cell_type": "markdown",
   "id": "7b242971-e82b-4abb-8873-ae3263f41ae5",
   "metadata": {},
   "source": [
    "## Embeddings"
   ]
  },
  {
   "cell_type": "code",
   "execution_count": 45,
   "id": "ab58ca82-7fc2-4e36-a171-66211c34f5ed",
   "metadata": {},
   "outputs": [],
   "source": [
    "model_name = \"sentence-transformers/all-mpnet-base-v2\"\n",
    "# model_name = \"sentence-transformers/all-MiniLM-l6-v2\"\n",
    "model_kwargs = {'device': 'cpu'}\n",
    "encode_kwargs = {'normalize_embeddings': False}"
   ]
  },
  {
   "cell_type": "code",
   "execution_count": 46,
   "id": "cbd04282-77df-4d33-a2e3-af9f6c0c2262",
   "metadata": {},
   "outputs": [],
   "source": [
    "#!pip install sentence-transformers"
   ]
  },
  {
   "cell_type": "code",
   "execution_count": 47,
   "id": "e4cf0e5d-c633-4522-a12c-9e5b3c97490c",
   "metadata": {},
   "outputs": [
    {
     "name": "stderr",
     "output_type": "stream",
     "text": [
      "/Library/Frameworks/Python.framework/Versions/3.12/lib/python3.12/site-packages/huggingface_hub/file_download.py:1132: FutureWarning: `resume_download` is deprecated and will be removed in version 1.0.0. Downloads always resume when possible. If you want to force a new download, use `force_download=True`.\n",
      "  warnings.warn(\n",
      "/Library/Frameworks/Python.framework/Versions/3.12/lib/python3.12/site-packages/huggingface_hub/file_download.py:1132: FutureWarning: `resume_download` is deprecated and will be removed in version 1.0.0. Downloads always resume when possible. If you want to force a new download, use `force_download=True`.\n",
      "  warnings.warn(\n"
     ]
    }
   ],
   "source": [
    "embeddings = HuggingFaceEmbeddings(\n",
    "    model_name=model_name,\n",
    "    model_kwargs=model_kwargs,\n",
    "    encode_kwargs=encode_kwargs\n",
    ")"
   ]
  },
  {
   "cell_type": "code",
   "execution_count": 48,
   "id": "ba360243-020a-4dd0-9009-76b055c0f659",
   "metadata": {},
   "outputs": [],
   "source": [
    "from langchain.vectorstores import FAISS"
   ]
  },
  {
   "cell_type": "code",
   "execution_count": 49,
   "id": "d655f974-644f-40f8-bb79-50738767fa7e",
   "metadata": {},
   "outputs": [],
   "source": [
    "#!pip install faiss-cpu"
   ]
  },
  {
   "cell_type": "code",
   "execution_count": 50,
   "id": "401f2829-e13c-471f-95a2-b6ae82225545",
   "metadata": {},
   "outputs": [],
   "source": [
    "db = FAISS.from_documents(splits, embeddings)"
   ]
  },
  {
   "cell_type": "markdown",
   "id": "0e8d3009-0980-4a90-8da0-47a8165aab29",
   "metadata": {},
   "source": [
    "## Storing the Embeddings in Vector DB"
   ]
  },
  {
   "cell_type": "code",
   "execution_count": 51,
   "id": "774db2aa-4452-438b-a9bc-d218689017dc",
   "metadata": {},
   "outputs": [],
   "source": [
    "#!pip install chromadb"
   ]
  },
  {
   "cell_type": "code",
   "execution_count": 52,
   "id": "fc841b84-8d43-4973-b899-602c5e50f391",
   "metadata": {},
   "outputs": [],
   "source": [
    "db = Chroma.from_documents(splits, embeddings)"
   ]
  },
  {
   "cell_type": "code",
   "execution_count": 53,
   "id": "18f0e20b-9767-4747-9f60-5e2125424318",
   "metadata": {},
   "outputs": [],
   "source": [
    "persist_directory = '../data/chroma/'\n",
    "\n",
    "# Create the vector store\n",
    "vectordb = Chroma.from_documents(\n",
    "    documents=splits,\n",
    "    embedding=embeddings,\n",
    "    persist_directory=persist_directory\n",
    ")\n",
    "vectordb.persist()"
   ]
  },
  {
   "cell_type": "code",
   "execution_count": 54,
   "id": "77818b73-143a-4c48-8119-b3c80443e722",
   "metadata": {},
   "outputs": [
    {
     "data": {
      "text/plain": [
       "150"
      ]
     },
     "execution_count": 54,
     "metadata": {},
     "output_type": "execute_result"
    }
   ],
   "source": [
    "vectordb._collection.count()"
   ]
  },
  {
   "cell_type": "markdown",
   "id": "349ac891-b0b6-4985-a23c-1b4b0b43734f",
   "metadata": {},
   "source": [
    "## Similarity Search"
   ]
  },
  {
   "cell_type": "code",
   "execution_count": null,
   "id": "6e82a2b9-7514-4b08-b730-acf1f42b3323",
   "metadata": {},
   "outputs": [],
   "source": []
  },
  {
   "cell_type": "code",
   "execution_count": null,
   "id": "3778c3ba-5950-46ac-b2fa-9c24c05f4ee8",
   "metadata": {},
   "outputs": [],
   "source": []
  }
 ],
 "metadata": {
  "kernelspec": {
   "display_name": "Python 3 (ipykernel)",
   "language": "python",
   "name": "python3"
  },
  "language_info": {
   "codemirror_mode": {
    "name": "ipython",
    "version": 3
   },
   "file_extension": ".py",
   "mimetype": "text/x-python",
   "name": "python",
   "nbconvert_exporter": "python",
   "pygments_lexer": "ipython3",
   "version": "3.12.1"
  }
 },
 "nbformat": 4,
 "nbformat_minor": 5
}
