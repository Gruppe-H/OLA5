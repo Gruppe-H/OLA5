{
 "cells": [
  {
   "cell_type": "markdown",
   "id": "cfaf9fa8-5e65-45af-8b89-506c439f661d",
   "metadata": {},
   "source": [
    "# Exercise 5"
   ]
  },
  {
   "cell_type": "code",
   "execution_count": 1,
   "id": "728bbc76-8e11-4b94-a151-05fc51e6bde4",
   "metadata": {
    "scrolled": true
   },
   "outputs": [
    {
     "name": "stdout",
     "output_type": "stream",
     "text": [
      "Requirement already satisfied: streamlit in /Library/Frameworks/Python.framework/Versions/3.12/lib/python3.12/site-packages (1.34.0)\n",
      "Requirement already satisfied: altair<6,>=4.0 in /Library/Frameworks/Python.framework/Versions/3.12/lib/python3.12/site-packages (from streamlit) (5.3.0)\n",
      "Requirement already satisfied: blinker<2,>=1.0.0 in /Library/Frameworks/Python.framework/Versions/3.12/lib/python3.12/site-packages (from streamlit) (1.7.0)\n",
      "Requirement already satisfied: cachetools<6,>=4.0 in /Library/Frameworks/Python.framework/Versions/3.12/lib/python3.12/site-packages (from streamlit) (5.3.3)\n",
      "Requirement already satisfied: click<9,>=7.0 in /Library/Frameworks/Python.framework/Versions/3.12/lib/python3.12/site-packages (from streamlit) (8.1.7)\n",
      "Requirement already satisfied: numpy<2,>=1.19.3 in /Library/Frameworks/Python.framework/Versions/3.12/lib/python3.12/site-packages (from streamlit) (1.26.3)\n",
      "Requirement already satisfied: packaging<25,>=16.8 in /Library/Frameworks/Python.framework/Versions/3.12/lib/python3.12/site-packages (from streamlit) (23.2)\n",
      "Requirement already satisfied: pandas<3,>=1.3.0 in /Library/Frameworks/Python.framework/Versions/3.12/lib/python3.12/site-packages (from streamlit) (2.2.0)\n",
      "Requirement already satisfied: pillow<11,>=7.1.0 in /Library/Frameworks/Python.framework/Versions/3.12/lib/python3.12/site-packages (from streamlit) (10.2.0)\n",
      "Requirement already satisfied: protobuf<5,>=3.20 in /Library/Frameworks/Python.framework/Versions/3.12/lib/python3.12/site-packages (from streamlit) (4.25.3)\n",
      "Requirement already satisfied: pyarrow>=7.0 in /Library/Frameworks/Python.framework/Versions/3.12/lib/python3.12/site-packages (from streamlit) (16.0.0)\n",
      "Requirement already satisfied: requests<3,>=2.27 in /Library/Frameworks/Python.framework/Versions/3.12/lib/python3.12/site-packages (from streamlit) (2.31.0)\n",
      "Requirement already satisfied: rich<14,>=10.14.0 in /Library/Frameworks/Python.framework/Versions/3.12/lib/python3.12/site-packages (from streamlit) (13.7.1)\n",
      "Requirement already satisfied: tenacity<9,>=8.1.0 in /Library/Frameworks/Python.framework/Versions/3.12/lib/python3.12/site-packages (from streamlit) (8.3.0)\n",
      "Requirement already satisfied: toml<2,>=0.10.1 in /Library/Frameworks/Python.framework/Versions/3.12/lib/python3.12/site-packages (from streamlit) (0.10.2)\n",
      "Requirement already satisfied: typing-extensions<5,>=4.3.0 in /Library/Frameworks/Python.framework/Versions/3.12/lib/python3.12/site-packages (from streamlit) (4.11.0)\n",
      "Requirement already satisfied: gitpython!=3.1.19,<4,>=3.0.7 in /Library/Frameworks/Python.framework/Versions/3.12/lib/python3.12/site-packages (from streamlit) (3.1.43)\n",
      "Requirement already satisfied: pydeck<1,>=0.8.0b4 in /Library/Frameworks/Python.framework/Versions/3.12/lib/python3.12/site-packages (from streamlit) (0.9.1)\n",
      "Requirement already satisfied: tornado<7,>=6.0.3 in /Library/Frameworks/Python.framework/Versions/3.12/lib/python3.12/site-packages (from streamlit) (6.4)\n",
      "Requirement already satisfied: jinja2 in /Library/Frameworks/Python.framework/Versions/3.12/lib/python3.12/site-packages (from altair<6,>=4.0->streamlit) (3.1.3)\n",
      "Requirement already satisfied: jsonschema>=3.0 in /Library/Frameworks/Python.framework/Versions/3.12/lib/python3.12/site-packages (from altair<6,>=4.0->streamlit) (4.21.1)\n",
      "Requirement already satisfied: toolz in /Library/Frameworks/Python.framework/Versions/3.12/lib/python3.12/site-packages (from altair<6,>=4.0->streamlit) (0.12.1)\n",
      "Requirement already satisfied: gitdb<5,>=4.0.1 in /Library/Frameworks/Python.framework/Versions/3.12/lib/python3.12/site-packages (from gitpython!=3.1.19,<4,>=3.0.7->streamlit) (4.0.11)\n",
      "Requirement already satisfied: python-dateutil>=2.8.2 in /Library/Frameworks/Python.framework/Versions/3.12/lib/python3.12/site-packages (from pandas<3,>=1.3.0->streamlit) (2.8.2)\n",
      "Requirement already satisfied: pytz>=2020.1 in /Library/Frameworks/Python.framework/Versions/3.12/lib/python3.12/site-packages (from pandas<3,>=1.3.0->streamlit) (2023.4)\n",
      "Requirement already satisfied: tzdata>=2022.7 in /Library/Frameworks/Python.framework/Versions/3.12/lib/python3.12/site-packages (from pandas<3,>=1.3.0->streamlit) (2023.4)\n",
      "Requirement already satisfied: charset-normalizer<4,>=2 in /Library/Frameworks/Python.framework/Versions/3.12/lib/python3.12/site-packages (from requests<3,>=2.27->streamlit) (3.3.2)\n",
      "Requirement already satisfied: idna<4,>=2.5 in /Library/Frameworks/Python.framework/Versions/3.12/lib/python3.12/site-packages (from requests<3,>=2.27->streamlit) (3.6)\n",
      "Requirement already satisfied: urllib3<3,>=1.21.1 in /Library/Frameworks/Python.framework/Versions/3.12/lib/python3.12/site-packages (from requests<3,>=2.27->streamlit) (2.1.0)\n",
      "Requirement already satisfied: certifi>=2017.4.17 in /Library/Frameworks/Python.framework/Versions/3.12/lib/python3.12/site-packages (from requests<3,>=2.27->streamlit) (2023.11.17)\n",
      "Requirement already satisfied: markdown-it-py>=2.2.0 in /Library/Frameworks/Python.framework/Versions/3.12/lib/python3.12/site-packages (from rich<14,>=10.14.0->streamlit) (3.0.0)\n",
      "Requirement already satisfied: pygments<3.0.0,>=2.13.0 in /Library/Frameworks/Python.framework/Versions/3.12/lib/python3.12/site-packages (from rich<14,>=10.14.0->streamlit) (2.17.2)\n",
      "Requirement already satisfied: smmap<6,>=3.0.1 in /Library/Frameworks/Python.framework/Versions/3.12/lib/python3.12/site-packages (from gitdb<5,>=4.0.1->gitpython!=3.1.19,<4,>=3.0.7->streamlit) (5.0.1)\n",
      "Requirement already satisfied: MarkupSafe>=2.0 in /Library/Frameworks/Python.framework/Versions/3.12/lib/python3.12/site-packages (from jinja2->altair<6,>=4.0->streamlit) (2.1.4)\n",
      "Requirement already satisfied: attrs>=22.2.0 in /Library/Frameworks/Python.framework/Versions/3.12/lib/python3.12/site-packages (from jsonschema>=3.0->altair<6,>=4.0->streamlit) (23.2.0)\n",
      "Requirement already satisfied: jsonschema-specifications>=2023.03.6 in /Library/Frameworks/Python.framework/Versions/3.12/lib/python3.12/site-packages (from jsonschema>=3.0->altair<6,>=4.0->streamlit) (2023.12.1)\n",
      "Requirement already satisfied: referencing>=0.28.4 in /Library/Frameworks/Python.framework/Versions/3.12/lib/python3.12/site-packages (from jsonschema>=3.0->altair<6,>=4.0->streamlit) (0.33.0)\n",
      "Requirement already satisfied: rpds-py>=0.7.1 in /Library/Frameworks/Python.framework/Versions/3.12/lib/python3.12/site-packages (from jsonschema>=3.0->altair<6,>=4.0->streamlit) (0.17.1)\n",
      "Requirement already satisfied: mdurl~=0.1 in /Library/Frameworks/Python.framework/Versions/3.12/lib/python3.12/site-packages (from markdown-it-py>=2.2.0->rich<14,>=10.14.0->streamlit) (0.1.2)\n",
      "Requirement already satisfied: six>=1.5 in /Library/Frameworks/Python.framework/Versions/3.12/lib/python3.12/site-packages (from python-dateutil>=2.8.2->pandas<3,>=1.3.0->streamlit) (1.16.0)\n"
     ]
    }
   ],
   "source": [
    "!pip install streamlit"
   ]
  },
  {
   "cell_type": "code",
   "execution_count": 2,
   "id": "d6b73b2d-b5fc-40ce-981b-8772103a6820",
   "metadata": {},
   "outputs": [],
   "source": [
    "## !streamlit hello"
   ]
  },
  {
   "cell_type": "code",
   "execution_count": 3,
   "id": "9ba11115-d061-4e08-8d19-7f88d549eb3d",
   "metadata": {
    "scrolled": true
   },
   "outputs": [
    {
     "name": "stdout",
     "output_type": "stream",
     "text": [
      "Requirement already satisfied: langchain in /Library/Frameworks/Python.framework/Versions/3.12/lib/python3.12/site-packages (0.1.0)\n",
      "Requirement already satisfied: PyYAML>=5.3 in /Library/Frameworks/Python.framework/Versions/3.12/lib/python3.12/site-packages (from langchain) (6.0.1)\n",
      "Requirement already satisfied: SQLAlchemy<3,>=1.4 in /Library/Frameworks/Python.framework/Versions/3.12/lib/python3.12/site-packages (from langchain) (2.0.30)\n",
      "Requirement already satisfied: aiohttp<4.0.0,>=3.8.3 in /Library/Frameworks/Python.framework/Versions/3.12/lib/python3.12/site-packages (from langchain) (3.9.5)\n",
      "Requirement already satisfied: dataclasses-json<0.7,>=0.5.7 in /Library/Frameworks/Python.framework/Versions/3.12/lib/python3.12/site-packages (from langchain) (0.6.6)\n",
      "Requirement already satisfied: jsonpatch<2.0,>=1.33 in /Library/Frameworks/Python.framework/Versions/3.12/lib/python3.12/site-packages (from langchain) (1.33)\n",
      "Requirement already satisfied: langchain-community<0.1,>=0.0.9 in /Library/Frameworks/Python.framework/Versions/3.12/lib/python3.12/site-packages (from langchain) (0.0.20)\n",
      "Requirement already satisfied: langchain-core<0.2,>=0.1.7 in /Library/Frameworks/Python.framework/Versions/3.12/lib/python3.12/site-packages (from langchain) (0.1.23)\n",
      "Requirement already satisfied: langsmith<0.1.0,>=0.0.77 in /Library/Frameworks/Python.framework/Versions/3.12/lib/python3.12/site-packages (from langchain) (0.0.87)\n",
      "Requirement already satisfied: numpy<2,>=1 in /Library/Frameworks/Python.framework/Versions/3.12/lib/python3.12/site-packages (from langchain) (1.26.3)\n",
      "Requirement already satisfied: pydantic<3,>=1 in /Library/Frameworks/Python.framework/Versions/3.12/lib/python3.12/site-packages (from langchain) (2.7.1)\n",
      "Requirement already satisfied: requests<3,>=2 in /Library/Frameworks/Python.framework/Versions/3.12/lib/python3.12/site-packages (from langchain) (2.31.0)\n",
      "Requirement already satisfied: tenacity<9.0.0,>=8.1.0 in /Library/Frameworks/Python.framework/Versions/3.12/lib/python3.12/site-packages (from langchain) (8.3.0)\n",
      "Requirement already satisfied: aiosignal>=1.1.2 in /Library/Frameworks/Python.framework/Versions/3.12/lib/python3.12/site-packages (from aiohttp<4.0.0,>=3.8.3->langchain) (1.3.1)\n",
      "Requirement already satisfied: attrs>=17.3.0 in /Library/Frameworks/Python.framework/Versions/3.12/lib/python3.12/site-packages (from aiohttp<4.0.0,>=3.8.3->langchain) (23.2.0)\n",
      "Requirement already satisfied: frozenlist>=1.1.1 in /Library/Frameworks/Python.framework/Versions/3.12/lib/python3.12/site-packages (from aiohttp<4.0.0,>=3.8.3->langchain) (1.4.1)\n",
      "Requirement already satisfied: multidict<7.0,>=4.5 in /Library/Frameworks/Python.framework/Versions/3.12/lib/python3.12/site-packages (from aiohttp<4.0.0,>=3.8.3->langchain) (6.0.5)\n",
      "Requirement already satisfied: yarl<2.0,>=1.0 in /Library/Frameworks/Python.framework/Versions/3.12/lib/python3.12/site-packages (from aiohttp<4.0.0,>=3.8.3->langchain) (1.9.4)\n",
      "Requirement already satisfied: marshmallow<4.0.0,>=3.18.0 in /Library/Frameworks/Python.framework/Versions/3.12/lib/python3.12/site-packages (from dataclasses-json<0.7,>=0.5.7->langchain) (3.21.2)\n",
      "Requirement already satisfied: typing-inspect<1,>=0.4.0 in /Library/Frameworks/Python.framework/Versions/3.12/lib/python3.12/site-packages (from dataclasses-json<0.7,>=0.5.7->langchain) (0.9.0)\n",
      "Requirement already satisfied: jsonpointer>=1.9 in /Library/Frameworks/Python.framework/Versions/3.12/lib/python3.12/site-packages (from jsonpatch<2.0,>=1.33->langchain) (2.4)\n",
      "Requirement already satisfied: anyio<5,>=3 in /Library/Frameworks/Python.framework/Versions/3.12/lib/python3.12/site-packages (from langchain-core<0.2,>=0.1.7->langchain) (4.2.0)\n",
      "Requirement already satisfied: packaging<24.0,>=23.2 in /Library/Frameworks/Python.framework/Versions/3.12/lib/python3.12/site-packages (from langchain-core<0.2,>=0.1.7->langchain) (23.2)\n",
      "Requirement already satisfied: annotated-types>=0.4.0 in /Library/Frameworks/Python.framework/Versions/3.12/lib/python3.12/site-packages (from pydantic<3,>=1->langchain) (0.6.0)\n",
      "Requirement already satisfied: pydantic-core==2.18.2 in /Library/Frameworks/Python.framework/Versions/3.12/lib/python3.12/site-packages (from pydantic<3,>=1->langchain) (2.18.2)\n",
      "Requirement already satisfied: typing-extensions>=4.6.1 in /Library/Frameworks/Python.framework/Versions/3.12/lib/python3.12/site-packages (from pydantic<3,>=1->langchain) (4.11.0)\n",
      "Requirement already satisfied: charset-normalizer<4,>=2 in /Library/Frameworks/Python.framework/Versions/3.12/lib/python3.12/site-packages (from requests<3,>=2->langchain) (3.3.2)\n",
      "Requirement already satisfied: idna<4,>=2.5 in /Library/Frameworks/Python.framework/Versions/3.12/lib/python3.12/site-packages (from requests<3,>=2->langchain) (3.6)\n",
      "Requirement already satisfied: urllib3<3,>=1.21.1 in /Library/Frameworks/Python.framework/Versions/3.12/lib/python3.12/site-packages (from requests<3,>=2->langchain) (2.1.0)\n",
      "Requirement already satisfied: certifi>=2017.4.17 in /Library/Frameworks/Python.framework/Versions/3.12/lib/python3.12/site-packages (from requests<3,>=2->langchain) (2023.11.17)\n",
      "Requirement already satisfied: sniffio>=1.1 in /Library/Frameworks/Python.framework/Versions/3.12/lib/python3.12/site-packages (from anyio<5,>=3->langchain-core<0.2,>=0.1.7->langchain) (1.3.0)\n",
      "Requirement already satisfied: mypy-extensions>=0.3.0 in /Library/Frameworks/Python.framework/Versions/3.12/lib/python3.12/site-packages (from typing-inspect<1,>=0.4.0->dataclasses-json<0.7,>=0.5.7->langchain) (1.0.0)\n"
     ]
    }
   ],
   "source": [
    "!pip install langchain"
   ]
  },
  {
   "cell_type": "code",
   "execution_count": 4,
   "id": "7dfdb156-bf3b-4cd3-a7ca-6fe0edcd24c5",
   "metadata": {},
   "outputs": [
    {
     "name": "stdout",
     "output_type": "stream",
     "text": [
      "Requirement already satisfied: langdetect in /Library/Frameworks/Python.framework/Versions/3.12/lib/python3.12/site-packages (1.0.9)\n",
      "Requirement already satisfied: six in /Library/Frameworks/Python.framework/Versions/3.12/lib/python3.12/site-packages (from langdetect) (1.16.0)\n"
     ]
    }
   ],
   "source": [
    "!pip install langdetect"
   ]
  },
  {
   "cell_type": "code",
   "execution_count": 5,
   "id": "05c9b200-f2e3-42ea-93ec-e0ad57d18995",
   "metadata": {},
   "outputs": [
    {
     "name": "stdout",
     "output_type": "stream",
     "text": [
      "Requirement already satisfied: torch in /Library/Frameworks/Python.framework/Versions/3.12/lib/python3.12/site-packages (2.3.0)\n",
      "Requirement already satisfied: filelock in /Library/Frameworks/Python.framework/Versions/3.12/lib/python3.12/site-packages (from torch) (3.14.0)\n",
      "Requirement already satisfied: typing-extensions>=4.8.0 in /Library/Frameworks/Python.framework/Versions/3.12/lib/python3.12/site-packages (from torch) (4.11.0)\n",
      "Requirement already satisfied: sympy in /Library/Frameworks/Python.framework/Versions/3.12/lib/python3.12/site-packages (from torch) (1.12)\n",
      "Requirement already satisfied: networkx in /Library/Frameworks/Python.framework/Versions/3.12/lib/python3.12/site-packages (from torch) (3.3)\n",
      "Requirement already satisfied: jinja2 in /Library/Frameworks/Python.framework/Versions/3.12/lib/python3.12/site-packages (from torch) (3.1.3)\n",
      "Requirement already satisfied: fsspec in /Library/Frameworks/Python.framework/Versions/3.12/lib/python3.12/site-packages (from torch) (2024.3.1)\n",
      "Requirement already satisfied: MarkupSafe>=2.0 in /Library/Frameworks/Python.framework/Versions/3.12/lib/python3.12/site-packages (from jinja2->torch) (2.1.4)\n",
      "Requirement already satisfied: mpmath>=0.19 in /Library/Frameworks/Python.framework/Versions/3.12/lib/python3.12/site-packages (from sympy->torch) (1.3.0)\n"
     ]
    }
   ],
   "source": [
    "!pip install -U torch"
   ]
  },
  {
   "cell_type": "markdown",
   "id": "04dcb4f5-3194-40f1-aacf-132a5c8fefdf",
   "metadata": {},
   "source": [
    "## Set Enviroment "
   ]
  },
  {
   "cell_type": "code",
   "execution_count": 6,
   "id": "17dc64bb-3180-49c0-aa85-e2487818a433",
   "metadata": {},
   "outputs": [],
   "source": [
    "import os\n",
    "import pandas as pd"
   ]
  },
  {
   "cell_type": "code",
   "execution_count": 7,
   "id": "2d851e54-5dae-4df6-a792-439230126c97",
   "metadata": {},
   "outputs": [],
   "source": [
    "import langdetect\n",
    "from langdetect import DetectorFactory, detect, detect_langs"
   ]
  },
  {
   "cell_type": "code",
   "execution_count": 8,
   "id": "3cf99065-b7c1-4a2a-b9ed-9c0755bd1b82",
   "metadata": {},
   "outputs": [],
   "source": [
    "from langchain.llms import Ollama\n",
    "from langchain.callbacks.manager import CallbackManager\n",
    "from langchain.callbacks.streaming_stdout import StreamingStdOutCallbackHandler"
   ]
  },
  {
   "cell_type": "code",
   "execution_count": 9,
   "id": "97f18d42-9d9d-459c-85db-7fb89bb3d62f",
   "metadata": {},
   "outputs": [],
   "source": [
    "\n",
    "from langchain.docstore.document import Document\n",
    "from langchain.text_splitter import RecursiveCharacterTextSplitter\n",
    "from langchain.vectorstores import Chroma\n",
    "from langchain.chains import ConversationalRetrievalChain\n",
    "from langchain.memory import ConversationBufferMemory\n",
    "from langchain.prompts import PromptTemplate"
   ]
  },
  {
   "cell_type": "code",
   "execution_count": 10,
   "id": "d5af439d-bca5-45bb-802f-b1639d4a43d5",
   "metadata": {},
   "outputs": [],
   "source": [
    "# Embedding facilities\n",
    "from langchain.embeddings import HuggingFaceEmbeddings"
   ]
  },
  {
   "cell_type": "code",
   "execution_count": 11,
   "id": "4a7cff1c-5f20-47a9-865e-29be87928509",
   "metadata": {},
   "outputs": [],
   "source": [
    "# Pipelines\n",
    "from langchain import HuggingFacePipeline\n",
    "from langchain.chains import RetrievalQA"
   ]
  },
  {
   "cell_type": "markdown",
   "id": "438840ac-cfb9-4c18-8265-ecb383398277",
   "metadata": {},
   "source": [
    "## Load Documents"
   ]
  },
  {
   "cell_type": "code",
   "execution_count": 12,
   "id": "ebdc951d-80e1-46d2-8cf2-e5da197c02c3",
   "metadata": {},
   "outputs": [],
   "source": [
    "import myloadlib\n",
    "from myloadlib import loadDir, loadFile, loadWiki, loadYoutube, readAPI"
   ]
  },
  {
   "cell_type": "code",
   "execution_count": 13,
   "id": "0932c18c-3ace-48bf-9a86-8f64020d2919",
   "metadata": {},
   "outputs": [
    {
     "data": {
      "text/plain": [
       "<module 'myloadlib' from '/Users/mariamcnally/Desktop/SW2Semester/AI/OLA5/myloadlib.py'>"
      ]
     },
     "execution_count": 13,
     "metadata": {},
     "output_type": "execute_result"
    }
   ],
   "source": [
    "import importlib \n",
    "importlib.reload(myloadlib)"
   ]
  },
  {
   "cell_type": "code",
   "execution_count": 14,
   "id": "6b27dfb0-bfb1-4475-9d94-0558dc6bc264",
   "metadata": {},
   "outputs": [],
   "source": [
    "# Collect all here\n",
    "documents = []"
   ]
  },
  {
   "cell_type": "markdown",
   "id": "22113093-ce47-45ed-b2b2-cf9f459c572c",
   "metadata": {},
   "source": [
    "## Load single files"
   ]
  },
  {
   "cell_type": "code",
   "execution_count": 15,
   "id": "310103aa-5e9b-44f4-aff5-993700838ef4",
   "metadata": {},
   "outputs": [],
   "source": [
    "file = \"/Users/mariamcnally/Desktop/SW2Semester/AI/DataWrangling.pdf\""
   ]
  },
  {
   "cell_type": "code",
   "execution_count": 16,
   "id": "4bb6440e-2574-47ec-aa22-0376efc41c70",
   "metadata": {},
   "outputs": [
    {
     "name": "stdout",
     "output_type": "stream",
     "text": [
      "Requirement already satisfied: pypdf in /Library/Frameworks/Python.framework/Versions/3.12/lib/python3.12/site-packages (4.2.0)\n"
     ]
    }
   ],
   "source": [
    "!pip install pypdf"
   ]
  },
  {
   "cell_type": "code",
   "execution_count": 17,
   "id": "4a915478-86e9-4261-b2c2-3e826eaeae59",
   "metadata": {},
   "outputs": [
    {
     "name": "stderr",
     "output_type": "stream",
     "text": [
      "Ignoring wrong pointing object 6 0 (offset 0)\n",
      "Ignoring wrong pointing object 8 0 (offset 0)\n",
      "Ignoring wrong pointing object 11 0 (offset 0)\n",
      "Ignoring wrong pointing object 13 0 (offset 0)\n",
      "Ignoring wrong pointing object 15 0 (offset 0)\n",
      "Ignoring wrong pointing object 17 0 (offset 0)\n",
      "Ignoring wrong pointing object 19 0 (offset 0)\n",
      "Ignoring wrong pointing object 21 0 (offset 0)\n"
     ]
    }
   ],
   "source": [
    "docs = myloadlib.loadFile(file)"
   ]
  },
  {
   "cell_type": "code",
   "execution_count": 18,
   "id": "ce6e044b-ba68-44af-adc9-0b54be98b380",
   "metadata": {},
   "outputs": [
    {
     "data": {
      "text/plain": [
       "2"
      ]
     },
     "execution_count": 18,
     "metadata": {},
     "output_type": "execute_result"
    }
   ],
   "source": [
    "documents.extend(docs)\n",
    "len(documents)"
   ]
  },
  {
   "cell_type": "code",
   "execution_count": 19,
   "id": "71d6b155-a7ad-4f96-8799-4c76f185ac95",
   "metadata": {},
   "outputs": [
    {
     "data": {
      "text/plain": [
       "{'source': '/Users/mariamcnally/Desktop/SW2Semester/AI/DataWrangling.pdf',\n",
       " 'page': 0}"
      ]
     },
     "execution_count": 19,
     "metadata": {},
     "output_type": "execute_result"
    }
   ],
   "source": [
    "# metadata of loaded Document\n",
    "docs[0].metadata "
   ]
  },
  {
   "cell_type": "markdown",
   "id": "c6aea562-013b-4182-bff9-96ac549d16af",
   "metadata": {},
   "source": [
    "Content of page [0] = page 1. "
   ]
  },
  {
   "cell_type": "code",
   "execution_count": 20,
   "id": "b4a67e29-a9ba-41d1-a186-af03622038ee",
   "metadata": {},
   "outputs": [
    {
     "data": {
      "text/plain": [
       "'Data Wrangling To get the data into a good state before analysing it there are some steps we need to go  through . The following process is a basic outline of what needs to happen before data is  ready for modelling and analysis. • Data\\tDiscovery:\\tThis\\tis\\tan\\tall-encompassing\\tterm\\tthat\\tdescribes\\tunderstanding\\twhat\\tyour\\tdata\\tis\\tall\\tabout.\\tIn\\tthis\\tfirst\\tstep,\\tyou\\tget\\tfamiliar\\twith\\tyour\\tdata\\t\\tand\\tensure\\tit\\tis\\tcapable\\tof\\tbeing\\tused\\tto\\thelp\\twork\\ton\\tyour\\tproblem.\\t\\t• Data\\tStructuring:\\tWhen\\tyou\\tcollect\\traw\\tdata,\\tit\\tinitially\\tis\\tin\\tall\\tshapes\\tand\\t\\tsizes,\\tand\\thas\\tno\\tdefinite\\tstructure.\\tSuch\\tdata\\tneeds\\tto\\tbe\\trestructured\\tto\\tsuit\\tthe\\t\\tanalytical\\tmodel\\tthat\\tyour\\tenterprise\\tplans\\tto\\tdeploy\\t\\t\\t• Data\\tCleaning:\\tRaw\\tdata\\tcomes\\twith\\tsome\\terrors\\tthat\\tneed\\tto\\tbe\\tfixed\\tbefore\\t\\tdata\\tis\\tpassed\\ton\\tto\\tthe\\tnext\\tstage.\\tCleaning\\tinvolves\\tthe\\ttackling\\tof\\toutliers,\\t\\tmaking\\tcorrections,\\tor\\tdeleting\\tbad\\tdata\\tcompletely\\t\\t\\t• Data\\tEnriching:\\tBy\\tthis\\tstage,\\tyou\\thave\\tkind\\tof\\tbecome\\tfamiliar\\twith\\tthe\\tdata\\tin\\t\\thand.\\tNow\\tis\\tthe\\ttime\\tto\\task\\tyourself\\tthis\\tquestion\\t–\\tdo\\tyou\\tneed\\tto\\tembellish\\t\\tthe\\traw\\tdata?\\tDo\\tyou\\twant\\tto\\taugment\\tit\\twith\\tother\\tdata?\\t\\t\\t• Data\\tValidating:\\tThis\\tactivity\\tsurfaces\\tdata\\tquality\\tissues,\\tand\\tthey\\thave\\tto\\tbe\\t\\taddressed\\twith\\tthe\\tnecessary\\ttransformations.\\tThe\\trules\\tof\\tvalidation\\trules\\trequire\\trepetitive\\tprogramming\\tsteps\\tto\\tcheck\\tthe\\tauthenticity\\tand\\tthe\\tquality\\tof\\tyour\\tdata\\t\\t• Data\\tPublishing:\\tOnce\\tall\\tthe\\tabove\\tsteps\\tare\\tcompleted,\\tthe\\tfinal\\toutput\\tof\\tthe\\twrangling\\tcan\\tbe\\tpublished\\tas\\tpart\\tof\\ta\\tdata\\tpipeline\\tand\\tis\\tready\\tfor\\tanalysis.\\tData wrangling is a core iterative process that throws up the cleanest, most useful data possible before you start your actual analysis. It is THE most important stage in building credible models as everything else depends on the quality of the data.  Examples\\tof\\tthe\\tsteps\\t Data\\tDiscovery\\t\\tThink\\tabout\\tthe\\tTitanic\\tdata\\tset\\t–\\twhat\\tcan\\tbe\\tsaid\\tabout\\tit\\t–\\twhat\\tcannot\\tbe\\tsaid;\\tit\\tgives\\tus\\tinformation\\ton\\tsurvivors\\t/\\tdeaths\\t/\\tgender\\t/\\tticket\\tclass\\tetc\\tbut\\tnot\\ton\\tweight\\tof\\tpassengers\\t(does\\tit\\tinfluence\\tsurvival\\tchance?).\\tAlso\\tit\\tgives\\tus\\tno\\tphysical\\tstate\\tinformation\\t(what\\twas\\tthe\\taverage\\tdrop\\theight\\tof\\tlifeboats\\tinto\\tthe\\tsea\\tfor\\texample).\\t\\t\\t\\tData\\tStructuring\\tIf\\tyou\\tare\\tcollecting\\traw\\tdata\\tyou\\twill\\tneed\\tto\\tput\\tthe\\tdata\\tinto\\ta\\tstandardized\\tformat,\\tyou\\tmight\\tneed\\tto\\tconvert\\tintegers\\tto\\ttext\\tor\\ttext\\tto\\tnumerical\\tdata.\\tFor\\texample\\tif\\tyou\\t'"
      ]
     },
     "execution_count": 20,
     "metadata": {},
     "output_type": "execute_result"
    }
   ],
   "source": [
    "documents[0].page_content\n",
    "#docs[0].page_content[:1000]\n",
    "# First 1000 charactors."
   ]
  },
  {
   "cell_type": "markdown",
   "id": "95b2a009-3953-4424-a1ad-44a0975bd92e",
   "metadata": {},
   "source": [
    "## Load wiki"
   ]
  },
  {
   "cell_type": "code",
   "execution_count": 21,
   "id": "47a4fec9-7516-48d5-b0ae-1ae164836a7a",
   "metadata": {},
   "outputs": [],
   "source": [
    "subject = \"Testing wiki load\""
   ]
  },
  {
   "cell_type": "code",
   "execution_count": 22,
   "id": "a050c7fd-663d-4056-9abe-2c9de0fc6fb0",
   "metadata": {},
   "outputs": [],
   "source": [
    "lang = 'en'"
   ]
  },
  {
   "cell_type": "code",
   "execution_count": 23,
   "id": "b7aa867f-356a-46a8-a1f5-1a2d368de8bb",
   "metadata": {},
   "outputs": [
    {
     "name": "stdout",
     "output_type": "stream",
     "text": [
      "Requirement already satisfied: wikipedia in /Library/Frameworks/Python.framework/Versions/3.12/lib/python3.12/site-packages (1.4.0)\n",
      "Requirement already satisfied: beautifulsoup4 in /Library/Frameworks/Python.framework/Versions/3.12/lib/python3.12/site-packages (from wikipedia) (4.12.3)\n",
      "Requirement already satisfied: requests<3.0.0,>=2.0.0 in /Library/Frameworks/Python.framework/Versions/3.12/lib/python3.12/site-packages (from wikipedia) (2.31.0)\n",
      "Requirement already satisfied: charset-normalizer<4,>=2 in /Library/Frameworks/Python.framework/Versions/3.12/lib/python3.12/site-packages (from requests<3.0.0,>=2.0.0->wikipedia) (3.3.2)\n",
      "Requirement already satisfied: idna<4,>=2.5 in /Library/Frameworks/Python.framework/Versions/3.12/lib/python3.12/site-packages (from requests<3.0.0,>=2.0.0->wikipedia) (3.6)\n",
      "Requirement already satisfied: urllib3<3,>=1.21.1 in /Library/Frameworks/Python.framework/Versions/3.12/lib/python3.12/site-packages (from requests<3.0.0,>=2.0.0->wikipedia) (2.1.0)\n",
      "Requirement already satisfied: certifi>=2017.4.17 in /Library/Frameworks/Python.framework/Versions/3.12/lib/python3.12/site-packages (from requests<3.0.0,>=2.0.0->wikipedia) (2023.11.17)\n",
      "Requirement already satisfied: soupsieve>1.2 in /Library/Frameworks/Python.framework/Versions/3.12/lib/python3.12/site-packages (from beautifulsoup4->wikipedia) (2.5)\n"
     ]
    }
   ],
   "source": [
    "!pip install wikipedia"
   ]
  },
  {
   "cell_type": "code",
   "execution_count": 24,
   "id": "8470c251-80e1-41bf-8d91-2fc5dc21aaf5",
   "metadata": {},
   "outputs": [],
   "source": [
    "docs = myloadlib.loadWiki(subject, lang, 2)"
   ]
  },
  {
   "cell_type": "code",
   "execution_count": 25,
   "id": "4e2e075b-abce-4cea-8b92-aa9a1040ca5c",
   "metadata": {},
   "outputs": [],
   "source": [
    "documents.extend(docs)"
   ]
  },
  {
   "cell_type": "markdown",
   "id": "6086c650-d6ce-48ed-be77-04c353fc80a0",
   "metadata": {},
   "source": [
    "Should be 4 at the moment, but will update everytime its run, and or other Docs/documents are ran again"
   ]
  },
  {
   "cell_type": "code",
   "execution_count": 26,
   "id": "66cea9a6-3bbe-43fb-8e11-ef6292d132a9",
   "metadata": {},
   "outputs": [
    {
     "data": {
      "text/plain": [
       "4"
      ]
     },
     "execution_count": 26,
     "metadata": {},
     "output_type": "execute_result"
    }
   ],
   "source": [
    "len(documents)"
   ]
  },
  {
   "cell_type": "code",
   "execution_count": 27,
   "id": "717553fc-efcb-4a36-8efd-bb7ac2962f3a",
   "metadata": {},
   "outputs": [],
   "source": [
    "## Choose not to show Load youtube"
   ]
  },
  {
   "cell_type": "code",
   "execution_count": 28,
   "id": "a38adc0d-48d2-4289-8be6-0bd01da6fd5e",
   "metadata": {},
   "outputs": [
    {
     "name": "stdout",
     "output_type": "stream",
     "text": [
      "Requirement already satisfied: spacy in /Library/Frameworks/Python.framework/Versions/3.12/lib/python3.12/site-packages (3.7.4)\n",
      "Requirement already satisfied: spacy-legacy<3.1.0,>=3.0.11 in /Library/Frameworks/Python.framework/Versions/3.12/lib/python3.12/site-packages (from spacy) (3.0.12)\n",
      "Requirement already satisfied: spacy-loggers<2.0.0,>=1.0.0 in /Library/Frameworks/Python.framework/Versions/3.12/lib/python3.12/site-packages (from spacy) (1.0.5)\n",
      "Requirement already satisfied: murmurhash<1.1.0,>=0.28.0 in /Library/Frameworks/Python.framework/Versions/3.12/lib/python3.12/site-packages (from spacy) (1.0.10)\n",
      "Requirement already satisfied: cymem<2.1.0,>=2.0.2 in /Library/Frameworks/Python.framework/Versions/3.12/lib/python3.12/site-packages (from spacy) (2.0.8)\n",
      "Requirement already satisfied: preshed<3.1.0,>=3.0.2 in /Library/Frameworks/Python.framework/Versions/3.12/lib/python3.12/site-packages (from spacy) (3.0.9)\n",
      "Requirement already satisfied: thinc<8.3.0,>=8.2.2 in /Library/Frameworks/Python.framework/Versions/3.12/lib/python3.12/site-packages (from spacy) (8.2.3)\n",
      "Requirement already satisfied: wasabi<1.2.0,>=0.9.1 in /Library/Frameworks/Python.framework/Versions/3.12/lib/python3.12/site-packages (from spacy) (1.1.2)\n",
      "Requirement already satisfied: srsly<3.0.0,>=2.4.3 in /Library/Frameworks/Python.framework/Versions/3.12/lib/python3.12/site-packages (from spacy) (2.4.8)\n",
      "Requirement already satisfied: catalogue<2.1.0,>=2.0.6 in /Library/Frameworks/Python.framework/Versions/3.12/lib/python3.12/site-packages (from spacy) (2.0.10)\n",
      "Requirement already satisfied: weasel<0.4.0,>=0.1.0 in /Library/Frameworks/Python.framework/Versions/3.12/lib/python3.12/site-packages (from spacy) (0.3.4)\n",
      "Requirement already satisfied: typer<0.10.0,>=0.3.0 in /Library/Frameworks/Python.framework/Versions/3.12/lib/python3.12/site-packages (from spacy) (0.9.4)\n",
      "Requirement already satisfied: smart-open<7.0.0,>=5.2.1 in /Library/Frameworks/Python.framework/Versions/3.12/lib/python3.12/site-packages (from spacy) (6.4.0)\n",
      "Requirement already satisfied: tqdm<5.0.0,>=4.38.0 in /Library/Frameworks/Python.framework/Versions/3.12/lib/python3.12/site-packages (from spacy) (4.66.2)\n",
      "Requirement already satisfied: requests<3.0.0,>=2.13.0 in /Library/Frameworks/Python.framework/Versions/3.12/lib/python3.12/site-packages (from spacy) (2.31.0)\n",
      "Requirement already satisfied: pydantic!=1.8,!=1.8.1,<3.0.0,>=1.7.4 in /Library/Frameworks/Python.framework/Versions/3.12/lib/python3.12/site-packages (from spacy) (2.7.1)\n",
      "Requirement already satisfied: jinja2 in /Library/Frameworks/Python.framework/Versions/3.12/lib/python3.12/site-packages (from spacy) (3.1.3)\n",
      "Requirement already satisfied: setuptools in /Library/Frameworks/Python.framework/Versions/3.12/lib/python3.12/site-packages (from spacy) (69.5.1)\n",
      "Requirement already satisfied: packaging>=20.0 in /Library/Frameworks/Python.framework/Versions/3.12/lib/python3.12/site-packages (from spacy) (23.2)\n",
      "Requirement already satisfied: langcodes<4.0.0,>=3.2.0 in /Library/Frameworks/Python.framework/Versions/3.12/lib/python3.12/site-packages (from spacy) (3.4.0)\n",
      "Requirement already satisfied: numpy>=1.19.0 in /Library/Frameworks/Python.framework/Versions/3.12/lib/python3.12/site-packages (from spacy) (1.26.3)\n",
      "Requirement already satisfied: language-data>=1.2 in /Library/Frameworks/Python.framework/Versions/3.12/lib/python3.12/site-packages (from langcodes<4.0.0,>=3.2.0->spacy) (1.2.0)\n",
      "Requirement already satisfied: annotated-types>=0.4.0 in /Library/Frameworks/Python.framework/Versions/3.12/lib/python3.12/site-packages (from pydantic!=1.8,!=1.8.1,<3.0.0,>=1.7.4->spacy) (0.6.0)\n",
      "Requirement already satisfied: pydantic-core==2.18.2 in /Library/Frameworks/Python.framework/Versions/3.12/lib/python3.12/site-packages (from pydantic!=1.8,!=1.8.1,<3.0.0,>=1.7.4->spacy) (2.18.2)\n",
      "Requirement already satisfied: typing-extensions>=4.6.1 in /Library/Frameworks/Python.framework/Versions/3.12/lib/python3.12/site-packages (from pydantic!=1.8,!=1.8.1,<3.0.0,>=1.7.4->spacy) (4.11.0)\n",
      "Requirement already satisfied: charset-normalizer<4,>=2 in /Library/Frameworks/Python.framework/Versions/3.12/lib/python3.12/site-packages (from requests<3.0.0,>=2.13.0->spacy) (3.3.2)\n",
      "Requirement already satisfied: idna<4,>=2.5 in /Library/Frameworks/Python.framework/Versions/3.12/lib/python3.12/site-packages (from requests<3.0.0,>=2.13.0->spacy) (3.6)\n",
      "Requirement already satisfied: urllib3<3,>=1.21.1 in /Library/Frameworks/Python.framework/Versions/3.12/lib/python3.12/site-packages (from requests<3.0.0,>=2.13.0->spacy) (2.1.0)\n",
      "Requirement already satisfied: certifi>=2017.4.17 in /Library/Frameworks/Python.framework/Versions/3.12/lib/python3.12/site-packages (from requests<3.0.0,>=2.13.0->spacy) (2023.11.17)\n",
      "Requirement already satisfied: blis<0.8.0,>=0.7.8 in /Library/Frameworks/Python.framework/Versions/3.12/lib/python3.12/site-packages (from thinc<8.3.0,>=8.2.2->spacy) (0.7.11)\n",
      "Requirement already satisfied: confection<1.0.0,>=0.0.1 in /Library/Frameworks/Python.framework/Versions/3.12/lib/python3.12/site-packages (from thinc<8.3.0,>=8.2.2->spacy) (0.1.4)\n",
      "Requirement already satisfied: click<9.0.0,>=7.1.1 in /Library/Frameworks/Python.framework/Versions/3.12/lib/python3.12/site-packages (from typer<0.10.0,>=0.3.0->spacy) (8.1.7)\n",
      "Requirement already satisfied: cloudpathlib<0.17.0,>=0.7.0 in /Library/Frameworks/Python.framework/Versions/3.12/lib/python3.12/site-packages (from weasel<0.4.0,>=0.1.0->spacy) (0.16.0)\n",
      "Requirement already satisfied: MarkupSafe>=2.0 in /Library/Frameworks/Python.framework/Versions/3.12/lib/python3.12/site-packages (from jinja2->spacy) (2.1.4)\n",
      "Requirement already satisfied: marisa-trie>=0.7.7 in /Library/Frameworks/Python.framework/Versions/3.12/lib/python3.12/site-packages (from language-data>=1.2->langcodes<4.0.0,>=3.2.0->spacy) (1.1.1)\n",
      "Requirement already satisfied: wordcloud in /Library/Frameworks/Python.framework/Versions/3.12/lib/python3.12/site-packages (1.9.3)\n",
      "Requirement already satisfied: numpy>=1.6.1 in /Library/Frameworks/Python.framework/Versions/3.12/lib/python3.12/site-packages (from wordcloud) (1.26.3)\n",
      "Requirement already satisfied: pillow in /Library/Frameworks/Python.framework/Versions/3.12/lib/python3.12/site-packages (from wordcloud) (10.2.0)\n",
      "Requirement already satisfied: matplotlib in /Library/Frameworks/Python.framework/Versions/3.12/lib/python3.12/site-packages (from wordcloud) (3.8.3)\n",
      "Requirement already satisfied: contourpy>=1.0.1 in /Library/Frameworks/Python.framework/Versions/3.12/lib/python3.12/site-packages (from matplotlib->wordcloud) (1.2.0)\n",
      "Requirement already satisfied: cycler>=0.10 in /Library/Frameworks/Python.framework/Versions/3.12/lib/python3.12/site-packages (from matplotlib->wordcloud) (0.12.1)\n",
      "Requirement already satisfied: fonttools>=4.22.0 in /Library/Frameworks/Python.framework/Versions/3.12/lib/python3.12/site-packages (from matplotlib->wordcloud) (4.49.0)\n",
      "Requirement already satisfied: kiwisolver>=1.3.1 in /Library/Frameworks/Python.framework/Versions/3.12/lib/python3.12/site-packages (from matplotlib->wordcloud) (1.4.5)\n",
      "Requirement already satisfied: packaging>=20.0 in /Library/Frameworks/Python.framework/Versions/3.12/lib/python3.12/site-packages (from matplotlib->wordcloud) (23.2)\n",
      "Requirement already satisfied: pyparsing>=2.3.1 in /Library/Frameworks/Python.framework/Versions/3.12/lib/python3.12/site-packages (from matplotlib->wordcloud) (3.1.1)\n",
      "Requirement already satisfied: python-dateutil>=2.7 in /Library/Frameworks/Python.framework/Versions/3.12/lib/python3.12/site-packages (from matplotlib->wordcloud) (2.8.2)\n",
      "Requirement already satisfied: six>=1.5 in /Library/Frameworks/Python.framework/Versions/3.12/lib/python3.12/site-packages (from python-dateutil>=2.7->matplotlib->wordcloud) (1.16.0)\n"
     ]
    }
   ],
   "source": [
    "!pip install spacy\n",
    "!pip install wordcloud"
   ]
  },
  {
   "cell_type": "code",
   "execution_count": 29,
   "id": "6784d329-a149-4578-96c8-597b38c2f1df",
   "metadata": {},
   "outputs": [],
   "source": [
    "import myutils\n",
    "from myutils import chunkDocs, langDetect, wordCloud"
   ]
  },
  {
   "cell_type": "code",
   "execution_count": 30,
   "id": "3111db97-f3c5-40f6-b3ea-032d7f87cffa",
   "metadata": {},
   "outputs": [
    {
     "data": {
      "text/plain": [
       "<module 'myutils' from '/Users/mariamcnally/Desktop/SW2Semester/AI/OLA5/myutils.py'>"
      ]
     },
     "execution_count": 30,
     "metadata": {},
     "output_type": "execute_result"
    }
   ],
   "source": [
    "import importlib \n",
    "importlib.reload(myutils)"
   ]
  },
  {
   "cell_type": "code",
   "execution_count": 31,
   "id": "6daf9ad3-e3bf-4f5f-b68b-3810fe16a2bd",
   "metadata": {},
   "outputs": [
    {
     "data": {
      "text/plain": [
       "[Document(page_content='Data Wrangling To get the data into a good state before analysing it there are some steps we need to go  through . The following process is a basic outline of what needs to happen before data is  ready for modelling and analysis. •', metadata={'source': '/Users/mariamcnally/Desktop/SW2Semester/AI/DataWrangling.pdf', 'page': 0}),\n",
       " Document(page_content='Data\\tDiscovery:\\tThis\\tis\\tan\\tall-encompassing\\tterm\\tthat\\tdescribes\\tunderstanding\\twhat\\tyour\\tdata\\tis\\tall\\tabout.\\tIn\\tthis\\tfirst\\tstep,\\tyou\\tget\\tfamiliar\\twith\\tyour\\tdata\\t\\tand\\tensure\\tit\\tis\\tcapable\\tof\\tbeing\\tused\\tto\\thelp\\twork\\ton\\tyour\\tproblem.\\t\\t•', metadata={'source': '/Users/mariamcnally/Desktop/SW2Semester/AI/DataWrangling.pdf', 'page': 0}),\n",
       " Document(page_content='Data\\tStructuring:\\tWhen\\tyou\\tcollect\\traw\\tdata,\\tit\\tinitially\\tis\\tin\\tall\\tshapes\\tand\\t\\tsizes,\\tand\\thas\\tno\\tdefinite\\tstructure.\\tSuch\\tdata\\tneeds\\tto\\tbe\\trestructured\\tto\\tsuit\\tthe\\t\\tanalytical\\tmodel\\tthat\\tyour\\tenterprise\\tplans\\tto\\tdeploy\\t\\t\\t•', metadata={'source': '/Users/mariamcnally/Desktop/SW2Semester/AI/DataWrangling.pdf', 'page': 0}),\n",
       " Document(page_content='Data\\tCleaning:\\tRaw\\tdata\\tcomes\\twith\\tsome\\terrors\\tthat\\tneed\\tto\\tbe\\tfixed\\tbefore\\t\\tdata\\tis\\tpassed\\ton\\tto\\tthe\\tnext\\tstage.\\tCleaning\\tinvolves\\tthe\\ttackling\\tof\\toutliers,\\t\\tmaking\\tcorrections,\\tor\\tdeleting\\tbad\\tdata\\tcompletely\\t\\t\\t•', metadata={'source': '/Users/mariamcnally/Desktop/SW2Semester/AI/DataWrangling.pdf', 'page': 0}),\n",
       " Document(page_content='Data\\tEnriching:\\tBy\\tthis\\tstage,\\tyou\\thave\\tkind\\tof\\tbecome\\tfamiliar\\twith\\tthe\\tdata\\tin\\t\\thand.\\tNow\\tis\\tthe\\ttime\\tto\\task\\tyourself\\tthis\\tquestion\\t–\\tdo\\tyou\\tneed\\tto\\tembellish\\t\\tthe\\traw\\tdata?\\tDo\\tyou\\twant\\tto\\taugment\\tit\\twith\\tother\\tdata?\\t\\t\\t•', metadata={'source': '/Users/mariamcnally/Desktop/SW2Semester/AI/DataWrangling.pdf', 'page': 0}),\n",
       " Document(page_content='Data\\tValidating:\\tThis\\tactivity\\tsurfaces\\tdata\\tquality\\tissues,\\tand\\tthey\\thave\\tto\\tbe\\t\\taddressed\\twith\\tthe\\tnecessary\\ttransformations.\\tThe\\trules\\tof\\tvalidation\\trules\\trequire\\trepetitive\\tprogramming\\tsteps\\tto\\tcheck\\tthe\\tauthenticity\\tand\\tthe\\tquality\\tof\\tyour\\tdata\\t\\t•', metadata={'source': '/Users/mariamcnally/Desktop/SW2Semester/AI/DataWrangling.pdf', 'page': 0}),\n",
       " Document(page_content='Data\\tPublishing:\\tOnce\\tall\\tthe\\tabove\\tsteps\\tare\\tcompleted,\\tthe\\tfinal\\toutput\\tof\\tthe\\twrangling\\tcan\\tbe\\tpublished\\tas\\tpart\\tof\\ta\\tdata\\tpipeline\\tand\\tis\\tready\\tfor\\tanalysis.\\tData wrangling is a core iterative process that throws up the cleanest, most useful data possible before you start your actual analysis. It is THE most important stage in building', metadata={'source': '/Users/mariamcnally/Desktop/SW2Semester/AI/DataWrangling.pdf', 'page': 0}),\n",
       " Document(page_content='credible models as everything else depends on the quality of the data.  Examples\\tof\\tthe\\tsteps', metadata={'source': '/Users/mariamcnally/Desktop/SW2Semester/AI/DataWrangling.pdf', 'page': 0}),\n",
       " Document(page_content='Data\\tDiscovery\\t\\tThink\\tabout\\tthe\\tTitanic\\tdata\\tset\\t–\\twhat\\tcan\\tbe\\tsaid\\tabout\\tit\\t–\\twhat\\tcannot\\tbe\\tsaid;\\tit\\tgives\\tus\\tinformation\\ton\\tsurvivors\\t/\\tdeaths\\t/\\tgender\\t/\\tticket\\tclass\\tetc\\tbut\\tnot\\ton\\tweight\\tof\\tpassengers\\t(does\\tit\\tinfluence\\tsurvival\\tchance?).\\tAlso\\tit\\tgives\\tus\\tno\\tphysical\\tstate\\tinformation\\t(what\\twas\\tthe\\taverage\\tdrop\\theight\\tof\\tlifeboats\\tinto\\tthe\\tse', metadata={'source': '/Users/mariamcnally/Desktop/SW2Semester/AI/DataWrangling.pdf', 'page': 0}),\n",
       " Document(page_content='a\\tfor\\texample).\\t\\t\\t\\tData\\tStructuring\\tIf\\tyou\\tare\\tcollecting\\traw\\tdata\\tyou\\twill\\tneed\\tto\\tput\\tthe\\tdata\\tinto\\ta\\tstandardized\\tformat,\\tyou\\tmight\\tneed\\tto\\tconvert\\tintegers\\tto\\ttext\\tor\\ttext\\tto\\tnumerical\\tdata.\\tFor\\texample\\tif\\tyou', metadata={'source': '/Users/mariamcnally/Desktop/SW2Semester/AI/DataWrangling.pdf', 'page': 0}),\n",
       " Document(page_content='are\\tscraping\\ttwitter\\tfeeds\\tyou\\tmight\\tneed\\tto\\tparse\\tdates\\tand\\tput\\tthem\\tin\\ta\\tstandardized\\tYYYY-mm-dd\\tformat\\t–\\tadjust\\tAmerican\\tdates\\tetc.\\tStructuring\\tthe\\tdata\\tso\\tit\\tcan\\tbe\\tused\\tin\\ta\\t2D\\tPandas\\tdataframe\\tfor\\texample\\twith\\tcolumns\\tand\\ta\\trow\\tfor\\teach\\tcolumn.\\t\\t\\tData\\tCleaning\\t This is what most people find is the core activity in data preparation – as it', metadata={'source': '/Users/mariamcnally/Desktop/SW2Semester/AI/DataWrangling.pdf', 'page': 1}),\n",
       " Document(page_content='involves ensuring the data is consistent and credible. Activities include IMPUTING values – if there are missing values then either replacing them using a standard method such as taking an average of previous and subsequent data points or removing the data completely etc. If there are missing values then decisions need to be made and recorded as', metadata={'source': '/Users/mariamcnally/Desktop/SW2Semester/AI/DataWrangling.pdf', 'page': 1}),\n",
       " Document(page_content='part of the documentation so that the changes are transparent.', metadata={'source': '/Users/mariamcnally/Desktop/SW2Semester/AI/DataWrangling.pdf', 'page': 1}),\n",
       " Document(page_content='Data\\tEnriching:\\t\\tThis\\tstep\\tshould\\tbe\\ttaken\\tcarefully\\tas\\tit\\tinvolves\\ttransforming\\toriginal\\tdata\\tin\\tnew\\tways\\tor\\tadding\\tdata\\tthat\\twasn’t\\tpart\\tof\\tthe\\toriginal\\tdata\\tset.\\tAn\\texample\\tcould\\tbe\\tsimilar\\tto\\tdoing\\ta\\tdatabase\\tjoin\\tto\\tconnect\\tdata\\tfrom\\t2\\tseparate\\tsources\\tto\\tcreate\\ta\\tnew\\tone\\t(for\\texample\\tname\\tand\\taddress\\tinformation\\tcombined\\twith\\tgeographic\\tdata', metadata={'source': '/Users/mariamcnally/Desktop/SW2Semester/AI/DataWrangling.pdf', 'page': 1}),\n",
       " Document(page_content='and\\tsome\\tdemographic\\tdata\\tto\\tsee\\tif\\tage\\tand\\tlocation\\tis\\tcorrelated\\twith\\tname\\tchoices\\t(this\\tis\\twhat\\tGerman\\thealth\\tbodies\\thad\\tto\\tdo\\tto\\ttry\\tand\\t‘guess’\\tthe\\tage\\tof\\tpeople\\tto\\tcall\\tin\\tfor\\ttheir\\tcovid\\tvaccination!).\\tIt\\tcould\\tbe\\tthat\\tlike\\tthe\\tDanish\\tCPR\\tsystem\\tthere\\tis\\tdate\\tof\\tbirth\\tinformation\\tinside\\tanother\\tpiece\\tof\\tdata\\t–\\tso\\tyou\\tcan\\tembellish\\tyour\\tdata', metadata={'source': '/Users/mariamcnally/Desktop/SW2Semester/AI/DataWrangling.pdf', 'page': 1}),\n",
       " Document(page_content='using\\tfurther\\tdata\\tembedded\\tinside\\tother\\tdata\\titems.\\t\\tData\\tValidating\\t\\tYou\\tneed\\tto\\tmake\\tsure\\tall\\tthe\\tdata\\tis\\tof\\tthe\\tdata\\ttype\\tyou\\tare\\texpecting,\\tthat\\tit\\tfalls\\twithin\\tan\\texpected\\trange\\tand\\tthat\\tit\\tis\\tconsistent.\\tThis\\tstep\\tis\\tconcerned\\twith\\tmaking\\tsure\\tthere\\tis\\thigh\\tconfidence\\tthat\\tdata\\tis\\tnot\\tbeing\\tmissed\\tbecause\\tit\\tis\\toutside\\ta\\trange\\twhere\\tthe\\tran', metadata={'source': '/Users/mariamcnally/Desktop/SW2Semester/AI/DataWrangling.pdf', 'page': 1}),\n",
       " Document(page_content='ge\\tis\\tincorrectly\\tset,\\twhere\\tdata\\thas\\taccidentally\\tbeen\\tstored\\tas\\tan\\tinteger\\trather\\tthan\\ta\\tfloating\\tpoint\\tnumber\\tetc.\\tIt\\tis\\ta\\tdouble\\tcheck\\tthat\\tyour\\tdata\\tstructuring\\tand\\tdata\\tcleaning\\thave\\tall\\tbeen\\tdone\\tproperly\\t(for\\texample,\\tif\\tyou\\tare\\tsupposed\\tto\\thave\\tunique\\tvalues\\tin\\ta\\tcolumn\\tthat\\tthey\\tare\\tindeed\\tunique).\\t\\tData\\tPublishing\\t\\tThis\\tis\\tthe\\tfinal\\tstep', metadata={'source': '/Users/mariamcnally/Desktop/SW2Semester/AI/DataWrangling.pdf', 'page': 1}),\n",
       " Document(page_content='and\\tis\\ta\\tstrong\\tcandidate\\tfor\\tbeing\\tdone\\tinside\\ta\\tversion\\tcontrol\\ttool\\tlike\\tgit.\\tOften\\tfor\\tbig\\tdata\\tprojects\\tsuch\\tas\\tin\\tmarketing\\tthis\\twill\\tsit\\tinside\\ta\\tdistributed\\tdatastore\\t(can\\tbe\\trelational\\t(Postgresql)\\t,\\tkey-value\\t(Google\\tBigTable\\t/\\tHBase)\\tor\\tother\\ttypes\\tof\\tNoSQL\\tdatabase.\\tIn\\tMachine\\tlearning\\tthen\\ttools\\tlike\\tCassandra\\tand\\tCouchbase\\tor\\tPostgre', metadata={'source': '/Users/mariamcnally/Desktop/SW2Semester/AI/DataWrangling.pdf', 'page': 1}),\n",
       " Document(page_content='sql\\tare\\tpopular.', metadata={'source': '/Users/mariamcnally/Desktop/SW2Semester/AI/DataWrangling.pdf', 'page': 1}),\n",
       " Document(page_content='Load testing is the process of putting demand on a structure or system and measuring its response.\\n\\n\\n== Software load testing ==\\n\\n\\n== Physical load testing ==', metadata={'title': 'Load testing', 'summary': 'Load testing is the process of putting demand on a structure or system and measuring its response.', 'source': 'https://en.wikipedia.org/wiki/Load_testing'}),\n",
       " Document(page_content='Many types of machinery, engines, structures, and motors are load tested. The load may be at a designated safe working load (SWL), full load, or at an aggravated level of load. The governing contract, technical specification or test method contains the details of conducting the test. The purpose of a mechanical load test is to verify that all the', metadata={'title': 'Load testing', 'summary': 'Load testing is the process of putting demand on a structure or system and measuring its response.', 'source': 'https://en.wikipedia.org/wiki/Load_testing'}),\n",
       " Document(page_content='component parts of a structure including materials, base-fixings are fit for task and loading it is designed for.', metadata={'title': 'Load testing', 'summary': 'Load testing is the process of putting demand on a structure or system and measuring its response.', 'source': 'https://en.wikipedia.org/wiki/Load_testing'}),\n",
       " Document(page_content='Several types of load testing are employed', metadata={'title': 'Load testing', 'summary': 'Load testing is the process of putting demand on a structure or system and measuring its response.', 'source': 'https://en.wikipedia.org/wiki/Load_testing'}),\n",
       " Document(page_content='Static testing is when a designated constant load is applied for a specified time.\\nDynamic testing is when a variable or moving load is applied.\\nCyclical testing consists of repeated loading and unloading for specified cycles, durations and conditions.', metadata={'title': 'Load testing', 'summary': 'Load testing is the process of putting demand on a structure or system and measuring its response.', 'source': 'https://en.wikipedia.org/wiki/Load_testing'}),\n",
       " Document(page_content='The Supply of Machinery (Safety) Regulation 1992 UK state that load testing is undertaken before the equipment is put into service for the first time. Performance testing applies a safe working load (SWL), or other specified load, for a designated time in a governing test method, specification, or contract. Under the Lifting Operations and Lifting', metadata={'title': 'Load testing', 'summary': 'Load testing is the process of putting demand on a structure or system and measuring its response.', 'source': 'https://en.wikipedia.org/wiki/Load_testing'}),\n",
       " Document(page_content='Equipment Regulations 1998 UK load testing after the initial test is required if a major component is replaced, if the item is moved from one location to another or as dictated by the competent person.', metadata={'title': 'Load testing', 'summary': 'Load testing is the process of putting demand on a structure or system and measuring its response.', 'source': 'https://en.wikipedia.org/wiki/Load_testing'}),\n",
       " Document(page_content='== Car charging system ==', metadata={'title': 'Load testing', 'summary': 'Load testing is the process of putting demand on a structure or system and measuring its response.', 'source': 'https://en.wikipedia.org/wiki/Load_testing'}),\n",
       " Document(page_content=\"A load test can be used to evaluate the health of a car's battery. The tester consists of a large resistor that has a resistance similar to a car's starter motor and a meter to read the battery's output voltage both in the unloaded and loaded state. When the tester is used, the battery's open circuit voltage is checked first. If the open circuit\", metadata={'title': 'Load testing', 'summary': 'Load testing is the process of putting demand on a structure or system and measuring its response.', 'source': 'https://en.wikipedia.org/wiki/Load_testing'}),\n",
       " Document(page_content=\"voltage is below spec (12.6 volts for a fully charged battery), the battery is charged first. After reading the battery's open circuit voltage, the load is applied. When applied, it draws approximately the same current the car's starter motor would draw during cranking. Based on the specified cold cranking amperes of the battery, if the voltage\", metadata={'title': 'Load testing', 'summary': 'Load testing is the process of putting demand on a structure or system and measuring its response.', 'source': 'https://en.wikipedia.org/wiki/Load_testing'}),\n",
       " Document(page_content=\"under load falls below a certain point, the battery is bad. Load tests are also used on running cars to check the output of the car's alternator.\", metadata={'title': 'Load testing', 'summary': 'Load testing is the process of putting demand on a structure or system and measuring its response.', 'source': 'https://en.wikipedia.org/wiki/Load_testing'}),\n",
       " Document(page_content='== See also ==\\nInternet Application Management\\nSoak testing\\nStress testing\\nStructural testing\\nSystem testing\\nWeb testing\\nWeb server benchmarking\\n\\n\\n== References ==', metadata={'title': 'Load testing', 'summary': 'Load testing is the process of putting demand on a structure or system and measuring its response.', 'source': 'https://en.wikipedia.org/wiki/Load_testing'}),\n",
       " Document(page_content='== External links ==\\nModeling the Real World for Load Testing Web Sites by Steven Splaine\\nWhat is Load Testing? by Tom Huston\\n4 Types of Load Testing and when each should be used by David Buch\\nPerformance, Load, Stress or Endurance Test? Which do you want? by Chris Jones', metadata={'title': 'Load testing', 'summary': 'Load testing is the process of putting demand on a structure or system and measuring its response.', 'source': 'https://en.wikipedia.org/wiki/Load_testing'}),\n",
       " Document(page_content='Viral load, also known as viral burden, is a numerical expression of the quantity of virus in a given volume of fluid, including biological and environmental specimens. It is not to be confused with viral titre or viral titer, which depends on the assay. When an assay for measuring the infective virus particle is done (Plaque assay, Focus assay),', metadata={'title': 'Viral load', 'summary': 'Viral load, also known as viral burden, is a numerical expression of the quantity of virus in a given volume of fluid, including biological and environmental specimens. It is not to be confused with viral titre or viral titer, which depends on the assay. When an assay for measuring the infective virus particle is done (Plaque assay, Focus assay), viral titre often refers to the concentration of infectious viral particles, which is different from the total viral particles. Viral load is measured using body fluids sputum and blood plasma. As an example of environmental specimens, the viral load of norovirus can be determined from run-off water on garden produce. Norovirus has not only prolonged viral shedding and has the ability to survive in the environment but a minuscule infectious dose is required to produce infection in humans: less than 100 viral particles.\\nViral load is often expressed as viral particles, (virions) or infectious particles per mL depending on the type of assay. A higher viral burden, titre, or viral load often correlates with the severity of an active viral infection. The quantity of virus per mL can be calculated by estimating the live amount of virus in an involved fluid. For example, it can be given in RNA copies per millilitre of blood plasma.\\nTracking viral load is used to monitor therapy during chronic viral infections, and in immunocompromised patients such as those recovering from bone marrow or solid organ transplantation. Currently, routine testing is available for HIV-1, cytomegalovirus, hepatitis B virus, and hepatitis C virus. Viral load monitoring for HIV is of particular interest in the treatment of people with HIV, as this is continually discussed in the context of management of HIV/AIDS. An undetectable viral load does not implicate a lack of infection. HIV positive patients on long-term combination antiretroviral therapy may present with an undetectable viral load on most clinical assays since the concentration of virus particles is below the limit of detection (LOD).', 'source': 'https://en.wikipedia.org/wiki/Viral_load'}),\n",
       " Document(page_content='viral titre often refers to the concentration of infectious viral particles, which is different from the total viral particles. Viral load is measured using body fluids sputum and blood plasma. As an example of environmental specimens, the viral load of norovirus can be determined from run-off water on garden produce. Norovirus has not only', metadata={'title': 'Viral load', 'summary': 'Viral load, also known as viral burden, is a numerical expression of the quantity of virus in a given volume of fluid, including biological and environmental specimens. It is not to be confused with viral titre or viral titer, which depends on the assay. When an assay for measuring the infective virus particle is done (Plaque assay, Focus assay), viral titre often refers to the concentration of infectious viral particles, which is different from the total viral particles. Viral load is measured using body fluids sputum and blood plasma. As an example of environmental specimens, the viral load of norovirus can be determined from run-off water on garden produce. Norovirus has not only prolonged viral shedding and has the ability to survive in the environment but a minuscule infectious dose is required to produce infection in humans: less than 100 viral particles.\\nViral load is often expressed as viral particles, (virions) or infectious particles per mL depending on the type of assay. A higher viral burden, titre, or viral load often correlates with the severity of an active viral infection. The quantity of virus per mL can be calculated by estimating the live amount of virus in an involved fluid. For example, it can be given in RNA copies per millilitre of blood plasma.\\nTracking viral load is used to monitor therapy during chronic viral infections, and in immunocompromised patients such as those recovering from bone marrow or solid organ transplantation. Currently, routine testing is available for HIV-1, cytomegalovirus, hepatitis B virus, and hepatitis C virus. Viral load monitoring for HIV is of particular interest in the treatment of people with HIV, as this is continually discussed in the context of management of HIV/AIDS. An undetectable viral load does not implicate a lack of infection. HIV positive patients on long-term combination antiretroviral therapy may present with an undetectable viral load on most clinical assays since the concentration of virus particles is below the limit of detection (LOD).', 'source': 'https://en.wikipedia.org/wiki/Viral_load'}),\n",
       " Document(page_content='prolonged viral shedding and has the ability to survive in the environment but a minuscule infectious dose is required to produce infection in humans: less than 100 viral particles.', metadata={'title': 'Viral load', 'summary': 'Viral load, also known as viral burden, is a numerical expression of the quantity of virus in a given volume of fluid, including biological and environmental specimens. It is not to be confused with viral titre or viral titer, which depends on the assay. When an assay for measuring the infective virus particle is done (Plaque assay, Focus assay), viral titre often refers to the concentration of infectious viral particles, which is different from the total viral particles. Viral load is measured using body fluids sputum and blood plasma. As an example of environmental specimens, the viral load of norovirus can be determined from run-off water on garden produce. Norovirus has not only prolonged viral shedding and has the ability to survive in the environment but a minuscule infectious dose is required to produce infection in humans: less than 100 viral particles.\\nViral load is often expressed as viral particles, (virions) or infectious particles per mL depending on the type of assay. A higher viral burden, titre, or viral load often correlates with the severity of an active viral infection. The quantity of virus per mL can be calculated by estimating the live amount of virus in an involved fluid. For example, it can be given in RNA copies per millilitre of blood plasma.\\nTracking viral load is used to monitor therapy during chronic viral infections, and in immunocompromised patients such as those recovering from bone marrow or solid organ transplantation. Currently, routine testing is available for HIV-1, cytomegalovirus, hepatitis B virus, and hepatitis C virus. Viral load monitoring for HIV is of particular interest in the treatment of people with HIV, as this is continually discussed in the context of management of HIV/AIDS. An undetectable viral load does not implicate a lack of infection. HIV positive patients on long-term combination antiretroviral therapy may present with an undetectable viral load on most clinical assays since the concentration of virus particles is below the limit of detection (LOD).', 'source': 'https://en.wikipedia.org/wiki/Viral_load'}),\n",
       " Document(page_content='Viral load is often expressed as viral particles, (virions) or infectious particles per mL depending on the type of assay. A higher viral burden, titre, or viral load often correlates with the severity of an active viral infection. The quantity of virus per mL can be calculated by estimating the live amount of virus in an involved fluid. For', metadata={'title': 'Viral load', 'summary': 'Viral load, also known as viral burden, is a numerical expression of the quantity of virus in a given volume of fluid, including biological and environmental specimens. It is not to be confused with viral titre or viral titer, which depends on the assay. When an assay for measuring the infective virus particle is done (Plaque assay, Focus assay), viral titre often refers to the concentration of infectious viral particles, which is different from the total viral particles. Viral load is measured using body fluids sputum and blood plasma. As an example of environmental specimens, the viral load of norovirus can be determined from run-off water on garden produce. Norovirus has not only prolonged viral shedding and has the ability to survive in the environment but a minuscule infectious dose is required to produce infection in humans: less than 100 viral particles.\\nViral load is often expressed as viral particles, (virions) or infectious particles per mL depending on the type of assay. A higher viral burden, titre, or viral load often correlates with the severity of an active viral infection. The quantity of virus per mL can be calculated by estimating the live amount of virus in an involved fluid. For example, it can be given in RNA copies per millilitre of blood plasma.\\nTracking viral load is used to monitor therapy during chronic viral infections, and in immunocompromised patients such as those recovering from bone marrow or solid organ transplantation. Currently, routine testing is available for HIV-1, cytomegalovirus, hepatitis B virus, and hepatitis C virus. Viral load monitoring for HIV is of particular interest in the treatment of people with HIV, as this is continually discussed in the context of management of HIV/AIDS. An undetectable viral load does not implicate a lack of infection. HIV positive patients on long-term combination antiretroviral therapy may present with an undetectable viral load on most clinical assays since the concentration of virus particles is below the limit of detection (LOD).', 'source': 'https://en.wikipedia.org/wiki/Viral_load'}),\n",
       " Document(page_content='example, it can be given in RNA copies per millilitre of blood plasma.', metadata={'title': 'Viral load', 'summary': 'Viral load, also known as viral burden, is a numerical expression of the quantity of virus in a given volume of fluid, including biological and environmental specimens. It is not to be confused with viral titre or viral titer, which depends on the assay. When an assay for measuring the infective virus particle is done (Plaque assay, Focus assay), viral titre often refers to the concentration of infectious viral particles, which is different from the total viral particles. Viral load is measured using body fluids sputum and blood plasma. As an example of environmental specimens, the viral load of norovirus can be determined from run-off water on garden produce. Norovirus has not only prolonged viral shedding and has the ability to survive in the environment but a minuscule infectious dose is required to produce infection in humans: less than 100 viral particles.\\nViral load is often expressed as viral particles, (virions) or infectious particles per mL depending on the type of assay. A higher viral burden, titre, or viral load often correlates with the severity of an active viral infection. The quantity of virus per mL can be calculated by estimating the live amount of virus in an involved fluid. For example, it can be given in RNA copies per millilitre of blood plasma.\\nTracking viral load is used to monitor therapy during chronic viral infections, and in immunocompromised patients such as those recovering from bone marrow or solid organ transplantation. Currently, routine testing is available for HIV-1, cytomegalovirus, hepatitis B virus, and hepatitis C virus. Viral load monitoring for HIV is of particular interest in the treatment of people with HIV, as this is continually discussed in the context of management of HIV/AIDS. An undetectable viral load does not implicate a lack of infection. HIV positive patients on long-term combination antiretroviral therapy may present with an undetectable viral load on most clinical assays since the concentration of virus particles is below the limit of detection (LOD).', 'source': 'https://en.wikipedia.org/wiki/Viral_load'}),\n",
       " Document(page_content='Tracking viral load is used to monitor therapy during chronic viral infections, and in immunocompromised patients such as those recovering from bone marrow or solid organ transplantation. Currently, routine testing is available for HIV-1, cytomegalovirus, hepatitis B virus, and hepatitis C virus. Viral load monitoring for HIV is of particular', metadata={'title': 'Viral load', 'summary': 'Viral load, also known as viral burden, is a numerical expression of the quantity of virus in a given volume of fluid, including biological and environmental specimens. It is not to be confused with viral titre or viral titer, which depends on the assay. When an assay for measuring the infective virus particle is done (Plaque assay, Focus assay), viral titre often refers to the concentration of infectious viral particles, which is different from the total viral particles. Viral load is measured using body fluids sputum and blood plasma. As an example of environmental specimens, the viral load of norovirus can be determined from run-off water on garden produce. Norovirus has not only prolonged viral shedding and has the ability to survive in the environment but a minuscule infectious dose is required to produce infection in humans: less than 100 viral particles.\\nViral load is often expressed as viral particles, (virions) or infectious particles per mL depending on the type of assay. A higher viral burden, titre, or viral load often correlates with the severity of an active viral infection. The quantity of virus per mL can be calculated by estimating the live amount of virus in an involved fluid. For example, it can be given in RNA copies per millilitre of blood plasma.\\nTracking viral load is used to monitor therapy during chronic viral infections, and in immunocompromised patients such as those recovering from bone marrow or solid organ transplantation. Currently, routine testing is available for HIV-1, cytomegalovirus, hepatitis B virus, and hepatitis C virus. Viral load monitoring for HIV is of particular interest in the treatment of people with HIV, as this is continually discussed in the context of management of HIV/AIDS. An undetectable viral load does not implicate a lack of infection. HIV positive patients on long-term combination antiretroviral therapy may present with an undetectable viral load on most clinical assays since the concentration of virus particles is below the limit of detection (LOD).', 'source': 'https://en.wikipedia.org/wiki/Viral_load'}),\n",
       " Document(page_content='interest in the treatment of people with HIV, as this is continually discussed in the context of management of HIV/AIDS. An undetectable viral load does not implicate a lack of infection. HIV positive patients on long-term combination antiretroviral therapy may present with an undetectable viral load on most clinical assays since the concentration', metadata={'title': 'Viral load', 'summary': 'Viral load, also known as viral burden, is a numerical expression of the quantity of virus in a given volume of fluid, including biological and environmental specimens. It is not to be confused with viral titre or viral titer, which depends on the assay. When an assay for measuring the infective virus particle is done (Plaque assay, Focus assay), viral titre often refers to the concentration of infectious viral particles, which is different from the total viral particles. Viral load is measured using body fluids sputum and blood plasma. As an example of environmental specimens, the viral load of norovirus can be determined from run-off water on garden produce. Norovirus has not only prolonged viral shedding and has the ability to survive in the environment but a minuscule infectious dose is required to produce infection in humans: less than 100 viral particles.\\nViral load is often expressed as viral particles, (virions) or infectious particles per mL depending on the type of assay. A higher viral burden, titre, or viral load often correlates with the severity of an active viral infection. The quantity of virus per mL can be calculated by estimating the live amount of virus in an involved fluid. For example, it can be given in RNA copies per millilitre of blood plasma.\\nTracking viral load is used to monitor therapy during chronic viral infections, and in immunocompromised patients such as those recovering from bone marrow or solid organ transplantation. Currently, routine testing is available for HIV-1, cytomegalovirus, hepatitis B virus, and hepatitis C virus. Viral load monitoring for HIV is of particular interest in the treatment of people with HIV, as this is continually discussed in the context of management of HIV/AIDS. An undetectable viral load does not implicate a lack of infection. HIV positive patients on long-term combination antiretroviral therapy may present with an undetectable viral load on most clinical assays since the concentration of virus particles is below the limit of detection (LOD).', 'source': 'https://en.wikipedia.org/wiki/Viral_load'}),\n",
       " Document(page_content='of virus particles is below the limit of detection (LOD).', metadata={'title': 'Viral load', 'summary': 'Viral load, also known as viral burden, is a numerical expression of the quantity of virus in a given volume of fluid, including biological and environmental specimens. It is not to be confused with viral titre or viral titer, which depends on the assay. When an assay for measuring the infective virus particle is done (Plaque assay, Focus assay), viral titre often refers to the concentration of infectious viral particles, which is different from the total viral particles. Viral load is measured using body fluids sputum and blood plasma. As an example of environmental specimens, the viral load of norovirus can be determined from run-off water on garden produce. Norovirus has not only prolonged viral shedding and has the ability to survive in the environment but a minuscule infectious dose is required to produce infection in humans: less than 100 viral particles.\\nViral load is often expressed as viral particles, (virions) or infectious particles per mL depending on the type of assay. A higher viral burden, titre, or viral load often correlates with the severity of an active viral infection. The quantity of virus per mL can be calculated by estimating the live amount of virus in an involved fluid. For example, it can be given in RNA copies per millilitre of blood plasma.\\nTracking viral load is used to monitor therapy during chronic viral infections, and in immunocompromised patients such as those recovering from bone marrow or solid organ transplantation. Currently, routine testing is available for HIV-1, cytomegalovirus, hepatitis B virus, and hepatitis C virus. Viral load monitoring for HIV is of particular interest in the treatment of people with HIV, as this is continually discussed in the context of management of HIV/AIDS. An undetectable viral load does not implicate a lack of infection. HIV positive patients on long-term combination antiretroviral therapy may present with an undetectable viral load on most clinical assays since the concentration of virus particles is below the limit of detection (LOD).', 'source': 'https://en.wikipedia.org/wiki/Viral_load'}),\n",
       " Document(page_content='== Technologies for viral load testing ==', metadata={'title': 'Viral load', 'summary': 'Viral load, also known as viral burden, is a numerical expression of the quantity of virus in a given volume of fluid, including biological and environmental specimens. It is not to be confused with viral titre or viral titer, which depends on the assay. When an assay for measuring the infective virus particle is done (Plaque assay, Focus assay), viral titre often refers to the concentration of infectious viral particles, which is different from the total viral particles. Viral load is measured using body fluids sputum and blood plasma. As an example of environmental specimens, the viral load of norovirus can be determined from run-off water on garden produce. Norovirus has not only prolonged viral shedding and has the ability to survive in the environment but a minuscule infectious dose is required to produce infection in humans: less than 100 viral particles.\\nViral load is often expressed as viral particles, (virions) or infectious particles per mL depending on the type of assay. A higher viral burden, titre, or viral load often correlates with the severity of an active viral infection. The quantity of virus per mL can be calculated by estimating the live amount of virus in an involved fluid. For example, it can be given in RNA copies per millilitre of blood plasma.\\nTracking viral load is used to monitor therapy during chronic viral infections, and in immunocompromised patients such as those recovering from bone marrow or solid organ transplantation. Currently, routine testing is available for HIV-1, cytomegalovirus, hepatitis B virus, and hepatitis C virus. Viral load monitoring for HIV is of particular interest in the treatment of people with HIV, as this is continually discussed in the context of management of HIV/AIDS. An undetectable viral load does not implicate a lack of infection. HIV positive patients on long-term combination antiretroviral therapy may present with an undetectable viral load on most clinical assays since the concentration of virus particles is below the limit of detection (LOD).', 'source': 'https://en.wikipedia.org/wiki/Viral_load'}),\n",
       " Document(page_content='A 2010 review study by Puren et al. categorizes viral load testing into three types: (1) nucleic acid amplification based tests (NATs or NAATs) commercially available in the United States with Food and Drug Administration (FDA) approval, or on the market in the European Economic Area (EEA) with the CE marking; (2) \"Home–brew\" or in-house NATs; (3)', metadata={'title': 'Viral load', 'summary': 'Viral load, also known as viral burden, is a numerical expression of the quantity of virus in a given volume of fluid, including biological and environmental specimens. It is not to be confused with viral titre or viral titer, which depends on the assay. When an assay for measuring the infective virus particle is done (Plaque assay, Focus assay), viral titre often refers to the concentration of infectious viral particles, which is different from the total viral particles. Viral load is measured using body fluids sputum and blood plasma. As an example of environmental specimens, the viral load of norovirus can be determined from run-off water on garden produce. Norovirus has not only prolonged viral shedding and has the ability to survive in the environment but a minuscule infectious dose is required to produce infection in humans: less than 100 viral particles.\\nViral load is often expressed as viral particles, (virions) or infectious particles per mL depending on the type of assay. A higher viral burden, titre, or viral load often correlates with the severity of an active viral infection. The quantity of virus per mL can be calculated by estimating the live amount of virus in an involved fluid. For example, it can be given in RNA copies per millilitre of blood plasma.\\nTracking viral load is used to monitor therapy during chronic viral infections, and in immunocompromised patients such as those recovering from bone marrow or solid organ transplantation. Currently, routine testing is available for HIV-1, cytomegalovirus, hepatitis B virus, and hepatitis C virus. Viral load monitoring for HIV is of particular interest in the treatment of people with HIV, as this is continually discussed in the context of management of HIV/AIDS. An undetectable viral load does not implicate a lack of infection. HIV positive patients on long-term combination antiretroviral therapy may present with an undetectable viral load on most clinical assays since the concentration of virus particles is below the limit of detection (LOD).', 'source': 'https://en.wikipedia.org/wiki/Viral_load'}),\n",
       " Document(page_content='non-nucleic acid-based test.', metadata={'title': 'Viral load', 'summary': 'Viral load, also known as viral burden, is a numerical expression of the quantity of virus in a given volume of fluid, including biological and environmental specimens. It is not to be confused with viral titre or viral titer, which depends on the assay. When an assay for measuring the infective virus particle is done (Plaque assay, Focus assay), viral titre often refers to the concentration of infectious viral particles, which is different from the total viral particles. Viral load is measured using body fluids sputum and blood plasma. As an example of environmental specimens, the viral load of norovirus can be determined from run-off water on garden produce. Norovirus has not only prolonged viral shedding and has the ability to survive in the environment but a minuscule infectious dose is required to produce infection in humans: less than 100 viral particles.\\nViral load is often expressed as viral particles, (virions) or infectious particles per mL depending on the type of assay. A higher viral burden, titre, or viral load often correlates with the severity of an active viral infection. The quantity of virus per mL can be calculated by estimating the live amount of virus in an involved fluid. For example, it can be given in RNA copies per millilitre of blood plasma.\\nTracking viral load is used to monitor therapy during chronic viral infections, and in immunocompromised patients such as those recovering from bone marrow or solid organ transplantation. Currently, routine testing is available for HIV-1, cytomegalovirus, hepatitis B virus, and hepatitis C virus. Viral load monitoring for HIV is of particular interest in the treatment of people with HIV, as this is continually discussed in the context of management of HIV/AIDS. An undetectable viral load does not implicate a lack of infection. HIV positive patients on long-term combination antiretroviral therapy may present with an undetectable viral load on most clinical assays since the concentration of virus particles is below the limit of detection (LOD).', 'source': 'https://en.wikipedia.org/wiki/Viral_load'}),\n",
       " Document(page_content='=== Nucleic acid-based tests (NATs) ===\\nThere are many different molecular based test methods for quantifying the viral load using NATs. The starting material for amplification can be used to divide these molecular methods into three groups:', metadata={'title': 'Viral load', 'summary': 'Viral load, also known as viral burden, is a numerical expression of the quantity of virus in a given volume of fluid, including biological and environmental specimens. It is not to be confused with viral titre or viral titer, which depends on the assay. When an assay for measuring the infective virus particle is done (Plaque assay, Focus assay), viral titre often refers to the concentration of infectious viral particles, which is different from the total viral particles. Viral load is measured using body fluids sputum and blood plasma. As an example of environmental specimens, the viral load of norovirus can be determined from run-off water on garden produce. Norovirus has not only prolonged viral shedding and has the ability to survive in the environment but a minuscule infectious dose is required to produce infection in humans: less than 100 viral particles.\\nViral load is often expressed as viral particles, (virions) or infectious particles per mL depending on the type of assay. A higher viral burden, titre, or viral load often correlates with the severity of an active viral infection. The quantity of virus per mL can be calculated by estimating the live amount of virus in an involved fluid. For example, it can be given in RNA copies per millilitre of blood plasma.\\nTracking viral load is used to monitor therapy during chronic viral infections, and in immunocompromised patients such as those recovering from bone marrow or solid organ transplantation. Currently, routine testing is available for HIV-1, cytomegalovirus, hepatitis B virus, and hepatitis C virus. Viral load monitoring for HIV is of particular interest in the treatment of people with HIV, as this is continually discussed in the context of management of HIV/AIDS. An undetectable viral load does not implicate a lack of infection. HIV positive patients on long-term combination antiretroviral therapy may present with an undetectable viral load on most clinical assays since the concentration of virus particles is below the limit of detection (LOD).', 'source': 'https://en.wikipedia.org/wiki/Viral_load'}),\n",
       " Document(page_content='Target amplification which uses the nucleic acid itself. Just a few of the more common methods', metadata={'title': 'Viral load', 'summary': 'Viral load, also known as viral burden, is a numerical expression of the quantity of virus in a given volume of fluid, including biological and environmental specimens. It is not to be confused with viral titre or viral titer, which depends on the assay. When an assay for measuring the infective virus particle is done (Plaque assay, Focus assay), viral titre often refers to the concentration of infectious viral particles, which is different from the total viral particles. Viral load is measured using body fluids sputum and blood plasma. As an example of environmental specimens, the viral load of norovirus can be determined from run-off water on garden produce. Norovirus has not only prolonged viral shedding and has the ability to survive in the environment but a minuscule infectious dose is required to produce infection in humans: less than 100 viral particles.\\nViral load is often expressed as viral particles, (virions) or infectious particles per mL depending on the type of assay. A higher viral burden, titre, or viral load often correlates with the severity of an active viral infection. The quantity of virus per mL can be calculated by estimating the live amount of virus in an involved fluid. For example, it can be given in RNA copies per millilitre of blood plasma.\\nTracking viral load is used to monitor therapy during chronic viral infections, and in immunocompromised patients such as those recovering from bone marrow or solid organ transplantation. Currently, routine testing is available for HIV-1, cytomegalovirus, hepatitis B virus, and hepatitis C virus. Viral load monitoring for HIV is of particular interest in the treatment of people with HIV, as this is continually discussed in the context of management of HIV/AIDS. An undetectable viral load does not implicate a lack of infection. HIV positive patients on long-term combination antiretroviral therapy may present with an undetectable viral load on most clinical assays since the concentration of virus particles is below the limit of detection (LOD).', 'source': 'https://en.wikipedia.org/wiki/Viral_load'}),\n",
       " Document(page_content='The polymerase chain reaction (PCR) method of in vitro DNA synthesis uses a DNA template, polymerase, buffers, primers, and nucleotides to multiply the HIV in the blood sample. Then a chemical reaction marks the virus. The markers are measured and used to calculate the amount of virus.  PCR is used to quantify integrated DNA.', metadata={'title': 'Viral load', 'summary': 'Viral load, also known as viral burden, is a numerical expression of the quantity of virus in a given volume of fluid, including biological and environmental specimens. It is not to be confused with viral titre or viral titer, which depends on the assay. When an assay for measuring the infective virus particle is done (Plaque assay, Focus assay), viral titre often refers to the concentration of infectious viral particles, which is different from the total viral particles. Viral load is measured using body fluids sputum and blood plasma. As an example of environmental specimens, the viral load of norovirus can be determined from run-off water on garden produce. Norovirus has not only prolonged viral shedding and has the ability to survive in the environment but a minuscule infectious dose is required to produce infection in humans: less than 100 viral particles.\\nViral load is often expressed as viral particles, (virions) or infectious particles per mL depending on the type of assay. A higher viral burden, titre, or viral load often correlates with the severity of an active viral infection. The quantity of virus per mL can be calculated by estimating the live amount of virus in an involved fluid. For example, it can be given in RNA copies per millilitre of blood plasma.\\nTracking viral load is used to monitor therapy during chronic viral infections, and in immunocompromised patients such as those recovering from bone marrow or solid organ transplantation. Currently, routine testing is available for HIV-1, cytomegalovirus, hepatitis B virus, and hepatitis C virus. Viral load monitoring for HIV is of particular interest in the treatment of people with HIV, as this is continually discussed in the context of management of HIV/AIDS. An undetectable viral load does not implicate a lack of infection. HIV positive patients on long-term combination antiretroviral therapy may present with an undetectable viral load on most clinical assays since the concentration of virus particles is below the limit of detection (LOD).', 'source': 'https://en.wikipedia.org/wiki/Viral_load'}),\n",
       " Document(page_content='Reverse transcription polymerase chain reaction (RT-PCR) is a variation of PCR that can be used to quantify viral RNA. RNA is used as the starting material for this method and converted to double-stranded DNA, using the enzyme reverse transcriptase (RT) for PCR.', metadata={'title': 'Viral load', 'summary': 'Viral load, also known as viral burden, is a numerical expression of the quantity of virus in a given volume of fluid, including biological and environmental specimens. It is not to be confused with viral titre or viral titer, which depends on the assay. When an assay for measuring the infective virus particle is done (Plaque assay, Focus assay), viral titre often refers to the concentration of infectious viral particles, which is different from the total viral particles. Viral load is measured using body fluids sputum and blood plasma. As an example of environmental specimens, the viral load of norovirus can be determined from run-off water on garden produce. Norovirus has not only prolonged viral shedding and has the ability to survive in the environment but a minuscule infectious dose is required to produce infection in humans: less than 100 viral particles.\\nViral load is often expressed as viral particles, (virions) or infectious particles per mL depending on the type of assay. A higher viral burden, titre, or viral load often correlates with the severity of an active viral infection. The quantity of virus per mL can be calculated by estimating the live amount of virus in an involved fluid. For example, it can be given in RNA copies per millilitre of blood plasma.\\nTracking viral load is used to monitor therapy during chronic viral infections, and in immunocompromised patients such as those recovering from bone marrow or solid organ transplantation. Currently, routine testing is available for HIV-1, cytomegalovirus, hepatitis B virus, and hepatitis C virus. Viral load monitoring for HIV is of particular interest in the treatment of people with HIV, as this is continually discussed in the context of management of HIV/AIDS. An undetectable viral load does not implicate a lack of infection. HIV positive patients on long-term combination antiretroviral therapy may present with an undetectable viral load on most clinical assays since the concentration of virus particles is below the limit of detection (LOD).', 'source': 'https://en.wikipedia.org/wiki/Viral_load'}),\n",
       " Document(page_content='The nucleic acid sequence-based amplification (NASBA) method is a transcription-based amplification system (TAS) variation of PCR. RNA is used as the target and a DNA copy is made. The DNA copy is then transcribed into RNA and amplified. Several TAS commercial variations are available including; transcription-mediated amplification (TMA), and', metadata={'title': 'Viral load', 'summary': 'Viral load, also known as viral burden, is a numerical expression of the quantity of virus in a given volume of fluid, including biological and environmental specimens. It is not to be confused with viral titre or viral titer, which depends on the assay. When an assay for measuring the infective virus particle is done (Plaque assay, Focus assay), viral titre often refers to the concentration of infectious viral particles, which is different from the total viral particles. Viral load is measured using body fluids sputum and blood plasma. As an example of environmental specimens, the viral load of norovirus can be determined from run-off water on garden produce. Norovirus has not only prolonged viral shedding and has the ability to survive in the environment but a minuscule infectious dose is required to produce infection in humans: less than 100 viral particles.\\nViral load is often expressed as viral particles, (virions) or infectious particles per mL depending on the type of assay. A higher viral burden, titre, or viral load often correlates with the severity of an active viral infection. The quantity of virus per mL can be calculated by estimating the live amount of virus in an involved fluid. For example, it can be given in RNA copies per millilitre of blood plasma.\\nTracking viral load is used to monitor therapy during chronic viral infections, and in immunocompromised patients such as those recovering from bone marrow or solid organ transplantation. Currently, routine testing is available for HIV-1, cytomegalovirus, hepatitis B virus, and hepatitis C virus. Viral load monitoring for HIV is of particular interest in the treatment of people with HIV, as this is continually discussed in the context of management of HIV/AIDS. An undetectable viral load does not implicate a lack of infection. HIV positive patients on long-term combination antiretroviral therapy may present with an undetectable viral load on most clinical assays since the concentration of virus particles is below the limit of detection (LOD).', 'source': 'https://en.wikipedia.org/wiki/Viral_load'}),\n",
       " Document(page_content='self-sustaining sequence replication (3SR).', metadata={'title': 'Viral load', 'summary': 'Viral load, also known as viral burden, is a numerical expression of the quantity of virus in a given volume of fluid, including biological and environmental specimens. It is not to be confused with viral titre or viral titer, which depends on the assay. When an assay for measuring the infective virus particle is done (Plaque assay, Focus assay), viral titre often refers to the concentration of infectious viral particles, which is different from the total viral particles. Viral load is measured using body fluids sputum and blood plasma. As an example of environmental specimens, the viral load of norovirus can be determined from run-off water on garden produce. Norovirus has not only prolonged viral shedding and has the ability to survive in the environment but a minuscule infectious dose is required to produce infection in humans: less than 100 viral particles.\\nViral load is often expressed as viral particles, (virions) or infectious particles per mL depending on the type of assay. A higher viral burden, titre, or viral load often correlates with the severity of an active viral infection. The quantity of virus per mL can be calculated by estimating the live amount of virus in an involved fluid. For example, it can be given in RNA copies per millilitre of blood plasma.\\nTracking viral load is used to monitor therapy during chronic viral infections, and in immunocompromised patients such as those recovering from bone marrow or solid organ transplantation. Currently, routine testing is available for HIV-1, cytomegalovirus, hepatitis B virus, and hepatitis C virus. Viral load monitoring for HIV is of particular interest in the treatment of people with HIV, as this is continually discussed in the context of management of HIV/AIDS. An undetectable viral load does not implicate a lack of infection. HIV positive patients on long-term combination antiretroviral therapy may present with an undetectable viral load on most clinical assays since the concentration of virus particles is below the limit of detection (LOD).', 'source': 'https://en.wikipedia.org/wiki/Viral_load'}),\n",
       " Document(page_content='Probe specific amplification uses synthetic probes that preferentially bind to a target sequence. The probes are then amplified\\nSignal amplification uses large amounts of signal bound to an unamplified target origin', metadata={'title': 'Viral load', 'summary': 'Viral load, also known as viral burden, is a numerical expression of the quantity of virus in a given volume of fluid, including biological and environmental specimens. It is not to be confused with viral titre or viral titer, which depends on the assay. When an assay for measuring the infective virus particle is done (Plaque assay, Focus assay), viral titre often refers to the concentration of infectious viral particles, which is different from the total viral particles. Viral load is measured using body fluids sputum and blood plasma. As an example of environmental specimens, the viral load of norovirus can be determined from run-off water on garden produce. Norovirus has not only prolonged viral shedding and has the ability to survive in the environment but a minuscule infectious dose is required to produce infection in humans: less than 100 viral particles.\\nViral load is often expressed as viral particles, (virions) or infectious particles per mL depending on the type of assay. A higher viral burden, titre, or viral load often correlates with the severity of an active viral infection. The quantity of virus per mL can be calculated by estimating the live amount of virus in an involved fluid. For example, it can be given in RNA copies per millilitre of blood plasma.\\nTracking viral load is used to monitor therapy during chronic viral infections, and in immunocompromised patients such as those recovering from bone marrow or solid organ transplantation. Currently, routine testing is available for HIV-1, cytomegalovirus, hepatitis B virus, and hepatitis C virus. Viral load monitoring for HIV is of particular interest in the treatment of people with HIV, as this is continually discussed in the context of management of HIV/AIDS. An undetectable viral load does not implicate a lack of infection. HIV positive patients on long-term combination antiretroviral therapy may present with an undetectable viral load on most clinical assays since the concentration of virus particles is below the limit of detection (LOD).', 'source': 'https://en.wikipedia.org/wiki/Viral_load'})]"
      ]
     },
     "execution_count": 31,
     "metadata": {},
     "output_type": "execute_result"
    }
   ],
   "source": [
    "splits = myutils.chunkDocs(documents, 350)  \n",
    "splits"
   ]
  },
  {
   "cell_type": "code",
   "execution_count": 32,
   "id": "2cf73f60-b029-49fe-954c-c4b688902e81",
   "metadata": {},
   "outputs": [
    {
     "data": {
      "text/plain": [
       "50"
      ]
     },
     "execution_count": 32,
     "metadata": {},
     "output_type": "execute_result"
    }
   ],
   "source": [
    "len(splits)"
   ]
  },
  {
   "cell_type": "code",
   "execution_count": 38,
   "id": "98a4f486-9c4a-4712-89f7-9c1898c9e46b",
   "metadata": {},
   "outputs": [
    {
     "data": {
      "text/plain": [
       "Document(page_content='credible models as everything else depends on the quality of the data.  Examples\\tof\\tthe\\tsteps', metadata={'source': '/Users/mariamcnally/Desktop/SW2Semester/AI/DataWrangling.pdf', 'page': 0})"
      ]
     },
     "execution_count": 38,
     "metadata": {},
     "output_type": "execute_result"
    }
   ],
   "source": [
    "splits[7]"
   ]
  },
  {
   "cell_type": "code",
   "execution_count": 39,
   "id": "5a8974e6-e288-40e9-ba96-0f4f7d8ed604",
   "metadata": {},
   "outputs": [
    {
     "data": {
      "text/html": [
       "<div>\n",
       "<style scoped>\n",
       "    .dataframe tbody tr th:only-of-type {\n",
       "        vertical-align: middle;\n",
       "    }\n",
       "\n",
       "    .dataframe tbody tr th {\n",
       "        vertical-align: top;\n",
       "    }\n",
       "\n",
       "    .dataframe thead th {\n",
       "        text-align: right;\n",
       "    }\n",
       "</style>\n",
       "<table border=\"1\" class=\"dataframe\">\n",
       "  <thead>\n",
       "    <tr style=\"text-align: right;\">\n",
       "      <th></th>\n",
       "      <th>page_content</th>\n",
       "      <th>metadata</th>\n",
       "      <th>type</th>\n",
       "    </tr>\n",
       "  </thead>\n",
       "  <tbody>\n",
       "    <tr>\n",
       "      <th>3</th>\n",
       "      <td>(page_content, Data\\tCleaning:\\tRaw\\tdata\\tcom...</td>\n",
       "      <td>(metadata, {'source': '/Users/mariamcnally/Des...</td>\n",
       "      <td>(type, Document)</td>\n",
       "    </tr>\n",
       "    <tr>\n",
       "      <th>8</th>\n",
       "      <td>(page_content, Data\\tDiscovery\\t\\tThink\\tabout...</td>\n",
       "      <td>(metadata, {'source': '/Users/mariamcnally/Des...</td>\n",
       "      <td>(type, Document)</td>\n",
       "    </tr>\n",
       "    <tr>\n",
       "      <th>38</th>\n",
       "      <td>(page_content, interest in the treatment of pe...</td>\n",
       "      <td>(metadata, {'title': 'Viral load', 'summary': ...</td>\n",
       "      <td>(type, Document)</td>\n",
       "    </tr>\n",
       "  </tbody>\n",
       "</table>\n",
       "</div>"
      ],
      "text/plain": [
       "                                         page_content  \\\n",
       "3   (page_content, Data\\tCleaning:\\tRaw\\tdata\\tcom...   \n",
       "8   (page_content, Data\\tDiscovery\\t\\tThink\\tabout...   \n",
       "38  (page_content, interest in the treatment of pe...   \n",
       "\n",
       "                                             metadata              type  \n",
       "3   (metadata, {'source': '/Users/mariamcnally/Des...  (type, Document)  \n",
       "8   (metadata, {'source': '/Users/mariamcnally/Des...  (type, Document)  \n",
       "38  (metadata, {'title': 'Viral load', 'summary': ...  (type, Document)  "
      ]
     },
     "execution_count": 39,
     "metadata": {},
     "output_type": "execute_result"
    }
   ],
   "source": [
    "# put splits in dataframe\n",
    "df = pd.DataFrame(splits, columns=['page_content', 'metadata', 'type'])\n",
    "df.sample(3)"
   ]
  },
  {
   "cell_type": "code",
   "execution_count": 40,
   "id": "13b9b351-8227-47cc-8920-c6c64ac170a0",
   "metadata": {},
   "outputs": [
    {
     "data": {
      "text/plain": [
       "('page_content',\n",
       " 'Data Wrangling To get the data into a good state before analysing it there are some steps we need to go  through . The following process is a basic outline of what needs to happen before data is  ready for modelling and analysis. •')"
      ]
     },
     "execution_count": 40,
     "metadata": {},
     "output_type": "execute_result"
    }
   ],
   "source": [
    "df['page_content'][0]"
   ]
  },
  {
   "cell_type": "code",
   "execution_count": 42,
   "id": "d2a953d3-9a5b-49f3-a70d-09b7b9c117a7",
   "metadata": {},
   "outputs": [
    {
     "data": {
      "text/plain": [
       "('metadata',\n",
       " {'source': '/Users/mariamcnally/Desktop/SW2Semester/AI/DataWrangling.pdf',\n",
       "  'page': 0})"
      ]
     },
     "execution_count": 42,
     "metadata": {},
     "output_type": "execute_result"
    }
   ],
   "source": [
    "df['metadata'][0]"
   ]
  },
  {
   "cell_type": "code",
   "execution_count": 45,
   "id": "ab58ca82-7fc2-4e36-a171-66211c34f5ed",
   "metadata": {},
   "outputs": [
    {
     "ename": "OSError",
     "evalue": "[E050] Can't find model 'en_core_web_md'. It doesn't seem to be a Python package or a valid path to a data directory.",
     "output_type": "error",
     "traceback": [
      "\u001b[0;31m---------------------------------------------------------------------------\u001b[0m",
      "\u001b[0;31mOSError\u001b[0m                                   Traceback (most recent call last)",
      "Cell \u001b[0;32mIn[45], line 1\u001b[0m\n\u001b[0;32m----> 1\u001b[0m im, longstring \u001b[38;5;241m=\u001b[39m \u001b[43mmyutils\u001b[49m\u001b[38;5;241;43m.\u001b[39;49m\u001b[43mwordCloud\u001b[49m\u001b[43m(\u001b[49m\u001b[43mdf\u001b[49m\u001b[43m,\u001b[49m\u001b[43m \u001b[49m\u001b[38;5;124;43m'\u001b[39;49m\u001b[38;5;124;43mpage_content\u001b[39;49m\u001b[38;5;124;43m'\u001b[39;49m\u001b[43m)\u001b[49m\n",
      "File \u001b[0;32m~/Desktop/SW2Semester/AI/OLA5/myutils.py:51\u001b[0m, in \u001b[0;36mwordCloud\u001b[0;34m(df, col)\u001b[0m\n\u001b[1;32m     49\u001b[0m longstring \u001b[38;5;241m=\u001b[39m \u001b[38;5;28mstr\u001b[39m(longstring)\u001b[38;5;241m.\u001b[39mreplace(col,\u001b[38;5;124m'\u001b[39m\u001b[38;5;124m \u001b[39m\u001b[38;5;124m'\u001b[39m)\n\u001b[1;32m     50\u001b[0m \u001b[38;5;66;03m# get stopwords\u001b[39;00m\n\u001b[0;32m---> 51\u001b[0m stopw \u001b[38;5;241m=\u001b[39m \u001b[43mlangDetect\u001b[49m\u001b[43m(\u001b[49m\u001b[43mlongstring\u001b[49m\u001b[43m)\u001b[49m[\u001b[38;5;241m1\u001b[39m]\n\u001b[1;32m     52\u001b[0m \u001b[38;5;66;03m# remove stopwords\u001b[39;00m\n\u001b[1;32m     53\u001b[0m words \u001b[38;5;241m=\u001b[39m [word \u001b[38;5;28;01mfor\u001b[39;00m word \u001b[38;5;129;01min\u001b[39;00m longstring\u001b[38;5;241m.\u001b[39msplit() \u001b[38;5;28;01mif\u001b[39;00m word\u001b[38;5;241m.\u001b[39mlower() \u001b[38;5;129;01mnot\u001b[39;00m \u001b[38;5;129;01min\u001b[39;00m stopw]\n",
      "File \u001b[0;32m~/Desktop/SW2Semester/AI/OLA5/myutils.py:35\u001b[0m, in \u001b[0;36mlangDetect\u001b[0;34m(text)\u001b[0m\n\u001b[1;32m     33\u001b[0m         default_model \u001b[38;5;241m=\u001b[39m \u001b[38;5;124m'\u001b[39m\u001b[38;5;124mda_core_news_md\u001b[39m\u001b[38;5;124m'\u001b[39m\n\u001b[1;32m     34\u001b[0m     \u001b[38;5;66;03m# both    \u001b[39;00m\n\u001b[0;32m---> 35\u001b[0m     nlp \u001b[38;5;241m=\u001b[39m \u001b[43mspacy\u001b[49m\u001b[38;5;241;43m.\u001b[39;49m\u001b[43mload\u001b[49m\u001b[43m(\u001b[49m\u001b[43mdefault_model\u001b[49m\u001b[43m)\u001b[49m\n\u001b[1;32m     36\u001b[0m     stopw \u001b[38;5;241m=\u001b[39m nlp\u001b[38;5;241m.\u001b[39mDefaults\u001b[38;5;241m.\u001b[39mstop_words\n\u001b[1;32m     38\u001b[0m \u001b[38;5;66;03m# another language\u001b[39;00m\n",
      "File \u001b[0;32m/Library/Frameworks/Python.framework/Versions/3.12/lib/python3.12/site-packages/spacy/__init__.py:51\u001b[0m, in \u001b[0;36mload\u001b[0;34m(name, vocab, disable, enable, exclude, config)\u001b[0m\n\u001b[1;32m     27\u001b[0m \u001b[38;5;28;01mdef\u001b[39;00m \u001b[38;5;21mload\u001b[39m(\n\u001b[1;32m     28\u001b[0m     name: Union[\u001b[38;5;28mstr\u001b[39m, Path],\n\u001b[1;32m     29\u001b[0m     \u001b[38;5;241m*\u001b[39m,\n\u001b[0;32m   (...)\u001b[0m\n\u001b[1;32m     34\u001b[0m     config: Union[Dict[\u001b[38;5;28mstr\u001b[39m, Any], Config] \u001b[38;5;241m=\u001b[39m util\u001b[38;5;241m.\u001b[39mSimpleFrozenDict(),\n\u001b[1;32m     35\u001b[0m ) \u001b[38;5;241m-\u001b[39m\u001b[38;5;241m>\u001b[39m Language:\n\u001b[1;32m     36\u001b[0m \u001b[38;5;250m    \u001b[39m\u001b[38;5;124;03m\"\"\"Load a spaCy model from an installed package or a local path.\u001b[39;00m\n\u001b[1;32m     37\u001b[0m \n\u001b[1;32m     38\u001b[0m \u001b[38;5;124;03m    name (str): Package name or model path.\u001b[39;00m\n\u001b[0;32m   (...)\u001b[0m\n\u001b[1;32m     49\u001b[0m \u001b[38;5;124;03m    RETURNS (Language): The loaded nlp object.\u001b[39;00m\n\u001b[1;32m     50\u001b[0m \u001b[38;5;124;03m    \"\"\"\u001b[39;00m\n\u001b[0;32m---> 51\u001b[0m     \u001b[38;5;28;01mreturn\u001b[39;00m \u001b[43mutil\u001b[49m\u001b[38;5;241;43m.\u001b[39;49m\u001b[43mload_model\u001b[49m\u001b[43m(\u001b[49m\n\u001b[1;32m     52\u001b[0m \u001b[43m        \u001b[49m\u001b[43mname\u001b[49m\u001b[43m,\u001b[49m\n\u001b[1;32m     53\u001b[0m \u001b[43m        \u001b[49m\u001b[43mvocab\u001b[49m\u001b[38;5;241;43m=\u001b[39;49m\u001b[43mvocab\u001b[49m\u001b[43m,\u001b[49m\n\u001b[1;32m     54\u001b[0m \u001b[43m        \u001b[49m\u001b[43mdisable\u001b[49m\u001b[38;5;241;43m=\u001b[39;49m\u001b[43mdisable\u001b[49m\u001b[43m,\u001b[49m\n\u001b[1;32m     55\u001b[0m \u001b[43m        \u001b[49m\u001b[43menable\u001b[49m\u001b[38;5;241;43m=\u001b[39;49m\u001b[43menable\u001b[49m\u001b[43m,\u001b[49m\n\u001b[1;32m     56\u001b[0m \u001b[43m        \u001b[49m\u001b[43mexclude\u001b[49m\u001b[38;5;241;43m=\u001b[39;49m\u001b[43mexclude\u001b[49m\u001b[43m,\u001b[49m\n\u001b[1;32m     57\u001b[0m \u001b[43m        \u001b[49m\u001b[43mconfig\u001b[49m\u001b[38;5;241;43m=\u001b[39;49m\u001b[43mconfig\u001b[49m\u001b[43m,\u001b[49m\n\u001b[1;32m     58\u001b[0m \u001b[43m    \u001b[49m\u001b[43m)\u001b[49m\n",
      "File \u001b[0;32m/Library/Frameworks/Python.framework/Versions/3.12/lib/python3.12/site-packages/spacy/util.py:472\u001b[0m, in \u001b[0;36mload_model\u001b[0;34m(name, vocab, disable, enable, exclude, config)\u001b[0m\n\u001b[1;32m    470\u001b[0m \u001b[38;5;28;01mif\u001b[39;00m name \u001b[38;5;129;01min\u001b[39;00m OLD_MODEL_SHORTCUTS:\n\u001b[1;32m    471\u001b[0m     \u001b[38;5;28;01mraise\u001b[39;00m \u001b[38;5;167;01mIOError\u001b[39;00m(Errors\u001b[38;5;241m.\u001b[39mE941\u001b[38;5;241m.\u001b[39mformat(name\u001b[38;5;241m=\u001b[39mname, full\u001b[38;5;241m=\u001b[39mOLD_MODEL_SHORTCUTS[name]))  \u001b[38;5;66;03m# type: ignore[index]\u001b[39;00m\n\u001b[0;32m--> 472\u001b[0m \u001b[38;5;28;01mraise\u001b[39;00m \u001b[38;5;167;01mIOError\u001b[39;00m(Errors\u001b[38;5;241m.\u001b[39mE050\u001b[38;5;241m.\u001b[39mformat(name\u001b[38;5;241m=\u001b[39mname))\n",
      "\u001b[0;31mOSError\u001b[0m: [E050] Can't find model 'en_core_web_md'. It doesn't seem to be a Python package or a valid path to a data directory."
     ]
    }
   ],
   "source": [
    "im, longstring = myutils.wordCloud(df, 'page_content')"
   ]
  }
 ],
 "metadata": {
  "kernelspec": {
   "display_name": "Python 3 (ipykernel)",
   "language": "python",
   "name": "python3"
  },
  "language_info": {
   "codemirror_mode": {
    "name": "ipython",
    "version": 3
   },
   "file_extension": ".py",
   "mimetype": "text/x-python",
   "name": "python",
   "nbconvert_exporter": "python",
   "pygments_lexer": "ipython3",
   "version": "3.12.1"
  }
 },
 "nbformat": 4,
 "nbformat_minor": 5
}
