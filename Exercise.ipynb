{
 "cells": [
  {
   "cell_type": "markdown",
   "id": "cfaf9fa8-5e65-45af-8b89-506c439f661d",
   "metadata": {},
   "source": [
    "# Exercise 5\n",
    "### By Gruppe H (Caroline og Maria)"
   ]
  },
  {
   "cell_type": "code",
   "execution_count": 1,
   "id": "728bbc76-8e11-4b94-a151-05fc51e6bde4",
   "metadata": {
    "scrolled": true
   },
   "outputs": [],
   "source": [
    "#!pip install streamlit"
   ]
  },
  {
   "cell_type": "code",
   "execution_count": 2,
   "id": "d6b73b2d-b5fc-40ce-981b-8772103a6820",
   "metadata": {},
   "outputs": [],
   "source": [
    "## !streamlit hello"
   ]
  },
  {
   "cell_type": "code",
   "execution_count": 3,
   "id": "9ba11115-d061-4e08-8d19-7f88d549eb3d",
   "metadata": {
    "scrolled": true
   },
   "outputs": [],
   "source": [
    "#!pip install langchain"
   ]
  },
  {
   "cell_type": "code",
   "execution_count": 4,
   "id": "7dfdb156-bf3b-4cd3-a7ca-6fe0edcd24c5",
   "metadata": {},
   "outputs": [],
   "source": [
    "#!pip install langdetect"
   ]
  },
  {
   "cell_type": "code",
   "execution_count": 5,
   "id": "05c9b200-f2e3-42ea-93ec-e0ad57d18995",
   "metadata": {},
   "outputs": [],
   "source": [
    "#!pip install -U torch"
   ]
  },
  {
   "cell_type": "markdown",
   "id": "04dcb4f5-3194-40f1-aacf-132a5c8fefdf",
   "metadata": {},
   "source": [
    "## Set up Enviroment "
   ]
  },
  {
   "cell_type": "code",
   "execution_count": 6,
   "id": "17dc64bb-3180-49c0-aa85-e2487818a433",
   "metadata": {},
   "outputs": [],
   "source": [
    "import os\n",
    "import pandas as pd"
   ]
  },
  {
   "cell_type": "code",
   "execution_count": 7,
   "id": "2d851e54-5dae-4df6-a792-439230126c97",
   "metadata": {},
   "outputs": [],
   "source": [
    "import langdetect\n",
    "from langdetect import DetectorFactory, detect, detect_langs"
   ]
  },
  {
   "cell_type": "code",
   "execution_count": 8,
   "id": "3cf99065-b7c1-4a2a-b9ed-9c0755bd1b82",
   "metadata": {},
   "outputs": [],
   "source": [
    "from langchain.llms import Ollama\n",
    "from langchain.callbacks.manager import CallbackManager\n",
    "from langchain.callbacks.streaming_stdout import StreamingStdOutCallbackHandler"
   ]
  },
  {
   "cell_type": "code",
   "execution_count": 9,
   "id": "97f18d42-9d9d-459c-85db-7fb89bb3d62f",
   "metadata": {},
   "outputs": [],
   "source": [
    "\n",
    "from langchain.docstore.document import Document\n",
    "from langchain.text_splitter import RecursiveCharacterTextSplitter\n",
    "from langchain.vectorstores import Chroma\n",
    "from langchain.chains import ConversationalRetrievalChain\n",
    "from langchain.memory import ConversationBufferMemory\n",
    "from langchain.prompts import PromptTemplate"
   ]
  },
  {
   "cell_type": "code",
   "execution_count": 10,
   "id": "d5af439d-bca5-45bb-802f-b1639d4a43d5",
   "metadata": {},
   "outputs": [],
   "source": [
    "# Embedding facilities\n",
    "from langchain.embeddings import HuggingFaceEmbeddings"
   ]
  },
  {
   "cell_type": "code",
   "execution_count": 11,
   "id": "4a7cff1c-5f20-47a9-865e-29be87928509",
   "metadata": {},
   "outputs": [],
   "source": [
    "# Pipelines\n",
    "from langchain import HuggingFacePipeline\n",
    "from langchain.chains import RetrievalQA"
   ]
  },
  {
   "cell_type": "markdown",
   "id": "438840ac-cfb9-4c18-8265-ecb383398277",
   "metadata": {},
   "source": [
    "## Load Documents\n",
    "Our first task is to collect and load documents from various sources and formats in the context of our chosen domain, which is **knitting for beginners**.\n",
    "\n",
    "We have chosen to load content from pdf files, YouTube and Wikipedia."
   ]
  },
  {
   "cell_type": "code",
   "execution_count": 12,
   "id": "ebdc951d-80e1-46d2-8cf2-e5da197c02c3",
   "metadata": {},
   "outputs": [],
   "source": [
    "import myloadlib\n",
    "from myloadlib import loadDir, loadFile, loadWiki, loadYoutube, readAPI"
   ]
  },
  {
   "cell_type": "code",
   "execution_count": 13,
   "id": "0932c18c-3ace-48bf-9a86-8f64020d2919",
   "metadata": {},
   "outputs": [
    {
     "data": {
      "text/plain": [
       "<module 'myloadlib' from '/Users/mariamcnally/Desktop/SW2Semester/AI/OLA5/myloadlib.py'>"
      ]
     },
     "execution_count": 13,
     "metadata": {},
     "output_type": "execute_result"
    }
   ],
   "source": [
    "import importlib \n",
    "importlib.reload(myloadlib)"
   ]
  },
  {
   "cell_type": "code",
   "execution_count": 14,
   "id": "6b27dfb0-bfb1-4475-9d94-0558dc6bc264",
   "metadata": {},
   "outputs": [],
   "source": [
    "# Collect all here\n",
    "documents = []"
   ]
  },
  {
   "cell_type": "markdown",
   "id": "22113093-ce47-45ed-b2b2-cf9f459c572c",
   "metadata": {},
   "source": [
    "### Load single pdf files\n",
    "\n",
    "#### File 1"
   ]
  },
  {
   "cell_type": "code",
   "execution_count": 15,
   "id": "310103aa-5e9b-44f4-aff5-993700838ef4",
   "metadata": {},
   "outputs": [],
   "source": [
    "file = \"./data/knitting_pdfs/knit.pdf\""
   ]
  },
  {
   "cell_type": "code",
   "execution_count": 16,
   "id": "4bb6440e-2574-47ec-aa22-0376efc41c70",
   "metadata": {},
   "outputs": [],
   "source": [
    "#!pip install pypdf"
   ]
  },
  {
   "cell_type": "code",
   "execution_count": 17,
   "id": "4a915478-86e9-4261-b2c2-3e826eaeae59",
   "metadata": {},
   "outputs": [],
   "source": [
    "docs = myloadlib.loadFile(file)"
   ]
  },
  {
   "cell_type": "code",
   "execution_count": 18,
   "id": "ce6e044b-ba68-44af-adc9-0b54be98b380",
   "metadata": {},
   "outputs": [
    {
     "data": {
      "text/plain": [
       "21"
      ]
     },
     "execution_count": 18,
     "metadata": {},
     "output_type": "execute_result"
    }
   ],
   "source": [
    "documents.extend(docs)\n",
    "len(documents)"
   ]
  },
  {
   "cell_type": "code",
   "execution_count": 19,
   "id": "71d6b155-a7ad-4f96-8799-4c76f185ac95",
   "metadata": {},
   "outputs": [
    {
     "data": {
      "text/plain": [
       "{'source': './data/knitting_pdfs/knit.pdf', 'page': 0}"
      ]
     },
     "execution_count": 19,
     "metadata": {},
     "output_type": "execute_result"
    }
   ],
   "source": [
    "# metadata of loaded Document\n",
    "docs[0].metadata "
   ]
  },
  {
   "cell_type": "markdown",
   "id": "c6aea562-013b-4182-bff9-96ac549d16af",
   "metadata": {},
   "source": [
    "Content of page [0] = page 1. "
   ]
  },
  {
   "cell_type": "code",
   "execution_count": 20,
   "id": "b4a67e29-a9ba-41d1-a186-af03622038ee",
   "metadata": {},
   "outputs": [
    {
     "data": {
      "text/plain": [
       "' \\n \\nBeginning Knitting  \\n \\nWHAT IS KNITTING? \\n \\nHand knitting is to make fabric with yarn \\non two or more needles.  A number of loops are first made on one needle, and then the fabric \"grows\\'\\' by drawing other loops through them as they are passed back and forth along the needles from row to row. \\n \\nAll knitting comes from two kinds of stitches. One is called a \"knit stitch,\" and the other is called a \"purl stitch.\" There \\nare several different ways or methods of knitting. Refer to directions in the pattern/instructions for explanations and types of stitches required.  \\n \\nKnitting can produce something useful, but the process can,  and should be, fun \\nand relaxing.  The main thing is to learn to enjoy  knitting—relax while you work, \\navoid a cramped position, have a good light to see by, and if your hands become tired, stop and rest a while.  \\nHistory of Knitting \\n \\nKnitting is older than written history. No \\none knows exactly when people began to knit, but we do know that as far back as A.D. 200, knitting was an advanced and accomplished art.  The people of Scotland are believed to have been the first to knit with wool. \\n \\nA knitted fabric stretches more than a woven fabric, and it snaps back to its original size after it is stretched. For \\nexample, a woolen kn itted fabric can \\nstretch as much as 30 percent and spring back to its original size. Long ago people found out how much better a knitted \\nfabric was than a wo ven fabric for  \\nclothing that needs to stretch and then spring back to fit snugly. Sweaters, mittens, and stockings are examples of \\nthis kind of clothing. \\n \\nKnitting is probably more popular today than it has been at any other time in history. With the hundreds of different kinds and textures of yarns available, plus the constant development of new synthetic fibers and various combinations of them, there is no end to the beautiful and useful things you can learn to make.   \\nKNITTING TOOLS \\n \\n\\x88    Knitting Needles   \\nThe first tool that comes to mind \\nwhen we think of knitting is needles. Knitting needles come in many sizes, types, and lengths and are made of different materials.   Quality   - Knitting needles undergo \\na variety of extra finishing steps to ensure a smooth surface without nicks or rough edges.  Size  -  The size of a knitting needle \\nrefers to its diameter. In the United States, knitting needles are sized with numbers ranging from 0 to 50. Sizes 17 to 50 are considered \"jumbo\" or \"jiffy\" size needles. Canadian and European needle sizes are based on the metric system. Some U.S. needles are now labeled with both sizes. When you go shopping, look at the different sizes of needles that are available and compare the United States (standard) and metric measurements. CT-MMB.730'"
      ]
     },
     "execution_count": 20,
     "metadata": {},
     "output_type": "execute_result"
    }
   ],
   "source": [
    "documents[0].page_content\n",
    "#docs[0].page_content[:1000]\n",
    "# First 1000 charactors."
   ]
  },
  {
   "cell_type": "markdown",
   "id": "3e9818f7-5781-4054-9d61-74d849141186",
   "metadata": {},
   "source": [
    "#### File 2"
   ]
  },
  {
   "cell_type": "code",
   "execution_count": 21,
   "id": "0ddf1602-dd45-4633-b82c-02a59230a8aa",
   "metadata": {},
   "outputs": [],
   "source": [
    "file2 = \"./data/knitting_pdfs/knitting-handbook.pdf\""
   ]
  },
  {
   "cell_type": "code",
   "execution_count": 22,
   "id": "c465f0b0-6cb6-42f0-a674-74a2d1f5a62a",
   "metadata": {},
   "outputs": [],
   "source": [
    "docs = myloadlib.loadFile(file2)"
   ]
  },
  {
   "cell_type": "code",
   "execution_count": 23,
   "id": "e1745276-81d9-4973-b2a2-459862a49d09",
   "metadata": {},
   "outputs": [
    {
     "data": {
      "text/plain": [
       "61"
      ]
     },
     "execution_count": 23,
     "metadata": {},
     "output_type": "execute_result"
    }
   ],
   "source": [
    "documents.extend(docs)\n",
    "len(documents)"
   ]
  },
  {
   "cell_type": "code",
   "execution_count": 24,
   "id": "af4e3de7-09cb-4c7e-bda9-325a4833246a",
   "metadata": {},
   "outputs": [
    {
     "data": {
      "text/plain": [
       "{'source': './data/knitting_pdfs/knitting-handbook.pdf', 'page': 1}"
      ]
     },
     "execution_count": 24,
     "metadata": {},
     "output_type": "execute_result"
    }
   ],
   "source": [
    "docs[1].metadata "
   ]
  },
  {
   "cell_type": "code",
   "execution_count": 25,
   "id": "cc250c01-6d3c-47c8-99e1-adf1af4a4723",
   "metadata": {},
   "outputs": [
    {
     "data": {
      "text/plain": [
       "' 2 \\nAll knitting patterns tell you the size of \\nneedles you will need. Never discard your needles when you have fini shed the project.  \\nIf you lose one needle and have to buy another pair the same size, keep the extra \\nneedle. You never know when you may lose or break another one.   \\n \\n\\x88    Crochet Hook  \\nYou will need a crochet hook to pick \\nup dropped stitches and to correct other mistakes. They also come in many sizes. Size C, or 6, is a good one for 4-ply knitting yarn. \\n \\n\\x88    Measuring Tool  \\nYou will need a measuring tool. You \\ncan use a ruler, a measuring tape, or a metal measuring gauge. Be sure your \\nmeasuring tool has both standard and \\nmetric measurements. \\n \\n \\n \\n  \\n\\x88 Other helpful items: \\n \\nScissors  -    You will also want to \\ninclude in your knitting basket a pair of small scissors (kept in a case for safety). \\n \\nYarn needle  -  a blunt-pointed yarn \\nneedle for sewing your articles together. \\n  Nail file or emery board   -  for catchy \\nfingernails. A rough fingernail might catch on the yarn. \\n \\n \\n \\nCase for needles and hooks  - \\nYou can make a handy case for knitting needles by cutting a piece of corrugated paper from a packing carton. Stick your needles (and crochet hooks, too) in the ends of the paper. You can leave the holder flat for storage, or it can be rolled up and fastened with a rubber band. \\n \\n  \\nSmall transparent case   - It is a \\ngood idea to keep all easily lost items, such as rubber tips and tapestry needles, in a small transparent case.   A long, round, narrow plastic medicine bottle will make a very nice case.  Be sure to wash the bottle well before you use it for your needles and other small items. \\n '"
      ]
     },
     "execution_count": 25,
     "metadata": {},
     "output_type": "execute_result"
    }
   ],
   "source": [
    "documents[1].page_content"
   ]
  },
  {
   "cell_type": "markdown",
   "id": "96af8478-011c-45f3-abf3-b0116a993293",
   "metadata": {},
   "source": [
    "### Load YouTube"
   ]
  },
  {
   "cell_type": "code",
   "execution_count": 26,
   "id": "14c296e4-0f2e-4c3a-ad0c-593b650cdf5f",
   "metadata": {},
   "outputs": [],
   "source": [
    "url = 'https://www.youtube.com/watch?v=Zjq0MoUZqVY'\n",
    "save_dir=\"./youtube/\""
   ]
  },
  {
   "cell_type": "code",
   "execution_count": 27,
   "id": "61b23376-339c-4623-8f6c-d8f7b31d62fb",
   "metadata": {},
   "outputs": [
    {
     "data": {
      "text/plain": [
       "'https://www.youtube.com/watch?v=Zjq0MoUZqVY'"
      ]
     },
     "execution_count": 27,
     "metadata": {},
     "output_type": "execute_result"
    }
   ],
   "source": [
    "url"
   ]
  },
  {
   "cell_type": "code",
   "execution_count": 28,
   "id": "744fccee-d41b-4e80-a494-3c6aab4259fc",
   "metadata": {},
   "outputs": [],
   "source": [
    "lang = 'en'"
   ]
  },
  {
   "cell_type": "code",
   "execution_count": 29,
   "id": "e01324e0-eb58-4703-b5c9-fbbec670ada1",
   "metadata": {},
   "outputs": [],
   "source": [
    "#!pip install youtube-transcript-api"
   ]
  },
  {
   "cell_type": "code",
   "execution_count": 30,
   "id": "4f86c158-862b-43f6-a75b-03045e17f24f",
   "metadata": {},
   "outputs": [],
   "source": [
    "#!pip install pytube"
   ]
  },
  {
   "cell_type": "code",
   "execution_count": 31,
   "id": "2583324c-7695-457c-b5ee-04a8912f9cda",
   "metadata": {},
   "outputs": [],
   "source": [
    "docs = myloadlib.loadYoutube(url, lang)"
   ]
  },
  {
   "cell_type": "code",
   "execution_count": 32,
   "id": "db2cc286-9b9b-44d1-88f5-d352e9467664",
   "metadata": {},
   "outputs": [
    {
     "data": {
      "text/plain": [
       "62"
      ]
     },
     "execution_count": 32,
     "metadata": {},
     "output_type": "execute_result"
    }
   ],
   "source": [
    "documents.extend(docs)\n",
    "len(documents)"
   ]
  },
  {
   "cell_type": "code",
   "execution_count": 33,
   "id": "48211019-5282-4ba7-baff-a7016419354d",
   "metadata": {},
   "outputs": [
    {
     "data": {
      "text/plain": [
       "'Document'"
      ]
     },
     "execution_count": 33,
     "metadata": {},
     "output_type": "execute_result"
    }
   ],
   "source": [
    "documents[61].type"
   ]
  },
  {
   "cell_type": "code",
   "execution_count": 34,
   "id": "875cd210-10f1-4f71-b58c-21f747994a7b",
   "metadata": {},
   "outputs": [
    {
     "data": {
      "text/plain": [
       "\"In, around, under and off. You'll\\xa0 be dreaming this by the end. Hello knitters, i'm Marion from Lovecrafts\\xa0 and I'm going to show you how to knit. Now, in this video we're going to do a\\xa0little project where we start knitting\\xa0from start to finish.  This is the little\\xa0swatch we're going to knit. I'm going to\\xa0show you how to start, how to cast on, how to knit this lovely knit stitch\\xa0\\xa0 and then how to cast off. So, it's everything\\xa0 in one go.  Now if you learn to make one of these, you can make a scarf or a cushion cover or\\xa0a pillow or a blanket - anything at all! \\xa0 So, this is a really good tutorial just for some basic\\xa0ground work before you start your knitting. So, I'm going to use Paint Box wool mix super chunky.\\xa0And the reason i'm using a super chunky yarn\\xa0\\xa0 is because when you start knitting it's really\\xa0important to be able to see the stitches.  Um, and so I always prefer to use a big yarn, and that way your\\xa0work grows very fast, so you don't get demoralised\\xa0\\xa0 and you can see your stitches really clearly when\\xa0 you're starting out. It's personal, you can try\\xa0\\xa0 all kinds, but I prefer a wooden needle and the\\xa0 reason for that is because they're not slippy.  So, when you start knitting you don't want your\\xa0 needles to be slipping all over the place.  So, wooden needles or bamboo needles will keep your\\xa0work anchored nicely on the needle.  Let's start\\xa0with the cast on.  So, there are lots and lots\\xa0of different ways to cast on and I'm going to\\xa0show you a knitted cast on, which is a really\\xa0good way to create quite a stretchy cast on.  So, take your yarn, we're going to start with a slip\\xa0 knot. So, we have the yarn here like this. Make sure you leave a nice long tail because that needs\\xa0to be sewn in later and I'll show you that when\\xa0we get there. But just take the yarn and wind it\\xa0around your fingers. So, you have two fingers like\\xa0that. Now taking the working yarn, this is the\\xa0one attached to the ball, just pull that through\\xa0the circle. And then I'm just going to pull\\xa0that tight. And you can see there that this\\xa0is a slip knot.  Let's do that again.  So,\\xa0I've got the tail going off to the left,\\xa0I've got the working yarn on the right.  So,\\xa0I'm just going to wind that round my finger\\xa0and then just reach through that hole, pull the\\xa0working yarn, and then pull it into a slip knot.\\xa0\\xa0 And that - you can alter the size. So, that's\\xa0 where we're going to start.  I'm going to pop that\\xa0now onto the needle. So, there we are. You've got\\xa0your first stitch on the needle.  Now, to start\\xa0a cast on, we're going to do the knit stitch.\\xa0So, we put the needle and I've got - just look\\xa0at how I'm holding it. I've got this tail\\xa0of the yarn in my hand on the left-hand side,\\xa0the working yarn on the right-hand side\\xa0and this is my right-hand needle. So, I'm going to put my needle diagonally underneath\\xa0into the stitch.  Now, with the working yarn on\\xa0\\xa0my right I'm going to take that yarn,\\xa0bring it round the front of the needle, and then holding these steady, I'm\\xa0going to pull this needle underneath. So, we're now sitting here.. And just pull it a\\xa0 little bit so you've got a loop on each needle.\\xa0\\xa0 Then i'm going to just transfer that first one and\\xa0 pop it on to the left-hand needle. And now we have\\xa0two stitches. So, we're going to do that\\xa0again. This time I'm going to put my needle\\xa0into the right-hand stitch - there we go - in\\xa0diagonally, bring the yarn around the needle,\\xa0\\xa0 pull it down and then across a little\\xa0bit so that you've got two loops.  And\\xa0then transfer this right-hand loop onto\\xa0the left needle. So, now we've got three.\\xa0\\xa0 So, let's do it again.  Put your needle\\xa0diagonally underneath into the stitch,\\xa0bring your working yarn, the one on the right\\xa0here, around the needle then we slide underneath.\\xa0 And then just pull until you've got more of a\\xa0loop and then transfer this right-hand needle\\xa0onto the left.  So, now we have four.  And you\\xa0can see as you complete each stitch this little\\xa0diagonal bit straightens up a bit just in case\\xa0you're worrying.  So, I'm going to start again. So, we put the needle in diagonally underneath,\\xa0 then i'm going to take the working yarn,\\xa0\\xa0 that's the one attached to the ball,\\xa0bring it round the needle, slide it under\\xa0and pull it towards me a little bit.  So, that\\xa0makes the the stitch a little bit bigger.\\xa0\\xa0 And then transfer it onto the left needle.\\xa0 There we go. There's five. Let's do it again.\\xa0\\xa0 Put your needle in diagonally underneath\\xa0 into the stitch, bring your yarn around,\\xa0\\xa0 and then slide the needle underneath and pull it\\xa0towards you.  So, you've got another stitch made\\xa0and transfer it onto the needle.  Now\\xa0you might find when you start this\\xa0it's very difficult to control two needles and\\xa0two pieces of yarn.  So, just go very slowly,\\xa0tuck up this spare yarn into your hand here and\\xa0hold the needle.  So, if I put my needle in here\\xa0again, slide it underneath. If it helps you,\\xa0hold those two together with your left hand,\\xa0so that you've got this hand free.\\xa0   Bring the yarn around the needle.\\xa0\\xa0 And then I find sometimes, if you put your finger\\xa0on the end of that right needle to push it back.\\xa0\\xa0 And then come underneath, pull it towards you,\\xa0and then transfer onto that needle.  Now it looks\\xa0very controlled as i'm doing it here and you\\xa0might find when you start that you're all over the\\xa0place, but just keep going because you just need\\xa0to get these stitches on.  Just keep practicing,\\xa0keep practicing, it doesn't matter how long it\\xa0takes.  So, we go into the bottom of the stitch\\xa0diagonally, bring the yarn around, then we come\\xa0under, pull it towards you  and then transfer\\xa0onto the left-hand needle. So, let's have a look.\\xa0We've got two, four, six, eight stitches there.\\xa0\\xa0 So, let's create 15. So, I put the needle\\xa0in, yarn around, pull it underneath,\\xa0pull it towards you, and transfer it.  So, we\\xa0go again. Put your needle in, the yarn around,\\xa0push the needle under, pull it towards you,\\xa0and transfer it.  Let's have a look now. Two, four, six, eight, ten stitches.  Let's do\\xa0another five.  So, your needle in, yarn around,\\xa0\\xa0push it back, and then bring it towards you\\xa0and then transfer the stitch. I'll do it again. So, this gives us 12.  See, when you\\xa0see this little crisscross here, don't\\xa0worry about that that's normal.\\xa0 So,\\xa0we put the needle in, yarn around,\\xa0pull it towards you, and then transfer the stitch. The needle in, yarn around, push\\xa0the needle back and underneath,\\xa0bring it towards you, and then transfer\\xa0it.  Let's have a little count - two, four, six,\\xa0eight, ten, twelve, fourteen. Just one more to go. Needle in - you can even balance it on your\\xa0thumb there if that helps you.  Just hold the\\xa0\\xa0needles together, bring your yarn around, and then\\xa0you slide underneath, bring the needle through,\\xa0\\xa0 pull it towards you, and transfer. Okay. So, there we have 15 stitches cast on. So, okay here we are ready to\\xa0start knitting. So, i've got the tail of the yarn on the left-hand side here. I've\\xa0got my working yarn connected to the ball of yarn on the right. And we're going to do a very\\xa0similar stitch than we just did for casting on.\\xa0\\xa0 Um, again, this one is a little bit sideways.\\xa0 That's fine, that's exactly how it should be.\\xa0\\xa0 And that's your little nice cast on edge. So,\\xa0I'm going to take the needle like we did before. Diagonally underneath the stitch, we\\xa0bring the working yarn around the needle.. Slide it through.. Now this time - oops -\\xa0we're going to slide it off the needle.\\xa0\\xa0 There we go. Let's do that one again. We put the\\xa0 needle in and underneath, bring the yarn around,\\xa0\\xa0 slide it under, and then off. So, let's try\\xa0that again. We put the needle into the stitch diagonally underneath, you bring your working yarn\\xa0around the needle,  push the needle underneath and\\xa0down, and then bring it through and then off.  Now,\\xa0when you work this first row it's often quite a\\xa0tight row to work. So, just try not to pull your\\xa0yarn too tight. Just try and keep the yarn nice\\xa0and relaxed. If you tighten up these stitches,\\xa0they're going to be much harder to move around.\\xa0\\xa0 So, just try and keep them as loose as you can.\\xa0 So, we're going to put the needle into the stitch,\\xa0\\xa0 around, under and off. And you can\\xa0keep just shimmying these stitches up to the top of the needle. So, that\\xa0they're not on the end but near the end, so you don't have to travel very far.  So, then\\xa0we put the needle in and underneath, around the\\xa0right-hand needle, push this one down and under\\xa0and then slide it off. Let's do another one. Into the stitch, bring your yarn around the\\xa0needle, come under and then off.  So, we go in,\\xa0around, under and off. There are lots of these\\xa0little rhymes that you can learn to remind yourself but that's the easiest one.  So, we go\\xa0in, around, under and off. So, we go in, around, under, and off.  Just say that to yourself. There\\xa0we go. In, around, under and off. Now, you know, it doesn't matter how you hold your needles. So,\\xa0some people - I'm holding them like this in a\\xa0face with open palms. You might find it's easier\\xa0if you hold your needles this way.  So, you might\\xa0find it easier with your hand on top.  So, if I\\xa0try that you go under - sorry - into the stitch,\\xa0around, under and off. In, around, under\\xa0and off. Remember there is no right way\\xa0to hold your needle. So, whatever's\\xa0comfy for you, you do that. In, around, under and off. And we've just got two\\xa0 more stitches to take us to the end of the row.\\xa0\\xa0 In, around, under and off. In, around, under\\xa0and off. And so, when you've completed that first row - look at that lovely work - then\\xa0what we do is we turn this needle around. So, that you have these little lovely bumps facing\\xa0 you. And we're ready to start the second row.\\xa0\\xa0 So, we're going to work in exactly the\\xa0same way for this row.  Now this stitch,\\xa0\\xa0sometimes it's called the knit stitch\\xa0sometimes it's called garter stitch,\\xa0\\xa0 um, is the main.. Is the basic knitting stitch\\xa0 that you use for absolutely everything.  There are\\xa0only two knitting stitches and this is the first\\xa0one that everybody learns.  So, let's start again. In, around, under and off. You see this is\\xa0a lot looser, this second row. In, around, under and off. And that's because\\xa0you've sort of freed up your first\\xa0row, which is always, always a bit\\xa0tighter than the others. In, around, under\\xa0and off. You see the way the stitches are\\xa0just transferring onto this right needle. In, around, under and off. I'll do a couple\\xa0 more of those. In, around under and off.\\xa0\\xa0 Looking very nice. In, around, under and off.\\xa0 And just keep repeating that as you go. It won't take long for your hands to develop the muscle\\xa0 memory that you need to remember this stitch.\\xa0\\xa0 So, in around, under, and off. Let's try it. Just\\xa0if you want to try it with your hands on the top\\xa0there again. In, around, under and off. And you\\xa0might find that when you're doing this, this\\xa0needle wobbles around a little bit and it's a bit\\xa0awkward to hold.  Just steady it with your other\\xa0hand. So, if you find that you're just sort of\\xa0 dangling a bit, just hold it with your thumbs,\\xa0 and it is a bit like, you know, learning to drive when\\xa0you can't do everything in one go, but just try\\xa0and keep yourself steady rather than letting them\\xa0dangle.  So, this front needle goes underneath, the left.  So, we go around,\\xa0under, and off. In, around,\\xa0under and off. In, around, under and\\xa0off. So, two more stitches to go. And there we go. Second row. Okay, let's get\\xa0ready for row three. So, we're going to work in exactly the same way.  So, I've got hold of\\xa0my needle here. Right-hand needle we go into\\xa0the stitch diagonally and underneath, the working\\xa0yarn round the needle and we come under and off.\\xa0\\xa0 Notice i'm just using my finger there on the\\xa0 end of the needle to push the stitches along.\\xa0\\xa0 You want to keep them loose but not too loose\\xa0 and not too near the edge. You don't want to\\xa0\\xa0 risk them falling off. But on the other hand\\xa0you don't want to have to drag them off. So,\\xa0that's about the right distance.\\xa0   So, then we're going to go in,\\xa0\\xa0around, under and off. Again don't be afraid\\xa0to hold on to the needles and steady them.\\xa0\\xa0 In, around, under and off. Just push them down a\\xa0 bit. In, around, under and off. You'll be dreaming this by the end. In, around, under and off.  And\\xa0I'll just show you, in case you've decided to\\xa0put your hands on the tops of your needles, that's\\xa0fine.  In, - and i'm just securing this needle with\\xa0my thumb there, just holding the two together -\\xa0you can see.  Around, under, and off. In, around,\\xa0under and off.  And remember there's no, you\\xa0know, there's no right or wrong way to hold your\\xa0needles. It's whatever is comfortable for you.\\xa0\\xa0 So, in, around, under and off. So, there we go. Around, under and off. You can see that little,\\xa0 nice little garter ridge beginning to form there.\\xa0\\xa0 In, around, under and off.\\xa0 Just a couple more to go. And then I've got the last stitch there. In,\\xa0around, under and off. So, there we are.\\xa0\\xa0 So far, three rows. And what I'm going to do, is I'm going to knit\\xa0a few more rows now and then come back and\\xa0show you how to cast off.  Okay, so here we are\\xa0ready to cast off. A cast off literally just\\xa0means that we're going to get rid of all these\\xa0stitches along the top to make a nice neat edge.\\xa0\\xa0 So, it's either called casting off or binding off.\\xa0And you might see it in a pattern as bind off,\\xa0\\xa0cast off. And again there are lots of different\\xa0ways to do this but i'm just going to show you\\xa0a very basic cast off. But before I do that, I\\xa0just want to talk to you about these rows. Now just have a look at this. This is garter stitch,\\xa0 this is knit stitch that we've been doing,\\xa0\\xa0 and it's a lovely stretchy stitch that is\\xa0perfect for if you're making a scarf. Traps\\xa0the air inside so it keeps you nice and warm.\\xa0 When you're counting up your numbers of rows\\xa0one of these nice ridges along there is\\xa0two rows.  So, we can do two, four, six,\\xa0\\xa0eight, ten, twelve and so on. So,\\xa0you can count up your rows like that.\\xa0\\xa0 If you are making a scarf - now this is 15\\xa0stitches in a super chunky yarn - you might\\xa0do 20, and then just carry on knitting, knitting,\\xa0knitting until you reach the length you want.\\xa0\\xa0 And then you can cast off. If you're going to\\xa0 do a cushion then obviously you're going to\\xa0\\xa0 have lots more stitches on there so it's nice and\\xa0 wide. But the process is exactly the same. Right. So, let's cast off from here. So, we're going to\\xa0 start in exactly the same way that we have before.\\xa0\\xa0 So, we're going to knit this first stitch. So, I'm\\xa0going to put my needle in, bring the yarn around,\\xa0under and off. So, knit the first stitch.\\xa0Now we're going to knit the second stitch.\\xa0\\xa0 Yarn around the needle, under, and off. Now\\xa0 once you have two stitches on the needle we\\xa0\\xa0 use this point of the left needle to come\\xa0under the first stitch and lift it over\\xa0the second. And that is one stitch cast off.\\xa0 So, I'm going to now knit the next stitch. Two stitches on the needle. Using this left\\xa0hand point pick up the first one and lift it\\xa0over the second one. So, you can see that's\\xa0cast off. Then we knit the next stitch. Two on the right hand needle, pop the point\\xa0of your left needle under the first one and\\xa0lift it over the second. You can see it's a nice\\xa0neat cast off there. So, we'll do that again.\\xa0\\xa0 Knit the next stitch and lift this first one over\\xa0the second. So, we lift it up, over it goes.  So, we go in, around, under and off. And then use\\xa0this point to lift up the first one and slide it\\xa0under the second. And use this needle to help\\xa0you. So, I'll show you when we knit this stitch,\\xa0\\xa0 I'm going to lift up this first stitch, I'm\\xa0 going to pop my finger on the end there to\\xa0\\xa0 push that through and then just just tip that\\xa0 upwards. So, that you can pull it off.  So, we go yarn around the needle, under and off. I'm\\xa0going to use that point again to dig in there,\\xa0\\xa0 lift the stitch up and pull it over the\\xa0 top. Now again, you know, we talk about\\xa0\\xa0 keeping your stitches nice and relaxed. This will\\xa0 be easier if you're not pulling really tightly.\\xa0\\xa0 So, try and keep your yarn nice and gentle here.\\xa0 So, we knit that stitch again and we're going\\xa0\\xa0 to go under, lift it up and pull it over the top. And knit the next stitch, lift it up over that one and off it comes.  You can see how it's just coming\\xa0off the needles there. So, we go in, around,\\xa0under and off.  Two stitches on the right hand\\xa0needle, lift the first one of the second one.\\xa0\\xa0 Knit the next stitch, lift\\xa0the first one over the second.\\xa0\\xa0 Knit the next stitch, lift the first one over the\\xa0second. So, we've now got just two stitches left.\\xa0\\xa0 So, we're going to knit that stitch. So, you've\\xa0 got these two left on your right hand needle.\\xa0\\xa0 Lift the first and bring it over the second. When\\xa0 you have one needle left, one stitch left on the\\xa0\\xa0 needle, and you're attached, pull this right-hand\\xa0 needle so you've got quite a nice big loop.\\xa0\\xa0 So, you've now got a loop and here's your\\xa0working yarn. So, what we're going to do is snip\\xa0this yarn off Now, it's really important to\\xa0make sure you've got quite a nice long tail here, because we're going to be sewing this in later.\\xa0   So, I'll just grab my scissors snip that off.\\xa0\\xa0 And just have a look at how that\\xa0looks. So, it looks like this. And then i'm just going to pull that end through\\xa0 the loop. Okay? So, then we just pull that gently... And that gives you a secure end. So, here we now\\xa0have our swatch and it has.. This is the cast\\xa0off end and this is our cast on end.  Now, that\\xa0looks absolutely lovely but obviously you can't\\xa0\\xa0leave these big dangly ends. So, I'm just\\xa0going to show you now how to sew those in.\\xa0\\xa0 So, just the last bit of our work.\\xa0We're going to use a nice big\\xa0tapestry needle here to sew these ends in.  Now\\xa0whenever you're working any kind of knitting or\\xa0crochet, anything like that, make sure you leave\\xa0a nice end to sew in so that you can bury it away\\xa0so that it can't be seen in your knitting.  If\\xa0you leave these ends too short, um, what happens\\xa0is it'll unravel and stick up.  And then you've\\xa0got an end sticking up and it won't look nice.\\xa0\\xa0 So, nice long tail. To thread the needle, the\\xa0way that I've always done it - you can stick\\xa0this in your mouth - but it's just nice to..  ...bend\\xa0the yarn around the needle like that and pinch.\\xa0\\xa0 And then thread that through the eye of your\\xa0 needle. Just give it a little wiggle through.\\xa0\\xa0 Now this obviously is very thick yarn so\\xa0 you might not have that trouble when you\\xa0\\xa0 if you've got a thinner yarn. Now the\\xa0 idea here is just to weave with the needle\\xa0\\xa0 in and out to hide this yarn. So, I'm\\xa0just going to take the needle and sew\\xa0underneath the stitches.  Now, sometimes you might\\xa0want to just do it into one loop like that, depending on the sort of needle you're doing. But just weave it along in and out\\xa0\\xa0 to hide your stitches. And once\\xa0you've gone along one way, come back\\xa0the other way.  And this will make sure\\xa0that... I'm going to come down here a bit. This\\xa0 will make sure that your knitting doesn't unravel.\\xa0\\xa0 So, once you've done, usually we sort of say\\xa0 about six little weaves, we can snip that off. You can see that's nicely buried away there so\\xa0 you're not going to see the end of that. So, let's\\xa0\\xa0 do it again up here for your cast on edge or is\\xa0 this cast off I think? So, just thread this needle... And again, just weave the yarn in and out neatly. To hide the end in the yarn. And, uh. when you're working with very fine yarn, um, sometimes - or\\xa0you've got a lace pattern - then it's harder to\\xa0\\xa0 harder to hide the ends. But with nice\\xa0 big yarn like this it's quite simple.\\xa0\\xa0 And then once we've hidden it away,\\xa0\\xa0 snip it off. There you go. So,\\xa0 you can't see those ends now. And that is your piece of knitting from start to\\xa0finish. So, there we are you've completed your first piece of knitting from start to finish. I\\xa0hope you've enjoyed it.  Um don't forget to comment underneath the video if you really enjoyed it and\\xa0tell us what you're going to make.  We'd love to\\xa0know. Are you going to make a scarf or a cushion\\xa0or a pillow?  And don't forget to subscribe to\\xa0\\xa0our channel to learn lots more knitting skills.\\xa0There's so much more to learn - happy knitting!\\n \\n \\n \\n \\n \\n \\n \\n \\n \\n \\n \\n \\n \\n \\n \\n \\n \\n \\n \\n \\n \\n \\n \\n \\n \\n \\n \\n \\n \\n \\n \\n \\n \\n \\n \\n \\n \\n \\n \\n \\n \\n \\n \\n \\n \\n \\n \\n \\n \\n \\n \\n \\n \\n \\n\""
      ]
     },
     "execution_count": 34,
     "metadata": {},
     "output_type": "execute_result"
    }
   ],
   "source": [
    "documents[61].page_content"
   ]
  },
  {
   "cell_type": "markdown",
   "id": "95b2a009-3953-4424-a1ad-44a0975bd92e",
   "metadata": {},
   "source": [
    "### Load wikipedia page"
   ]
  },
  {
   "cell_type": "code",
   "execution_count": 35,
   "id": "47a4fec9-7516-48d5-b0ae-1ae164836a7a",
   "metadata": {},
   "outputs": [],
   "source": [
    "subject = \"Knitting\""
   ]
  },
  {
   "cell_type": "code",
   "execution_count": 36,
   "id": "a050c7fd-663d-4056-9abe-2c9de0fc6fb0",
   "metadata": {},
   "outputs": [],
   "source": [
    "lang = 'en'"
   ]
  },
  {
   "cell_type": "code",
   "execution_count": 37,
   "id": "b7aa867f-356a-46a8-a1f5-1a2d368de8bb",
   "metadata": {},
   "outputs": [],
   "source": [
    "#!pip install wikipedia"
   ]
  },
  {
   "cell_type": "code",
   "execution_count": 38,
   "id": "8470c251-80e1-41bf-8d91-2fc5dc21aaf5",
   "metadata": {},
   "outputs": [],
   "source": [
    "docs = myloadlib.loadWiki(subject, lang, 2)"
   ]
  },
  {
   "cell_type": "code",
   "execution_count": 39,
   "id": "4e2e075b-abce-4cea-8b92-aa9a1040ca5c",
   "metadata": {},
   "outputs": [],
   "source": [
    "documents.extend(docs)"
   ]
  },
  {
   "cell_type": "markdown",
   "id": "6086c650-d6ce-48ed-be77-04c353fc80a0",
   "metadata": {},
   "source": [
    "Should be 4 at the moment, but will update everytime its run, and or other Docs/documents are ran again"
   ]
  },
  {
   "cell_type": "code",
   "execution_count": 40,
   "id": "66cea9a6-3bbe-43fb-8e11-ef6292d132a9",
   "metadata": {},
   "outputs": [
    {
     "data": {
      "text/plain": [
       "64"
      ]
     },
     "execution_count": 40,
     "metadata": {},
     "output_type": "execute_result"
    }
   ],
   "source": [
    "len(documents)"
   ]
  },
  {
   "cell_type": "markdown",
   "id": "a8b8878d-f0ec-4e4d-a80f-e2e658424507",
   "metadata": {},
   "source": [
    "## Chunking\n",
    "Now we will be chunking our documents, which means breaking down our texts into smaller, more manageable chunks to prepare it for AI processing."
   ]
  },
  {
   "cell_type": "code",
   "execution_count": 41,
   "id": "a38adc0d-48d2-4289-8be6-0bd01da6fd5e",
   "metadata": {},
   "outputs": [],
   "source": [
    "#!pip install spacy\n",
    "#!pip install https://github.com/explosion/spacy-models/releases/download/en_core_web_md-3.0.0/en_core_web_md-3.0.0.tar.gz"
   ]
  },
  {
   "cell_type": "code",
   "execution_count": 42,
   "id": "b50e1ecd-9246-4c43-bdbd-1782e9290f77",
   "metadata": {},
   "outputs": [],
   "source": [
    "#!pip install wordcloud"
   ]
  },
  {
   "cell_type": "code",
   "execution_count": 43,
   "id": "581d7092-45e3-4e83-890f-13870ebcf5e3",
   "metadata": {},
   "outputs": [],
   "source": [
    "import myutils2\n",
    "from myutils2 import chunkDocs, langDetect, wordCloud"
   ]
  },
  {
   "cell_type": "code",
   "execution_count": 44,
   "id": "c4d38aeb-2cff-44f6-b16a-23d8845ea1b2",
   "metadata": {},
   "outputs": [
    {
     "data": {
      "text/plain": [
       "<module 'myutils2' from '/Users/mariamcnally/Desktop/SW2Semester/AI/OLA5/myutils2.py'>"
      ]
     },
     "execution_count": 44,
     "metadata": {},
     "output_type": "execute_result"
    }
   ],
   "source": [
    "import importlib \n",
    "importlib.reload(myutils2)"
   ]
  },
  {
   "cell_type": "code",
   "execution_count": 45,
   "id": "29acea56-838f-4751-bd6f-9b0862f86600",
   "metadata": {},
   "outputs": [
    {
     "data": {
      "text/plain": [
       "[Document(page_content='Beginning Knitting  \\n \\nWHAT IS KNITTING? \\n \\nHand knitting is to make fabric with yarn \\non two or more needles.  A number of loops are first made on one needle, and then the fabric \"grows\\'\\' by drawing other loops through them as they are passed back and forth along the needles from row to row.', metadata={'source': './data/knitting_pdfs/knit.pdf', 'page': 0}),\n",
       " Document(page_content='All knitting comes from two kinds of stitches. One is called a \"knit stitch,\" and the other is called a \"purl stitch.\" There \\nare several different ways or methods of knitting. Refer to directions in the pattern/instructions for explanations and types of stitches required.', metadata={'source': './data/knitting_pdfs/knit.pdf', 'page': 0}),\n",
       " Document(page_content='Knitting can produce something useful, but the process can,  and should be, fun \\nand relaxing.  The main thing is to learn to enjoy  knitting—relax while you work, \\navoid a cramped position, have a good light to see by, and if your hands become tired, stop and rest a while.  \\nHistory of Knitting \\n \\nKnitting is older than written history. No', metadata={'source': './data/knitting_pdfs/knit.pdf', 'page': 0}),\n",
       " Document(page_content='one knows exactly when people began to knit, but we do know that as far back as A.D. 200, knitting was an advanced and accomplished art.  The people of Scotland are believed to have been the first to knit with wool. \\n \\nA knitted fabric stretches more than a woven fabric, and it snaps back to its original size after it is stretched. For', metadata={'source': './data/knitting_pdfs/knit.pdf', 'page': 0}),\n",
       " Document(page_content='example, a woolen kn itted fabric can \\nstretch as much as 30 percent and spring back to its original size. Long ago people found out how much better a knitted \\nfabric was than a wo ven fabric for  \\nclothing that needs to stretch and then spring back to fit snugly. Sweaters, mittens, and stockings are examples of \\nthis kind of clothing.', metadata={'source': './data/knitting_pdfs/knit.pdf', 'page': 0}),\n",
       " Document(page_content='Knitting is probably more popular today than it has been at any other time in history. With the hundreds of different kinds and textures of yarns available, plus the constant development of new synthetic fibers and various combinations of them, there is no end to the beautiful and useful things you can learn to make.   \\nKNITTING TOOLS', metadata={'source': './data/knitting_pdfs/knit.pdf', 'page': 0}),\n",
       " Document(page_content='\\x88    Knitting Needles   \\nThe first tool that comes to mind \\nwhen we think of knitting is needles. Knitting needles come in many sizes, types, and lengths and are made of different materials.   Quality   - Knitting needles undergo', metadata={'source': './data/knitting_pdfs/knit.pdf', 'page': 0}),\n",
       " Document(page_content='a variety of extra finishing steps to ensure a smooth surface without nicks or rough edges.  Size  -  The size of a knitting needle', metadata={'source': './data/knitting_pdfs/knit.pdf', 'page': 0}),\n",
       " Document(page_content='refers to its diameter. In the United States, knitting needles are sized with numbers ranging from 0 to 50. Sizes 17 to 50 are considered \"jumbo\" or \"jiffy\" size needles. Canadian and European needle sizes are based on the metric system. Some U.S. needles are now labeled with both sizes. When you go shopping, look at the different sizes of needles', metadata={'source': './data/knitting_pdfs/knit.pdf', 'page': 0}),\n",
       " Document(page_content='that are available and compare the United States (standard) and metric measurements. CT-MMB.730', metadata={'source': './data/knitting_pdfs/knit.pdf', 'page': 0}),\n",
       " Document(page_content='2 \\nAll knitting patterns tell you the size of \\nneedles you will need. Never discard your needles when you have fini shed the project.  \\nIf you lose one needle and have to buy another pair the same size, keep the extra \\nneedle. You never know when you may lose or break another one.   \\n \\n\\x88    Crochet Hook  \\nYou will need a crochet hook to pick', metadata={'source': './data/knitting_pdfs/knit.pdf', 'page': 1}),\n",
       " Document(page_content='up dropped stitches and to correct other mistakes. They also come in many sizes. Size C, or 6, is a good one for 4-ply knitting yarn. \\n \\n\\x88    Measuring Tool  \\nYou will need a measuring tool. You \\ncan use a ruler, a measuring tape, or a metal measuring gauge. Be sure your \\nmeasuring tool has both standard and \\nmetric measurements.', metadata={'source': './data/knitting_pdfs/knit.pdf', 'page': 1}),\n",
       " Document(page_content='\\x88 Other helpful items: \\n \\nScissors  -    You will also want to \\ninclude in your knitting basket a pair of small scissors (kept in a case for safety). \\n \\nYarn needle  -  a blunt-pointed yarn \\nneedle for sewing your articles together. \\n  Nail file or emery board   -  for catchy \\nfingernails. A rough fingernail might catch on the yarn.', metadata={'source': './data/knitting_pdfs/knit.pdf', 'page': 1}),\n",
       " Document(page_content='Case for needles and hooks  - \\nYou can make a handy case for knitting needles by cutting a piece of corrugated paper from a packing carton. Stick your needles (and crochet hooks, too) in the ends of the paper. You can leave the holder flat for storage, or it can be rolled up and fastened with a rubber band.', metadata={'source': './data/knitting_pdfs/knit.pdf', 'page': 1}),\n",
       " Document(page_content='Small transparent case   - It is a \\ngood idea to keep all easily lost items, such as rubber tips and tapestry needles, in a small transparent case.   A long, round, narrow plastic medicine bottle will make a very nice case.  Be sure to wash the bottle well before you use it for your needles and other small items.', metadata={'source': './data/knitting_pdfs/knit.pdf', 'page': 1}),\n",
       " Document(page_content='3\\n \\n \\nIn addition to the equipment listed above, you may want to use the following:  \\n\\x88 Point protectors  \\nLittle rubber tips that prevent the \\nstitches from coming off the needle, protect the point of the needle from \\ndamage, and protect your hands and knitting containers from needle points. \\n \\n\\x88 Markers—plastic rings', metadata={'source': './data/knitting_pdfs/knit.pdf', 'page': 2}),\n",
       " Document(page_content='Identifies a certain point in the knitting, \\nsuch as an increase or a decrease. \\n   \\n \\n \\n\\x88    Stitch holder  -  a large \"safety pin\" that \\n holds stitches temporarily. \\n  \\n\\x88 Cable stitch holder    \\nHolds reserve stitches  out of the work \\narea. There are several types and sizes to choose from. \\n \\n \\n \\n      \\x88    Knit counter', metadata={'source': './data/knitting_pdfs/knit.pdf', 'page': 2}),\n",
       " Document(page_content='A small, lightweight device that slips \\nover the needle to keep count of the rows. Each type of counter has a dial arrangement with two sets of numbers that will record a count from 1 to 99.    \\n \\n\\x88 Stitch gauge   \\nIncludes a 6-inch ruler and a useful', metadata={'source': './data/knitting_pdfs/knit.pdf', 'page': 2}),\n",
       " Document(page_content='measuring guide for determining the size of knitting needles. Many of the gauges available also have an open space for measuring stitches and rows. \\n Of course, you will want something in which to keep your knitting and knitting tools. There are many things you might use for this purpose, so use your imagination!', metadata={'source': './data/knitting_pdfs/knit.pdf', 'page': 2}),\n",
       " Document(page_content='SELECTING PATTERNS AND YARN  \\n \\nThere are hundreds of sets of instructions \\nfor knitted articles. Some commercial companies provide excellent instructions, while others produce patterns with mistakes in their directions. The directions are often incomplete and hard to follow as well. When selecting instructi ons for your project,', metadata={'source': './data/knitting_pdfs/knit.pdf', 'page': 2}),\n",
       " Document(page_content='remember that good inst ructions include: Clutter Control  \\n♦ Pencil box/pouch to hold small equipment \\n♦ Cloth or sturdy bag w ith handles to tote \\nsupplies \\n♦ Pocket folder/binder to hold knitting \\npatterns', metadata={'source': './data/knitting_pdfs/knit.pdf', 'page': 2}),\n",
       " Document(page_content='4 \\n1. A list of materials required—the kind \\nand amount of yarn, size and number of needles, and other tools needed, such as a crochet hook. \\n \\n2. A gauge for the number of stitches per \\ninch and number of rows per inch. \\n \\n3. Instructions that are printed clearly with \\nprint large enough to read easily. \\n \\n4. A clear photograph of the finished', metadata={'source': './data/knitting_pdfs/knit.pdf', 'page': 3}),\n",
       " Document(page_content='garment so that details can be seen, such as any pattern stitches, number of buttons and buttonholes, set-in sleeves or raglan sleeves, length of sleeves (full length or three-quarte r), total length of \\nthe garment on the m odel (waist length, \\nhigh hip, or low hip), and the general shaping. \\n \\n5. Detailed instructi ons for finishing the', metadata={'source': './data/knitting_pdfs/knit.pdf', 'page': 3}),\n",
       " Document(page_content='garment. \\n \\n6. A chart with the size range for the \\nknitted garment in relation to body measurements so that you have a guide to the best size for you.', metadata={'source': './data/knitting_pdfs/knit.pdf', 'page': 3}),\n",
       " Document(page_content='When selecting a pattern for a knitted garment, read through the instructions before you buy. With a little experience in knitting, you will learn to recognize instructions that give enough details and are clear and easy to understand. Buy instructions and supplies with well-known brand names.  \\nAbout Yarns', metadata={'source': './data/knitting_pdfs/knit.pdf', 'page': 3}),\n",
       " Document(page_content='Many different kinds of yarns are available \\nfor knitting. Most yarn  is wound in pull-out \\nskeins.  \\n \\nRead the Yarn Label \\n \\nThe label or skein band should include the: \\n• Manufacturer\\'s name and address.  \\n• Type of yarn. \\n• Fiber content. \\n•  Word \"virgin,\" meani ng that the fiber is \\nnew and has not been reprocessed.', metadata={'source': './data/knitting_pdfs/knit.pdf', 'page': 3}),\n",
       " Document(page_content='• Number of plies. • Amount of yarn. \\n• Color name and number. \\n• Dye lot. \\n• Certification mark (optional). \\n• Care instructions. \\n Types of Yarn \\n \\nHundreds of different types and textures of \\nyarn are available toda y. Almost all knitting \\npatterns tell you the kind and amount of yarn you will need to make an article.', metadata={'source': './data/knitting_pdfs/knit.pdf', 'page': 3}),\n",
       " Document(page_content='Hand knitting yarn of acrylic, wool, or wool/nylon is suitable for hats, mittens, gloves, sweaters, and scarves. Because of its firm twist and medium weight, 4-ply \\nworsted hand knitting yarn is \\nrecommended for beginning knitters . \\n \\nWhen a knitted garment is designed, the', metadata={'source': './data/knitting_pdfs/knit.pdf', 'page': 3}),\n",
       " Document(page_content='yarn is an important part of the design. The thickness and texture of the yarn in relation to the pattern stitch are important. If you wish to substitute a yarn, choose one as similar as possible to the specified yarn. Be sure you can work to the gauge in the substitute yarn. \\n \\nAmount of Yarn', metadata={'source': './data/knitting_pdfs/knit.pdf', 'page': 3}),\n",
       " Document(page_content='Yarn is purchased by weight, not length. Since the weight of a skein varies, check the labels carefully to make sure there is enough yarn to complete the project. The pattern will tell you the number of ounces or grams of yarn needed for a knitting project.  \\nHints On Buying Good-Quality Yarn \\n \\n \\nThe quality of the yarn has  a direct effect on', metadata={'source': './data/knitting_pdfs/knit.pdf', 'page': 3}),\n",
       " Document(page_content='the outcome of the finished product. Good-\\nquality yarn means satisfactory and long-lasting results. \\n \\nTo identify good-quality yarn, observe the color of the yarn. It should be even throughout the skein, since even a very slight variation in the color will be visible in the finished product. \\n \\n\\x89 Dye lot-The dye lot number on the skein', metadata={'source': './data/knitting_pdfs/knit.pdf', 'page': 3}),\n",
       " Document(page_content='band is an identification number for the', metadata={'source': './data/knitting_pdfs/knit.pdf', 'page': 3}),\n",
       " Document(page_content='5dye bath used for a quantity of yarn. \\nTwo skeins of yarn the same color but with different dye lot numbers can have a slight color variation that is only visible in the completed project. When you select the yarn you want, be sure to check each skein to make sure the color and dye lot numbers are the same.', metadata={'source': './data/knitting_pdfs/knit.pdf', 'page': 4}),\n",
       " Document(page_content='\\x89 When you buy yarn, always buy enough \\nyarn to make the completed project, since no two dye lots are exactly the same. It is better to have a little too much yarn than not enough. \\n \\n\\x89 Twist of yarn   - Ex amine the twist of the', metadata={'source': './data/knitting_pdfs/knit.pdf', 'page': 4}),\n",
       " Document(page_content='yarn. It should be firmly twisted so that it will not separate easily during knitting. The yarn should be the same thickness throughout the skein to help ensure even stitches in the completed project. The yarn should be full and round in appearance so that the finished project will retain its shape. \\n \\n\\x89 Resiliency of yarn  - Check the', metadata={'source': './data/knitting_pdfs/knit.pdf', 'page': 4}),\n",
       " Document(page_content='resiliency of the yarn. Squeeze the skein. Good-quality yarn should bounce back. Twist or stretch a strand of yarn. When released, a good-quality yarn will spring back close to its original length. \\n  \\nCARE OF KNITTING \\n \\nSave the skein band/label from the yarn', metadata={'source': './data/knitting_pdfs/knit.pdf', 'page': 4}),\n",
       " Document(page_content=\"used in the project in case there's a need to refer to the information on the label. Remember, the skein band also contains care instructions. Follow the information specified by the manufa cturer for the yarn.\", metadata={'source': './data/knitting_pdfs/knit.pdf', 'page': 4}),\n",
       " Document(page_content='For best results do not allow a knitted item to become excessively soiled.  Knitted garments should be stored folded flat, not hung on hangers.  \\nGood Knitting Habits \\n \\n1. Always remember to wash and dry your', metadata={'source': './data/knitting_pdfs/knit.pdf', 'page': 4}),\n",
       " Document(page_content='hands well before you pick up your knitting. If your hands become moist while knitting, rub a little talcum powder on them. This will keep the yarn from \\nsticking to your fingers. \\n \\n2. Make sure you have good light when \\nknitting. Poor lighting will not only strain your eyes but also will make it difficult to catch mistakes in your work.', metadata={'source': './data/knitting_pdfs/knit.pdf', 'page': 4}),\n",
       " Document(page_content=\"3. Check your posture. If you avoid a \\ncramped position, you won't become \\ntired so quickly. But when your hands \\nbecome tired or you are tired, stop and rest! \\n  \\nFOUR RULES TO LEARN BEFORE YOU \\nSTART TO KNIT \\n \\nRule 1.     Learn knitting abbreviations.\", metadata={'source': './data/knitting_pdfs/knit.pdf', 'page': 4}),\n",
       " Document(page_content=\"These abbreviations are the ABC's of the language of knitting. They are always used in exactly the same way in all directions. A list of commonly used abbreviations is included at the end of this publication. To begin with, you will need to know the following:  \\nk knit  p purl  \\nst(s) stitch(es)\", metadata={'source': './data/knitting_pdfs/knit.pdf', 'page': 4}),\n",
       " Document(page_content='sl slip stitch to other needle without  knitting  * repeat whatever follows * as  indicated \\n \\nRule 2.    Always read directions step by \\nstep. Never \"read ahead\" when you are following directions.  \\n \\nRule 3.    Always try to finish the row before', metadata={'source': './data/knitting_pdfs/knit.pdf', 'page': 4}),\n",
       " Document(page_content='putting your work down. But, if you must put your work down in the middle of a row, be certain that the end of the yarn coming from \\nthe skein is in your right hand when you pick it up again. Then you can\\'t go wrong. \\n \\nRule 4.     Know the two stitches used for \\nall knitting. One is called a \"knit\" stitch (k);', metadata={'source': './data/knitting_pdfs/knit.pdf', 'page': 4}),\n",
       " Document(page_content='the other is called a \"purl\" stitch (p). Your \\ndirections will tell you when to \"knit\" and when to \"purl.\" A good way to tell a \"knit\" from a \"purl\" is to think of the yarn on your needle as a neck, the \"knit\" stitch as a V-', metadata={'source': './data/knitting_pdfs/knit.pdf', 'page': 4}),\n",
       " Document(page_content='6\\nneck sweater, and the \"purl\" stitch as a \\nturtleneck sweater.        \\nCASTING ON-The First Step in Knitting \\n \\nCasting on (CO) is the technique for \\nforming the first row of stitches on a knitting needle. This technique requires two yarn ends.', metadata={'source': './data/knitting_pdfs/knit.pdf', 'page': 5}),\n",
       " Document(page_content='There are several methods of casting on stitches. One method is shown here. By using two yarns to cast  on, the beginning or \\nedge of your work will be stronger.', metadata={'source': './data/knitting_pdfs/knit.pdf', 'page': 5}),\n",
       " Document(page_content='For correct tension, as it is called, stitches should fit closely but not tightly around the needles. They should move back and forth along the needles freely but not so freely as to allow the needles to fall out. \\n \\nIf you find that you have a tendency to cast on too tightly, use a larger size needle for the cast-on and bind-off rows.', metadata={'source': './data/knitting_pdfs/knit.pdf', 'page': 5}),\n",
       " Document(page_content='How to Begin \\n \\n1. Measure a length of  yarn long enough to \\ncomplete the number of  cast-on stitches \\nspecified in the knitting instructions. Allow 1 inch of yarn for every stitch you \\ncast on and an additional 6 inches for \\nfinishing yarn ends.  \\n \\n \\n \\n2. After measuring the yarn, make a slip \\nknot for the first stitch.', metadata={'source': './data/knitting_pdfs/knit.pdf', 'page': 5}),\n",
       " Document(page_content='3. Place the loop on the needle and gently \\npull the ends of the ya rn (not too tightly). \\nThe skein of the yarn is to the right, and the free end of the yarn is to the left.  \\n \\n \\nWhat to Do with the Right Hand \\n \\n1. Hold the needle between the thumb and \\nfirst finger, as if you were holding a pencil.', metadata={'source': './data/knitting_pdfs/knit.pdf', 'page': 5}),\n",
       " Document(page_content='2. Be sure that the loop is near the pointed \\nend of the needle.  \\n \\n3. Using the skein end of the yarn, place \\nthe yarn loosely over the first finger, under the second, over  the third, and \\nunder the fourth above the knuckles. The second and third fingers are very important because they  keep the flow of', metadata={'source': './data/knitting_pdfs/knit.pdf', 'page': 5}),\n",
       " Document(page_content='yarn even, not too tight or too loose. That is, they regulate the tension.  \\n \\n        Knit or V-neck                  Purl or Turtleneck', metadata={'source': './data/knitting_pdfs/knit.pdf', 'page': 5}),\n",
       " Document(page_content='7\\n \\n \\n \\nWhat to Do with the Left Hand \\n \\n1. Grasp the free end of  the yarn lightly \\nagainst the left hand with the second, third, and fourth fingers. \\n \\n2. Place the yarn near the needle around \\nand under the thumb.  \\n        \\n \\n        Now You Are Ready to Work  \\n \\nBring the hands clos e together and adjust \\nthe yarn.', metadata={'source': './data/knitting_pdfs/knit.pdf', 'page': 6}),\n",
       " Document(page_content='Procedure \\n \\n1. Notice that the yarn makes a loop \\naround the left thumb. \\n \\n2. Insert your needle through the \\nunderside of the loop.  \\n    \\n          3. Bring the yarn in the right hand over the \\npoint of the needle from the back. \\n                  \\n \\n  4. Draw it through the loop.', metadata={'source': './data/knitting_pdfs/knit.pdf', 'page': 6}),\n",
       " Document(page_content='5. Slip the thumb out. Pull the yarn tightly. \\nTwo stitches are now on the needle. \\n \\n6. Repeat from Step 2 until you have the \\nnumber of stitches needed.', metadata={'source': './data/knitting_pdfs/knit.pdf', 'page': 6}),\n",
       " Document(page_content='8\\nTHE KNIT STITCH (k) \\n \\nPlain knitting or the  garter stitch is \\ncharacteristic of horizontal ridges and looks the same on the front as the back. \\n \\n \\nWhat to Do with the Left Hand \\n \\n1. In the left hand, hold the needle with the \\nstitches you have just cast on. \\n \\n2. The first stitch is held lightly by the index', metadata={'source': './data/knitting_pdfs/knit.pdf', 'page': 7}),\n",
       " Document(page_content='finger near the tip of the needle.  \\n \\nWhat to Do with the Right Hand \\n \\n1. Hold the needle between the thumb and \\nthe index finger, as if  you were holding a \\npencil. This is the same procedure as for casting on. \\n \\n2. The yarn is placed over the first finger,', metadata={'source': './data/knitting_pdfs/knit.pdf', 'page': 7}),\n",
       " Document(page_content='under the second, over the third and under the fourth above the knuckles. As you practice knitting, you will learn to adjust the yarn to get the best results.  \\n \\n3. Bring your hands  close together and \\nadjust the yarn. \\n \\n   Procedure-First Row \\n \\n1. Insert the right needle into the front of', metadata={'source': './data/knitting_pdfs/knit.pdf', 'page': 7}),\n",
       " Document(page_content='the first stitch on the left needle from the left side. Steady the right needle against the forefinger of the left hand. Keep your yarn to the back of your work.  \\n \\n2. With the right hand, bring the yarn over \\nthe point of the right needle.  \\n  \\n        \\n3. Draw the yarn through the stitch.  \\n4. Slip the old stitch off the left needle, thus', metadata={'source': './data/knitting_pdfs/knit.pdf', 'page': 7}),\n",
       " Document(page_content='completing the first new stitch. A new row is being formed on the right needle.', metadata={'source': './data/knitting_pdfs/knit.pdf', 'page': 7}),\n",
       " Document(page_content='95. Always keep pushing your work up so \\nthat the stitch on wh ich you are working \\nis near the tip of the needle. \\n \\n6. Repeat Steps 1 th rough 4 until all the \\nstitches have been knitted off the left needle. An easy way to remember these steps is to repeat to yourself: \"in\" (Step 1); \"over\" (Step 2); \"through\" (Step 3); \"off\" (Step 4).', metadata={'source': './data/knitting_pdfs/knit.pdf', 'page': 8}),\n",
       " Document(page_content='Second Row & Succeeding Rows \\n \\n1. Change the needle with the stitches into \\nthe left hand. \\n \\n2. The empty needle is in the right hand. \\nThe yarn is over the first finger, under the second, over the third, and under \\nthe fourth above the knuckles.  \\n \\n3. Slip the first stitch off the left needle', metadata={'source': './data/knitting_pdfs/knit.pdf', 'page': 8}),\n",
       " Document(page_content='onto the right needle without knitting. To do this, insert right needle into loop from the right side, transfer loop to right needle. Do this with the first stitch of each row and you will have a smooth edge. \\n \\n4. Bring your yarn to the back of your work \\nby passing it between the two needles. \\n \\n \\n5. Proceed as before. Watch your work', metadata={'source': './data/knitting_pdfs/knit.pdf', 'page': 8}),\n",
       " Document(page_content='closely to be sure that you have not dropped a stitch. When every row is knit the fabric that results is known as the garter stitch . \\n \\n \\nTHE PURL STITCH (p) \\n \\nThe purl stitch differs in two ways from the \\nknit stitch. In plain kni tting, the yarn is at the \\nback of your work. In purling, the yarn is to the front of your work.', metadata={'source': './data/knitting_pdfs/knit.pdf', 'page': 8}),\n",
       " Document(page_content='In plain knitting, the needle is inserted in the front of the stitch from  the left side of the \\nother needle. In purling, insert the needle in \\nthe front of the stitch from the right side of \\nthe other needle. \\n \\nThe purl stitch is not used alone; it is \\ncombined with the knit  stitch to create', metadata={'source': './data/knitting_pdfs/knit.pdf', 'page': 8}),\n",
       " Document(page_content='different patterns. When the pattern is knit one row and purl the next, the result is a fabric that is smooth on one side. We call this the stockinette stitch .  Sometimes the \\npurl side is used for the outside of the article. This is called reversed stockinette \\nstitch .', metadata={'source': './data/knitting_pdfs/knit.pdf', 'page': 8}),\n",
       " Document(page_content='10THE RIB STITCH \\n \\nThe rib stitch/ribbing is  made by alternating \\na number of knit stitc hes with purl stitches. \\nThe most common form of ribbing is knit two, purl two. In knit -two, purl-two ribbing, \\nthe number of stitches  cast on is usually \\ndivisible by four. \\n \\nKnit the first two stitches, bring the yarn', metadata={'source': './data/knitting_pdfs/knit.pdf', 'page': 9}),\n",
       " Document(page_content='forward and purl two stitches, then bring the yarn to the back and knit two stitches. Continue in this m anner to the end of the \\nrow. Always bring the yarn between the needles. Do not go over the top of a needle, as this will make a hole in the row of stitches.', metadata={'source': './data/knitting_pdfs/knit.pdf', 'page': 9}),\n",
       " Document(page_content='When you turn your work for the next row, the stitches that are purled on the previous \\nrow will become knit stitches on the following row. Remember that an easy way to tell a knit stitch fr om a purl stitch is to \\nthink of the knit stitch as a \"V-neck\" sweater.', metadata={'source': './data/knitting_pdfs/knit.pdf', 'page': 9}),\n",
       " Document(page_content='When binding off in ribbing, always remember to bind off by knitting the knit stitches and purling the purl stitches as if \\nyou were continuing to rib.', metadata={'source': './data/knitting_pdfs/knit.pdf', 'page': 9}),\n",
       " Document(page_content='Because of its elasticity, ribbing is frequently used on the part of the garment that fits snugly, such as the waistband and cuffs of a sweater and the tops of mittens and socks. Ribbing is usually worked on smaller size needles than the rest of the garment.   \\n \\n  BINDING OFF (BO) \\n \\nWhen a knitting project is  finished, the final', metadata={'source': './data/knitting_pdfs/knit.pdf', 'page': 9}),\n",
       " Document(page_content='technique is called binding off.  \\nProcedure \\n \\n1. Slip the first stitch  on the row off the left \\nneedle onto the right  needle without \\nknitting. \\n \\n2. Knit the next stitch very loosely. There \\nare now two stitches on the right needle. \\n \\n3. Insert the left needle through the left \\nside of the first stitch.', metadata={'source': './data/knitting_pdfs/knit.pdf', 'page': 9}),\n",
       " Document(page_content='4. Keep the yarn in the right hand very \\nloose so that the second stitch remains loose. \\n \\n5. Bring the first stitch forward over the \\nsecond stitch and over  the tip of the \\nneedle so that one stitch remains on the needle.  \\n \\n6. Repeat Steps 2 through 5 to bind off the \\nremaining stitches. \\n \\n7. When you come to the last stitch, clip', metadata={'source': './data/knitting_pdfs/knit.pdf', 'page': 9}),\n",
       " Document(page_content='your yarn about 3 inches from the \\nneedle. Bring the loose end through the \\nstitch remaining on the needle and pull tightly. Darn or weave in the loose end so that it will not show.', metadata={'source': './data/knitting_pdfs/knit.pdf', 'page': 9}),\n",
       " Document(page_content='11\\n \\nIf the project is going to  require that a seam \\nbe sewn along the bound-off edge, you may wish to leave the yarn long enough to sew the seam.   \\nGAUGE \\n \\nGauge refers to the number of stitches to', metadata={'source': './data/knitting_pdfs/knit.pdf', 'page': 10}),\n",
       " Document(page_content='the inch and the number of rows to the inch. The correct gauge is essential to knitting a garment of the right size and fit. Gauge is determined by the size  of the needles, the \\ntype of yarn, and the tension and rhythm of the individual. Tension and rhythm are developed through practice and will vary from person to person.', metadata={'source': './data/knitting_pdfs/knit.pdf', 'page': 10}),\n",
       " Document(page_content='Tension is the \"pull\" on the yarn as it passes through the fingers. Tension controls the tightness or looseness of the \\nknitting. An even tension is achieved by passing yarn through relaxed fingers. The \\nstitches should be loose enough so that the \\nneedle passes through easily but tight enough so that the stitches don\\'t fall off the needle.', metadata={'source': './data/knitting_pdfs/knit.pdf', 'page': 10}),\n",
       " Document(page_content='Rhythm is the flow of one hand knitting movement to the next. With practice, rhythm will become steady and smooth.  \\nCheck the Gauge \\n \\nKnitting instructions will specify the gauge.', metadata={'source': './data/knitting_pdfs/knit.pdf', 'page': 10}),\n",
       " Document(page_content='The gauge should always be checked by making a sample square using the same yarn and needle size given in the instructions. Cast on 20 stitches and knit for 3 inches (7.6 cm) or more in the same stitch used for the major portion of the project.  \\n Measuring the Gauge \\n \\nBind off the stitches on the sample and', metadata={'source': './data/knitting_pdfs/knit.pdf', 'page': 10}),\n",
       " Document(page_content='place the sample on a flat surface. With a ruler, measure across the sample, counting rows to the inch. \\n \\nThe above figure shows how to measure \\nthe garter stitch. The gauge is 4 stitches = 1 inch (2.5 cm) and 9 rows = 1 inch (2.5 cm).', metadata={'source': './data/knitting_pdfs/knit.pdf', 'page': 10}),\n",
       " Document(page_content='The figure below shows how to measure the stockinette stitch. The gauge is 5 stitches = 1 inch (2.5 cm) or 10 stitches = 2 inches and 6 rows = 1 inch (2.5 cm). \\n \\nBy using a 2-inch measure, you allow for', metadata={'source': './data/knitting_pdfs/knit.pdf', 'page': 10}),\n",
       " Document(page_content='variation. If one inch has fewer stitches than the directions called for, you need to use a smaller needle. If it has more stitches, you need to use a larger needle.', metadata={'source': './data/knitting_pdfs/knit.pdf', 'page': 10}),\n",
       " Document(page_content=\"The needle sizes given in the knitting instructions are only suggested sizes. Use any size needle that will produce the correct gauge.  Experiment with needle si zes until the exact \\ngauge is achieved. In testing gauge, don't unravel previous samples and reuse the\", metadata={'source': './data/knitting_pdfs/knit.pdf', 'page': 10}),\n",
       " Document(page_content='12yarn. Knitting with used yarn can affect the \\ngauge.   \\nSELVAGE \\n \\nThe selvage is the edge of  your knitting. To \\nmake a neater edge and one that is easier to seam, slip the first stitch of each row instead of knitting or purling the stitch.   \\nSEWING SEAMS \\n \\nWhen you finish knitting a garment, it is a', metadata={'source': './data/knitting_pdfs/knit.pdf', 'page': 11}),\n",
       " Document(page_content=\"big temptation to sew up the seams as quickly as possible. Don't be tempted! Seams are a very import ant part of a knitted \\ngarment, and good seams take time, care, and patience.\", metadata={'source': './data/knitting_pdfs/knit.pdf', 'page': 11}),\n",
       " Document(page_content='There are several kinds of seams. Sometimes it is best to use one seam, and at other times it is best to use another. The important thing is to use the seam that looks best and is most suitable for the article. \\n \\nBe sure your finished seam has as much elasticity, or stretch, as your knitted fabric, whichever type of seam you choose to use.', metadata={'source': './data/knitting_pdfs/knit.pdf', 'page': 11}),\n",
       " Document(page_content='Flat Overcast Seam \\n \\n1. If you look carefully at the side of a \\nknitted fabric, you will see that the end stitches of your f abric have 2 threads \\nforming a top and bottom edge (if you have slipped the first st itch of each row).  \\n \\n2. Place the 2 pieces to be sewn side by \\nside with edges even and wrong side up.', metadata={'source': './data/knitting_pdfs/knit.pdf', 'page': 11}),\n",
       " Document(page_content='3. If you have a yarn on either piece of', metadata={'source': './data/knitting_pdfs/knit.pdf', 'page': 11}),\n",
       " Document(page_content='your garment long enough to sew your seam with, use it to sew your seam. Otherwise, thread a piece of the same yarn you used in knitting your garment into your yarn needle and attach the yarn with a single knot to the wrong side of the piece on the right. Leave about 2 inches of yarn on the end of the knot. Do not cut the yarn close to the knot,', metadata={'source': './data/knitting_pdfs/knit.pdf', 'page': 11}),\n",
       " Document(page_content='as the knot may come untied.', metadata={'source': './data/knitting_pdfs/knit.pdf', 'page': 11}),\n",
       " Document(page_content='4. Now insert your needle into the top half \\nof the first stitch on  the right and then \\ninto the top half of the first stitch on the left and pull the yarn through the two stitches firmly. \\n \\n5. Next insert your needle into the top half', metadata={'source': './data/knitting_pdfs/knit.pdf', 'page': 11}),\n",
       " Document(page_content='of the second stitch on the right and the top half of the second stitch on the left. Put the fingers of your left hand under your work and put your thumb on the outside of the first stitch you made. Hold the first stitch tightly with your thumb and fingers as you pull the thread for your second stitch firmly. Continue in this manner, sewing', metadata={'source': './data/knitting_pdfs/knit.pdf', 'page': 11}),\n",
       " Document(page_content='through the top half of every stitch, until you have finished your seam.', metadata={'source': './data/knitting_pdfs/knit.pdf', 'page': 11}),\n",
       " Document(page_content='Be very careful to hold the last stitch \\ncompleted with the thumb and fingers of your left hand while you pull the yarn to tighten the stitch you are working on. In', metadata={'source': './data/knitting_pdfs/knit.pdf', 'page': 11}),\n",
       " Document(page_content='13\\nthis way your seam will be firm but still \\nhave elasticity. If you fail to hold each stitch in this manner each time you pull a new stitch, your yarn will pull too tightly the full length of your seam, and the seam will be too tight. \\n \\n6. Check your work every few inches to', metadata={'source': './data/knitting_pdfs/knit.pdf', 'page': 12}),\n",
       " Document(page_content='make sure that it is flat and even on the right side and that your seam has enough \"stretch.\"  \\n \\nIf you find that the two edges are not \\ncoming out even (in other words, if one side has a few more stitches than the other), skip a stitch now and then on the longer side to make  them come out \\neven at the end of your seam.', metadata={'source': './data/knitting_pdfs/knit.pdf', 'page': 12}),\n",
       " Document(page_content='7. When your seam is completed, it should \\nbe flat and even with almost as much stretch or elasticity as your knitted fabric. \\n  \\nBackstitch Seam \\n \\n1. Pin, and then baste the pieces to be \\njoined together with edges even and right sides together with the wrong sides \\nout. \\n 2. Thread a yarn needle with the same', metadata={'source': './data/knitting_pdfs/knit.pdf', 'page': 12}),\n",
       " Document(page_content='yarn used in the knitting. If using 4-ply yarn, you can \"split it\" and use only 2-ply for the seam. (If you have a length of yarn left on either piece long enough for your seam, use it.) \\n \\n3. Sew the seam with a backstitch about \\n1/4-inch from the edge  \\n \\n \\n \\n4. To make a backstitch, bring the needle', metadata={'source': './data/knitting_pdfs/knit.pdf', 'page': 12}),\n",
       " Document(page_content='out on the right side, insert it back to the end of the last stitch, then from the wrong side bring the needle out on the right side in front of the yarn. Repeat until you have the desired length of seam. \\n       5. Do not pull the stit ches too tightly, as \\nyour finished seam should have elasticity.', metadata={'source': './data/knitting_pdfs/knit.pdf', 'page': 12}),\n",
       " Document(page_content='6. It is wise to check the right side of your \\nwork from time to time to ensure neatness. \\n \\n7. Steam seams open and flat. \\n \\n FINISHING YARN ENDS \\n \\nAfter the knitted article is completed, finish all yarn ends by weaving the yarn into the seam. If there is no seam, separate the strand of yarn into two sections before weaving the yarn.', metadata={'source': './data/knitting_pdfs/knit.pdf', 'page': 12}),\n",
       " Document(page_content='To weave in the yarn, thread it into a tapestry needle. Weave the yarn into the wrong side of the knitting for about 2 inches.  For yarn separated into sections, weave the sections in opposite directions. The woven-in yarn should not be visible from the right side.', metadata={'source': './data/knitting_pdfs/knit.pdf', 'page': 12}),\n",
       " Document(page_content='14\\nINCREASING  \\n \\nIncreasing is the technique of adding \\nstitches so that the project becomes wider. \\nThere are many ways to increase in knitting.', metadata={'source': './data/knitting_pdfs/knit.pdf', 'page': 13}),\n",
       " Document(page_content='The increase stitch most commonly used is to knit into the front and then into the back of the same stitch before removing it from the needle. Knitting instructions may refer to this as \"k in front and back of st.\"', metadata={'source': './data/knitting_pdfs/knit.pdf', 'page': 13}),\n",
       " Document(page_content='This method of increasing is used at the edge of a garment for shaping and at places where the increase itself forms part of the design of a garment, such as in raglan sleeve seams.  \\n \\nHow to Increase in Knitting \\n \\n1. When you wish to increase the number \\nof stitches in the ro w, knit one stitch but \\ndo not slip this stitch off the left needle.', metadata={'source': './data/knitting_pdfs/knit.pdf', 'page': 13}),\n",
       " Document(page_content='2. Move the right-hand needle behind the \\nleft-hand needle.  Insert the needle in back of the same stitch and knit another stitch. \\n  \\n \\n        3. Slip the stitch off the left-hand needle. \\nThere will be two stitches transferred to the right-hand needle instead of one. \\n \\n \\n Yarn Over \\n \\nYarn over (yo) is another method of', metadata={'source': './data/knitting_pdfs/knit.pdf', 'page': 13}),\n",
       " Document(page_content='increasing. It is also used to make an eyelet and to help form many  pattern stitches.  \\n \\nTo yarn over before a kn it stitch, bring your \\nyarn to the front of  the right-hand needle \\nand knit the next stitch. Thus, a loop is formed on the right needle and an extra stitch is added. \\nTo yarn over before a purl stitch, wrap the', metadata={'source': './data/knitting_pdfs/knit.pdf', 'page': 13}),\n",
       " Document(page_content='yarn completely around the right-hand needle and purl the next stitch in the usual manner. Thus, a loop is formed on the right-hand needle and an extra stitch is added. \\n \\n      \\n \\n \\n \\n     DECREASING \\n \\nDecreasing is the technique for reducing the number of stitches so that the project', metadata={'source': './data/knitting_pdfs/knit.pdf', 'page': 13}),\n",
       " Document(page_content='becomes narrower. To decrease means to take away from the number of stitches you are working with. Th e decrease, like the \\nincrease, is used to shape your work or to help form a design in your knitted garment.', metadata={'source': './data/knitting_pdfs/knit.pdf', 'page': 13}),\n",
       " Document(page_content='15\\nHow to Decrease When Knitting \\n \\nOn a knit row, knit tw o stitches together (k 2 \\ntog). This method produces a stitch decreasing that slant s to the right when \\nseen on the right side of a project.       \\nHow to Decrease When Purling \\n \\nOn a purl row, purl two stitches together (p \\n2 tog).', metadata={'source': './data/knitting_pdfs/knit.pdf', 'page': 14}),\n",
       " Document(page_content='Decreasing by slip one, knit one, pass slip stitch over (psso):   \\n \\nSlip one stitch (from the left-hand to the \\nright-hand needle without knitting—sl 1—as \\nin the figure below).         Then, knit one stitch  (k 1). This method', metadata={'source': './data/knitting_pdfs/knit.pdf', 'page': 14}),\n",
       " Document(page_content='makes the resulting decreased stitch slant to the left. With the left-hand needle, pass the slipped stitch over  the knitted stitch \\n(psso). \\n \\n   \\n \\n     JOINING YARN \\n \\nJoining yarn is the technique of attaching a \\nnew skein of yarn to the yarn already in \\nuse. Joining yarn is also used to create stripes in knitted articles.', metadata={'source': './data/knitting_pdfs/knit.pdf', 'page': 14}),\n",
       " Document(page_content='For best results, always join the new yarn at the beginning of a row.  A yarn that has \\nbeen joined in the middle of a row may be visible from the right side of the project.  \\n \\nTo join yarn at the beginning of a row, tie \\nthe new yarn to the old one using a single knot.', metadata={'source': './data/knitting_pdfs/knit.pdf', 'page': 14}),\n",
       " Document(page_content='Tighten the knot and move it up close to the work. Continue knitting, using the new yarn. The knot can shift causing the first few stitches to have a loos e tension. Therefore,', metadata={'source': './data/knitting_pdfs/knit.pdf', 'page': 14}),\n",
       " Document(page_content='readjust the knot and tighten those stitches before completing the row. After you have knitted a few rows you can go back and weave the tail ends into the back of your knitting.  When your design calls for color changes, the directions will identify whether you are working with a main color (MC)  or a \\ncontrasting color (CC) . You may have', metadata={'source': './data/knitting_pdfs/knit.pdf', 'page': 14}),\n",
       " Document(page_content='more than one contrasting color, in which each will be identified separately.  \\nSplicing Yarns  \\n \\nThis method may be used on a 4-ply yarn. \\nYou may splice other yarns, but not by splitting. \\n \\nYou may join yarn by splicing anywhere in your work. If splicing is done carefully and properly, it is almost impossible to detect Figure HH', metadata={'source': './data/knitting_pdfs/knit.pdf', 'page': 14}),\n",
       " Document(page_content='16the join. To splice yarn, unravel the end of \\nboth pieces of yarn (the old and the new) for about 4 inches.  \\n \\nSeparate the threads and cut two of the 4 plies off about 3 inches from the end \\n  \\nDampen the tips of all 8 strands. Lay the \\nstrands of both pieces  of yarn together; \\ndovetail or roll them all together following', metadata={'source': './data/knitting_pdfs/knit.pdf', 'page': 15}),\n",
       " Document(page_content='the original twist of the yarn as much as possible.   \\nPATTERN STITCHES \\n \\nOnce you have advanced to the point \\nwhere your knitting tension is even, and you can do most of the basic knitting steps with skill and ease, you are ready to add distinction and individuality to your work with pattern stitches.', metadata={'source': './data/knitting_pdfs/knit.pdf', 'page': 15}),\n",
       " Document(page_content='Regardless of how intricate some pattern stitches appear to be,  they are all made \\nwith a combination of  the basic knitting \\nstitches and steps that you have already learned. (Ribbing used in the body of a garment is considered a pattern stitch. Ribbing used to finish the edges of a garment is not considered a pattern stitch.)', metadata={'source': './data/knitting_pdfs/knit.pdf', 'page': 15}),\n",
       " Document(page_content='In reading the directions for a garment made with a pattern stitch, you will more than likely find the term “multiple of stitches.” This means that to have the \\npattern work out correctly, the number of', metadata={'source': './data/knitting_pdfs/knit.pdf', 'page': 15}),\n",
       " Document(page_content='stitches cast on must be divisible by the multiple given. For instance, multiple of 5 sts would be any number divisible by 5, e.g., 25. If the multiple  is 5 sts plus 1, the \\nnumber of stitches cast  on must be divisible \\nby 5 and 1 stitch over, or 26.', metadata={'source': './data/knitting_pdfs/knit.pdf', 'page': 15}),\n",
       " Document(page_content='When you have selected your pattern, make a fairly large swatch, working in the pattern stitch by casting on the multiple of \\nstitches called for in the pattern. This will not only allow you to become thoroughly acquainted with the appearance of the', metadata={'source': './data/knitting_pdfs/knit.pdf', 'page': 15}),\n",
       " Document(page_content='pattern, but it will also give you the opportunity of working the pattern so you will be at ease and your tension will be more even. \\n \\nDirections are included here for just a few of the many pattern stitches.  Seed Stitch  (also known as the moss or \\nrice stitch)—\\n \\n\\x83 Cast on an uneven number of stitches.', metadata={'source': './data/knitting_pdfs/knit.pdf', 'page': 15}),\n",
       " Document(page_content='\\x83 Row 1—*K 1 st, p 1 st. Repeat from * \\nacross the row, ending with k 1. \\n \\n\\x83 Repeat this row. In making this stitch, be \\nsure to k the purl sts and p the knit stitches on the following row. \\n Basket Stitch (also know as block stitch)—\\n \\n\\x83 Cast on a number of stitches divisible by \\n10 (multiple of 10). \\n\\x83 Row 1—*K 5, p 5. Repeat from * across', metadata={'source': './data/knitting_pdfs/knit.pdf', 'page': 15}),\n",
       " Document(page_content='the row, ending with p 5.  \\n \\n\\x83 Repeat this row 4 more times. \\n \\n\\x83 Row 6—*P 5, k 5. Repeat from * across \\nthe row, ending with k 5. \\n \\n\\x83 Repeat this row 4 more times. \\n \\n\\x83 Repeat these 10 rows for the pattern \\nstitch.', metadata={'source': './data/knitting_pdfs/knit.pdf', 'page': 15}),\n",
       " Document(page_content='17Diamond Stitch —\\n \\n\\x83 Cast on a multiple of 8 sts, plus 1 st. \\n \\n\\x83 Row 1—K 4, *p 1, k 7. Repeat from * \\nacross the row, ending with p 1, k 4. \\n \\n\\x83 Row 2—P 3, *k 1, p 1, k 1, p 5. Repeat \\nfrom * across the ro w, ending with p 3. \\n \\n\\x83 Row 3—K 2, *p 1, k 3. Repeat from * \\nacross the row, ending with k 2. \\n \\n\\x83 Row 4—*P 1, k 1, p 5, k 1. Repeat from', metadata={'source': './data/knitting_pdfs/knit.pdf', 'page': 16}),\n",
       " Document(page_content='* across the row, ending with p 1. \\n \\n\\x83 Row 5—*P 1, k 7. Repeat from * across \\nthe row, ending with p 1. \\n \\n\\x83 Row 6—Same as Row 4. \\n \\n\\x83 Row 7—Same as Row 3. \\n \\n\\x83 Row 8—Same as Row 2. \\n \\n\\x83 Repeat these 8 rows for the pattern \\nstitch. \\n \\nCable Stitch —\\n \\n\\x83 Multiple of 10 sts plus 2 sts. \\n \\n\\x83 Row 1—P 3, *k 6, p 4. Repeat from *', metadata={'source': './data/knitting_pdfs/knit.pdf', 'page': 16}),\n",
       " Document(page_content='across the row, ending with k 6, p 3. \\n \\n\\x83 Row 2—K 3, p 6, *k 4, p 6. Repeat from \\n* across the row, ending with k 3. \\n \\n\\x83 Repeat rows 1 and 2 twice (6 rows in \\nall). \\n \\x83 Row 7—P 3, *slip next 3 sts on a \\ndouble-point needle a nd place in back of', metadata={'source': './data/knitting_pdfs/knit.pdf', 'page': 16}),\n",
       " Document(page_content='work. K next 3 sts, then k the 3 sts from a double-point needle (forms cable). P4. Repeat from * acro ss the row, ending \\nwith a cable and p 3. \\n \\n\\x83 Row 8—Repeat Row 2. \\n \\n\\x83 Repeat these 8 rows for the pattern \\nstitch. \\n \\nThis is a 6-stitch simple cable stitch. There', metadata={'source': './data/knitting_pdfs/knit.pdf', 'page': 16}),\n",
       " Document(page_content='are several variations of the cable stitch, such as the plaited cable, lattice cable, mock cable, etc.    \\n“Holes” Before Cables \\n \\nIn most cable patterns you will find a series \\nof purl stitches before and after the cable. Sometimes when working a cable stitch, a “hole” or loose stitch  will appear before or', metadata={'source': './data/knitting_pdfs/knit.pdf', 'page': 16}),\n",
       " Document(page_content='after the cable. To prevent, pull yarn tighter than usual when bringing the yarn back to the front of the work to purl.  Sometimes this same flaw will occur when working ribbing, and may be corrected in the same way.  \\nBLOCKING  \\n \\nFor best results, always read the yarn or', metadata={'source': './data/knitting_pdfs/knit.pdf', 'page': 16}),\n",
       " Document(page_content=\"thread label and follow the manufacturer's blocking and care recommendations . The \\nmethod you use to block your project is \\ndetermined by the fiber content of the yarns \\nor threads.  \\n \\n \\nFor Synthetics  and Blended Yarns   \\n \\nFollow the instructions on the yarn label. As\", metadata={'source': './data/knitting_pdfs/knit.pdf', 'page': 16}),\n",
       " Document(page_content='a general rule, individual pieces can be blocked by covering with a damp cloth such as a dish towel for several minutes (5 to 10 minutes). Cloth should be thoroughly wet with excess dripping wa ter removed before \\nplacing on knitted piece. When blocking two pieces which are exactly the same shape, place damp cloth between pieces. NEVER', metadata={'source': './data/knitting_pdfs/knit.pdf', 'page': 16}),\n",
       " Document(page_content='18\\npress synthetics or blends since pressing \\ndestroys the loft of the yarn.  \\nFor Cotton Yarn   \\n \\nPreheat the iron at the wool setting. Cover \\nthe pieces with a damp cloth and steam. The weight of the ir on should not rest on \\nthe piece of knitting.  \\nFor Wool  Yarns   \\n \\nPreheat the iron at the wool setting. Cover', metadata={'source': './data/knitting_pdfs/knit.pdf', 'page': 17}),\n",
       " Document(page_content='the pieces with a damp cloth and steam. Never rest the full we ight of the iron on \\nknitting done in wool yarn. \\n \\nHere are some general procedures to follow \\nwhen blocking worsted wool yarn:  \\n \\n1.  Prepare a blocking surface by covering \\na flat surface such as a table or ironing board with several layers of towels.', metadata={'source': './data/knitting_pdfs/knit.pdf', 'page': 17}),\n",
       " Document(page_content='2. Then, place the project piece wrong side \\nup on the blocking surface. Pin the edges to the proper shape and measurements given in the directions; use rust-proof T-pins, about ¼ inch apart. If blocking surface would be harmed by pin holes, insert the pins into the towels at an angle. \\n \\nNote:  If your project is made in', metadata={'source': './data/knitting_pdfs/knit.pdf', 'page': 17}),\n",
       " Document(page_content='separate pieces, such as a back and a front, the two identic al pieces should be \\nblocked at the same time. \\n \\n3. Place a damp cloth over the pieces \\nalready pinned; t hen steam with a hot \\niron held just barely above the damp cloth. \\n \\n4. Leave the project pinned until \\nthoroughly dry. \\n \\n5. Remove the pins and sew up the', metadata={'source': './data/knitting_pdfs/knit.pdf', 'page': 17}),\n",
       " Document(page_content='seams by the desired method. \\n \\n6. Steam seams on the wrong side. \\n \\nWool items, whether they  are fabric or yarn, \\nrequire the use of moisture when pressing. This could be in the form of steam iron and/ or a damp press cloth. For any blocking procedure that uses a damp cloth or steam,', metadata={'source': './data/knitting_pdfs/knit.pdf', 'page': 17}),\n",
       " Document(page_content='always allow the pieces to dry completely before lifting. Do not block the ribbing portion of a piece, as this will destroy the elasticity (ability to stretch).  \\n \\n \\nORNAMENTATION \\nPom-poms \\n \\nCut two rounded discs the desired size', metadata={'source': './data/knitting_pdfs/knit.pdf', 'page': 17}),\n",
       " Document(page_content='(2½-inches in diameter for a medium size pom-pom, larger for a larger pom-pom) and then cut a ¼- to ½-inch hole in center. Cardboard or plastic tops from margarine tubs are good materials to use for the discs.  \\n \\nThread a yarn needle with two strands of \\nyarn and cover the discs.', metadata={'source': './data/knitting_pdfs/knit.pdf', 'page': 17}),\n",
       " Document(page_content='After the discs are entirely covered, slip scissors between them and cut all threads at the outside edge.           Wind a thread several times between the  \\ndiscs,  leaving the ends long enough to join \\npompom and article. Remove cardboard and trim. To make your pompom very fuzzy, place the finished pompom on the', metadata={'source': './data/knitting_pdfs/knit.pdf', 'page': 17}),\n",
       " Document(page_content='19\\nend of a table fork and hold it over a steam \\nkettle; keep turning the pompom slowly until it is moist and fuzzy. Be very careful not to burn yourself! \\n \\nPom-poms give a nice finished touch to the top of a cap or house slippers.  \\nTassels \\n \\nFor tassels, use scrap yarn and a', metadata={'source': './data/knitting_pdfs/knit.pdf', 'page': 18}),\n",
       " Document(page_content='rectangular piece of cardboard that is 3-inches long or the desired length of your tassel. \\n \\nCut two lengths of yarn 10-inches long and put them aside. Wind remaining yarn around the cardboard. Slip the two 10-inch lengths of yarn under the strands at one end of the cardboard and tie it securely. Cut the strands at the opposite end.', metadata={'source': './data/knitting_pdfs/knit.pdf', 'page': 18}),\n",
       " Document(page_content='With another length of yarn, wrap the \\nbundle about 1/2-inch down from the top where you first tied the bundle together, fasten securely. Trim the ends of your tassel evenly. \\n \\nTassels can be used instead of fringe on the edge of a scarf, the end of a stocking cap, or the corners of pillows.  \\n \\n Fringe', metadata={'source': './data/knitting_pdfs/knit.pdf', 'page': 18}),\n",
       " Document(page_content='Cut strands of yarn double the desired length.  Hold 4 strands together and fold \\nthem in half to form a loop. Working along \\nthe narrow edge, and insert a crochet hook from back to front into the first stitch. Draw \\na loop through the stitch. \\n \\n  \\n \\n \\n  \\n \\n  \\n \\n \\n \\nDraw the loose ends through the loop and pull them tightly to form a knot.', metadata={'source': './data/knitting_pdfs/knit.pdf', 'page': 18}),\n",
       " Document(page_content='Add fringe to every other stitch across the \\nrow, beginning with the first stitch and ending with the last stit ch. Trim the fringe \\nevenly. \\n \\nUse fringe to finish the ends of scarves, afghans, and ponchos.   Twisted Cord', metadata={'source': './data/knitting_pdfs/knit.pdf', 'page': 18}),\n",
       " Document(page_content='Measure yarn approximately three times the desired finished length of cord. You should determine how many strands of yarn to use for particular thickness (to experiment, you might want to try four). With two people facing each other, each person knots the end to a pencil and twists the pencil clockwise until the yarn is taut.', metadata={'source': './data/knitting_pdfs/knit.pdf', 'page': 18}),\n",
       " Document(page_content='When the yarn begins to kink, one person \\nholds both pencils, while the other holds the center of the cord and lets the yarn twist.', metadata={'source': './data/knitting_pdfs/knit.pdf', 'page': 18}),\n",
       " Document(page_content='20\\n Knot the ends to prevent unraveling. Cut \\nfolded end to allow yarn to form tassels; trim ends to match. Twisted cord may be used as a handle for knitted purse. \\n \\n \\n \\nKNITTING ABBREVIATIONS \\n \\nApprox approximately \\nBC or CB  back cross \\nbeg  beginning \\nbet  between \\nBO  bind off \\nCC  contrasting color \\ncm(s)   centimeter(s) \\ncn  cable needle', metadata={'source': './data/knitting_pdfs/knit.pdf', 'page': 19}),\n",
       " Document(page_content='CO  cast on \\ndec  decrease \\ndk double knitting --both a yarn size \\nand a knitting technique \\ndpn(s)   double pointed needle(s) \\nFC or CF  front cross \\ng or gr   gram(s) \\ng st  garter stitch \\nin(s)   inch(es) \\ninc  increase \\nk  knit \\nk2tog   knit two together \\n  (a right slanted decrease) \\nkf&b  knit in front and back of stitch (a way', metadata={'source': './data/knitting_pdfs/knit.pdf', 'page': 19}),\n",
       " Document(page_content='to increase) \\nkwise   knit wise -  as to knit \\nLH  left hand \\nLT  left twist \\nM1 make one - (a way to increase) \\n   \\nMC  main color \\nmeas   measures \\nmm(s)   millimeter(s) ndl(s)   needle(s) \\noz  ounce \\np  purl \\np2tog  purl two together \\npM  place marker \\npsso  pass slipped stitch over knit (or    \\npurl) stitch \\npwise   purl wise - as to purl', metadata={'source': './data/knitting_pdfs/knit.pdf', 'page': 19}),\n",
       " Document(page_content='rem  remaining \\nrep(s)   repeat(s) \\nrev st st  reverse stockinette stitch \\nRH  right hand \\nrnd  round \\nRS  right side \\nRT  right twist \\nsk  skip \\nskp  slip, knit pass stitch over  \\n (a way to decrease) \\nsl  slip \\nsl st  slip stitch \\nsl1k  slip one, knitwise \\nsl1p  slip one, purlwise \\nssk slip, slip, knit - a left slanting \\ndecrease', metadata={'source': './data/knitting_pdfs/knit.pdf', 'page': 19}),\n",
       " Document(page_content='st st  stockinette stitch \\nst(s)   stitch(es) \\nTB  twist back \\ntbl  through back loop \\nTF  twist front \\ntog  together', metadata={'source': './data/knitting_pdfs/knit.pdf', 'page': 19}),\n",
       " Document(page_content='21 \\n   \\n \\nThis publication is based on Let’s Learn to Knit with Knit & Purl, Let’s Learn to Knit with Increase and \\nDecrease, and Let’s Learn to Knit with a Pattern Stitch  written by JoAnn Hilliker, State Extension Specialist in \\nClothing and Textiles,Kentucky Cooperat ive Extension, 1978, which were base d on “Let’s Learn to Knit” from the', metadata={'source': './data/knitting_pdfs/knit.pdf', 'page': 20}),\n",
       " Document(page_content='Oregon Cooperative Extension Service. M any of the illustrations in this public ation are courtesy of the Educational \\nBureau, Coats and Clark, Inc.  \\n \\n \\n                   \\n \\nRevised by Marjorie M. Baker, M.S.  \\nExtension Associate Textiles and Clothing \\nFebruary 2005', metadata={'source': './data/knitting_pdfs/knit.pdf', 'page': 20}),\n",
       " Document(page_content='Educational programs of the Kentucky Cooperative Extension serve all people regardless of   race, color, age, sex, religion, di sability, or national origin.', metadata={'source': './data/knitting_pdfs/knit.pdf', 'page': 20}),\n",
       " Document(page_content='KNITTING\\nHANDBOOKTHE 4-H\\nBy Debra Proctor & Susan Haws4H/Sewing&Textiles/2012/02pr', metadata={'source': './data/knitting_pdfs/knitting-handbook.pdf', 'page': 0}),\n",
       " Document(page_content='TABLE OF CONTENTS\\n1\\n23\\n5\\n6\\n8\\n9\\n22\\n32\\n33\\n34\\n3536\\n    •  T eaching Y our Lov e of Knitting to Kids ..............................................    •  Knitting Project ...........................................................................    •  Knitting T ools .............................................................................', metadata={'source': './data/knitting_pdfs/knitting-handbook.pdf', 'page': 1}),\n",
       " Document(page_content='•  Y arn & Gauge .............................................................................', metadata={'source': './data/knitting_pdfs/knitting-handbook.pdf', 'page': 1}),\n",
       " Document(page_content='•  Rolling Yarn into a Ball That Pulls from Center ......................................    •  W orking on a P attern .....................................................................    •  Learn to Knit .............................................................................', metadata={'source': './data/knitting_pdfs/knitting-handbook.pdf', 'page': 1}),\n",
       " Document(page_content='•  P atterns ......................................................................................\\n     \\n    •  J udging Scoresheet .......................................................................\\n    •  Service Project Ideas .....................................................................', metadata={'source': './data/knitting_pdfs/knitting-handbook.pdf', 'page': 1}),\n",
       " Document(page_content='•  Acknowledgments .......................................................................', metadata={'source': './data/knitting_pdfs/knitting-handbook.pdf', 'page': 1}),\n",
       " Document(page_content='•  Smart Phone T ags ........................................................................    •  Notes .......................................................................................(Slip Knot, Cast On, Long-Tail Cast On, Backwards Loop Cast On, Knit Stitch,', metadata={'source': './data/knitting_pdfs/knitting-handbook.pdf', 'page': 1}),\n",
       " Document(page_content='Purl Stitch, Knit Increases, Increasing 1 Stitch, Eyelet Increase or Yarn Overs,Make 1 Stitch, Decreases, Knit 2 Together, Slip, Slip Knit, Bind Off, Joining New Yarn, Assembly, Mattress Stitch Seam, Weave in Ends)\\n(Knitted Nesting Pincushion, Pot Holder/Hotpad, Double Yarn Knit Slippers,', metadata={'source': './data/knitting_pdfs/knitting-handbook.pdf', 'page': 1}),\n",
       " Document(page_content='Diagonal Knit Dishcloth, Holes and Ridges Knitted Dishcloth, Knitted Stocking Cap, Garter Stitch Scarf, Mittens, Pompoms)\\n \\nMicrosoft Tags®  throughout this booklet are connected to instructional \\nknitting videos. It will require you to download the App to use these tags. To download app, go to: http://gettag.mobi \\nGetthefreemobileappat', metadata={'source': './data/knitting_pdfs/knitting-handbook.pdf', 'page': 1}),\n",
       " Document(page_content='http://gettag.mobi', metadata={'source': './data/knitting_pdfs/knitting-handbook.pdf', 'page': 1}),\n",
       " Document(page_content='1INTRODUCTION\\nHelping 4-H members learn a skill such as \\nknitting can be a real challenge as well as a \\ngratifying experience. Some members will master the skill easily, while others will struggle. \\nYouth who are taught to knit learn so much \\nmore than just “stitches.” They learn problem solving and math skills. Their reading, motor', metadata={'source': './data/knitting_pdfs/knitting-handbook.pdf', 'page': 2}),\n",
       " Document(page_content='skills and eye-hand coordination are enhanced. \\nIt is an opportunity to develop decision making abilities and learn skills that can give pleasure \\nthroughout a lifetime. They ﬁ  nd an outlet for \\ntheir creativity which builds self-conﬁ  dence and self-esteem.\\nTEN TIPS FROM THE PROS\\n1. KEEP IT FUN. Youth must enjoy what they', metadata={'source': './data/knitting_pdfs/knitting-handbook.pdf', 'page': 2}),\n",
       " Document(page_content='are doing. Let them see that you are having fun.\\n2. Have a model to display of  a project so your \\nstudents can see what they will be making.\\n3. Select simple projects that will interest youth.\\n       • Projects that can be completed quickly\\n       • Use brightly colored yarns\\n       • Have extra supplies on hand', metadata={'source': './data/knitting_pdfs/knitting-handbook.pdf', 'page': 2}),\n",
       " Document(page_content='4. Keep the lessons short to accommodate the \\nshort attention span.\\n5. Don’t expect perfection. They are trying. \\nThat is what is important. Praise them! Find \\nsomething to compliment:\\n        • “I like that yarn color!”\\n        • “You have been a good listener today!”        • “I like the way you are holding your', metadata={'source': './data/knitting_pdfs/knitting-handbook.pdf', 'page': 2}),\n",
       " Document(page_content='knitting needles.”6. Showing is better than telling. Demonstrate \\nthe skill that you want them to learn.\\n7. Put something in their hands as soon as \\npossible. Many teachers have found it easier \\nto begin by giving youth needles with a few rows of  knitting completed. Students learn the \\nbasics more easily and then go back and learn', metadata={'source': './data/knitting_pdfs/knitting-handbook.pdf', 'page': 2}),\n",
       " Document(page_content='foundation cast-on, which can be tricky for beginners because of  the tension.\\n8. Youth need a sense of  accomplishment. \\nProvide them with frequent progress reports.\\n9. When a youth is having difﬁ  culty with a skill, \\nshow an alternative, if  possible.\\n10. When teaching teenagers:     • Do not “dumb down” your instructions,', metadata={'source': './data/knitting_pdfs/knitting-handbook.pdf', 'page': 2}),\n",
       " Document(page_content='but recognize their interests are different     • Treat them as adults not like \\n       “large children”\\n     • Choose projects that match their interests     • Consider current fashion trendsTEACHING YOUR LOVE OF \\nKNITTING TO KIDS', metadata={'source': './data/knitting_pdfs/knitting-handbook.pdf', 'page': 2}),\n",
       " Document(page_content='24-H EXPERIENTAL \\nLEARNING MODEL\\nDo - What did you do?\\nYou will learn to:\\n    • Slip knot    • Cast on; long-tail or backwards loop cast on    • Knit Stitch\\n    • Purl Stitch\\n    • Knit increases; increasing one stitch, eyelet          increases or yarn over    • Bind off\\n    • Joining new yarn', metadata={'source': './data/knitting_pdfs/knitting-handbook.pdf', 'page': 3}),\n",
       " Document(page_content='• Pick up stitches    • Assembling project pieces; mattress stitch seam    • Count stitches and rows    • Learn abbreviations used in pattern directions\\n    • Read and follow pattern directions\\nReﬂ  ect - How do you feel about your project?\\nWhat part of  the experiences was the most challenging or easiest?', metadata={'source': './data/knitting_pdfs/knitting-handbook.pdf', 'page': 3}),\n",
       " Document(page_content='Apply - Using the skills listed above you will practice and complete a project.  \\nPotential Projects or Exhibits:\\n     • Knitted nesting pincushion\\n     • Pot holder\\n     • Slippers     • Dishcloth     • Stocking hat\\n     • Garter stitch scarf', metadata={'source': './data/knitting_pdfs/knitting-handbook.pdf', 'page': 3}),\n",
       " Document(page_content='• Mittens     • Any other knit items from patterns found in books, Internet, etc. Any of  these projects can be used as a service project. Check local, state, or international organizations for needed items. See resources for charity organizations on page 33.  KNITTING PROJECT', metadata={'source': './data/knitting_pdfs/knitting-handbook.pdf', 'page': 3}),\n",
       " Document(page_content='The purpose of the 4-H program is to help youth learn technical skills and life skills that will improve their lives. Technical skills relate to the subject matter, while life skills are those abilities used in every facet of life.  Life skills \\ndeveloped through these 4-H activity guide projects include: planning and', metadata={'source': './data/knitting_pdfs/knitting-handbook.pdf', 'page': 3}),\n",
       " Document(page_content='organizing, decision making, learning to learn, wise use of resources.', metadata={'source': './data/knitting_pdfs/knitting-handbook.pdf', 'page': 3}),\n",
       " Document(page_content='3NEEDLES\\nKnitting needles are the ﬁ  rst tools required. \\nKnitting patterns tell the size of  needles to \\nuse. Your leader will help you decide what \\nneedles to use for your ﬁ  rst project.\\nSingle-pointed needles come in pairs 7 to 14 \\ninches long and in sizes 000 to 16. They are made of  plastic, aluminum, or wood. Only', metadata={'source': './data/knitting_pdfs/knitting-handbook.pdf', 'page': 4}),\n",
       " Document(page_content='very large sizes come in wood. These needles \\nare for ﬂ  at work in which rows are knitted back and forth and the work is reversed \\neach time.\\nCROCHET HOOK\\nYou will need a crochet hook to pick up \\ndropped stitches and to correct mistakes. Size 0 is a good one for beginners.\\nTIPS OR CORKS\\nKnitting needles are strong and have sharp', metadata={'source': './data/knitting_pdfs/knitting-handbook.pdf', 'page': 4}),\n",
       " Document(page_content='points. Be careful with them and learn to \\nuse them properly. It is a good idea to put protectors on the tips when you put your \\nwork down. Protectors keep the points from \\nsticking people and prevent stitches from slipping off  the needles. Use rubber tips made', metadata={'source': './data/knitting_pdfs/knitting-handbook.pdf', 'page': 4}),\n",
       " Document(page_content='for this purpose or small corks.Proper tools are necessary in knitting. Learn about the tools before you buy \\nso you will select good equipment.\\nKNITTING TOOLS', metadata={'source': './data/knitting_pdfs/knitting-handbook.pdf', 'page': 4}),\n",
       " Document(page_content='4MEASURING TOOLS\\nFor measuring you will need a ruler (either \\n6 or 12 inch), a measuring tape, or a metal-\\nmeasuring gauge.\\nSCISSORS\\nKeep a small pair of  scissors or shears handy \\nfor cutting yarn, trimming pom poms, etc. Be sure to keep scissors in a case for safety.\\nTAPESTRY NEEDLE\\nA blunt-pointed tapestry needle is used for', metadata={'source': './data/knitting_pdfs/knitting-handbook.pdf', 'page': 5}),\n",
       " Document(page_content='sewing seams. A straight, steel needle is best. \\nSome tapestry needles have a “hump” around the eye. They are not good for joining seams \\nin knitting as the hump catches on stitches and \\nmakes it hard to pull the yarn through.\\nKNIT CHECK\\nThere is also a “knit check” made especially \\nfor knitting. The open “L” is for measuring', metadata={'source': './data/knitting_pdfs/knitting-handbook.pdf', 'page': 5}),\n",
       " Document(page_content='the gauge —the number of  stitches and rows \\nper square inch. The holes along the top are for measuring needle size.', metadata={'source': './data/knitting_pdfs/knitting-handbook.pdf', 'page': 5}),\n",
       " Document(page_content='5YARN & GAUGE\\nYARN\\nYarns are available in a variety of  weights \\n(thickness of  the strands) and ﬁ  ber contents. \\nFor best results, use the yarn speciﬁ  ed in \\nthe instructions. Be sure to purchase all the yarn you need for a project at the same time \\nbecause, dye lots may vary a little in shading', metadata={'source': './data/knitting_pdfs/knitting-handbook.pdf', 'page': 6}),\n",
       " Document(page_content='and this will show on the ﬁ  nished project. If  you are combining different types of  yarn in \\nthe same project, make sure they have similar \\nwashing instructions. Care instructions are found on the product label—follow them \\ncarefully. Always make sure to make a swatch \\nto measure the gauge.\\nGAUGE\\nGauge is the number of  stitches (and spaces)', metadata={'source': './data/knitting_pdfs/knitting-handbook.pdf', 'page': 6}),\n",
       " Document(page_content='per inch and the number of  rows (or rounds) \\nper inch. In many patterns, gauge is speciﬁ  ed over 4 inches. Your gauge and the gauge \\nspeciﬁ  ed in the pattern must be the same so \\nthat your project will be the correct size. This is especially crucial for projects that must ﬁ  t. \\nBefore starting your project, take the time to', metadata={'source': './data/knitting_pdfs/knitting-handbook.pdf', 'page': 6}),\n",
       " Document(page_content='make a gauge swatch.\\nTo check gauge, use the same yarn, needles \\nand pattern stitch speciﬁ  ed in the instructions. \\nMake a swatch that is approximately 6 inches \\nsquare. Work in pattern for about 6 inches, then bind off. Let the swatch relax for a bit, \\nand then ﬂ  atten it without stretching', metadata={'source': './data/knitting_pdfs/knitting-handbook.pdf', 'page': 6}),\n",
       " Document(page_content='to measure. Using pins, mark off  a section of  stitches \\nin the center of  the swatch that measures \\n4 inches square. Count the number of  stitches and rows in this 4 inch section. If  they \\nmatch the gauge, you can start right in on \\nyour pattern.\\nIf  you have too few stitches, you are working', metadata={'source': './data/knitting_pdfs/knitting-handbook.pdf', 'page': 6}),\n",
       " Document(page_content='too loosely—change to smaller needles and make another swatch. If  you have too many \\nstitches, you are working too tightly—change \\nto larger needles. Keep making swatches and experimenting with needle sizes until you \\nobtain the speciﬁ  ed gauge. Everyone knits \\ndifferently, this will help you be able to make a project that ﬁ  ts.', metadata={'source': './data/knitting_pdfs/knitting-handbook.pdf', 'page': 6}),\n",
       " Document(page_content='When the stitch gauge is correct, most likely \\nthe row gauge will also be correct. Slight \\nvariations in row gauge can be acceptable \\nsince the lengthwise proportions of  a garment are usually given as a measurement \\nin the instructions.', metadata={'source': './data/knitting_pdfs/knitting-handbook.pdf', 'page': 6}),\n",
       " Document(page_content='6INSTRUCTIONS\\nStep #1:If  you are rolling a ball from a hank of  yarn, \\ncarefully untie the hank, keeping it in the large loop. Have someone hold it for you, or drape the \\nloop over the back of  a chair or over your knees.SUPPLIES NEEDED:\\nHank of  yarn or loose yarn\\nStep #2:\\nHolding the loose end of  yarn ﬁ  rm with your', metadata={'source': './data/knitting_pdfs/knitting-handbook.pdf', 'page': 7}),\n",
       " Document(page_content='thumb, roll the yarn around three ﬁ  ngers very \\nloosely  10-12 times.\\nStep #3:\\nSlip the yarn off  your ﬁ  ngers and hold it ﬁ  rmly \\nin the center with the free end of  the yarn \\nhanging loose.\\nStep #4:\\nNow very loosely wrap the yarn around the part \\nyou rolled on your ﬁ  ngers about 10-12 times. If', metadata={'source': './data/knitting_pdfs/knitting-handbook.pdf', 'page': 7}),\n",
       " Document(page_content='you pull the yarn too tightly, it will not pull free \\nfrom the center of  the ball when you are ready to knit or crochet, and it may also take some of  the \\nstretch out of  the yarn. Be sure not to catch the \\nfree end while wrapping the yarn.Some yarns come in hanks, some are pre-wound and pull from the center.', metadata={'source': './data/knitting_pdfs/knitting-handbook.pdf', 'page': 7}),\n",
       " Document(page_content='Rolling a ball that pulls from the center is a good skill to have.ROLLING YARN INTO A BALL \\nTHAT PULLS FROM CENTER', metadata={'source': './data/knitting_pdfs/knitting-handbook.pdf', 'page': 7}),\n",
       " Document(page_content='7Step #5:\\nNow that you have formed the base for your \\nball, hold your thumb on the spot where the free end of  yarn is coming out and your ﬁ  ngers on \\nthe opposite side. (We will call the side with your \\nthumb the top and the other side the bottom.) Hold the free end of  yarn in the palm of  your \\nhand with your little ﬁ  nger.\\nStep #6:', metadata={'source': './data/knitting_pdfs/knitting-handbook.pdf', 'page': 8}),\n",
       " Document(page_content='Now, gently wind yarn from the bottom, toward \\nyou, across top of  ball, keeping the yarn close \\nto your thumb. Keep turning the ball slowly \\ncounter-clockwise. Be very careful to keep your thumb in the hole you form as you wind, and \\nkeep the free end of  yarn free. Be sure you wind', metadata={'source': './data/knitting_pdfs/knitting-handbook.pdf', 'page': 8}),\n",
       " Document(page_content='the ball loosely. Always wind from bottom across top, never around sides. If  the ball becomes too \\npointed on the bottom, squeeze it more tightly \\nbetween thumb and ﬁ  ngers.\\nStep #7:\\nWhen the yarn is all wound, tuck the end \\nunder several loops of  yarn. When you are ready', metadata={'source': './data/knitting_pdfs/knitting-handbook.pdf', 'page': 8}),\n",
       " Document(page_content='to knit, the free end you hold in the palm of  your hand will pull out easily and the ball will not \\nroll away.', metadata={'source': './data/knitting_pdfs/knitting-handbook.pdf', 'page': 8}),\n",
       " Document(page_content='8\\nBefore picking up needles and yarn, sit down and read through the pattern. Patterns are \\nwritten in a language of  their own, and this will help you become familiar with special \\nstitches and abbreviations. Although not all publications use the same abbreviations, the \\nterminology will become familiar with a read-through.\\nABBREVIATIONS', metadata={'source': './data/knitting_pdfs/knitting-handbook.pdf', 'page': 9}),\n",
       " Document(page_content='These are standard abbreviations that may appear in this booklet. Any abbreviations speciﬁ  c \\nto a pattern will be given at the beginning of  the pattern.\\nbeg - begin(ning)\\nCA, CB, CC, etc - Color A, B, C, etc.\\ndec - decrease\\ninc - increase\\nK - knitP - purl\\npat - patternpsso - pass slipped stitch over\\nrem  - remaining\\nrep - repeat', metadata={'source': './data/knitting_pdfs/knitting-handbook.pdf', 'page': 9}),\n",
       " Document(page_content='rnd(s) - round(s)RS - right side\\nsk - skipsl - slip\\nst - stitch(es)St st - stockinette stitch (knit RS rows, \\nPurl WS rows)\\ntog - together\\nWS - wrong side\\nyo - yarn over*, **, + or  ++ - repeat whatever follows\\nthe *, **, + or ++ as indicated[ ] - work instructions in brackets \\nthe number of  times indicated. WORKING FROM A PATTERN', metadata={'source': './data/knitting_pdfs/knitting-handbook.pdf', 'page': 9}),\n",
       " Document(page_content='9INSTRUCTIONS\\nStep #1:Make a circle with yarn, about 12” from end.\\nStep #2:Pull a loop through the circle.\\nStep #3:\\nInsert the needle into the loop.\\nStep #4:Pull the loop gently and evenly to tighten and slide \\nthe knot up to the needle.LEARN TO KNIT - SLIP KNOT', metadata={'source': './data/knitting_pdfs/knitting-handbook.pdf', 'page': 10}),\n",
       " Document(page_content='A slip knot is the starting point of  everything you do in knitting and is the basis for the cast on.', metadata={'source': './data/knitting_pdfs/knitting-handbook.pdf', 'page': 10}),\n",
       " Document(page_content='10INSTRUCTIONS\\nBroken down in very simple terms, knitting is just a matter of  transferring loops from one \\nneedle to another. To get started, you’ll need to put loops on one needle, and that process of  creating loops is called casting on.\\nThere are several methods of  casting on. Each has a unique purpose and produces a', metadata={'source': './data/knitting_pdfs/knitting-handbook.pdf', 'page': 11}),\n",
       " Document(page_content='different edge. Try different methods to ﬁ  nd the one most comfortable and suitable to \\nyour project.\\nINSTRUCTIONS\\nStep #1:Place slip knot on needle (counts as ﬁ  rst stitch) \\nand hold needle in right hand with the skein end of  the yarn over your ﬁ  rst ﬁ  nger. Wind the tail \\nend of  the yarn around your left thumb from \\nfront to back.\\nStep #2:', metadata={'source': './data/knitting_pdfs/knitting-handbook.pdf', 'page': 11}),\n",
       " Document(page_content='Bring needle down in front of  thumb. \\nStep #3:\\nInsert point under loop in front of  thumb.LEARN TO KNIT - CAST ON\\nThis method of  casting on produces a very elastic edge, which is particularly useful when \\nfollowed by garter stitch or stockinette stitch.', metadata={'source': './data/knitting_pdfs/knitting-handbook.pdf', 'page': 11}),\n",
       " Document(page_content='Measure approximately 1” of  yarn for each stitch needed and make a slip knot at this point.LEARN TO KNIT - LONG-TAIL CAST ON', metadata={'source': './data/knitting_pdfs/knitting-handbook.pdf', 'page': 11}),\n",
       " Document(page_content='11Step #4:\\nBring tip of  needle under loop in index ﬁ  nger, \\nfollowing direction of  arrow.\\nStep #5:\\nPull needle down through loop on thumb, \\nfollowing direction of  arrow.\\nStep #6:\\nThis forms a stitch on needle.\\nStep #7:\\nRepeat instructions for each stitch to be cast on, \\ncounting each loop on needle (including the slip \\nknot) as a stitch.', metadata={'source': './data/knitting_pdfs/knitting-handbook.pdf', 'page': 12}),\n",
       " Document(page_content='12INSTRUCTIONS\\nStep #1:With the slip knot on the needle, wrap yarn \\naround your right index ﬁ  nger.\\nStep #2:\\nInsert tip of  needle under loop.\\nStep #3:\\nRemove ﬁ  nger and pull yarn gently to snug loop \\naround needle.\\nStep #4:\\nIf  loops on needle are too tight, you will not be \\nable to knit into these stitches, so practice until', metadata={'source': './data/knitting_pdfs/knitting-handbook.pdf', 'page': 13}),\n",
       " Document(page_content='loops are consistent.LEARN TO KNIT - \\nBACKWARDS LOOP CAST ON\\nThis is the easiest way to cast on, but the resulting edge might not be suitable for all projects.', metadata={'source': './data/knitting_pdfs/knitting-handbook.pdf', 'page': 13}),\n",
       " Document(page_content='13INSTRUCTIONS\\nStep #1:\\nWith the working yarn at the back, insert right-\\nhand needle into ﬁ  rst stitch left-hand needle, \\nfrom front to back.\\nStep #2:\\nWrap yarn around right-hand needle, from left to \\nright over the point of  the needle.\\nStep #3:\\nPull wrap through the stitch, forming a loop on \\nthe right-hand needle.\\nStep #4:', metadata={'source': './data/knitting_pdfs/knitting-handbook.pdf', 'page': 14}),\n",
       " Document(page_content='Slip the stitch off  the left-hand needle.\\nWhen all the stitches on the left-hand needle have been transferred to the right-hand \\nneedle, turn the work and place the needle with the stitches on it to the left hand to start \\nthe next row.\\nWhen knitting every row (also knows as garter stitch), both sides of  the knitting will have', metadata={'source': './data/knitting_pdfs/knitting-handbook.pdf', 'page': 14}),\n",
       " Document(page_content='raised horizontal ridges.LEARN TO KNIT - KNIT STITCH', metadata={'source': './data/knitting_pdfs/knitting-handbook.pdf', 'page': 14}),\n",
       " Document(page_content='14INSTRUCTIONS\\nStep #1:\\nWith the working yarn at the front, insert right-\\nhand needle into ﬁ  rst stitch on left-hand needle, \\nfrom back to front.\\nStep #2:\\nWrap yarn around right-hand needle, from right to \\nleft over the point of  the needle.\\nStep #3:\\nPull wrap through the stitch.\\nStep #4:Forming a loop on the right-hand needle, slip the', metadata={'source': './data/knitting_pdfs/knitting-handbook.pdf', 'page': 15}),\n",
       " Document(page_content='stitch off  the left-hand needle.\\nWhen all the stitches on the left-hand needle have been transferred to the right-hand \\nneedle, turn the work and place the needle with the stitches on it to the left hand to start \\nthe next row.LEARN TO KNIT - PURL STITCH', metadata={'source': './data/knitting_pdfs/knitting-handbook.pdf', 'page': 15}),\n",
       " Document(page_content='15INSTRUCTIONS\\nThere are several ways to increase, and each method adds extra stitches to the row unless \\nthey are paired with compensating decreases.  Increasing is used whenever a knitted piece', metadata={'source': './data/knitting_pdfs/knitting-handbook.pdf', 'page': 16}),\n",
       " Document(page_content='needs to be wider, such as sleeve shaping. Unless the pattern speciﬁ  es otherwise, knit into the front and back of  a stitch to increase, as both Make 1 Stitch and Yarn Over methods of  \\nincreasing can leave small holes in the work.LEARN TO KNIT - KNIT INCREASES\\nINSTRUCTIONS\\nOn a knit row, work into the front and back of  the next', metadata={'source': './data/knitting_pdfs/knitting-handbook.pdf', 'page': 16}),\n",
       " Document(page_content='stitch: knit into the stitch and before slipping it off  the left needle, twist the right needle behind the left and knit the \\nsame stitch again through the back loop. Slide the original \\nstitch off  the left needle—there are now 2 stitches on the right needle made from the original one.', metadata={'source': './data/knitting_pdfs/knitting-handbook.pdf', 'page': 16}),\n",
       " Document(page_content='On a purl row, the method of  increasing is similar. Purl into \\nthe front of  the next stitch, then purl into the back of  it \\nbefore sliding it off  the left needle.INCREASING 1 STITCH\\nAn extra stitch can also be formed by making a loop wrapped around the right needle', metadata={'source': './data/knitting_pdfs/knitting-handbook.pdf', 'page': 16}),\n",
       " Document(page_content='between two stitches which is then knitted or purled on subsequent rows. This wrap forms a \\nsmall hole that is used as a decorative touch, a small buttonhole and in knitted lace.EYELET INCREASE OR YARN OVERS\\nINSTRUCTIONS\\nTo yarn over between two knit stitches: \\nBring the yarn forward as if  to purl a stitch, then', metadata={'source': './data/knitting_pdfs/knitting-handbook.pdf', 'page': 16}),\n",
       " Document(page_content='wrap the yarn over the top of  the needle and knit \\nthe next stitch.\\nTo yarn over between two purl stitches: \\nTake the yarn over the top of  the right needle, \\nthen between the two needles to the front again; purl the next stitch.', metadata={'source': './data/knitting_pdfs/knitting-handbook.pdf', 'page': 16}),\n",
       " Document(page_content='16MAKE 1 STITCH (M1)\\nINSTRUCTIONS\\nAnother form of  increasing is to work into the \\nstrand between two stitches.\\n1) To make a new stitch, insert the right needle \\nfrom front to back under the horizontal strand that \\nruns between the stitch on the right needle and the \\nstitch on the left needle.', metadata={'source': './data/knitting_pdfs/knitting-handbook.pdf', 'page': 17}),\n",
       " Document(page_content='3) Knit through the back of  the strand to twist the new stitch and prevent a hole.2) Insert the left needle under this strand \\nfrom back to front.', metadata={'source': './data/knitting_pdfs/knitting-handbook.pdf', 'page': 17}),\n",
       " Document(page_content='17SLIP, SLIP, KNIT (SSK) - \\nLEFT-SLANTING DECREASE\\nINSTRUCTIONS\\nSlip the next two stitches from the left-hand needle onto the right-hand needle as if  to \\nknit. Place them back on the left-hand needle without twisting them. Knit these 2 stitches \\ntogether through the back of  the stitches. SSKs are used when a left-slanting decrease is', metadata={'source': './data/knitting_pdfs/knitting-handbook.pdf', 'page': 18}),\n",
       " Document(page_content='desired, such as decreases on socks, raglan shaping, and lace patterns.LEARN TO KNIT - DECREASES\\nDecreasing stitches makes your knitted piece narrower. Decreases are used for sleeve caps, neckline shaping, shaping the crown of  a hat, etc., and are paired with yarn over increases in \\nlace knitting. \\nINSTRUCTIONS', metadata={'source': './data/knitting_pdfs/knitting-handbook.pdf', 'page': 18}),\n",
       " Document(page_content='Insert right-hand needle into 2 stitches on left-\\nhand needle, following direction of  arrow. Knit \\nthese 2 stitches together as 1 to decrease 1 stitch. \\nWhen a pattern tells you to decrease without specifying the type of  decrease, use K2tog.KNIT 2 TOGETHER (K2TOG) - \\nRIGHT-SLANTING DECREASE', metadata={'source': './data/knitting_pdfs/knitting-handbook.pdf', 'page': 18}),\n",
       " Document(page_content='18INSTRUCTIONS\\nWhen your knitted piece is ﬁ  nished, binding off  closes the stitches so that they do not \\nunravel when taken off  the needles.\\nFrom beginning of  row, knit 2 stitches, insert tip of  left-hand needle into ﬁ  rst stitch on', metadata={'source': './data/knitting_pdfs/knitting-handbook.pdf', 'page': 19}),\n",
       " Document(page_content='right-hand needle and pull this stitch up, over the second stitch and completely off  the needle. Knit another stitch and repeat process.\\nCut the yarn, leaving an 8” end for weaving in. Pull the end of  the yarn through the last \\nstitch on the right needle and tug it gently to fasten off  the last stitch.LEARN TO KNIT - \\nBIND OFF', metadata={'source': './data/knitting_pdfs/knitting-handbook.pdf', 'page': 19}),\n",
       " Document(page_content='19INSTRUCTIONS\\nTo prevent unsightly knots, join new yarn at the beginning of  a row wherever possible. To \\nmake a perfect join at the end of  a row, simply drop the old yarn, tie the new yarn around it', metadata={'source': './data/knitting_pdfs/knitting-handbook.pdf', 'page': 20}),\n",
       " Document(page_content='and start the next row with the new yarn (see illustration). Untie the knot and securely weave in the yarn ends at ﬁ  nishing. If  it is impossible to avoid joining new yarn in the middle of  a \\nrow, try one of  these methods.\\nDrop the old yarn when 6” remain. Start work with the new yarn, leaving a 6” end. After a', metadata={'source': './data/knitting_pdfs/knitting-handbook.pdf', 'page': 20}),\n",
       " Document(page_content='few more inches of  knitting have been completed, individually thread the ends through a \\nyarn needle and weave them back and forth for a few inches to secure.Another method to join yarn is the splice method. When 4” of  the old yarn remains, \\nuntwist the plies of  yarn. Untwist the plies of  4” of  the new yarn and retwist them with the', metadata={'source': './data/knitting_pdfs/knitting-handbook.pdf', 'page': 20}),\n",
       " Document(page_content='untwisted plies of  the old yarn. Work with this doubled length until you are working entirely with the new yarn.\\nWhen working with thinner yarns, it may not be necessary to unply the yarns and retwist \\nthem. When 4” of  the old yarn remains, simply pick up the new yarn and work with both', metadata={'source': './data/knitting_pdfs/knitting-handbook.pdf', 'page': 20}),\n",
       " Document(page_content='yarns until the old yarn runs out. When working the next row, work these doubled stitches \\nas one.LEARN TO KNIT - \\nJOINING NEW YARN', metadata={'source': './data/knitting_pdfs/knitting-handbook.pdf', 'page': 20}),\n",
       " Document(page_content='20INSTRUCTIONS\\nWhen assembling ﬁ  nished project pieces, use a large-eye, blunt-tip yarn needle and the same \\nyarn you have used for knitting the project to sew the seams. If  the yarn is very bulky or', metadata={'source': './data/knitting_pdfs/knitting-handbook.pdf', 'page': 21}),\n",
       " Document(page_content='textured, use a ﬁ  ner, smooth yarn in a matching color for sewing. The Mattress Stitch is perfect for joining seams. The Kitchener Stitch (grafting) is used to join the toe of  a sock to \\navoid a seamLEARN TO KNIT - ASSEMBLY\\nMattress stitch is worked with the right side side up and becomes invisible from the right \\nside when ﬁ  nished.', metadata={'source': './data/knitting_pdfs/knitting-handbook.pdf', 'page': 21}),\n",
       " Document(page_content='With the right sides facing you, lay the pieces to be sewn ﬂ  at with edges next to each other, \\nlining up rows and stripes as much as possible. Insert the needle between the ﬁ  rst and second stitches on the ﬁ  rst row. Slide the needle under two rows, then bring it back to the \\nfront between the ﬁ  rst and second stitch of  the row.', metadata={'source': './data/knitting_pdfs/knitting-handbook.pdf', 'page': 21}),\n",
       " Document(page_content='The secret to the Mattress Stitch is to keep the seam elastic without allowing it to stretch \\ntoo much. The best way to do this is to work very loosely for a few inches, and then pull the sewing yarn so that the stitches pull together. Give the seam a little tug from the top and \\nbottom to add a bit of  stretch back in.LEARN TO KNIT -', metadata={'source': './data/knitting_pdfs/knitting-handbook.pdf', 'page': 21}),\n",
       " Document(page_content='MATTRESS STITCH SEAM\\nINSTRUCTIONS\\nStep #1:\\nReturn to the opposite side and, working under two \\nrows throughout, repeat this zig-zag process, always taking the needle under the strands that correspond \\nexactly to the other side and going into the hole that \\nthe last stitch on that side came of, being careful not to miss any rows.', metadata={'source': './data/knitting_pdfs/knitting-handbook.pdf', 'page': 21}),\n",
       " Document(page_content='21When joining two ribbed sections, work into the center of  the ﬁ  rst stitch of  the row instead \\nof  between the ﬁ  rst and second stitches. When the seam is pulled closed, one complete knit stitch will be formed and the seam will be nearly invisible.Step #2:\\nWhen joining garter stitch, work into the center', metadata={'source': './data/knitting_pdfs/knitting-handbook.pdf', 'page': 22}),\n",
       " Document(page_content='of  the ﬁ  rst stitch of  the row instead of  between \\nthe ﬁ  rst and second stitches. When the seam is pulled closed, the garter stitch ridges will line \\nup correctly.\\nINSTRUCTIONS\\nThe ﬁ  rst step of  ﬁ  nishing is weaving in the yarn ends. Securely woven ends will not unravel', metadata={'source': './data/knitting_pdfs/knitting-handbook.pdf', 'page': 22}),\n",
       " Document(page_content='during washing and pop out on the front of  your project. You will always have at least two ends to weave in—the excess yarn at the beginning cast on edge and the excess yarn after the \\nbind off. If  your project uses many colors or combines different types of  yarn, you will have \\nmore ends to weave in.', metadata={'source': './data/knitting_pdfs/knitting-handbook.pdf', 'page': 22}),\n",
       " Document(page_content='To securely weave in an end, thread the end through the eye of  a blunt yarn needle and work \\nfrom the wrong side of  the piece. Weave the needle through a few of  the stitches, turning the piece over to be sure the needle isn’t visible from the front. Pull the needle to pull the', metadata={'source': './data/knitting_pdfs/knitting-handbook.pdf', 'page': 22}),\n",
       " Document(page_content='excess yarn through the stitches. Repeat this for an inch or so, and then turn and weave in the \\nopposite direction. Trim the end close to the work. Some people prefer to weave diagonally, some horizontally or vertically—do whatever makes the most sense for the project, making \\nsure the yarn does not peek through the front of  the piece.', metadata={'source': './data/knitting_pdfs/knitting-handbook.pdf', 'page': 22}),\n",
       " Document(page_content='Bulky yarn will need to be woven more than an inch to prevent the end from unraveling.LEARN TO KNIT - WEAVE IN ENDS', metadata={'source': './data/knitting_pdfs/knitting-handbook.pdf', 'page': 22}),\n",
       " Document(page_content='22PATTERNS: \\nKNITTED NESTING PINCUSHION \\nThis is a fun and simple beginning knitting project. Learn to knit, purl, cast-\\non, cast-off and seam. The pincushion is a bright, colorful and fun gift for your sewing friends.\\nMATERIALS\\n     • Scraps of  3 colors of  worsted weight yarn\\n     • Knitting needles size 8 or size needed for gauge\\nMEASUREMENTS', metadata={'source': './data/knitting_pdfs/knitting-handbook.pdf', 'page': 23}),\n",
       " Document(page_content='•  Gauge: 8 sts = 2”\\nINSTRUCTIONS• Cast on 11 sts.\\n• Row 1:  K5, P1, K5\\n• Row 2:  K11\\n• Repeat rows 1 and 2 until piece measures 3” long. Bind off  and sew bound off  and cast on', metadata={'source': './data/knitting_pdfs/knitting-handbook.pdf', 'page': 23}),\n",
       " Document(page_content='edge together. Fold in half, outside edges together. Make the second piece the same except 5” long and of  second color. Make the third piece the same except 7” long and of  a third \\ncolor. Weave in all ends. Fit each piece inside the next larger circle. A thimble can be inserted \\nin the center.', metadata={'source': './data/knitting_pdfs/knitting-handbook.pdf', 'page': 23}),\n",
       " Document(page_content='*Simple alternative: Knit every row. Finish same as above.', metadata={'source': './data/knitting_pdfs/knitting-handbook.pdf', 'page': 23}),\n",
       " Document(page_content='23MATERIALS\\n     •  760-158 cotton yarn\\n     •  Knitting needles Size 7 or size needed \\n        for gauge     \\n     •  Crochet hook, Size F-5\\nMEASUREMENTS\\n     •  Gauge: 11 sts = 3”; 6 rows = 1”\\nNotes:\\nPotholder is worked with 3 strands of  yarn held together throughout. To use one ball, re-roll', metadata={'source': './data/knitting_pdfs/knitting-handbook.pdf', 'page': 24}),\n",
       " Document(page_content='yarn into three separate balls. (If  you are making more than one potholder, you may ﬁ  nd it \\neasier to get three balls of  cotton yarn to eliminate the need to re-roll.)\\nKNITTED POTHOLDER:\\nWith three strands of  yarn held together, cast on 28 sts. Work in garter st (= k every row)', metadata={'source': './data/knitting_pdfs/knitting-handbook.pdf', 'page': 24}),\n",
       " Document(page_content='until 8” from beg. Bind off  until one stitch remains. Knit that st, remove needle, insert crochet hook (ch 10. sl st to base st of  ch) for loop. Fasten off.PATTERNS: \\nPOT HOLDER/HOTPAD\\nThe double strands of yarn make this easy hot pad sturdy and durable.', metadata={'source': './data/knitting_pdfs/knitting-handbook.pdf', 'page': 24}),\n",
       " Document(page_content='24PATTERNS: \\nDOUBLE YARN KNIT SLIPPERS\\nThis is a simple basic slipper that works well when just learning how to knit. \\nTwo strands of worsted weight yarn are used to make the slipper more durable (and warm). \\nMATERIALS\\n     • 4 oz., 4-ply worsted weight yarn (two colors) \\n     • Knitting needles size 8 or size needed for gauge\\nMEASUREMENTS', metadata={'source': './data/knitting_pdfs/knitting-handbook.pdf', 'page': 25}),\n",
       " Document(page_content='•  Gauge: 8 sts = 2”\\nINSTRUCTIONSSole and sides: \\n• Cast on 29 sts with 2 strands of  yarn. (Use double yarn throughout)\\n• Row 1: (wrong side) K9, P1, K9, P1, K9.\\n• Row 2: K across row.• Repeat these two rows for 5” or 2 1/2” less than length of  foot, ending on the wrong side.\\nToe:', metadata={'source': './data/knitting_pdfs/knitting-handbook.pdf', 'page': 25}),\n",
       " Document(page_content='• Row 1:  (right side) P1, *K1, P1. Repeat from * to end of  row.\\n• Row 2: K1, P1 to end of  row.• Repeat ribbing for 2 1/2 or 3”. Break yarn leaving a 12” end. Thread yarn onto tapestry needle and slip stitches from knitting needle onto tapestry needle. Pull stitches up very tightly', metadata={'source': './data/knitting_pdfs/knitting-handbook.pdf', 'page': 25}),\n",
       " Document(page_content='and fasten securely. Sew edges together for 3-5 inches from toe to instep. Fasten securely. \\nWeave end of  thread into slipper on wrong side. Sew up heel. Trim with pompom.\\n• Variation: Felted slipper: Knit slipper with two strands of  worsted weight 100% wool yarn', metadata={'source': './data/knitting_pdfs/knitting-handbook.pdf', 'page': 25}),\n",
       " Document(page_content='(do not use super washed wool yarn) using size 13 needles. Follow instructions making sole the length of  foot and, ribbing (P1 K1) 4 inches longer than foot. To felt: Place slippers \\nin a lingerie bag. The bag protects the knitting and prevents too much wool fuzz from', metadata={'source': './data/knitting_pdfs/knitting-handbook.pdf', 'page': 25}),\n",
       " Document(page_content='clogging your washing machine. You will need to check your felting during the process and the lingerie bag with a zipper will make this easier. Set the washing machine to the hottest \\nwater temperature and the lowest water level. Add 2 tablespoons of  mild laundry soap. This', metadata={'source': './data/knitting_pdfs/knitting-handbook.pdf', 'page': 25}),\n",
       " Document(page_content='will soften the ﬁ  bers. The key to successful felting is agitation. Set the machine for heavy duty. You want a longer cycle so the project has time to felt before the spin and rinse cycles. \\nAgitate for 10 minutes. Do not spin. Remove slippers and check for size. If  more felting is', metadata={'source': './data/knitting_pdfs/knitting-handbook.pdf', 'page': 25}),\n",
       " Document(page_content='required, return to washing machine and agitate for additional 2-3 minutes. Check for size again. Continue the process until the desired size is reached. Rinse the felted pieces in cool \\nto warm water. Squeeze out excess water with a towel. Fill with clean dry paper towels and \\nhand mold to the desired shape. Let air dry.', metadata={'source': './data/knitting_pdfs/knitting-handbook.pdf', 'page': 25}),\n",
       " Document(page_content='25PATTERNS: \\nDIAGONAL KNIT DISHCLOTH\\nCotton yarn is a good choice to use for a dishcloth. It is absorbent, stronger \\nwet than dry, machine washable and can be bleached if needed. This dishcloth teaches skills of increasing and decreasing stitches. \\nMATERIALS\\n     • 1-2 oz. skein of  worsted weight cotton yarn', metadata={'source': './data/knitting_pdfs/knitting-handbook.pdf', 'page': 26}),\n",
       " Document(page_content='• Knitting needles size 8 or size needed for gauge\\nMEASUREMENTS\\n     •  Gauge: 8 sts = 2”\\nINSTRUCTIONS\\n• Cast on 2 sts.\\n• Row 1: K2.\\n• Row 2:  K1, in., (3 sts).\\n• Row 3:  K1, inc, K1. (4 sts).\\n• Row 4: K2, inc, K1. (5 sts).\\n• Row 5:  K2, K2 (6 sts).\\n• Row 6: K3, yo, K3 Continue working in this manner (inc. 1 st each row with yo) until you', metadata={'source': './data/knitting_pdfs/knitting-handbook.pdf', 'page': 26}),\n",
       " Document(page_content='have 50 sts on needle.\\n• 1st decrease Row:  K2, K2 tog, yo, K2 tog, K to end of  row.\\n• Repeat this row; decreasing 2 sts each row and forming eyelet by yo until 6 sts remain.\\n• Next row: K2, K2 tog, K2 (5 sts).\\n• Next row:  K2, K2 tog K1 (4 sts).\\n• Next row:  K1, K2 tog, K1 (3 sts).\\n• Next row: K2 tog, K1 (2 sts).', metadata={'source': './data/knitting_pdfs/knitting-handbook.pdf', 'page': 26}),\n",
       " Document(page_content='• Next row: K2 tog, pull yarn through last st to fasten off. Weave in the ends.', metadata={'source': './data/knitting_pdfs/knitting-handbook.pdf', 'page': 26}),\n",
       " Document(page_content='26PATTERNS: \\nHOLES AND RIDGES KNITTED DISHCLOTH\\nCotton yarn is a good yarn to use for a dishcloth. It is absorbent, stronger \\nwet than dry, machine washable and can be bleach if needed. These dishcloths are easy and fun to make. Make several and give them as gifts.\\nMATERIALS\\n     • 1-2 oz. skein of  worsted weight cotton yarn', metadata={'source': './data/knitting_pdfs/knitting-handbook.pdf', 'page': 27}),\n",
       " Document(page_content='• Knitting needles size 8 or size needed for gauge\\nMEASUREMENTS\\n     • Gauge: 9 sts = 2”\\n     • Finished Size: 9” square \\nINSTRUCTIONS\\n• Cast on 43 sts.\\n• Rows 1-8: Knit across. (Four ridges on each side.)\\n• Row 9:  K5, *YO, K2 tog, repeat from * across to last 4 sts, K4.', metadata={'source': './data/knitting_pdfs/knitting-handbook.pdf', 'page': 27}),\n",
       " Document(page_content='• Rows 10-13: Knit across. (Two ridges on each side.)• Rows 14-68: Repeat rows 9-13 eleven times. (Twelve rows of  hole pattern.)• Rows 70-77: Knit across. (Four ridges on one side, three on other.)\\n• Bind off  all sts in knit.\\n• Weave in the end.', metadata={'source': './data/knitting_pdfs/knitting-handbook.pdf', 'page': 27}),\n",
       " Document(page_content='27MATERIALS\\n     •  2 oz. 4-ply worsted weight yarn\\n     •  Knitting needles size 9 or size needed for gauge\\nMEASUREMENTS\\n     •  Head circumference: 18 [21 3/4]”/45.5 [55] cm     \\n     •  Length: 7 1/2” [8 1/2”]\\n     •  Gauge: 20 sts and 24 rounds = 4”/10 cm\\nINSTRUCTIONS', metadata={'source': './data/knitting_pdfs/knitting-handbook.pdf', 'page': 28}),\n",
       " Document(page_content='Cast on 90 sts. Work in K2, P2 ribbing for 1 ½ inches.  Change to stockinette st (knit one row, \\npurl one row) for 4 ½” [5 1/2”]. \\n    • Shape top\\n    • For size Medium/Large only - \\n       Next row (RS) *k5, k2 tog*, repeat from * \\n       P 1 rowFor both sizes:\\n    • Next row: *K4, K2 tog*, repeat from *', metadata={'source': './data/knitting_pdfs/knitting-handbook.pdf', 'page': 28}),\n",
       " Document(page_content='• Next row: Purl    • Next row: *K3, K2 tog*, repeat from *\\n    • Next row: Purl\\n    • Next row: K2, K2 tog*, repeat from *    • Next row: Purl\\n    • Next row: *K1, K2 tog*, repeat from *\\n    • Next row: Purl    • Last row:  K2 tog, across row (15 sts.)', metadata={'source': './data/knitting_pdfs/knitting-handbook.pdf', 'page': 28}),\n",
       " Document(page_content='Cut yarn leaving a 24” length. Thread onto a tapestry needle, thread through remaining 15 sts on needle, \\ndraw together. Fasten securely on wrong side. Sew side seam using mattress stitch. (See Page 23.)\\nOptional: Make a pompom and attach it to the top. Hook for loop. Fasten off. (See Page 35.)PATTERNS: \\nKNITTED STOCKING CAP', metadata={'source': './data/knitting_pdfs/knitting-handbook.pdf', 'page': 28}),\n",
       " Document(page_content='Use straight needles to create this fun and easy winter cap.', metadata={'source': './data/knitting_pdfs/knitting-handbook.pdf', 'page': 28}),\n",
       " Document(page_content='28MEASUREMENTS\\n     •  Size: About 5 1/2” X 72” (14 cm X 183 cm)\\n     •  Gauge: 16 sts = 4”MATERIALS\\n     •  4 oz. 4-ply worsted weight yarn     \\n     •  Knitting needles size 9 or size needed for gauge\\n     •  Crochet hook size G\\nINSTRUCTIONS\\nCast on 22 stitches. Work in Garter stitch (knit every \\nrow) until piece measures 72 in. (183 cm) from', metadata={'source': './data/knitting_pdfs/knitting-handbook.pdf', 'page': 29}),\n",
       " Document(page_content='beginning. Bind off. \\nFringe:\\nStep #1:\\nCut 90 strands of  yarn 12” long. Hold 4 strands together and fold them in half  to form a loop. \\nWorking along the narrow edge, insert a crochet hook \\nfrom back to front into the ﬁ  rst stitch. \\nStep #2:\\nDraw a loop through the stitch.\\nStep #3:\\nDraw the loose ends through the loop and pull them', metadata={'source': './data/knitting_pdfs/knitting-handbook.pdf', 'page': 29}),\n",
       " Document(page_content='tightly to form a knot. Add fringe to every other \\nstitch across the row, beginning with the ﬁ  rst stitch and ending with the last stitch. \\nStep #4:\\nRepeat along the other narrow edge with remaining \\nstrands of  yarn. Trim the fringe evenly.PATTERNS: \\nGARTER STITCH SCARF\\nCreate a warm winter scarf using the garter from one skein of yarn.', metadata={'source': './data/knitting_pdfs/knitting-handbook.pdf', 'page': 29}),\n",
       " Document(page_content='29MITTEN SIZE\\nExtra Small Small\\nMedium \\nLarge 14 cm to 15 cm (5 1/2 to 6 inches)\\n15 cm to 19 cm (6 to 7 1/2 inches)\\n19 cm to 23 cm (7 1/2 to 9 inches)23 cm or larger (9 inches or larger)\\nMATERIALS\\n     •  Hand knitting yarn, 4-ply -2½ oz of  main color (MC)\\n     •  Contrasting color (CC) yarn - 1/2 oz for all sizes', metadata={'source': './data/knitting_pdfs/knitting-handbook.pdf', 'page': 30}),\n",
       " Document(page_content='•  Knitting needles - 1 pair, size 8     •  Yarn needle\\n     •  2 stitch holders\\n     •  2 stitch markers\\nMEASUREMENTS\\n     •  Gauge: Stockinette stitch - 9 sts = 5 cm or 2 inches; 6 rows = 2.5 cm or 1 inch\\nINSTRUCTIONSFollow the same instructions for both the right and left mitten.\\n• Cast on 25, 30, 36, 45 sts with MC, using #8 needles', metadata={'source': './data/knitting_pdfs/knitting-handbook.pdf', 'page': 30}),\n",
       " Document(page_content='• Row 1 : *K1, p1. Repeat from * across.\\n• Rows 2-11: Repeat Row 1• Following rows-Work in stockinette stitch (k1 row, p1 row) for 4 (4, 6, 6) rows, ending with a p row.\\n• Thumb Gore: Row 1: K 13, (14, 17, 22) place a marker on the needle. Increase as follows: k', metadata={'source': './data/knitting_pdfs/knitting-handbook.pdf', 'page': 30}),\n",
       " Document(page_content='into front and back of  the following 2 sts. This results in 2 sts increased. Place a marker on the \\nneedle and k to the end of  the row. \\n• Row 2:  P across; slip markers from one needle to the other when you come to them.\\n• Row 3:  K across to the ﬁ  rst marker; inc one st in the next st; k to one st before the next', metadata={'source': './data/knitting_pdfs/knitting-handbook.pdf', 'page': 30}),\n",
       " Document(page_content='marker; inc one st in the next st; k to the end of  the row. There are now 6 sts between markers.• Repeat rows 2 and 3: Work even in stockinette stitch.PATTERNS: \\nMITTENS\\nThe pattern is designed for striped mittens. You may choose to make yours in', metadata={'source': './data/knitting_pdfs/knitting-handbook.pdf', 'page': 30}),\n",
       " Document(page_content='a solid color rather than striped. Note: Be sure to check your gauge before starting each project. Use any size needle that will obtain the stitch gauge.\\nAPPROXIMATE PALM SIZE \\nDirections are given for extra small. Changes for small, \\nmedium, and large are in parentheses.', metadata={'source': './data/knitting_pdfs/knitting-handbook.pdf', 'page': 30}),\n",
       " Document(page_content='30• Following 2 rows: Work even in stockinette stitch.\\n• Thumb Row 1: K across to the second marker; remove the marker; place the remaining \\n13, (14,17, 22) sts on a stitch holder; cast on 2 sts on the right hand needle for the base of  the thumb.\\n• Following rows: P the 2 cast-on sts; p the next 8 (8, 12, 12) sts; remove the other marker; place', metadata={'source': './data/knitting_pdfs/knitting-handbook.pdf', 'page': 31}),\n",
       " Document(page_content='the remaining 13 (14, 17, 22) sts on another stitch holder to be used later for the hand. Turn. Starting with a k row, continue in stockinette stitch over the 10 (10, 12, 12) sts on the needle only \\nfor 6 (6, 8, 8) more rows, ending with a p row.\\n• To shape tip: Row 1 : *K the next 2 sts tog. Knit across the remaining stitches. This results in', metadata={'source': './data/knitting_pdfs/knitting-handbook.pdf', 'page': 31}),\n",
       " Document(page_content='one st decreased. Repeat from * across.\\n• Row 2 : P across. Leaving a 30-cm or 12-inch yarn end, cut the yarn. Thread the yarn needle and \\ndraw it through the remaining sts. Pull it up tightly and secure it with slip stitches. Sew the thumb \\nseam using the same yarn.', metadata={'source': './data/knitting_pdfs/knitting-handbook.pdf', 'page': 31}),\n",
       " Document(page_content='• Hand: Row 1: With the right side facing you, attach the CC to the ﬁ  rst st on the stitch holder \\nto the right of  thumb, k across the sts on the stitch holder; pick up and k one st on each side of  \\nthe thumb base. Place the sts from the other holder onto the free needle and k across these sts. \\nThere are now 27 (32, 38, 47) sts on the needle.', metadata={'source': './data/knitting_pdfs/knitting-handbook.pdf', 'page': 31}),\n",
       " Document(page_content='• Row 2 : P across. Drop the CC. Do not cut the yarn. Attach the MC.\\n• Rows 3-4: With the MC, work in stockinette stitch. Drop the MC; pick up the CC.\\n• Following rows-Continuing in stockinette stitch, work in the color stripe pattern as', metadata={'source': './data/knitting_pdfs/knitting-handbook.pdf', 'page': 31}),\n",
       " Document(page_content='follows: 4 rows CC, 2 rows MC, and 2 tows CC. Cut the CC yarn. Tie it to the MC yarn. With the MC only, work even in stockinette stitch until the length of  the entire mitten measures 19 cm \\n(22 cm. 25 cm, 25 cm) or 7 ½ inches (8 ¾ inches, 9 ¾ inches, 9 ¾ inches), ending with a p row.', metadata={'source': './data/knitting_pdfs/knitting-handbook.pdf', 'page': 31}),\n",
       " Document(page_content='• To shape the tip: Row 1: *K 2 tog. Repeat from * across. There are now 14 (15, 18, 23) sts on the needle.\\n• Row 2 : P across\\n• Row 3 : *K 2 tog. Repeat from * 5 (6, 7, 8) times, ending with k 1 for extra small size only.', metadata={'source': './data/knitting_pdfs/knitting-handbook.pdf', 'page': 31}),\n",
       " Document(page_content='There are now 6 (6, 7, 8) sts on the needle. Leaving a 76 cm or 30 inch yarn end, cut the yarn. Thread a yarn needle with the yarn end and draw it through the remaining sts. Pull it up tightly \\nand secure it with whip stitches. Using the same yarn, sew the seam. Match the stripes using a backstitch seam. Weave in all yarn ends.\\n  PATTERNS:', metadata={'source': './data/knitting_pdfs/knitting-handbook.pdf', 'page': 31}),\n",
       " Document(page_content='MITTENS (cont’d)', metadata={'source': './data/knitting_pdfs/knitting-handbook.pdf', 'page': 31}),\n",
       " Document(page_content='31Step #1:\\nCut two 2” circles out of  lightweight cardboard. Cut a \\n½” opening and then cut a 3/4” circle out of  the center of  each. (This will look like a ‘C’.)Pompoms are fun to make and use to ﬁ  nish a project. Use leftover yarn \\nfrom the project to match. Some have used this method of making pom-poms using cardboard from a cereal box.', metadata={'source': './data/knitting_pdfs/knitting-handbook.pdf', 'page': 32}),\n",
       " Document(page_content='Step #2:\\nPlace two 12” lengths of  yarn between cardboard.\\nStep #3:\\nWrap yarn around cardboard starting at one end \\nof  opening and wrapping evenly to the other side \\nand continue back and forth until desired thickness (density) of  pompom.\\nStep #4:\\nTie 12” lengths of  yarn once to hold wrapped yarn', metadata={'source': './data/knitting_pdfs/knitting-handbook.pdf', 'page': 32}),\n",
       " Document(page_content='together. With shears, cut yarn between cardboard all \\nthe way around.  \\nStep #5:\\nTie 12” lengths of  yarn tightly with a square knot to \\nhold cut yarn ﬁ  rmly.\\nStep #6:\\nTrim pompom evenly and to desired size. The pompom \\nis ready to be added to project.PATTERNS:\\nPOMPOMS\\nPOMPOMS\\nDirections are given to make pompoms.\\nMATERIALS', metadata={'source': './data/knitting_pdfs/knitting-handbook.pdf', 'page': 32}),\n",
       " Document(page_content='• 4 oz., 4-ply worsted weight yarn (two colors) \\n     • lightweight cardboard (from a cereal box)     • paper scissors\\n     • shears', metadata={'source': './data/knitting_pdfs/knitting-handbook.pdf', 'page': 32}),\n",
       " Document(page_content='32JUDGING SCORESHEET', metadata={'source': './data/knitting_pdfs/knitting-handbook.pdf', 'page': 33}),\n",
       " Document(page_content='33Now that the youth know how to crochet or knit, put the knowledge to use by making \\ncrochet or knit donations to charity. Here are four of  the most well-known charities so that \\nyou can visit their websites, or write for information.\\n Crochet or knit 7” or 9” squares to be put together to make an afghan.\\nIt’s all about keeping people warm!', metadata={'source': './data/knitting_pdfs/knitting-handbook.pdf', 'page': 34}),\n",
       " Document(page_content='Warm Up America!2500 Lowell Road\\nGastonia, NC 28054\\nwww.craftyarncouncil.com/warmup.html \\nCrochet or knit items for preemies, such as hats, booties, blankets, and gowns.\\nTLC for Angels850 Fort Plains Road\\nHowell, NJ 07731-1190\\nwww.tlcforangels.tripod.com \\nProvide needy children with cozy hats to keep them warm.\\nCaps for kids–CYCAc/o Bonnie Greene', metadata={'source': './data/knitting_pdfs/knitting-handbook.pdf', 'page': 34}),\n",
       " Document(page_content='30113 Echo Blue Drive\\nPenn Valley, CA 95946-9422\\nhttp://www.craftyarncouncil.com/caps.html\\n \\nCrochet or knit slippers to send to U.S. Troops\\nOperation Toasty Toes-Slipper Projectwww.operationtoastytoes8.gobot.com\\n \\nCrochet or knit a blanket for a seriously ill or traumatized child or young adult.Project Linus\\nP .O. Box 5621', metadata={'source': './data/knitting_pdfs/knitting-handbook.pdf', 'page': 34}),\n",
       " Document(page_content='Bloomington, IL 61702-5621www.projectlinus.orgSERVICE PROJECT IDEAS', metadata={'source': './data/knitting_pdfs/knitting-handbook.pdf', 'page': 34}),\n",
       " Document(page_content='34ACKNOWLEDGMENTS\\nThe following sections and illustrations were referenced from www.redheart.com. \\nUsed with permission.This section is referenced from Craft Yarn Council of  America - \\nwww.craftyarncouncil.com.\\nThe following sections and illustrations were referenced from “ 4-H Knitting Skills,', metadata={'source': './data/knitting_pdfs/knitting-handbook.pdf', 'page': 35}),\n",
       " Document(page_content='Oregon State University Extension Service, May 1973 .”\\nThe following sections and patterns were created by the author.• Page 5 - Yarn & Gauge\\n• Page 8 - Working from a Pattern• Page 9 - Slip Knot\\n• Page 10 - Cast On\\n• Page 11 - Long Tail Cast On• Page 12 - Backwards Loop Cast On• Page 13 - Knit Stitch• Page 14 - Purl Stitch', metadata={'source': './data/knitting_pdfs/knitting-handbook.pdf', 'page': 35}),\n",
       " Document(page_content='• Page 15 - Knit Increases\\n• Page 15 - Increasing 1 Stitch• Page 15 - Eyelet Increase or Yarn• Page 1 - Teaching Your Love of  Knitting to Kids (“Ten Tips from the Pros”)\\n• Page 2 - Knitting Tools\\n• Page 22 - Patterns: Knitted Nesting Pincushion• Page 24 - Patterns: Double Yarn Knit Slippers', metadata={'source': './data/knitting_pdfs/knitting-handbook.pdf', 'page': 35}),\n",
       " Document(page_content='• Page 6 - Rolling Yarn into a Ball that Pulls from Center• Page 23 - Patterns: Pot Holder/Hotpad• Page 25 - Patterns: Diagonal Knit Dishcloth\\n• Page 26 - Patterns: Holes and Ridges Knitted Dishcloth', metadata={'source': './data/knitting_pdfs/knitting-handbook.pdf', 'page': 35}),\n",
       " Document(page_content='• Page 27 - Patterns: Knitted Stocking Cap• Page 28 - Patterns: Garter Stitch Scarf• Page 29 - Patterns: Mittens• Page 31 - Patterns: Pompoms• Page 16 - Make 1 Stitch• Page 17 - Decreases• Page 17 - Knit 2 Together\\n• Page 17 - Slip, Slip Knit\\n• Page 18 - Bind Off• Page 19 - Joining New Yarn• Page 20 - Assembly• Page 20 - Mattress Stitch Seam', metadata={'source': './data/knitting_pdfs/knitting-handbook.pdf', 'page': 35}),\n",
       " Document(page_content='• Page 21 - Weave In Ends\\nThe following section is referenced from www.utah4-h.org\\n• Page 32 - Judging Scoresheet\\nUtah State University is committed to providing an environment free from harassment and other forms of  illegal', metadata={'source': './data/knitting_pdfs/knitting-handbook.pdf', 'page': 35}),\n",
       " Document(page_content='discrimination based on race, color, religion, sex, national origin, age (40 and older), disability, and veteran’s status. USU’s \\npolicy also prohibits discrimination on the basis of  sexual orientation in employment and academic related practices and', metadata={'source': './data/knitting_pdfs/knitting-handbook.pdf', 'page': 35}),\n",
       " Document(page_content='decisions.  Utah State University employees and students cannot, because of  race, color, religion, sex, national origin, age, disability, or veteran’s status, refuse to hire; discharge; promote; demote; terminate; discriminate in compensation; or discriminate regarding terms, privileges, or conditions of  employment, against any person otherwise', metadata={'source': './data/knitting_pdfs/knitting-handbook.pdf', 'page': 35}),\n",
       " Document(page_content='qualiﬁ  ed. Employees', metadata={'source': './data/knitting_pdfs/knitting-handbook.pdf', 'page': 35}),\n",
       " Document(page_content='and students also cannot discriminate in the classroom, residence halls , or in on/off  campus, USU-sponsored events and \\nactivities.  This publication is issued in furtherance of  Cooperative Extension work, acts of  May 8 and June 30, 1914, in', metadata={'source': './data/knitting_pdfs/knitting-handbook.pdf', 'page': 35}),\n",
       " Document(page_content='cooperation with the U.S. Department of  Agriculture, Noelle E. Cockett, Vice President for Extension and Agriculture, \\nUtah State University.', metadata={'source': './data/knitting_pdfs/knitting-handbook.pdf', 'page': 35}),\n",
       " Document(page_content='35SMART PHONE TAGS\\nHere are the website addresses to the Microsoft Tags®.\\n• Page 5 - Yarn & Gauge\\n          Measuring Knit Gauge - http://bit.ly/HqoTKK          • Page 8 - Working from a Pattern\\n          Learn How to Read Multiples in Knit  - http://bit.ly/Ifd9uv   \\n          Reading a Knit Pattern  - http://bit.ly/HuVfD1     \\n• Page 9 - Slip Knot', metadata={'source': './data/knitting_pdfs/knitting-handbook.pdf', 'page': 36}),\n",
       " Document(page_content='Knit Getting Started  - http://bit.ly/Hvxxvk        \\n• Page 10 - Cast On\\n          Casting on Methods  - http://bit.ly/Hvxxvk\\n• Page 13 - Knit Stitch\\n          Learn How to Knit Stitch  - http://bit.ly/HxG4Jl   \\n• Page 14 - Purl Stitch\\n          Purl Stitch  - http://bit.ly/HvDymH      \\n• Page 17 - Decreases', metadata={'source': './data/knitting_pdfs/knitting-handbook.pdf', 'page': 36}),\n",
       " Document(page_content='Learn How to Make a Slip, Slip Knit (ssk) Decrease -           http://bit.ly/I5y9l7   • Page 18 - Bind Off\\n          Learn Four Ways of Binding Off  - http://bit.ly/IhiO3c    \\n• Page 20 - Mattress Stitch Seam\\n          Seaming Knitting - http://bit.ly/HvDL9r   \\n• Page 21 - Weave in Ends', metadata={'source': './data/knitting_pdfs/knitting-handbook.pdf', 'page': 36}),\n",
       " Document(page_content='Weaving in Ends - Knit  - http://bit.ly/m2VdIY    \\n• Page 27 - Patterns: Knitted Stocking Cap\\n          Knit Ribbing  - http://bit.ly/HBtV9R', metadata={'source': './data/knitting_pdfs/knitting-handbook.pdf', 'page': 36}),\n",
       " Document(page_content='36NOTES', metadata={'source': './data/knitting_pdfs/knitting-handbook.pdf', 'page': 37}),\n",
       " Document(page_content='37NOTES', metadata={'source': './data/knitting_pdfs/knitting-handbook.pdf', 'page': 38}),\n",
       " Document(page_content='KNITTING\\nHANDBOOKTHE 4-H\\nBy Debra Proctor & Susan Haws4H/Sewing&Textiles/2012/02pr', metadata={'source': './data/knitting_pdfs/knitting-handbook.pdf', 'page': 39}),\n",
       " Document(page_content=\"In, around, under and off. You'll\\xa0 be dreaming this by the end. Hello knitters, i'm Marion from Lovecrafts\\xa0 and I'm going to show you how to knit. Now, in this video we're going to do a\\xa0little project where we start knitting\\xa0from start to finish.  This is the little\\xa0swatch we're going to knit. I'm going to\\xa0show you how to start, how to cast on, how\", metadata={'source': 'Zjq0MoUZqVY', 'title': 'How to Knit - for absolute BEGINNERS!', 'description': 'Unknown', 'view_count': 1950329, 'thumbnail_url': 'https://i.ytimg.com/vi/Zjq0MoUZqVY/hq720.jpg', 'publish_date': '2019-06-17 00:00:00', 'length': 1709, 'author': 'LoveCrafts'}),\n",
       " Document(page_content=\"to knit this lovely knit stitch\\xa0\\xa0 and then how to cast off. So, it's everything\\xa0 in one go.  Now if you learn to make one of these, you can make a scarf or a cushion cover or\\xa0a pillow or a blanket - anything at all! \\xa0 So, this is a really good tutorial just for some basic\\xa0ground work before you start your knitting. So, I'm going to use Paint Box\", metadata={'source': 'Zjq0MoUZqVY', 'title': 'How to Knit - for absolute BEGINNERS!', 'description': 'Unknown', 'view_count': 1950329, 'thumbnail_url': 'https://i.ytimg.com/vi/Zjq0MoUZqVY/hq720.jpg', 'publish_date': '2019-06-17 00:00:00', 'length': 1709, 'author': 'LoveCrafts'}),\n",
       " Document(page_content=\"wool mix super chunky.\\xa0And the reason i'm using a super chunky yarn\\xa0\\xa0 is because when you start knitting it's really\\xa0important to be able to see the stitches.  Um, and so I always prefer to use a big yarn, and that way your\\xa0work grows very fast, so you don't get demoralised\\xa0\\xa0 and you can see your stitches really clearly when\\xa0 you're starting out.\", metadata={'source': 'Zjq0MoUZqVY', 'title': 'How to Knit - for absolute BEGINNERS!', 'description': 'Unknown', 'view_count': 1950329, 'thumbnail_url': 'https://i.ytimg.com/vi/Zjq0MoUZqVY/hq720.jpg', 'publish_date': '2019-06-17 00:00:00', 'length': 1709, 'author': 'LoveCrafts'}),\n",
       " Document(page_content=\"It's personal, you can try\\xa0\\xa0 all kinds, but I prefer a wooden needle and the\\xa0 reason for that is because they're not slippy.  So, when you start knitting you don't want your\\xa0 needles to be slipping all over the place.  So, wooden needles or bamboo needles will keep your\\xa0work anchored nicely on the needle.  Let's start\\xa0with the cast on.  So, there\", metadata={'source': 'Zjq0MoUZqVY', 'title': 'How to Knit - for absolute BEGINNERS!', 'description': 'Unknown', 'view_count': 1950329, 'thumbnail_url': 'https://i.ytimg.com/vi/Zjq0MoUZqVY/hq720.jpg', 'publish_date': '2019-06-17 00:00:00', 'length': 1709, 'author': 'LoveCrafts'}),\n",
       " Document(page_content=\"are lots and lots\\xa0of different ways to cast on and I'm going to\\xa0show you a knitted cast on, which is a really\\xa0good way to create quite a stretchy cast on.  So, take your yarn, we're going to start with a slip\\xa0 knot. So, we have the yarn here like this. Make sure you leave a nice long tail because that needs\\xa0to be sewn in later and I'll show you\", metadata={'source': 'Zjq0MoUZqVY', 'title': 'How to Knit - for absolute BEGINNERS!', 'description': 'Unknown', 'view_count': 1950329, 'thumbnail_url': 'https://i.ytimg.com/vi/Zjq0MoUZqVY/hq720.jpg', 'publish_date': '2019-06-17 00:00:00', 'length': 1709, 'author': 'LoveCrafts'}),\n",
       " Document(page_content=\"that when\\xa0we get there. But just take the yarn and wind it\\xa0around your fingers. So, you have two fingers like\\xa0that. Now taking the working yarn, this is the\\xa0one attached to the ball, just pull that through\\xa0the circle. And then I'm just going to pull\\xa0that tight. And you can see there that this\\xa0is a slip knot.  Let's do that again.  So,\\xa0I've got the\", metadata={'source': 'Zjq0MoUZqVY', 'title': 'How to Knit - for absolute BEGINNERS!', 'description': 'Unknown', 'view_count': 1950329, 'thumbnail_url': 'https://i.ytimg.com/vi/Zjq0MoUZqVY/hq720.jpg', 'publish_date': '2019-06-17 00:00:00', 'length': 1709, 'author': 'LoveCrafts'}),\n",
       " Document(page_content=\"tail going off to the left,\\xa0I've got the working yarn on the right.  So,\\xa0I'm just going to wind that round my finger\\xa0and then just reach through that hole, pull the\\xa0working yarn, and then pull it into a slip knot.\\xa0\\xa0 And that - you can alter the size. So, that's\\xa0 where we're going to start.  I'm going to pop that\\xa0now onto the needle. So, there we\", metadata={'source': 'Zjq0MoUZqVY', 'title': 'How to Knit - for absolute BEGINNERS!', 'description': 'Unknown', 'view_count': 1950329, 'thumbnail_url': 'https://i.ytimg.com/vi/Zjq0MoUZqVY/hq720.jpg', 'publish_date': '2019-06-17 00:00:00', 'length': 1709, 'author': 'LoveCrafts'}),\n",
       " Document(page_content=\"are. You've got\\xa0your first stitch on the needle.  Now, to start\\xa0a cast on, we're going to do the knit stitch.\\xa0So, we put the needle and I've got - just look\\xa0at how I'm holding it. I've got this tail\\xa0of the yarn in my hand on the left-hand side,\\xa0the working yarn on the right-hand side\\xa0and this is my right-hand needle. So, I'm going to put my needle\", metadata={'source': 'Zjq0MoUZqVY', 'title': 'How to Knit - for absolute BEGINNERS!', 'description': 'Unknown', 'view_count': 1950329, 'thumbnail_url': 'https://i.ytimg.com/vi/Zjq0MoUZqVY/hq720.jpg', 'publish_date': '2019-06-17 00:00:00', 'length': 1709, 'author': 'LoveCrafts'}),\n",
       " Document(page_content=\"diagonally underneath\\xa0into the stitch.  Now, with the working yarn on\\xa0\\xa0my right I'm going to take that yarn,\\xa0bring it round the front of the needle, and then holding these steady, I'm\\xa0going to pull this needle underneath. So, we're now sitting here.. And just pull it a\\xa0 little bit so you've got a loop on each needle.\\xa0\\xa0 Then i'm going to just\", metadata={'source': 'Zjq0MoUZqVY', 'title': 'How to Knit - for absolute BEGINNERS!', 'description': 'Unknown', 'view_count': 1950329, 'thumbnail_url': 'https://i.ytimg.com/vi/Zjq0MoUZqVY/hq720.jpg', 'publish_date': '2019-06-17 00:00:00', 'length': 1709, 'author': 'LoveCrafts'}),\n",
       " Document(page_content=\"transfer that first one and\\xa0 pop it on to the left-hand needle. And now we have\\xa0two stitches. So, we're going to do that\\xa0again. This time I'm going to put my needle\\xa0into the right-hand stitch - there we go - in\\xa0diagonally, bring the yarn around the needle,\\xa0\\xa0 pull it down and then across a little\\xa0bit so that you've got two loops.  And\\xa0then transfer\", metadata={'source': 'Zjq0MoUZqVY', 'title': 'How to Knit - for absolute BEGINNERS!', 'description': 'Unknown', 'view_count': 1950329, 'thumbnail_url': 'https://i.ytimg.com/vi/Zjq0MoUZqVY/hq720.jpg', 'publish_date': '2019-06-17 00:00:00', 'length': 1709, 'author': 'LoveCrafts'}),\n",
       " Document(page_content=\"this right-hand loop onto\\xa0the left needle. So, now we've got three.\\xa0\\xa0 So, let's do it again.  Put your needle\\xa0diagonally underneath into the stitch,\\xa0bring your working yarn, the one on the right\\xa0here, around the needle then we slide underneath.\\xa0 And then just pull until you've got more of a\\xa0loop and then transfer this right-hand needle\\xa0onto the\", metadata={'source': 'Zjq0MoUZqVY', 'title': 'How to Knit - for absolute BEGINNERS!', 'description': 'Unknown', 'view_count': 1950329, 'thumbnail_url': 'https://i.ytimg.com/vi/Zjq0MoUZqVY/hq720.jpg', 'publish_date': '2019-06-17 00:00:00', 'length': 1709, 'author': 'LoveCrafts'}),\n",
       " Document(page_content=\"left.  So, now we have four.  And you\\xa0can see as you complete each stitch this little\\xa0diagonal bit straightens up a bit just in case\\xa0you're worrying.  So, I'm going to start again. So, we put the needle in diagonally underneath,\\xa0 then i'm going to take the working yarn,\\xa0\\xa0 that's the one attached to the ball,\\xa0bring it round the needle, slide it\", metadata={'source': 'Zjq0MoUZqVY', 'title': 'How to Knit - for absolute BEGINNERS!', 'description': 'Unknown', 'view_count': 1950329, 'thumbnail_url': 'https://i.ytimg.com/vi/Zjq0MoUZqVY/hq720.jpg', 'publish_date': '2019-06-17 00:00:00', 'length': 1709, 'author': 'LoveCrafts'}),\n",
       " Document(page_content=\"under\\xa0and pull it towards me a little bit.  So, that\\xa0makes the the stitch a little bit bigger.\\xa0\\xa0 And then transfer it onto the left needle.\\xa0 There we go. There's five. Let's do it again.\\xa0\\xa0 Put your needle in diagonally underneath\\xa0 into the stitch, bring your yarn around,\\xa0\\xa0 and then slide the needle underneath and pull it\\xa0towards you.  So, you've\", metadata={'source': 'Zjq0MoUZqVY', 'title': 'How to Knit - for absolute BEGINNERS!', 'description': 'Unknown', 'view_count': 1950329, 'thumbnail_url': 'https://i.ytimg.com/vi/Zjq0MoUZqVY/hq720.jpg', 'publish_date': '2019-06-17 00:00:00', 'length': 1709, 'author': 'LoveCrafts'}),\n",
       " Document(page_content=\"got another stitch made\\xa0and transfer it onto the needle.  Now\\xa0you might find when you start this\\xa0it's very difficult to control two needles and\\xa0two pieces of yarn.  So, just go very slowly,\\xa0tuck up this spare yarn into your hand here and\\xa0hold the needle.  So, if I put my needle in here\\xa0again, slide it underneath. If it helps you,\\xa0hold those two\", metadata={'source': 'Zjq0MoUZqVY', 'title': 'How to Knit - for absolute BEGINNERS!', 'description': 'Unknown', 'view_count': 1950329, 'thumbnail_url': 'https://i.ytimg.com/vi/Zjq0MoUZqVY/hq720.jpg', 'publish_date': '2019-06-17 00:00:00', 'length': 1709, 'author': 'LoveCrafts'}),\n",
       " Document(page_content=\"together with your left hand,\\xa0so that you've got this hand free.\\xa0   Bring the yarn around the needle.\\xa0\\xa0 And then I find sometimes, if you put your finger\\xa0on the end of that right needle to push it back.\\xa0\\xa0 And then come underneath, pull it towards you,\\xa0and then transfer onto that needle.  Now it looks\\xa0very controlled as i'm doing it here and\", metadata={'source': 'Zjq0MoUZqVY', 'title': 'How to Knit - for absolute BEGINNERS!', 'description': 'Unknown', 'view_count': 1950329, 'thumbnail_url': 'https://i.ytimg.com/vi/Zjq0MoUZqVY/hq720.jpg', 'publish_date': '2019-06-17 00:00:00', 'length': 1709, 'author': 'LoveCrafts'}),\n",
       " Document(page_content=\"you\\xa0might find when you start that you're all over the\\xa0place, but just keep going because you just need\\xa0to get these stitches on.  Just keep practicing,\\xa0keep practicing, it doesn't matter how long it\\xa0takes.  So, we go into the bottom of the stitch\\xa0diagonally, bring the yarn around, then we come\\xa0under, pull it towards you  and then transfer\\xa0onto\", metadata={'source': 'Zjq0MoUZqVY', 'title': 'How to Knit - for absolute BEGINNERS!', 'description': 'Unknown', 'view_count': 1950329, 'thumbnail_url': 'https://i.ytimg.com/vi/Zjq0MoUZqVY/hq720.jpg', 'publish_date': '2019-06-17 00:00:00', 'length': 1709, 'author': 'LoveCrafts'}),\n",
       " Document(page_content=\"the left-hand needle. So, let's have a look.\\xa0We've got two, four, six, eight stitches there.\\xa0\\xa0 So, let's create 15. So, I put the needle\\xa0in, yarn around, pull it underneath,\\xa0pull it towards you, and transfer it.  So, we\\xa0go again. Put your needle in, the yarn around,\\xa0push the needle under, pull it towards you,\\xa0and transfer it.  Let's have a look\", metadata={'source': 'Zjq0MoUZqVY', 'title': 'How to Knit - for absolute BEGINNERS!', 'description': 'Unknown', 'view_count': 1950329, 'thumbnail_url': 'https://i.ytimg.com/vi/Zjq0MoUZqVY/hq720.jpg', 'publish_date': '2019-06-17 00:00:00', 'length': 1709, 'author': 'LoveCrafts'}),\n",
       " Document(page_content=\"now. Two, four, six, eight, ten stitches.  Let's do\\xa0another five.  So, your needle in, yarn around,\\xa0\\xa0push it back, and then bring it towards you\\xa0and then transfer the stitch. I'll do it again. So, this gives us 12.  See, when you\\xa0see this little crisscross here, don't\\xa0worry about that that's normal.\\xa0 So,\\xa0we put the needle in, yarn around,\\xa0pull it\", metadata={'source': 'Zjq0MoUZqVY', 'title': 'How to Knit - for absolute BEGINNERS!', 'description': 'Unknown', 'view_count': 1950329, 'thumbnail_url': 'https://i.ytimg.com/vi/Zjq0MoUZqVY/hq720.jpg', 'publish_date': '2019-06-17 00:00:00', 'length': 1709, 'author': 'LoveCrafts'}),\n",
       " Document(page_content=\"towards you, and then transfer the stitch. The needle in, yarn around, push\\xa0the needle back and underneath,\\xa0bring it towards you, and then transfer\\xa0it.  Let's have a little count - two, four, six,\\xa0eight, ten, twelve, fourteen. Just one more to go. Needle in - you can even balance it on your\\xa0thumb there if that helps you.  Just hold the\\xa0\\xa0needles\", metadata={'source': 'Zjq0MoUZqVY', 'title': 'How to Knit - for absolute BEGINNERS!', 'description': 'Unknown', 'view_count': 1950329, 'thumbnail_url': 'https://i.ytimg.com/vi/Zjq0MoUZqVY/hq720.jpg', 'publish_date': '2019-06-17 00:00:00', 'length': 1709, 'author': 'LoveCrafts'}),\n",
       " Document(page_content=\"together, bring your yarn around, and then\\xa0you slide underneath, bring the needle through,\\xa0\\xa0 pull it towards you, and transfer. Okay. So, there we have 15 stitches cast on. So, okay here we are ready to\\xa0start knitting. So, i've got the tail of the yarn on the left-hand side here. I've\\xa0got my working yarn connected to the ball of yarn on the right.\", metadata={'source': 'Zjq0MoUZqVY', 'title': 'How to Knit - for absolute BEGINNERS!', 'description': 'Unknown', 'view_count': 1950329, 'thumbnail_url': 'https://i.ytimg.com/vi/Zjq0MoUZqVY/hq720.jpg', 'publish_date': '2019-06-17 00:00:00', 'length': 1709, 'author': 'LoveCrafts'}),\n",
       " Document(page_content=\"And we're going to do a very\\xa0similar stitch than we just did for casting on.\\xa0\\xa0 Um, again, this one is a little bit sideways.\\xa0 That's fine, that's exactly how it should be.\\xa0\\xa0 And that's your little nice cast on edge. So,\\xa0I'm going to take the needle like we did before. Diagonally underneath the stitch, we\\xa0bring the working yarn around the needle..\", metadata={'source': 'Zjq0MoUZqVY', 'title': 'How to Knit - for absolute BEGINNERS!', 'description': 'Unknown', 'view_count': 1950329, 'thumbnail_url': 'https://i.ytimg.com/vi/Zjq0MoUZqVY/hq720.jpg', 'publish_date': '2019-06-17 00:00:00', 'length': 1709, 'author': 'LoveCrafts'}),\n",
       " Document(page_content=\"Slide it through.. Now this time - oops -\\xa0we're going to slide it off the needle.\\xa0\\xa0 There we go. Let's do that one again. We put the\\xa0 needle in and underneath, bring the yarn around,\\xa0\\xa0 slide it under, and then off. So, let's try\\xa0that again. We put the needle into the stitch diagonally underneath, you bring your working yarn\\xa0around the needle,\", metadata={'source': 'Zjq0MoUZqVY', 'title': 'How to Knit - for absolute BEGINNERS!', 'description': 'Unknown', 'view_count': 1950329, 'thumbnail_url': 'https://i.ytimg.com/vi/Zjq0MoUZqVY/hq720.jpg', 'publish_date': '2019-06-17 00:00:00', 'length': 1709, 'author': 'LoveCrafts'}),\n",
       " Document(page_content=\"push the needle underneath and\\xa0down, and then bring it through and then off.  Now,\\xa0when you work this first row it's often quite a\\xa0tight row to work. So, just try not to pull your\\xa0yarn too tight. Just try and keep the yarn nice\\xa0and relaxed. If you tighten up these stitches,\\xa0they're going to be much harder to move around.\\xa0\\xa0 So, just try and keep\", metadata={'source': 'Zjq0MoUZqVY', 'title': 'How to Knit - for absolute BEGINNERS!', 'description': 'Unknown', 'view_count': 1950329, 'thumbnail_url': 'https://i.ytimg.com/vi/Zjq0MoUZqVY/hq720.jpg', 'publish_date': '2019-06-17 00:00:00', 'length': 1709, 'author': 'LoveCrafts'}),\n",
       " Document(page_content=\"them as loose as you can.\\xa0 So, we're going to put the needle into the stitch,\\xa0\\xa0 around, under and off. And you can\\xa0keep just shimmying these stitches up to the top of the needle. So, that\\xa0they're not on the end but near the end, so you don't have to travel very far.  So, then\\xa0we put the needle in and underneath, around the\\xa0right-hand needle, push\", metadata={'source': 'Zjq0MoUZqVY', 'title': 'How to Knit - for absolute BEGINNERS!', 'description': 'Unknown', 'view_count': 1950329, 'thumbnail_url': 'https://i.ytimg.com/vi/Zjq0MoUZqVY/hq720.jpg', 'publish_date': '2019-06-17 00:00:00', 'length': 1709, 'author': 'LoveCrafts'}),\n",
       " Document(page_content=\"this one down and under\\xa0and then slide it off. Let's do another one. Into the stitch, bring your yarn around the\\xa0needle, come under and then off.  So, we go in,\\xa0around, under and off. There are lots of these\\xa0little rhymes that you can learn to remind yourself but that's the easiest one.  So, we go\\xa0in, around, under and off. So, we go in, around,\", metadata={'source': 'Zjq0MoUZqVY', 'title': 'How to Knit - for absolute BEGINNERS!', 'description': 'Unknown', 'view_count': 1950329, 'thumbnail_url': 'https://i.ytimg.com/vi/Zjq0MoUZqVY/hq720.jpg', 'publish_date': '2019-06-17 00:00:00', 'length': 1709, 'author': 'LoveCrafts'}),\n",
       " Document(page_content=\"under, and off.  Just say that to yourself. There\\xa0we go. In, around, under and off. Now, you know, it doesn't matter how you hold your needles. So,\\xa0some people - I'm holding them like this in a\\xa0face with open palms. You might find it's easier\\xa0if you hold your needles this way.  So, you might\\xa0find it easier with your hand on top.  So, if I\\xa0try that\", metadata={'source': 'Zjq0MoUZqVY', 'title': 'How to Knit - for absolute BEGINNERS!', 'description': 'Unknown', 'view_count': 1950329, 'thumbnail_url': 'https://i.ytimg.com/vi/Zjq0MoUZqVY/hq720.jpg', 'publish_date': '2019-06-17 00:00:00', 'length': 1709, 'author': 'LoveCrafts'}),\n",
       " Document(page_content=\"you go under - sorry - into the stitch,\\xa0around, under and off. In, around, under\\xa0and off. Remember there is no right way\\xa0to hold your needle. So, whatever's\\xa0comfy for you, you do that. In, around, under and off. And we've just got two\\xa0 more stitches to take us to the end of the row.\\xa0\\xa0 In, around, under and off. In, around, under\\xa0and off. And so,\", metadata={'source': 'Zjq0MoUZqVY', 'title': 'How to Knit - for absolute BEGINNERS!', 'description': 'Unknown', 'view_count': 1950329, 'thumbnail_url': 'https://i.ytimg.com/vi/Zjq0MoUZqVY/hq720.jpg', 'publish_date': '2019-06-17 00:00:00', 'length': 1709, 'author': 'LoveCrafts'}),\n",
       " Document(page_content=\"when you've completed that first row - look at that lovely work - then\\xa0what we do is we turn this needle around. So, that you have these little lovely bumps facing\\xa0 you. And we're ready to start the second row.\\xa0\\xa0 So, we're going to work in exactly the\\xa0same way for this row.  Now this stitch,\\xa0\\xa0sometimes it's called the knit stitch\\xa0sometimes it's\", metadata={'source': 'Zjq0MoUZqVY', 'title': 'How to Knit - for absolute BEGINNERS!', 'description': 'Unknown', 'view_count': 1950329, 'thumbnail_url': 'https://i.ytimg.com/vi/Zjq0MoUZqVY/hq720.jpg', 'publish_date': '2019-06-17 00:00:00', 'length': 1709, 'author': 'LoveCrafts'}),\n",
       " Document(page_content=\"called garter stitch,\\xa0\\xa0 um, is the main.. Is the basic knitting stitch\\xa0 that you use for absolutely everything.  There are\\xa0only two knitting stitches and this is the first\\xa0one that everybody learns.  So, let's start again. In, around, under and off. You see this is\\xa0a lot looser, this second row. In, around, under and off. And that's because\\xa0you've\", metadata={'source': 'Zjq0MoUZqVY', 'title': 'How to Knit - for absolute BEGINNERS!', 'description': 'Unknown', 'view_count': 1950329, 'thumbnail_url': 'https://i.ytimg.com/vi/Zjq0MoUZqVY/hq720.jpg', 'publish_date': '2019-06-17 00:00:00', 'length': 1709, 'author': 'LoveCrafts'}),\n",
       " Document(page_content=\"sort of freed up your first\\xa0row, which is always, always a bit\\xa0tighter than the others. In, around, under\\xa0and off. You see the way the stitches are\\xa0just transferring onto this right needle. In, around, under and off. I'll do a couple\\xa0 more of those. In, around under and off.\\xa0\\xa0 Looking very nice. In, around, under and off.\\xa0 And just keep repeating\", metadata={'source': 'Zjq0MoUZqVY', 'title': 'How to Knit - for absolute BEGINNERS!', 'description': 'Unknown', 'view_count': 1950329, 'thumbnail_url': 'https://i.ytimg.com/vi/Zjq0MoUZqVY/hq720.jpg', 'publish_date': '2019-06-17 00:00:00', 'length': 1709, 'author': 'LoveCrafts'}),\n",
       " Document(page_content=\"that as you go. It won't take long for your hands to develop the muscle\\xa0 memory that you need to remember this stitch.\\xa0\\xa0 So, in around, under, and off. Let's try it. Just\\xa0if you want to try it with your hands on the top\\xa0there again. In, around, under and off. And you\\xa0might find that when you're doing this, this\\xa0needle wobbles around a little bit\", metadata={'source': 'Zjq0MoUZqVY', 'title': 'How to Knit - for absolute BEGINNERS!', 'description': 'Unknown', 'view_count': 1950329, 'thumbnail_url': 'https://i.ytimg.com/vi/Zjq0MoUZqVY/hq720.jpg', 'publish_date': '2019-06-17 00:00:00', 'length': 1709, 'author': 'LoveCrafts'}),\n",
       " Document(page_content=\"and it's a bit\\xa0awkward to hold.  Just steady it with your other\\xa0hand. So, if you find that you're just sort of\\xa0 dangling a bit, just hold it with your thumbs,\\xa0 and it is a bit like, you know, learning to drive when\\xa0you can't do everything in one go, but just try\\xa0and keep yourself steady rather than letting them\\xa0dangle.  So, this front needle goes\", metadata={'source': 'Zjq0MoUZqVY', 'title': 'How to Knit - for absolute BEGINNERS!', 'description': 'Unknown', 'view_count': 1950329, 'thumbnail_url': 'https://i.ytimg.com/vi/Zjq0MoUZqVY/hq720.jpg', 'publish_date': '2019-06-17 00:00:00', 'length': 1709, 'author': 'LoveCrafts'}),\n",
       " Document(page_content=\"underneath, the left.  So, we go around,\\xa0under, and off. In, around,\\xa0under and off. In, around, under and\\xa0off. So, two more stitches to go. And there we go. Second row. Okay, let's get\\xa0ready for row three. So, we're going to work in exactly the same way.  So, I've got hold of\\xa0my needle here. Right-hand needle we go into\\xa0the stitch diagonally and\", metadata={'source': 'Zjq0MoUZqVY', 'title': 'How to Knit - for absolute BEGINNERS!', 'description': 'Unknown', 'view_count': 1950329, 'thumbnail_url': 'https://i.ytimg.com/vi/Zjq0MoUZqVY/hq720.jpg', 'publish_date': '2019-06-17 00:00:00', 'length': 1709, 'author': 'LoveCrafts'}),\n",
       " Document(page_content=\"underneath, the working\\xa0yarn round the needle and we come under and off.\\xa0\\xa0 Notice i'm just using my finger there on the\\xa0 end of the needle to push the stitches along.\\xa0\\xa0 You want to keep them loose but not too loose\\xa0 and not too near the edge. You don't want to\\xa0\\xa0 risk them falling off. But on the other hand\\xa0you don't want to have to drag them off.\", metadata={'source': 'Zjq0MoUZqVY', 'title': 'How to Knit - for absolute BEGINNERS!', 'description': 'Unknown', 'view_count': 1950329, 'thumbnail_url': 'https://i.ytimg.com/vi/Zjq0MoUZqVY/hq720.jpg', 'publish_date': '2019-06-17 00:00:00', 'length': 1709, 'author': 'LoveCrafts'}),\n",
       " Document(page_content=\"So,\\xa0that's about the right distance.\\xa0   So, then we're going to go in,\\xa0\\xa0around, under and off. Again don't be afraid\\xa0to hold on to the needles and steady them.\\xa0\\xa0 In, around, under and off. Just push them down a\\xa0 bit. In, around, under and off. You'll be dreaming this by the end. In, around, under and off.  And\\xa0I'll just show you, in case you've\", metadata={'source': 'Zjq0MoUZqVY', 'title': 'How to Knit - for absolute BEGINNERS!', 'description': 'Unknown', 'view_count': 1950329, 'thumbnail_url': 'https://i.ytimg.com/vi/Zjq0MoUZqVY/hq720.jpg', 'publish_date': '2019-06-17 00:00:00', 'length': 1709, 'author': 'LoveCrafts'}),\n",
       " Document(page_content=\"decided to\\xa0put your hands on the tops of your needles, that's\\xa0fine.  In, - and i'm just securing this needle with\\xa0my thumb there, just holding the two together -\\xa0you can see.  Around, under, and off. In, around,\\xa0under and off.  And remember there's no, you\\xa0know, there's no right or wrong way to hold your\\xa0needles. It's whatever is comfortable for\", metadata={'source': 'Zjq0MoUZqVY', 'title': 'How to Knit - for absolute BEGINNERS!', 'description': 'Unknown', 'view_count': 1950329, 'thumbnail_url': 'https://i.ytimg.com/vi/Zjq0MoUZqVY/hq720.jpg', 'publish_date': '2019-06-17 00:00:00', 'length': 1709, 'author': 'LoveCrafts'}),\n",
       " Document(page_content=\"you.\\xa0\\xa0 So, in, around, under and off. So, there we go. Around, under and off. You can see that little,\\xa0 nice little garter ridge beginning to form there.\\xa0\\xa0 In, around, under and off.\\xa0 Just a couple more to go. And then I've got the last stitch there. In,\\xa0around, under and off. So, there we are.\\xa0\\xa0 So far, three rows. And what I'm going to do, is\", metadata={'source': 'Zjq0MoUZqVY', 'title': 'How to Knit - for absolute BEGINNERS!', 'description': 'Unknown', 'view_count': 1950329, 'thumbnail_url': 'https://i.ytimg.com/vi/Zjq0MoUZqVY/hq720.jpg', 'publish_date': '2019-06-17 00:00:00', 'length': 1709, 'author': 'LoveCrafts'}),\n",
       " Document(page_content=\"I'm going to knit\\xa0a few more rows now and then come back and\\xa0show you how to cast off.  Okay, so here we are\\xa0ready to cast off. A cast off literally just\\xa0means that we're going to get rid of all these\\xa0stitches along the top to make a nice neat edge.\\xa0\\xa0 So, it's either called casting off or binding off.\\xa0And you might see it in a pattern as bind\", metadata={'source': 'Zjq0MoUZqVY', 'title': 'How to Knit - for absolute BEGINNERS!', 'description': 'Unknown', 'view_count': 1950329, 'thumbnail_url': 'https://i.ytimg.com/vi/Zjq0MoUZqVY/hq720.jpg', 'publish_date': '2019-06-17 00:00:00', 'length': 1709, 'author': 'LoveCrafts'}),\n",
       " Document(page_content=\"off,\\xa0\\xa0cast off. And again there are lots of different\\xa0ways to do this but i'm just going to show you\\xa0a very basic cast off. But before I do that, I\\xa0just want to talk to you about these rows. Now just have a look at this. This is garter stitch,\\xa0 this is knit stitch that we've been doing,\\xa0\\xa0 and it's a lovely stretchy stitch that is\\xa0perfect for if\", metadata={'source': 'Zjq0MoUZqVY', 'title': 'How to Knit - for absolute BEGINNERS!', 'description': 'Unknown', 'view_count': 1950329, 'thumbnail_url': 'https://i.ytimg.com/vi/Zjq0MoUZqVY/hq720.jpg', 'publish_date': '2019-06-17 00:00:00', 'length': 1709, 'author': 'LoveCrafts'}),\n",
       " Document(page_content=\"you're making a scarf. Traps\\xa0the air inside so it keeps you nice and warm.\\xa0 When you're counting up your numbers of rows\\xa0one of these nice ridges along there is\\xa0two rows.  So, we can do two, four, six,\\xa0\\xa0eight, ten, twelve and so on. So,\\xa0you can count up your rows like that.\\xa0\\xa0 If you are making a scarf - now this is 15\\xa0stitches in a super chunky\", metadata={'source': 'Zjq0MoUZqVY', 'title': 'How to Knit - for absolute BEGINNERS!', 'description': 'Unknown', 'view_count': 1950329, 'thumbnail_url': 'https://i.ytimg.com/vi/Zjq0MoUZqVY/hq720.jpg', 'publish_date': '2019-06-17 00:00:00', 'length': 1709, 'author': 'LoveCrafts'}),\n",
       " Document(page_content=\"yarn - you might\\xa0do 20, and then just carry on knitting, knitting,\\xa0knitting until you reach the length you want.\\xa0\\xa0 And then you can cast off. If you're going to\\xa0 do a cushion then obviously you're going to\\xa0\\xa0 have lots more stitches on there so it's nice and\\xa0 wide. But the process is exactly the same. Right. So, let's cast off from here. So, we're\", metadata={'source': 'Zjq0MoUZqVY', 'title': 'How to Knit - for absolute BEGINNERS!', 'description': 'Unknown', 'view_count': 1950329, 'thumbnail_url': 'https://i.ytimg.com/vi/Zjq0MoUZqVY/hq720.jpg', 'publish_date': '2019-06-17 00:00:00', 'length': 1709, 'author': 'LoveCrafts'}),\n",
       " Document(page_content=\"going to\\xa0 start in exactly the same way that we have before.\\xa0\\xa0 So, we're going to knit this first stitch. So, I'm\\xa0going to put my needle in, bring the yarn around,\\xa0under and off. So, knit the first stitch.\\xa0Now we're going to knit the second stitch.\\xa0\\xa0 Yarn around the needle, under, and off. Now\\xa0 once you have two stitches on the needle we\\xa0\\xa0 use\", metadata={'source': 'Zjq0MoUZqVY', 'title': 'How to Knit - for absolute BEGINNERS!', 'description': 'Unknown', 'view_count': 1950329, 'thumbnail_url': 'https://i.ytimg.com/vi/Zjq0MoUZqVY/hq720.jpg', 'publish_date': '2019-06-17 00:00:00', 'length': 1709, 'author': 'LoveCrafts'}),\n",
       " Document(page_content=\"this point of the left needle to come\\xa0under the first stitch and lift it over\\xa0the second. And that is one stitch cast off.\\xa0 So, I'm going to now knit the next stitch. Two stitches on the needle. Using this left\\xa0hand point pick up the first one and lift it\\xa0over the second one. So, you can see that's\\xa0cast off. Then we knit the next stitch. Two on\", metadata={'source': 'Zjq0MoUZqVY', 'title': 'How to Knit - for absolute BEGINNERS!', 'description': 'Unknown', 'view_count': 1950329, 'thumbnail_url': 'https://i.ytimg.com/vi/Zjq0MoUZqVY/hq720.jpg', 'publish_date': '2019-06-17 00:00:00', 'length': 1709, 'author': 'LoveCrafts'}),\n",
       " Document(page_content=\"the right hand needle, pop the point\\xa0of your left needle under the first one and\\xa0lift it over the second. You can see it's a nice\\xa0neat cast off there. So, we'll do that again.\\xa0\\xa0 Knit the next stitch and lift this first one over\\xa0the second. So, we lift it up, over it goes.  So, we go in, around, under and off. And then use\\xa0this point to lift up the\", metadata={'source': 'Zjq0MoUZqVY', 'title': 'How to Knit - for absolute BEGINNERS!', 'description': 'Unknown', 'view_count': 1950329, 'thumbnail_url': 'https://i.ytimg.com/vi/Zjq0MoUZqVY/hq720.jpg', 'publish_date': '2019-06-17 00:00:00', 'length': 1709, 'author': 'LoveCrafts'}),\n",
       " Document(page_content=\"first one and slide it\\xa0under the second. And use this needle to help\\xa0you. So, I'll show you when we knit this stitch,\\xa0\\xa0 I'm going to lift up this first stitch, I'm\\xa0 going to pop my finger on the end there to\\xa0\\xa0 push that through and then just just tip that\\xa0 upwards. So, that you can pull it off.  So, we go yarn around the needle, under and off.\", metadata={'source': 'Zjq0MoUZqVY', 'title': 'How to Knit - for absolute BEGINNERS!', 'description': 'Unknown', 'view_count': 1950329, 'thumbnail_url': 'https://i.ytimg.com/vi/Zjq0MoUZqVY/hq720.jpg', 'publish_date': '2019-06-17 00:00:00', 'length': 1709, 'author': 'LoveCrafts'}),\n",
       " Document(page_content=\"I'm\\xa0going to use that point again to dig in there,\\xa0\\xa0 lift the stitch up and pull it over the\\xa0 top. Now again, you know, we talk about\\xa0\\xa0 keeping your stitches nice and relaxed. This will\\xa0 be easier if you're not pulling really tightly.\\xa0\\xa0 So, try and keep your yarn nice and gentle here.\\xa0 So, we knit that stitch again and we're going\\xa0\\xa0 to go under,\", metadata={'source': 'Zjq0MoUZqVY', 'title': 'How to Knit - for absolute BEGINNERS!', 'description': 'Unknown', 'view_count': 1950329, 'thumbnail_url': 'https://i.ytimg.com/vi/Zjq0MoUZqVY/hq720.jpg', 'publish_date': '2019-06-17 00:00:00', 'length': 1709, 'author': 'LoveCrafts'}),\n",
       " Document(page_content=\"lift it up and pull it over the top. And knit the next stitch, lift it up over that one and off it comes.  You can see how it's just coming\\xa0off the needles there. So, we go in, around,\\xa0under and off.  Two stitches on the right hand\\xa0needle, lift the first one of the second one.\\xa0\\xa0 Knit the next stitch, lift\\xa0the first one over the second.\\xa0\\xa0 Knit the\", metadata={'source': 'Zjq0MoUZqVY', 'title': 'How to Knit - for absolute BEGINNERS!', 'description': 'Unknown', 'view_count': 1950329, 'thumbnail_url': 'https://i.ytimg.com/vi/Zjq0MoUZqVY/hq720.jpg', 'publish_date': '2019-06-17 00:00:00', 'length': 1709, 'author': 'LoveCrafts'}),\n",
       " Document(page_content=\"next stitch, lift the first one over the\\xa0second. So, we've now got just two stitches left.\\xa0\\xa0 So, we're going to knit that stitch. So, you've\\xa0 got these two left on your right hand needle.\\xa0\\xa0 Lift the first and bring it over the second. When\\xa0 you have one needle left, one stitch left on the\\xa0\\xa0 needle, and you're attached, pull this right-hand\\xa0 needle\", metadata={'source': 'Zjq0MoUZqVY', 'title': 'How to Knit - for absolute BEGINNERS!', 'description': 'Unknown', 'view_count': 1950329, 'thumbnail_url': 'https://i.ytimg.com/vi/Zjq0MoUZqVY/hq720.jpg', 'publish_date': '2019-06-17 00:00:00', 'length': 1709, 'author': 'LoveCrafts'}),\n",
       " Document(page_content=\"so you've got quite a nice big loop.\\xa0\\xa0 So, you've now got a loop and here's your\\xa0working yarn. So, what we're going to do is snip\\xa0this yarn off Now, it's really important to\\xa0make sure you've got quite a nice long tail here, because we're going to be sewing this in later.\\xa0   So, I'll just grab my scissors snip that off.\\xa0\\xa0 And just have a look at\", metadata={'source': 'Zjq0MoUZqVY', 'title': 'How to Knit - for absolute BEGINNERS!', 'description': 'Unknown', 'view_count': 1950329, 'thumbnail_url': 'https://i.ytimg.com/vi/Zjq0MoUZqVY/hq720.jpg', 'publish_date': '2019-06-17 00:00:00', 'length': 1709, 'author': 'LoveCrafts'}),\n",
       " Document(page_content=\"how that\\xa0looks. So, it looks like this. And then i'm just going to pull that end through\\xa0 the loop. Okay? So, then we just pull that gently... And that gives you a secure end. So, here we now\\xa0have our swatch and it has.. This is the cast\\xa0off end and this is our cast on end.  Now, that\\xa0looks absolutely lovely but obviously you can't\\xa0\\xa0leave these\", metadata={'source': 'Zjq0MoUZqVY', 'title': 'How to Knit - for absolute BEGINNERS!', 'description': 'Unknown', 'view_count': 1950329, 'thumbnail_url': 'https://i.ytimg.com/vi/Zjq0MoUZqVY/hq720.jpg', 'publish_date': '2019-06-17 00:00:00', 'length': 1709, 'author': 'LoveCrafts'}),\n",
       " Document(page_content=\"big dangly ends. So, I'm just\\xa0going to show you now how to sew those in.\\xa0\\xa0 So, just the last bit of our work.\\xa0We're going to use a nice big\\xa0tapestry needle here to sew these ends in.  Now\\xa0whenever you're working any kind of knitting or\\xa0crochet, anything like that, make sure you leave\\xa0a nice end to sew in so that you can bury it away\\xa0so that it\", metadata={'source': 'Zjq0MoUZqVY', 'title': 'How to Knit - for absolute BEGINNERS!', 'description': 'Unknown', 'view_count': 1950329, 'thumbnail_url': 'https://i.ytimg.com/vi/Zjq0MoUZqVY/hq720.jpg', 'publish_date': '2019-06-17 00:00:00', 'length': 1709, 'author': 'LoveCrafts'}),\n",
       " Document(page_content=\"can't be seen in your knitting.  If\\xa0you leave these ends too short, um, what happens\\xa0is it'll unravel and stick up.  And then you've\\xa0got an end sticking up and it won't look nice.\\xa0\\xa0 So, nice long tail. To thread the needle, the\\xa0way that I've always done it - you can stick\\xa0this in your mouth - but it's just nice to..  ...bend\\xa0the yarn around the\", metadata={'source': 'Zjq0MoUZqVY', 'title': 'How to Knit - for absolute BEGINNERS!', 'description': 'Unknown', 'view_count': 1950329, 'thumbnail_url': 'https://i.ytimg.com/vi/Zjq0MoUZqVY/hq720.jpg', 'publish_date': '2019-06-17 00:00:00', 'length': 1709, 'author': 'LoveCrafts'}),\n",
       " Document(page_content=\"needle like that and pinch.\\xa0\\xa0 And then thread that through the eye of your\\xa0 needle. Just give it a little wiggle through.\\xa0\\xa0 Now this obviously is very thick yarn so\\xa0 you might not have that trouble when you\\xa0\\xa0 if you've got a thinner yarn. Now the\\xa0 idea here is just to weave with the needle\\xa0\\xa0 in and out to hide this yarn. So, I'm\\xa0just going to take\", metadata={'source': 'Zjq0MoUZqVY', 'title': 'How to Knit - for absolute BEGINNERS!', 'description': 'Unknown', 'view_count': 1950329, 'thumbnail_url': 'https://i.ytimg.com/vi/Zjq0MoUZqVY/hq720.jpg', 'publish_date': '2019-06-17 00:00:00', 'length': 1709, 'author': 'LoveCrafts'}),\n",
       " Document(page_content=\"the needle and sew\\xa0underneath the stitches.  Now, sometimes you might\\xa0want to just do it into one loop like that, depending on the sort of needle you're doing. But just weave it along in and out\\xa0\\xa0 to hide your stitches. And once\\xa0you've gone along one way, come back\\xa0the other way.  And this will make sure\\xa0that... I'm going to come down here a bit.\", metadata={'source': 'Zjq0MoUZqVY', 'title': 'How to Knit - for absolute BEGINNERS!', 'description': 'Unknown', 'view_count': 1950329, 'thumbnail_url': 'https://i.ytimg.com/vi/Zjq0MoUZqVY/hq720.jpg', 'publish_date': '2019-06-17 00:00:00', 'length': 1709, 'author': 'LoveCrafts'}),\n",
       " Document(page_content=\"This\\xa0 will make sure that your knitting doesn't unravel.\\xa0\\xa0 So, once you've done, usually we sort of say\\xa0 about six little weaves, we can snip that off. You can see that's nicely buried away there so\\xa0 you're not going to see the end of that. So, let's\\xa0\\xa0 do it again up here for your cast on edge or is\\xa0 this cast off I think? So, just thread this\", metadata={'source': 'Zjq0MoUZqVY', 'title': 'How to Knit - for absolute BEGINNERS!', 'description': 'Unknown', 'view_count': 1950329, 'thumbnail_url': 'https://i.ytimg.com/vi/Zjq0MoUZqVY/hq720.jpg', 'publish_date': '2019-06-17 00:00:00', 'length': 1709, 'author': 'LoveCrafts'}),\n",
       " Document(page_content=\"needle... And again, just weave the yarn in and out neatly. To hide the end in the yarn. And, uh. when you're working with very fine yarn, um, sometimes - or\\xa0you've got a lace pattern - then it's harder to\\xa0\\xa0 harder to hide the ends. But with nice\\xa0 big yarn like this it's quite simple.\\xa0\\xa0 And then once we've hidden it away,\\xa0\\xa0 snip it off. There you\", metadata={'source': 'Zjq0MoUZqVY', 'title': 'How to Knit - for absolute BEGINNERS!', 'description': 'Unknown', 'view_count': 1950329, 'thumbnail_url': 'https://i.ytimg.com/vi/Zjq0MoUZqVY/hq720.jpg', 'publish_date': '2019-06-17 00:00:00', 'length': 1709, 'author': 'LoveCrafts'}),\n",
       " Document(page_content=\"go. So,\\xa0 you can't see those ends now. And that is your piece of knitting from start to\\xa0finish. So, there we are you've completed your first piece of knitting from start to finish. I\\xa0hope you've enjoyed it.  Um don't forget to comment underneath the video if you really enjoyed it and\\xa0tell us what you're going to make.  We'd love to\\xa0know. Are you\", metadata={'source': 'Zjq0MoUZqVY', 'title': 'How to Knit - for absolute BEGINNERS!', 'description': 'Unknown', 'view_count': 1950329, 'thumbnail_url': 'https://i.ytimg.com/vi/Zjq0MoUZqVY/hq720.jpg', 'publish_date': '2019-06-17 00:00:00', 'length': 1709, 'author': 'LoveCrafts'}),\n",
       " Document(page_content=\"going to make a scarf or a cushion\\xa0or a pillow?  And don't forget to subscribe to\\xa0\\xa0our channel to learn lots more knitting skills.\\xa0There's so much more to learn - happy knitting!\", metadata={'source': 'Zjq0MoUZqVY', 'title': 'How to Knit - for absolute BEGINNERS!', 'description': 'Unknown', 'view_count': 1950329, 'thumbnail_url': 'https://i.ytimg.com/vi/Zjq0MoUZqVY/hq720.jpg', 'publish_date': '2019-06-17 00:00:00', 'length': 1709, 'author': 'LoveCrafts'}),\n",
       " Document(page_content='Knitting is a method for production of textile fabrics by interlacing yarn loops with loops of the same or other yarns. It is used to create many types of garments. Knitting may be done by hand or by machine.', metadata={'title': 'Knitting', 'summary': 'Knitting is a method for production of textile fabrics by interlacing yarn loops with loops of the same or other yarns. It is used to create many types of garments. Knitting may be done by hand or by machine.\\nKnitting creates stitches: loops of yarn in a row, they can be either flat or in the round (tubular). There are usually many active stitches on the knitting needle at one time. Knitted fabric consists of a number of consecutive rows of connected loops that intermesh with the next and previous rows.  As each row is formed, each newly created loop is pulled through one or more loops from the prior row and placed on the gaining needle so that the loops from the prior row can be pulled off the other needle without unraveling.\\nDifferences in yarn (varying in fibre type, weight, uniformity and twist), needle size, and stitch type allow for a variety of knitted fabrics with different properties, including color, texture, thickness, heat retention, water resistance, and integrity. A small sample of knitwork is known as a swatch.', 'source': 'https://en.wikipedia.org/wiki/Knitting'}),\n",
       " Document(page_content='Knitting creates stitches: loops of yarn in a row, they can be either flat or in the round (tubular). There are usually many active stitches on the knitting needle at one time. Knitted fabric consists of a number of consecutive rows of connected loops that intermesh with the next and previous rows.  As each row is formed, each newly created loop', metadata={'title': 'Knitting', 'summary': 'Knitting is a method for production of textile fabrics by interlacing yarn loops with loops of the same or other yarns. It is used to create many types of garments. Knitting may be done by hand or by machine.\\nKnitting creates stitches: loops of yarn in a row, they can be either flat or in the round (tubular). There are usually many active stitches on the knitting needle at one time. Knitted fabric consists of a number of consecutive rows of connected loops that intermesh with the next and previous rows.  As each row is formed, each newly created loop is pulled through one or more loops from the prior row and placed on the gaining needle so that the loops from the prior row can be pulled off the other needle without unraveling.\\nDifferences in yarn (varying in fibre type, weight, uniformity and twist), needle size, and stitch type allow for a variety of knitted fabrics with different properties, including color, texture, thickness, heat retention, water resistance, and integrity. A small sample of knitwork is known as a swatch.', 'source': 'https://en.wikipedia.org/wiki/Knitting'}),\n",
       " Document(page_content='is pulled through one or more loops from the prior row and placed on the gaining needle so that the loops from the prior row can be pulled off the other needle without unraveling.', metadata={'title': 'Knitting', 'summary': 'Knitting is a method for production of textile fabrics by interlacing yarn loops with loops of the same or other yarns. It is used to create many types of garments. Knitting may be done by hand or by machine.\\nKnitting creates stitches: loops of yarn in a row, they can be either flat or in the round (tubular). There are usually many active stitches on the knitting needle at one time. Knitted fabric consists of a number of consecutive rows of connected loops that intermesh with the next and previous rows.  As each row is formed, each newly created loop is pulled through one or more loops from the prior row and placed on the gaining needle so that the loops from the prior row can be pulled off the other needle without unraveling.\\nDifferences in yarn (varying in fibre type, weight, uniformity and twist), needle size, and stitch type allow for a variety of knitted fabrics with different properties, including color, texture, thickness, heat retention, water resistance, and integrity. A small sample of knitwork is known as a swatch.', 'source': 'https://en.wikipedia.org/wiki/Knitting'}),\n",
       " Document(page_content='Differences in yarn (varying in fibre type, weight, uniformity and twist), needle size, and stitch type allow for a variety of knitted fabrics with different properties, including color, texture, thickness, heat retention, water resistance, and integrity. A small sample of knitwork is known as a swatch.', metadata={'title': 'Knitting', 'summary': 'Knitting is a method for production of textile fabrics by interlacing yarn loops with loops of the same or other yarns. It is used to create many types of garments. Knitting may be done by hand or by machine.\\nKnitting creates stitches: loops of yarn in a row, they can be either flat or in the round (tubular). There are usually many active stitches on the knitting needle at one time. Knitted fabric consists of a number of consecutive rows of connected loops that intermesh with the next and previous rows.  As each row is formed, each newly created loop is pulled through one or more loops from the prior row and placed on the gaining needle so that the loops from the prior row can be pulled off the other needle without unraveling.\\nDifferences in yarn (varying in fibre type, weight, uniformity and twist), needle size, and stitch type allow for a variety of knitted fabrics with different properties, including color, texture, thickness, heat retention, water resistance, and integrity. A small sample of knitwork is known as a swatch.', 'source': 'https://en.wikipedia.org/wiki/Knitting'}),\n",
       " Document(page_content='== Structure ==\\n\\n\\n=== Courses and wales ===', metadata={'title': 'Knitting', 'summary': 'Knitting is a method for production of textile fabrics by interlacing yarn loops with loops of the same or other yarns. It is used to create many types of garments. Knitting may be done by hand or by machine.\\nKnitting creates stitches: loops of yarn in a row, they can be either flat or in the round (tubular). There are usually many active stitches on the knitting needle at one time. Knitted fabric consists of a number of consecutive rows of connected loops that intermesh with the next and previous rows.  As each row is formed, each newly created loop is pulled through one or more loops from the prior row and placed on the gaining needle so that the loops from the prior row can be pulled off the other needle without unraveling.\\nDifferences in yarn (varying in fibre type, weight, uniformity and twist), needle size, and stitch type allow for a variety of knitted fabrics with different properties, including color, texture, thickness, heat retention, water resistance, and integrity. A small sample of knitwork is known as a swatch.', 'source': 'https://en.wikipedia.org/wiki/Knitting'}),\n",
       " Document(page_content='Like weaving, knitting is a technique for producing a two-dimensional fabric made from a one-dimensional yarn or thread. In weaving, threads are always straight, running parallel either lengthwise (warp threads) or crosswise (weft threads). By contrast, the yarn in knitted fabrics follows a meandering path (a course), forming symmetric loops (also', metadata={'title': 'Knitting', 'summary': 'Knitting is a method for production of textile fabrics by interlacing yarn loops with loops of the same or other yarns. It is used to create many types of garments. Knitting may be done by hand or by machine.\\nKnitting creates stitches: loops of yarn in a row, they can be either flat or in the round (tubular). There are usually many active stitches on the knitting needle at one time. Knitted fabric consists of a number of consecutive rows of connected loops that intermesh with the next and previous rows.  As each row is formed, each newly created loop is pulled through one or more loops from the prior row and placed on the gaining needle so that the loops from the prior row can be pulled off the other needle without unraveling.\\nDifferences in yarn (varying in fibre type, weight, uniformity and twist), needle size, and stitch type allow for a variety of knitted fabrics with different properties, including color, texture, thickness, heat retention, water resistance, and integrity. A small sample of knitwork is known as a swatch.', 'source': 'https://en.wikipedia.org/wiki/Knitting'}),\n",
       " Document(page_content='called bights) symmetrically above and below the mean path of the yarn. These meandering loops can be easily stretched in different directions giving knit fabrics much more elasticity than woven fabrics. Depending on the yarn and knitting pattern, knitted garments can stretch as much as 500%. For this reason, knitting was initially developed for', metadata={'title': 'Knitting', 'summary': 'Knitting is a method for production of textile fabrics by interlacing yarn loops with loops of the same or other yarns. It is used to create many types of garments. Knitting may be done by hand or by machine.\\nKnitting creates stitches: loops of yarn in a row, they can be either flat or in the round (tubular). There are usually many active stitches on the knitting needle at one time. Knitted fabric consists of a number of consecutive rows of connected loops that intermesh with the next and previous rows.  As each row is formed, each newly created loop is pulled through one or more loops from the prior row and placed on the gaining needle so that the loops from the prior row can be pulled off the other needle without unraveling.\\nDifferences in yarn (varying in fibre type, weight, uniformity and twist), needle size, and stitch type allow for a variety of knitted fabrics with different properties, including color, texture, thickness, heat retention, water resistance, and integrity. A small sample of knitwork is known as a swatch.', 'source': 'https://en.wikipedia.org/wiki/Knitting'}),\n",
       " Document(page_content=\"garments that must be elastic or stretch in response to the wearer's motions, such as socks and hosiery. For comparison, woven garments stretch mainly along one or other of a related pair of directions that lie roughly diagonally between the warp and the weft, while contracting in the other direction of the pair (stretching and contracting with\", metadata={'title': 'Knitting', 'summary': 'Knitting is a method for production of textile fabrics by interlacing yarn loops with loops of the same or other yarns. It is used to create many types of garments. Knitting may be done by hand or by machine.\\nKnitting creates stitches: loops of yarn in a row, they can be either flat or in the round (tubular). There are usually many active stitches on the knitting needle at one time. Knitted fabric consists of a number of consecutive rows of connected loops that intermesh with the next and previous rows.  As each row is formed, each newly created loop is pulled through one or more loops from the prior row and placed on the gaining needle so that the loops from the prior row can be pulled off the other needle without unraveling.\\nDifferences in yarn (varying in fibre type, weight, uniformity and twist), needle size, and stitch type allow for a variety of knitted fabrics with different properties, including color, texture, thickness, heat retention, water resistance, and integrity. A small sample of knitwork is known as a swatch.', 'source': 'https://en.wikipedia.org/wiki/Knitting'}),\n",
       " Document(page_content=\"the bias), and are not very elastic, unless they are woven from stretchable material such as spandex. Knitted garments are often more form-fitting than woven garments, since their elasticity allows them to contour to the body's outline more closely; by contrast, curvature is introduced into most woven garments only with sewn darts, flares, gussets\", metadata={'title': 'Knitting', 'summary': 'Knitting is a method for production of textile fabrics by interlacing yarn loops with loops of the same or other yarns. It is used to create many types of garments. Knitting may be done by hand or by machine.\\nKnitting creates stitches: loops of yarn in a row, they can be either flat or in the round (tubular). There are usually many active stitches on the knitting needle at one time. Knitted fabric consists of a number of consecutive rows of connected loops that intermesh with the next and previous rows.  As each row is formed, each newly created loop is pulled through one or more loops from the prior row and placed on the gaining needle so that the loops from the prior row can be pulled off the other needle without unraveling.\\nDifferences in yarn (varying in fibre type, weight, uniformity and twist), needle size, and stitch type allow for a variety of knitted fabrics with different properties, including color, texture, thickness, heat retention, water resistance, and integrity. A small sample of knitwork is known as a swatch.', 'source': 'https://en.wikipedia.org/wiki/Knitting'}),\n",
       " Document(page_content='and gores, the seams of which lower the elasticity of the woven fabric still further. Extra curvature can be introduced into knitted garments without seams, as in the heel of a sock; the effect of darts, flares, etc. can be obtained with short rows or by increasing or decreasing the number of stitches. Thread used in weaving is usually much finer', metadata={'title': 'Knitting', 'summary': 'Knitting is a method for production of textile fabrics by interlacing yarn loops with loops of the same or other yarns. It is used to create many types of garments. Knitting may be done by hand or by machine.\\nKnitting creates stitches: loops of yarn in a row, they can be either flat or in the round (tubular). There are usually many active stitches on the knitting needle at one time. Knitted fabric consists of a number of consecutive rows of connected loops that intermesh with the next and previous rows.  As each row is formed, each newly created loop is pulled through one or more loops from the prior row and placed on the gaining needle so that the loops from the prior row can be pulled off the other needle without unraveling.\\nDifferences in yarn (varying in fibre type, weight, uniformity and twist), needle size, and stitch type allow for a variety of knitted fabrics with different properties, including color, texture, thickness, heat retention, water resistance, and integrity. A small sample of knitwork is known as a swatch.', 'source': 'https://en.wikipedia.org/wiki/Knitting'}),\n",
       " Document(page_content='than the yarn used in knitting, which can give the knitted fabric more bulk and less drape than a woven fabric.', metadata={'title': 'Knitting', 'summary': 'Knitting is a method for production of textile fabrics by interlacing yarn loops with loops of the same or other yarns. It is used to create many types of garments. Knitting may be done by hand or by machine.\\nKnitting creates stitches: loops of yarn in a row, they can be either flat or in the round (tubular). There are usually many active stitches on the knitting needle at one time. Knitted fabric consists of a number of consecutive rows of connected loops that intermesh with the next and previous rows.  As each row is formed, each newly created loop is pulled through one or more loops from the prior row and placed on the gaining needle so that the loops from the prior row can be pulled off the other needle without unraveling.\\nDifferences in yarn (varying in fibre type, weight, uniformity and twist), needle size, and stitch type allow for a variety of knitted fabrics with different properties, including color, texture, thickness, heat retention, water resistance, and integrity. A small sample of knitwork is known as a swatch.', 'source': 'https://en.wikipedia.org/wiki/Knitting'}),\n",
       " Document(page_content=\"If they are not secured, the loops of a knitted course will come undone when their yarn is pulled; this is known as ripping out, unravelling knitting, or humorously, frogging (because you 'rip it', this sounds like a frog croaking: 'rib-bit'). To secure a stitch, at least one new loop is passed through it. Although the new stitch is itself\", metadata={'title': 'Knitting', 'summary': 'Knitting is a method for production of textile fabrics by interlacing yarn loops with loops of the same or other yarns. It is used to create many types of garments. Knitting may be done by hand or by machine.\\nKnitting creates stitches: loops of yarn in a row, they can be either flat or in the round (tubular). There are usually many active stitches on the knitting needle at one time. Knitted fabric consists of a number of consecutive rows of connected loops that intermesh with the next and previous rows.  As each row is formed, each newly created loop is pulled through one or more loops from the prior row and placed on the gaining needle so that the loops from the prior row can be pulled off the other needle without unraveling.\\nDifferences in yarn (varying in fibre type, weight, uniformity and twist), needle size, and stitch type allow for a variety of knitted fabrics with different properties, including color, texture, thickness, heat retention, water resistance, and integrity. A small sample of knitwork is known as a swatch.', 'source': 'https://en.wikipedia.org/wiki/Knitting'}),\n",
       " Document(page_content='unsecured (\"active\" or \"live\"), it secures the stitch(es) suspended from it. A sequence of stitches in which each stitch is suspended from the next is called a wale. To secure the initial stitches of a knitted fabric, a method for casting on is used; to secure the final stitches in a wale, one uses a method of binding/casting off. During knitting,', metadata={'title': 'Knitting', 'summary': 'Knitting is a method for production of textile fabrics by interlacing yarn loops with loops of the same or other yarns. It is used to create many types of garments. Knitting may be done by hand or by machine.\\nKnitting creates stitches: loops of yarn in a row, they can be either flat or in the round (tubular). There are usually many active stitches on the knitting needle at one time. Knitted fabric consists of a number of consecutive rows of connected loops that intermesh with the next and previous rows.  As each row is formed, each newly created loop is pulled through one or more loops from the prior row and placed on the gaining needle so that the loops from the prior row can be pulled off the other needle without unraveling.\\nDifferences in yarn (varying in fibre type, weight, uniformity and twist), needle size, and stitch type allow for a variety of knitted fabrics with different properties, including color, texture, thickness, heat retention, water resistance, and integrity. A small sample of knitwork is known as a swatch.', 'source': 'https://en.wikipedia.org/wiki/Knitting'}),\n",
       " Document(page_content='the active stitches are secured mechanically, either from individual hooks (in knitting machines) or from a knitting needle or frame in hand-knitting.', metadata={'title': 'Knitting', 'summary': 'Knitting is a method for production of textile fabrics by interlacing yarn loops with loops of the same or other yarns. It is used to create many types of garments. Knitting may be done by hand or by machine.\\nKnitting creates stitches: loops of yarn in a row, they can be either flat or in the round (tubular). There are usually many active stitches on the knitting needle at one time. Knitted fabric consists of a number of consecutive rows of connected loops that intermesh with the next and previous rows.  As each row is formed, each newly created loop is pulled through one or more loops from the prior row and placed on the gaining needle so that the loops from the prior row can be pulled off the other needle without unraveling.\\nDifferences in yarn (varying in fibre type, weight, uniformity and twist), needle size, and stitch type allow for a variety of knitted fabrics with different properties, including color, texture, thickness, heat retention, water resistance, and integrity. A small sample of knitwork is known as a swatch.', 'source': 'https://en.wikipedia.org/wiki/Knitting'}),\n",
       " Document(page_content='=== Weft and warp knitting ===\\n\\nThere are two major varieties of knitting: weft knitting and warp knitting. In the more common weft knitting, the wales are perpendicular to the course of the yarn.  In warp knit', metadata={'title': 'Knitting', 'summary': 'Knitting is a method for production of textile fabrics by interlacing yarn loops with loops of the same or other yarns. It is used to create many types of garments. Knitting may be done by hand or by machine.\\nKnitting creates stitches: loops of yarn in a row, they can be either flat or in the round (tubular). There are usually many active stitches on the knitting needle at one time. Knitted fabric consists of a number of consecutive rows of connected loops that intermesh with the next and previous rows.  As each row is formed, each newly created loop is pulled through one or more loops from the prior row and placed on the gaining needle so that the loops from the prior row can be pulled off the other needle without unraveling.\\nDifferences in yarn (varying in fibre type, weight, uniformity and twist), needle size, and stitch type allow for a variety of knitted fabrics with different properties, including color, texture, thickness, heat retention, water resistance, and integrity. A small sample of knitwork is known as a swatch.', 'source': 'https://en.wikipedia.org/wiki/Knitting'}),\n",
       " Document(page_content='Yarn bombing (or yarnbombing) is a type of graffiti or street art that employs colourful displays of knitted or crocheted yarn or fibre rather than paint or chalk. It is also called wool bombing, yarn storming, guerrilla knitting, kniffiti, urban knitting, or graffiti knitting.', metadata={'title': 'Yarn bombing', 'summary': 'Yarn bombing (or yarnbombing) is a type of graffiti or street art that employs colourful displays of knitted or crocheted yarn or fibre rather than paint or chalk. It is also called wool bombing, yarn storming, guerrilla knitting, kniffiti, urban knitting, or graffiti knitting.\\n\\n', 'source': 'https://en.wikipedia.org/wiki/Yarn_bombing'}),\n",
       " Document(page_content='== Motivation ==', metadata={'title': 'Yarn bombing', 'summary': 'Yarn bombing (or yarnbombing) is a type of graffiti or street art that employs colourful displays of knitted or crocheted yarn or fibre rather than paint or chalk. It is also called wool bombing, yarn storming, guerrilla knitting, kniffiti, urban knitting, or graffiti knitting.\\n\\n', 'source': 'https://en.wikipedia.org/wiki/Yarn_bombing'}),\n",
       " Document(page_content='While other forms of graffiti may be expressive, decorative, territorial, socio-political commentary, advertising or vandalism, yarn bombing was initially almost exclusively about reclaiming and personalizing sterile or cold public places. It has since developed with groups graffiti knitting and crocheting worldwide, each with their own agendas', metadata={'title': 'Yarn bombing', 'summary': 'Yarn bombing (or yarnbombing) is a type of graffiti or street art that employs colourful displays of knitted or crocheted yarn or fibre rather than paint or chalk. It is also called wool bombing, yarn storming, guerrilla knitting, kniffiti, urban knitting, or graffiti knitting.\\n\\n', 'source': 'https://en.wikipedia.org/wiki/Yarn_bombing'}),\n",
       " Document(page_content='and public graffiti knitting projects being run.', metadata={'title': 'Yarn bombing', 'summary': 'Yarn bombing (or yarnbombing) is a type of graffiti or street art that employs colourful displays of knitted or crocheted yarn or fibre rather than paint or chalk. It is also called wool bombing, yarn storming, guerrilla knitting, kniffiti, urban knitting, or graffiti knitting.\\n\\n', 'source': 'https://en.wikipedia.org/wiki/Yarn_bombing'}),\n",
       " Document(page_content='According to Manuela Farinosi and Leopoldina Fortunati, yarn bombing has become synonymous with the current feminist movement due in part to the reclamation of the traditionally feminine arts of knitting and/or crocheting to partake in the traditionally masculine and male-dominated graffiti scene. The women and girls who make up the yarn bombing', metadata={'title': 'Yarn bombing', 'summary': 'Yarn bombing (or yarnbombing) is a type of graffiti or street art that employs colourful displays of knitted or crocheted yarn or fibre rather than paint or chalk. It is also called wool bombing, yarn storming, guerrilla knitting, kniffiti, urban knitting, or graffiti knitting.\\n\\n', 'source': 'https://en.wikipedia.org/wiki/Yarn_bombing'}),\n",
       " Document(page_content='subculture are diverse in race, age, sexuality, class, etc., and create space for themselves and their art everywhere from college campuses to public parks. This creation and preservation of space is what motivates some of the participants, some of whom have never been able to access a political art space before. In her article about yarn bombing,', metadata={'title': 'Yarn bombing', 'summary': 'Yarn bombing (or yarnbombing) is a type of graffiti or street art that employs colourful displays of knitted or crocheted yarn or fibre rather than paint or chalk. It is also called wool bombing, yarn storming, guerrilla knitting, kniffiti, urban knitting, or graffiti knitting.\\n\\n', 'source': 'https://en.wikipedia.org/wiki/Yarn_bombing'}),\n",
       " Document(page_content='Joanna Mann explains the balance between the art and politics, \"Yarn bombing, I argue, does more than feminise the city, for the whimsy with which it is imbued has the capacity to increase our attentiveness to habitual worlds in a series of micro-political gestures.\" McGovern finds that yarn bombing may also be used to contradict the idea of women', metadata={'title': 'Yarn bombing', 'summary': 'Yarn bombing (or yarnbombing) is a type of graffiti or street art that employs colourful displays of knitted or crocheted yarn or fibre rather than paint or chalk. It is also called wool bombing, yarn storming, guerrilla knitting, kniffiti, urban knitting, or graffiti knitting.\\n\\n', 'source': 'https://en.wikipedia.org/wiki/Yarn_bombing'}),\n",
       " Document(page_content='as homemaker by bringing such traditionally feminine art into public space.', metadata={'title': 'Yarn bombing', 'summary': 'Yarn bombing (or yarnbombing) is a type of graffiti or street art that employs colourful displays of knitted or crocheted yarn or fibre rather than paint or chalk. It is also called wool bombing, yarn storming, guerrilla knitting, kniffiti, urban knitting, or graffiti knitting.\\n\\n', 'source': 'https://en.wikipedia.org/wiki/Yarn_bombing'}),\n",
       " Document(page_content='== History ==\\nThe practice is believed to have originated in the U.S. with Texas knitters trying to find a creative way to use their leftover and unfinished knitting projects, but it has since spread worldwide.', metadata={'title': 'Yarn bombing', 'summary': 'Yarn bombing (or yarnbombing) is a type of graffiti or street art that employs colourful displays of knitted or crocheted yarn or fibre rather than paint or chalk. It is also called wool bombing, yarn storming, guerrilla knitting, kniffiti, urban knitting, or graffiti knitting.\\n\\n', 'source': 'https://en.wikipedia.org/wiki/Yarn_bombing'}),\n",
       " Document(page_content='The start of this movement has been attributed to Magda Sayeg, from Houston, who says she first got the idea in 2005 when she covered the door handle of her boutique with a custom-made cozy.', metadata={'title': 'Yarn bombing', 'summary': 'Yarn bombing (or yarnbombing) is a type of graffiti or street art that employs colourful displays of knitted or crocheted yarn or fibre rather than paint or chalk. It is also called wool bombing, yarn storming, guerrilla knitting, kniffiti, urban knitting, or graffiti knitting.\\n\\n', 'source': 'https://en.wikipedia.org/wiki/Yarn_bombing'}),\n",
       " Document(page_content='Houston artist Bill Davenport was creating and exhibiting crochet-covered objects in Houston in the 1990s, and the Houston Press stated that \"Bill Davenport could be called the grand old man of Houston crocheted sculpture.\" Artist Shanon Schollian was knitting stump cozies in 2002 for clear cuts in Oregon. The Knit Knot Tree by the Jafagirls in', metadata={'title': 'Yarn bombing', 'summary': 'Yarn bombing (or yarnbombing) is a type of graffiti or street art that employs colourful displays of knitted or crocheted yarn or fibre rather than paint or chalk. It is also called wool bombing, yarn storming, guerrilla knitting, kniffiti, urban knitting, or graffiti knitting.\\n\\n', 'source': 'https://en.wikipedia.org/wiki/Yarn_bombing'}),\n",
       " Document(page_content='Yellow Springs, Ohio, gained international attention in 2008.', metadata={'title': 'Yarn bombing', 'summary': 'Yarn bombing (or yarnbombing) is a type of graffiti or street art that employs colourful displays of knitted or crocheted yarn or fibre rather than paint or chalk. It is also called wool bombing, yarn storming, guerrilla knitting, kniffiti, urban knitting, or graffiti knitting.\\n\\n', 'source': 'https://en.wikipedia.org/wiki/Yarn_bombing'}),\n",
       " Document(page_content=\"The movement moved on from simple 'cozies' with the innovation of the 'stitched story'. The concept has been attributed to Lauren O'Farrell (who creates her street art under the graffiti knitting name Deadly Knitshade), from London, UK, who founded the city's first graffiti knitting collective Knit the City. The 'stitched story concept' uses\", metadata={'title': 'Yarn bombing', 'summary': 'Yarn bombing (or yarnbombing) is a type of graffiti or street art that employs colourful displays of knitted or crocheted yarn or fibre rather than paint or chalk. It is also called wool bombing, yarn storming, guerrilla knitting, kniffiti, urban knitting, or graffiti knitting.\\n\\n', 'source': 'https://en.wikipedia.org/wiki/Yarn_bombing'}),\n",
       " Document(page_content='handmade amigurumi creatures, characters, and items to tell a narrative or show a theme. This was first recorded with the Knit the City collective\\'s \"Web of Woe\" installation in August 2009.', metadata={'title': 'Yarn bombing', 'summary': 'Yarn bombing (or yarnbombing) is a type of graffiti or street art that employs colourful displays of knitted or crocheted yarn or fibre rather than paint or chalk. It is also called wool bombing, yarn storming, guerrilla knitting, kniffiti, urban knitting, or graffiti knitting.\\n\\n', 'source': 'https://en.wikipedia.org/wiki/Yarn_bombing'}),\n",
       " Document(page_content=\"The Knit the City collective were also the first to use O'Farrell's term yarnstorming to describe their graffiti knitting, as an alternative to the more popular term yarnbombing.\", metadata={'title': 'Yarn bombing', 'summary': 'Yarn bombing (or yarnbombing) is a type of graffiti or street art that employs colourful displays of knitted or crocheted yarn or fibre rather than paint or chalk. It is also called wool bombing, yarn storming, guerrilla knitting, kniffiti, urban knitting, or graffiti knitting.\\n\\n', 'source': 'https://en.wikipedia.org/wiki/Yarn_bombing'}),\n",
       " Document(page_content=\"Yarn bombing's popularity has spread throughout the world. In Oklahoma City the Collected Thread store yarn bombed the Plaza District of the city on 9 September 2011 to celebrate their three-year anniversary as a functioning shop. and in Australia a group called the Twilight Taggers refer to themselves as 'fibre artists'. Joann Matvichuk of\", metadata={'title': 'Yarn bombing', 'summary': 'Yarn bombing (or yarnbombing) is a type of graffiti or street art that employs colourful displays of knitted or crocheted yarn or fibre rather than paint or chalk. It is also called wool bombing, yarn storming, guerrilla knitting, kniffiti, urban knitting, or graffiti knitting.\\n\\n', 'source': 'https://en.wikipedia.org/wiki/Yarn_bombing'}),\n",
       " Document(page_content='Lethbridge, Alberta founded International Yarnbombing Day, which was first observed on 11 June 2011.', metadata={'title': 'Yarn bombing', 'summary': 'Yarn bombing (or yarnbombing) is a type of graffiti or street art that employs colourful displays of knitted or crocheted yarn or fibre rather than paint or chalk. It is also called wool bombing, yarn storming, guerrilla knitting, kniffiti, urban knitting, or graffiti knitting.\\n\\n', 'source': 'https://en.wikipedia.org/wiki/Yarn_bombing'}),\n",
       " Document(page_content='Although yarnbomb installations are typically found in urban areas, Stephen Duneier, aka Yarnbomber, was the first to introduce it into the wilderness with numerous permitted projects in Los Padres National For', metadata={'title': 'Yarn bombing', 'summary': 'Yarn bombing (or yarnbombing) is a type of graffiti or street art that employs colourful displays of knitted or crocheted yarn or fibre rather than paint or chalk. It is also called wool bombing, yarn storming, guerrilla knitting, kniffiti, urban knitting, or graffiti knitting.\\n\\n', 'source': 'https://en.wikipedia.org/wiki/Yarn_bombing'})]"
      ]
     },
     "execution_count": 45,
     "metadata": {},
     "output_type": "execute_result"
    }
   ],
   "source": [
    "splits = myutils2.chunkDocs(documents, 350)  \n",
    "splits"
   ]
  },
  {
   "cell_type": "code",
   "execution_count": 46,
   "id": "99b9dc3c-2d05-4147-96f0-334b464fc714",
   "metadata": {},
   "outputs": [
    {
     "data": {
      "text/plain": [
       "408"
      ]
     },
     "execution_count": 46,
     "metadata": {},
     "output_type": "execute_result"
    }
   ],
   "source": [
    "len(splits)"
   ]
  },
  {
   "cell_type": "code",
   "execution_count": 47,
   "id": "1b8ead02-17e2-44b3-a8ad-6672a8ccda7d",
   "metadata": {},
   "outputs": [
    {
     "data": {
      "text/plain": [
       "Document(page_content='technique is called binding off.  \\nProcedure \\n \\n1. Slip the first stitch  on the row off the left \\nneedle onto the right  needle without \\nknitting. \\n \\n2. Knit the next stitch very loosely. There \\nare now two stitches on the right needle. \\n \\n3. Insert the left needle through the left \\nside of the first stitch.', metadata={'source': './data/knitting_pdfs/knit.pdf', 'page': 9})"
      ]
     },
     "execution_count": 47,
     "metadata": {},
     "output_type": "execute_result"
    }
   ],
   "source": [
    "splits[70]"
   ]
  },
  {
   "cell_type": "code",
   "execution_count": 48,
   "id": "dba4648b-a2bc-4ccc-befa-03fe8bd631aa",
   "metadata": {},
   "outputs": [
    {
     "data": {
      "text/html": [
       "<div>\n",
       "<style scoped>\n",
       "    .dataframe tbody tr th:only-of-type {\n",
       "        vertical-align: middle;\n",
       "    }\n",
       "\n",
       "    .dataframe tbody tr th {\n",
       "        vertical-align: top;\n",
       "    }\n",
       "\n",
       "    .dataframe thead th {\n",
       "        text-align: right;\n",
       "    }\n",
       "</style>\n",
       "<table border=\"1\" class=\"dataframe\">\n",
       "  <thead>\n",
       "    <tr style=\"text-align: right;\">\n",
       "      <th></th>\n",
       "      <th>page_content</th>\n",
       "      <th>metadata</th>\n",
       "      <th>type</th>\n",
       "    </tr>\n",
       "  </thead>\n",
       "  <tbody>\n",
       "    <tr>\n",
       "      <th>49</th>\n",
       "      <td>(page_content, 2. Be sure that the loop is nea...</td>\n",
       "      <td>(metadata, {'source': './data/knitting_pdfs/kn...</td>\n",
       "      <td>(type, Document)</td>\n",
       "    </tr>\n",
       "    <tr>\n",
       "      <th>18</th>\n",
       "      <td>(page_content, measuring guide for determining...</td>\n",
       "      <td>(metadata, {'source': './data/knitting_pdfs/kn...</td>\n",
       "      <td>(type, Document)</td>\n",
       "    </tr>\n",
       "    <tr>\n",
       "      <th>104</th>\n",
       "      <td>(page_content, increasing. It is also used to ...</td>\n",
       "      <td>(metadata, {'source': './data/knitting_pdfs/kn...</td>\n",
       "      <td>(type, Document)</td>\n",
       "    </tr>\n",
       "  </tbody>\n",
       "</table>\n",
       "</div>"
      ],
      "text/plain": [
       "                                          page_content  \\\n",
       "49   (page_content, 2. Be sure that the loop is nea...   \n",
       "18   (page_content, measuring guide for determining...   \n",
       "104  (page_content, increasing. It is also used to ...   \n",
       "\n",
       "                                              metadata              type  \n",
       "49   (metadata, {'source': './data/knitting_pdfs/kn...  (type, Document)  \n",
       "18   (metadata, {'source': './data/knitting_pdfs/kn...  (type, Document)  \n",
       "104  (metadata, {'source': './data/knitting_pdfs/kn...  (type, Document)  "
      ]
     },
     "execution_count": 48,
     "metadata": {},
     "output_type": "execute_result"
    }
   ],
   "source": [
    "df = pd.DataFrame(splits, columns=['page_content', 'metadata', 'type'])\n",
    "df.sample(3)"
   ]
  },
  {
   "cell_type": "code",
   "execution_count": 49,
   "id": "16ac3d6e-2eb4-4d71-93e0-f7dd44974506",
   "metadata": {},
   "outputs": [
    {
     "data": {
      "text/plain": [
       "('page_content',\n",
       " 'Beginning Knitting  \\n \\nWHAT IS KNITTING? \\n \\nHand knitting is to make fabric with yarn \\non two or more needles.  A number of loops are first made on one needle, and then the fabric \"grows\\'\\' by drawing other loops through them as they are passed back and forth along the needles from row to row.')"
      ]
     },
     "execution_count": 49,
     "metadata": {},
     "output_type": "execute_result"
    }
   ],
   "source": [
    "df['page_content'][0]"
   ]
  },
  {
   "cell_type": "code",
   "execution_count": 50,
   "id": "cebd28b3-bc31-4432-b42a-e879e67c740f",
   "metadata": {},
   "outputs": [
    {
     "data": {
      "text/plain": [
       "('metadata', {'source': './data/knitting_pdfs/knit.pdf', 'page': 0})"
      ]
     },
     "execution_count": 50,
     "metadata": {},
     "output_type": "execute_result"
    }
   ],
   "source": [
    "df['metadata'][0]"
   ]
  },
  {
   "cell_type": "code",
   "execution_count": 51,
   "id": "0bb7ab11-c53e-4eeb-8ea1-97173bb8273a",
   "metadata": {},
   "outputs": [],
   "source": [
    "#!pip install scapy"
   ]
  },
  {
   "cell_type": "code",
   "execution_count": 52,
   "id": "7355d64d-c808-4c4c-b2ae-be6636420417",
   "metadata": {},
   "outputs": [],
   "source": [
    "#!bash\n",
    "#!python3 -m spacy download en_core_web_md"
   ]
  },
  {
   "cell_type": "markdown",
   "id": "651ab035-2e9e-44ea-9cb1-821d44c99f64",
   "metadata": {},
   "source": [
    "### Data Visualization\n",
    "To visually represent the data of our texts, we have created a word cloud. On the word cloud, we can see which words apear more frequently as they appear bigger."
   ]
  },
  {
   "cell_type": "code",
   "execution_count": 54,
   "id": "82766b6c-dc25-4248-9c04-eddd449ef1b8",
   "metadata": {
    "scrolled": true
   },
   "outputs": [
    {
     "ename": "OSError",
     "evalue": "[E050] Can't find model 'en_core_web_sm'. It doesn't seem to be a Python package or a valid path to a data directory.",
     "output_type": "error",
     "traceback": [
      "\u001b[0;31m---------------------------------------------------------------------------\u001b[0m",
      "\u001b[0;31mOSError\u001b[0m                                   Traceback (most recent call last)",
      "Cell \u001b[0;32mIn[54], line 1\u001b[0m\n\u001b[0;32m----> 1\u001b[0m im, longstring \u001b[38;5;241m=\u001b[39m \u001b[43mmyutils2\u001b[49m\u001b[38;5;241;43m.\u001b[39;49m\u001b[43mwordCloud\u001b[49m\u001b[43m(\u001b[49m\u001b[43mdf\u001b[49m\u001b[43m,\u001b[49m\u001b[43m \u001b[49m\u001b[38;5;124;43m'\u001b[39;49m\u001b[38;5;124;43mpage_content\u001b[39;49m\u001b[38;5;124;43m'\u001b[39;49m\u001b[43m)\u001b[49m\n",
      "File \u001b[0;32m~/Desktop/SW2Semester/AI/OLA5/myutils2.py:51\u001b[0m, in \u001b[0;36mwordCloud\u001b[0;34m(df, col)\u001b[0m\n\u001b[1;32m     49\u001b[0m longstring \u001b[38;5;241m=\u001b[39m \u001b[38;5;28mstr\u001b[39m(longstring)\u001b[38;5;241m.\u001b[39mreplace(col,\u001b[38;5;124m'\u001b[39m\u001b[38;5;124m \u001b[39m\u001b[38;5;124m'\u001b[39m)\n\u001b[1;32m     50\u001b[0m \u001b[38;5;66;03m# get stopwords\u001b[39;00m\n\u001b[0;32m---> 51\u001b[0m stopw \u001b[38;5;241m=\u001b[39m \u001b[43mlangDetect\u001b[49m\u001b[43m(\u001b[49m\u001b[43mlongstring\u001b[49m\u001b[43m)\u001b[49m[\u001b[38;5;241m1\u001b[39m]\n\u001b[1;32m     52\u001b[0m \u001b[38;5;66;03m# remove stopwords\u001b[39;00m\n\u001b[1;32m     53\u001b[0m words \u001b[38;5;241m=\u001b[39m [word \u001b[38;5;28;01mfor\u001b[39;00m word \u001b[38;5;129;01min\u001b[39;00m longstring\u001b[38;5;241m.\u001b[39msplit() \u001b[38;5;28;01mif\u001b[39;00m word\u001b[38;5;241m.\u001b[39mlower() \u001b[38;5;129;01mnot\u001b[39;00m \u001b[38;5;129;01min\u001b[39;00m stopw]\n",
      "File \u001b[0;32m~/Desktop/SW2Semester/AI/OLA5/myutils2.py:35\u001b[0m, in \u001b[0;36mlangDetect\u001b[0;34m(text)\u001b[0m\n\u001b[1;32m     33\u001b[0m         default_model \u001b[38;5;241m=\u001b[39m \u001b[38;5;124m'\u001b[39m\u001b[38;5;124mda_core_news_md\u001b[39m\u001b[38;5;124m'\u001b[39m\n\u001b[1;32m     34\u001b[0m     \u001b[38;5;66;03m# both    \u001b[39;00m\n\u001b[0;32m---> 35\u001b[0m     nlp \u001b[38;5;241m=\u001b[39m \u001b[43mspacy\u001b[49m\u001b[38;5;241;43m.\u001b[39;49m\u001b[43mload\u001b[49m\u001b[43m(\u001b[49m\u001b[43mdefault_model\u001b[49m\u001b[43m)\u001b[49m\n\u001b[1;32m     36\u001b[0m     stopw \u001b[38;5;241m=\u001b[39m nlp\u001b[38;5;241m.\u001b[39mDefaults\u001b[38;5;241m.\u001b[39mstop_words\n\u001b[1;32m     38\u001b[0m \u001b[38;5;66;03m# another language\u001b[39;00m\n",
      "File \u001b[0;32m/Library/Frameworks/Python.framework/Versions/3.12/lib/python3.12/site-packages/spacy/__init__.py:51\u001b[0m, in \u001b[0;36mload\u001b[0;34m(name, vocab, disable, enable, exclude, config)\u001b[0m\n\u001b[1;32m     27\u001b[0m \u001b[38;5;28;01mdef\u001b[39;00m \u001b[38;5;21mload\u001b[39m(\n\u001b[1;32m     28\u001b[0m     name: Union[\u001b[38;5;28mstr\u001b[39m, Path],\n\u001b[1;32m     29\u001b[0m     \u001b[38;5;241m*\u001b[39m,\n\u001b[0;32m   (...)\u001b[0m\n\u001b[1;32m     34\u001b[0m     config: Union[Dict[\u001b[38;5;28mstr\u001b[39m, Any], Config] \u001b[38;5;241m=\u001b[39m util\u001b[38;5;241m.\u001b[39mSimpleFrozenDict(),\n\u001b[1;32m     35\u001b[0m ) \u001b[38;5;241m-\u001b[39m\u001b[38;5;241m>\u001b[39m Language:\n\u001b[1;32m     36\u001b[0m \u001b[38;5;250m    \u001b[39m\u001b[38;5;124;03m\"\"\"Load a spaCy model from an installed package or a local path.\u001b[39;00m\n\u001b[1;32m     37\u001b[0m \n\u001b[1;32m     38\u001b[0m \u001b[38;5;124;03m    name (str): Package name or model path.\u001b[39;00m\n\u001b[0;32m   (...)\u001b[0m\n\u001b[1;32m     49\u001b[0m \u001b[38;5;124;03m    RETURNS (Language): The loaded nlp object.\u001b[39;00m\n\u001b[1;32m     50\u001b[0m \u001b[38;5;124;03m    \"\"\"\u001b[39;00m\n\u001b[0;32m---> 51\u001b[0m     \u001b[38;5;28;01mreturn\u001b[39;00m \u001b[43mutil\u001b[49m\u001b[38;5;241;43m.\u001b[39;49m\u001b[43mload_model\u001b[49m\u001b[43m(\u001b[49m\n\u001b[1;32m     52\u001b[0m \u001b[43m        \u001b[49m\u001b[43mname\u001b[49m\u001b[43m,\u001b[49m\n\u001b[1;32m     53\u001b[0m \u001b[43m        \u001b[49m\u001b[43mvocab\u001b[49m\u001b[38;5;241;43m=\u001b[39;49m\u001b[43mvocab\u001b[49m\u001b[43m,\u001b[49m\n\u001b[1;32m     54\u001b[0m \u001b[43m        \u001b[49m\u001b[43mdisable\u001b[49m\u001b[38;5;241;43m=\u001b[39;49m\u001b[43mdisable\u001b[49m\u001b[43m,\u001b[49m\n\u001b[1;32m     55\u001b[0m \u001b[43m        \u001b[49m\u001b[43menable\u001b[49m\u001b[38;5;241;43m=\u001b[39;49m\u001b[43menable\u001b[49m\u001b[43m,\u001b[49m\n\u001b[1;32m     56\u001b[0m \u001b[43m        \u001b[49m\u001b[43mexclude\u001b[49m\u001b[38;5;241;43m=\u001b[39;49m\u001b[43mexclude\u001b[49m\u001b[43m,\u001b[49m\n\u001b[1;32m     57\u001b[0m \u001b[43m        \u001b[49m\u001b[43mconfig\u001b[49m\u001b[38;5;241;43m=\u001b[39;49m\u001b[43mconfig\u001b[49m\u001b[43m,\u001b[49m\n\u001b[1;32m     58\u001b[0m \u001b[43m    \u001b[49m\u001b[43m)\u001b[49m\n",
      "File \u001b[0;32m/Library/Frameworks/Python.framework/Versions/3.12/lib/python3.12/site-packages/spacy/util.py:472\u001b[0m, in \u001b[0;36mload_model\u001b[0;34m(name, vocab, disable, enable, exclude, config)\u001b[0m\n\u001b[1;32m    470\u001b[0m \u001b[38;5;28;01mif\u001b[39;00m name \u001b[38;5;129;01min\u001b[39;00m OLD_MODEL_SHORTCUTS:\n\u001b[1;32m    471\u001b[0m     \u001b[38;5;28;01mraise\u001b[39;00m \u001b[38;5;167;01mIOError\u001b[39;00m(Errors\u001b[38;5;241m.\u001b[39mE941\u001b[38;5;241m.\u001b[39mformat(name\u001b[38;5;241m=\u001b[39mname, full\u001b[38;5;241m=\u001b[39mOLD_MODEL_SHORTCUTS[name]))  \u001b[38;5;66;03m# type: ignore[index]\u001b[39;00m\n\u001b[0;32m--> 472\u001b[0m \u001b[38;5;28;01mraise\u001b[39;00m \u001b[38;5;167;01mIOError\u001b[39;00m(Errors\u001b[38;5;241m.\u001b[39mE050\u001b[38;5;241m.\u001b[39mformat(name\u001b[38;5;241m=\u001b[39mname))\n",
      "\u001b[0;31mOSError\u001b[0m: [E050] Can't find model 'en_core_web_sm'. It doesn't seem to be a Python package or a valid path to a data directory."
     ]
    }
   ],
   "source": [
    "im, longstring = myutils2.wordCloud(df, 'page_content')"
   ]
  },
  {
   "cell_type": "code",
   "execution_count": null,
   "id": "24d60d7b-740f-4f9b-9cfd-d610695b8cb9",
   "metadata": {},
   "outputs": [],
   "source": [
    "im"
   ]
  },
  {
   "cell_type": "markdown",
   "id": "7b242971-e82b-4abb-8873-ae3263f41ae5",
   "metadata": {},
   "source": [
    "## Embeddings"
   ]
  },
  {
   "cell_type": "code",
   "execution_count": null,
   "id": "ab58ca82-7fc2-4e36-a171-66211c34f5ed",
   "metadata": {},
   "outputs": [],
   "source": [
    "model_name = \"sentence-transformers/all-mpnet-base-v2\"\n",
    "# model_name = \"sentence-transformers/all-MiniLM-l6-v2\"\n",
    "model_kwargs = {'device': 'cpu'}\n",
    "encode_kwargs = {'normalize_embeddings': False}"
   ]
  },
  {
   "cell_type": "code",
   "execution_count": null,
   "id": "cbd04282-77df-4d33-a2e3-af9f6c0c2262",
   "metadata": {},
   "outputs": [],
   "source": [
    "#!pip install sentence-transformers"
   ]
  },
  {
   "cell_type": "code",
   "execution_count": null,
   "id": "e4cf0e5d-c633-4522-a12c-9e5b3c97490c",
   "metadata": {},
   "outputs": [],
   "source": [
    "embeddings = HuggingFaceEmbeddings(\n",
    "    model_name=model_name,\n",
    "    model_kwargs=model_kwargs,\n",
    "    encode_kwargs=encode_kwargs\n",
    ")"
   ]
  },
  {
   "cell_type": "code",
   "execution_count": null,
   "id": "ba360243-020a-4dd0-9009-76b055c0f659",
   "metadata": {},
   "outputs": [],
   "source": [
    "from langchain.vectorstores import FAISS"
   ]
  },
  {
   "cell_type": "code",
   "execution_count": null,
   "id": "d655f974-644f-40f8-bb79-50738767fa7e",
   "metadata": {},
   "outputs": [],
   "source": [
    "#!pip install faiss-cpu"
   ]
  },
  {
   "cell_type": "code",
   "execution_count": null,
   "id": "401f2829-e13c-471f-95a2-b6ae82225545",
   "metadata": {},
   "outputs": [],
   "source": [
    "db = FAISS.from_documents(splits, embeddings)"
   ]
  },
  {
   "cell_type": "markdown",
   "id": "0e8d3009-0980-4a90-8da0-47a8165aab29",
   "metadata": {},
   "source": [
    "## Storing the Embeddings in Vector DB"
   ]
  },
  {
   "cell_type": "code",
   "execution_count": null,
   "id": "774db2aa-4452-438b-a9bc-d218689017dc",
   "metadata": {},
   "outputs": [],
   "source": [
    "#!pip install chromadb"
   ]
  },
  {
   "cell_type": "code",
   "execution_count": null,
   "id": "fc841b84-8d43-4973-b899-602c5e50f391",
   "metadata": {},
   "outputs": [],
   "source": [
    "db = Chroma.from_documents(splits, embeddings)"
   ]
  },
  {
   "cell_type": "code",
   "execution_count": null,
   "id": "18f0e20b-9767-4747-9f60-5e2125424318",
   "metadata": {},
   "outputs": [],
   "source": [
    "persist_directory = '../data/chroma/'\n",
    "\n",
    "# Create the vector store\n",
    "vectordb = Chroma.from_documents(\n",
    "    documents=splits,\n",
    "    embedding=embeddings,\n",
    "    persist_directory=persist_directory\n",
    ")\n",
    "vectordb.persist()"
   ]
  },
  {
   "cell_type": "code",
   "execution_count": null,
   "id": "77818b73-143a-4c48-8119-b3c80443e722",
   "metadata": {},
   "outputs": [],
   "source": [
    "vectordb._collection.count()"
   ]
  },
  {
   "cell_type": "markdown",
   "id": "349ac891-b0b6-4985-a23c-1b4b0b43734f",
   "metadata": {},
   "source": [
    "## Similarity Search"
   ]
  },
  {
   "cell_type": "code",
   "execution_count": null,
   "id": "6e82a2b9-7514-4b08-b730-acf1f42b3323",
   "metadata": {},
   "outputs": [],
   "source": [
    "query = 'what is the best yarn for beginners?'"
   ]
  },
  {
   "cell_type": "code",
   "execution_count": null,
   "id": "3778c3ba-5950-46ac-b2fa-9c24c05f4ee8",
   "metadata": {},
   "outputs": [],
   "source": [
    "answer = vectordb.similarity_search(query, k=3)\n",
    "answer"
   ]
  },
  {
   "cell_type": "code",
   "execution_count": null,
   "id": "36703074-55f0-47ec-9cc6-da124ee0760b",
   "metadata": {},
   "outputs": [],
   "source": [
    "for d in answer:\n",
    "    print(d.page_content)"
   ]
  },
  {
   "cell_type": "code",
   "execution_count": null,
   "id": "3eb53186-509a-4d39-973b-8537996eb5da",
   "metadata": {},
   "outputs": [],
   "source": [
    "for d in answer:\n",
    "    print(d.metadata)"
   ]
  },
  {
   "cell_type": "markdown",
   "id": "6f879ea2-fd05-4cb6-b6ee-3f831b84c601",
   "metadata": {},
   "source": [
    "## Information Retrieval"
   ]
  },
  {
   "cell_type": "code",
   "execution_count": null,
   "id": "6490092f-e7ec-4e16-ac94-48a9cc95b751",
   "metadata": {},
   "outputs": [],
   "source": [
    "q1 = 'What does \"K2tog\" mean?'"
   ]
  },
  {
   "cell_type": "code",
   "execution_count": null,
   "id": "faa2faf6-4196-4466-a9ff-129efd6247f4",
   "metadata": {},
   "outputs": [],
   "source": [
    "q2 = 'What are stitch markers and how do I use them?'"
   ]
  },
  {
   "cell_type": "code",
   "execution_count": null,
   "id": "3ffc2aa2-6f92-42fb-9e00-c459030563c2",
   "metadata": {},
   "outputs": [],
   "source": [
    "q3 = 'How do I cast on stitches?'"
   ]
  },
  {
   "cell_type": "code",
   "execution_count": null,
   "id": "ccf39241-0053-4653-aa26-91724f489f20",
   "metadata": {},
   "outputs": [],
   "source": [
    "q4 = \"What's the difference between circular needles and straight needles?\""
   ]
  },
  {
   "cell_type": "code",
   "execution_count": null,
   "id": "605001c7-a118-4ef6-aea4-ac0eebad4e92",
   "metadata": {},
   "outputs": [],
   "source": [
    "answer = vectordb.max_marginal_relevance_search(q1, k=2, fetch_k=5)\n",
    "for d in answer:\n",
    "    print(d.page_content)"
   ]
  },
  {
   "cell_type": "code",
   "execution_count": null,
   "id": "e0b8c597-8c80-484e-b8f3-685c4414d80d",
   "metadata": {},
   "outputs": [],
   "source": [
    "answer = vectordb.max_marginal_relevance_search(q2, k=2, fetch_k=5)\n",
    "for d in answer:\n",
    "    print(d.page_content)"
   ]
  },
  {
   "cell_type": "code",
   "execution_count": null,
   "id": "6bf72b81-b82d-4477-b0fa-f88dd68cc057",
   "metadata": {},
   "outputs": [],
   "source": [
    "answer = vectordb.max_marginal_relevance_search(q3, k=2, fetch_k=5)\n",
    "for d in answer:\n",
    "    print(d.page_content)"
   ]
  },
  {
   "cell_type": "code",
   "execution_count": null,
   "id": "fee82f57-d01e-43df-8ceb-00295406d7f3",
   "metadata": {},
   "outputs": [],
   "source": [
    "answer = vectordb.max_marginal_relevance_search(q4, k=2, fetch_k=5)\n",
    "for d in answer:\n",
    "    print(d.page_content)"
   ]
  },
  {
   "cell_type": "markdown",
   "id": "18ab8c10-a604-41ae-993f-e5ea37aad31e",
   "metadata": {},
   "source": [
    "## Large Language Model"
   ]
  },
  {
   "cell_type": "code",
   "execution_count": null,
   "id": "1b8588d6-1a7a-4b94-a071-fb9d99789adb",
   "metadata": {},
   "outputs": [],
   "source": [
    "!ollama serve"
   ]
  },
  {
   "cell_type": "code",
   "execution_count": null,
   "id": "728a2585-e0dc-43ef-b4f2-2afe112021d8",
   "metadata": {},
   "outputs": [],
   "source": [
    "!ollama run"
   ]
  },
  {
   "cell_type": "code",
   "execution_count": null,
   "id": "d5bb49bf-1829-4f98-94b8-be2183a46e67",
   "metadata": {},
   "outputs": [],
   "source": [
    "from langchain.llms import Ollama\n",
    "from langchain.chains import RetrievalQA\n",
    "from langchain.prompts import PromptTemplate"
   ]
  },
  {
   "cell_type": "code",
   "execution_count": null,
   "id": "2e600e7c-e881-4e58-87d6-ad5b5dea53d9",
   "metadata": {},
   "outputs": [],
   "source": [
    "!ollama list"
   ]
  },
  {
   "cell_type": "code",
   "execution_count": null,
   "id": "5a291b36-dee5-4cb1-a923-978643e1055f",
   "metadata": {},
   "outputs": [],
   "source": [
    "llm = Ollama(model=\"mistral\", callback_manager = CallbackManager([StreamingStdOutCallbackHandler()]))"
   ]
  },
  {
   "cell_type": "code",
   "execution_count": null,
   "id": "a2fb4886-c841-4064-95eb-e656f5b91f4f",
   "metadata": {},
   "outputs": [],
   "source": [
    "# Build prompt\n",
    "template = \"\"\"Use the following pieces of context to answer the question at the end. \n",
    "If you don't know the answer, just say that you don't know, don't try to make up an answer. \n",
    "Use five sentences maximum. Keep the answer as concise as possible. \n",
    "Always say \"thanks for asking!\" at the end of the answer. \n",
    "\n",
    "{context}\n",
    "\n",
    "Question: {question}\n",
    "\n",
    "Helpful Answer:\n",
    "\"\"\""
   ]
  },
  {
   "cell_type": "code",
   "execution_count": null,
   "id": "5bae2c6d-ba04-4321-aa93-3b631d799884",
   "metadata": {},
   "outputs": [],
   "source": [
    "prompt = PromptTemplate.from_template(template)\n",
    "chain = RetrievalQA.from_chain_type(\n",
    "    llm,\n",
    "    retriever=vectordb.as_retriever(),\n",
    "    return_source_documents=True,\n",
    "    chain_type_kwargs={\"prompt\": prompt})"
   ]
  },
  {
   "cell_type": "code",
   "execution_count": null,
   "id": "33f464b3-5c67-45b6-ac37-446207e07df7",
   "metadata": {},
   "outputs": [],
   "source": [
    "question1 = 'What does \"K2tog\" mean?'"
   ]
  },
  {
   "cell_type": "code",
   "execution_count": null,
   "id": "f1100505-33be-4299-ade0-38170a8f5789",
   "metadata": {},
   "outputs": [],
   "source": [
    "result1 = chain({\"query\": question1})\n",
    "result1[\"result\"]"
   ]
  },
  {
   "cell_type": "code",
   "execution_count": null,
   "id": "c223ca33-38f7-4f9d-bd24-c3e4a3ff878e",
   "metadata": {},
   "outputs": [],
   "source": [
    "question2 = 'What are stitch markers and how do I use them?'"
   ]
  },
  {
   "cell_type": "code",
   "execution_count": null,
   "id": "6757785d-d22b-4940-bd6e-4157389eee85",
   "metadata": {},
   "outputs": [],
   "source": [
    "result2 = chain({\"query\": question2})\n",
    "result2[\"result\"]"
   ]
  },
  {
   "cell_type": "code",
   "execution_count": null,
   "id": "8d0fac37-d1c4-4111-bb94-6335a30d0716",
   "metadata": {},
   "outputs": [],
   "source": [
    "question3 = 'How do I cast on stitches?'"
   ]
  },
  {
   "cell_type": "code",
   "execution_count": null,
   "id": "899faa24-c0f1-432b-bd6c-8cc1aed919c4",
   "metadata": {},
   "outputs": [],
   "source": [
    "result3 = chain({\"query\": question3})\n",
    "result3[\"result\"]"
   ]
  },
  {
   "cell_type": "code",
   "execution_count": null,
   "id": "eb3bfb41-fd08-4183-84ae-eb82a2b2c6d3",
   "metadata": {},
   "outputs": [],
   "source": [
    "question4 = \"What's the difference between circular needles and straight needles?\""
   ]
  },
  {
   "cell_type": "code",
   "execution_count": null,
   "id": "1394bffa-c11e-4f73-9c55-bd381a4e4727",
   "metadata": {},
   "outputs": [],
   "source": [
    "result4 = chain({\"query\": question4})\n",
    "result4[\"result\"]"
   ]
  },
  {
   "cell_type": "code",
   "execution_count": null,
   "id": "d42f059e-b693-408d-a199-d9322f0b2c38",
   "metadata": {},
   "outputs": [],
   "source": [
    "question5 = 'What does water taste like?'"
   ]
  },
  {
   "cell_type": "code",
   "execution_count": null,
   "id": "f5fbef72-6ded-484a-8582-028e13abb813",
   "metadata": {},
   "outputs": [],
   "source": [
    "result5 = chain({\"query\": question5})\n",
    "result5[\"result\"]"
   ]
  },
  {
   "cell_type": "code",
   "execution_count": null,
   "id": "0537826a-fc7d-4fb2-9fb9-88a0197a2e98",
   "metadata": {},
   "outputs": [],
   "source": [
    "!bye"
   ]
  },
  {
   "cell_type": "code",
   "execution_count": null,
   "id": "44aa66a3-6ac5-49f5-8dcd-52c078a8770f",
   "metadata": {},
   "outputs": [],
   "source": [
    "## make a steamlit application"
   ]
  }
 ],
 "metadata": {
  "kernelspec": {
   "display_name": "Python 3 (ipykernel)",
   "language": "python",
   "name": "python3"
  },
  "language_info": {
   "codemirror_mode": {
    "name": "ipython",
    "version": 3
   },
   "file_extension": ".py",
   "mimetype": "text/x-python",
   "name": "python",
   "nbconvert_exporter": "python",
   "pygments_lexer": "ipython3",
   "version": "3.12.1"
  }
 },
 "nbformat": 4,
 "nbformat_minor": 5
}
