{
 "cells": [
  {
   "cell_type": "markdown",
   "id": "cfaf9fa8-5e65-45af-8b89-506c439f661d",
   "metadata": {},
   "source": [
    "# Exercise 5"
   ]
  },
  {
   "cell_type": "code",
   "execution_count": 1,
   "id": "728bbc76-8e11-4b94-a151-05fc51e6bde4",
   "metadata": {
    "scrolled": true
   },
   "outputs": [
    {
     "name": "stdout",
     "output_type": "stream",
     "text": [
      "Requirement already satisfied: streamlit in /Library/Frameworks/Python.framework/Versions/3.12/lib/python3.12/site-packages (1.34.0)\n",
      "Requirement already satisfied: altair<6,>=4.0 in /Library/Frameworks/Python.framework/Versions/3.12/lib/python3.12/site-packages (from streamlit) (5.3.0)\n",
      "Requirement already satisfied: blinker<2,>=1.0.0 in /Library/Frameworks/Python.framework/Versions/3.12/lib/python3.12/site-packages (from streamlit) (1.7.0)\n",
      "Requirement already satisfied: cachetools<6,>=4.0 in /Library/Frameworks/Python.framework/Versions/3.12/lib/python3.12/site-packages (from streamlit) (5.3.3)\n",
      "Requirement already satisfied: click<9,>=7.0 in /Library/Frameworks/Python.framework/Versions/3.12/lib/python3.12/site-packages (from streamlit) (8.1.7)\n",
      "Requirement already satisfied: numpy<2,>=1.19.3 in /Library/Frameworks/Python.framework/Versions/3.12/lib/python3.12/site-packages (from streamlit) (1.26.3)\n",
      "Requirement already satisfied: packaging<25,>=16.8 in /Library/Frameworks/Python.framework/Versions/3.12/lib/python3.12/site-packages (from streamlit) (23.2)\n",
      "Requirement already satisfied: pandas<3,>=1.3.0 in /Library/Frameworks/Python.framework/Versions/3.12/lib/python3.12/site-packages (from streamlit) (2.2.0)\n",
      "Requirement already satisfied: pillow<11,>=7.1.0 in /Library/Frameworks/Python.framework/Versions/3.12/lib/python3.12/site-packages (from streamlit) (10.2.0)\n",
      "Requirement already satisfied: protobuf<5,>=3.20 in /Library/Frameworks/Python.framework/Versions/3.12/lib/python3.12/site-packages (from streamlit) (4.25.3)\n",
      "Requirement already satisfied: pyarrow>=7.0 in /Library/Frameworks/Python.framework/Versions/3.12/lib/python3.12/site-packages (from streamlit) (16.0.0)\n",
      "Requirement already satisfied: requests<3,>=2.27 in /Library/Frameworks/Python.framework/Versions/3.12/lib/python3.12/site-packages (from streamlit) (2.31.0)\n",
      "Requirement already satisfied: rich<14,>=10.14.0 in /Library/Frameworks/Python.framework/Versions/3.12/lib/python3.12/site-packages (from streamlit) (13.7.1)\n",
      "Requirement already satisfied: tenacity<9,>=8.1.0 in /Library/Frameworks/Python.framework/Versions/3.12/lib/python3.12/site-packages (from streamlit) (8.3.0)\n",
      "Requirement already satisfied: toml<2,>=0.10.1 in /Library/Frameworks/Python.framework/Versions/3.12/lib/python3.12/site-packages (from streamlit) (0.10.2)\n",
      "Requirement already satisfied: typing-extensions<5,>=4.3.0 in /Library/Frameworks/Python.framework/Versions/3.12/lib/python3.12/site-packages (from streamlit) (4.11.0)\n",
      "Requirement already satisfied: gitpython!=3.1.19,<4,>=3.0.7 in /Library/Frameworks/Python.framework/Versions/3.12/lib/python3.12/site-packages (from streamlit) (3.1.43)\n",
      "Requirement already satisfied: pydeck<1,>=0.8.0b4 in /Library/Frameworks/Python.framework/Versions/3.12/lib/python3.12/site-packages (from streamlit) (0.9.1)\n",
      "Requirement already satisfied: tornado<7,>=6.0.3 in /Library/Frameworks/Python.framework/Versions/3.12/lib/python3.12/site-packages (from streamlit) (6.4)\n",
      "Requirement already satisfied: jinja2 in /Library/Frameworks/Python.framework/Versions/3.12/lib/python3.12/site-packages (from altair<6,>=4.0->streamlit) (3.1.3)\n",
      "Requirement already satisfied: jsonschema>=3.0 in /Library/Frameworks/Python.framework/Versions/3.12/lib/python3.12/site-packages (from altair<6,>=4.0->streamlit) (4.21.1)\n",
      "Requirement already satisfied: toolz in /Library/Frameworks/Python.framework/Versions/3.12/lib/python3.12/site-packages (from altair<6,>=4.0->streamlit) (0.12.1)\n",
      "Requirement already satisfied: gitdb<5,>=4.0.1 in /Library/Frameworks/Python.framework/Versions/3.12/lib/python3.12/site-packages (from gitpython!=3.1.19,<4,>=3.0.7->streamlit) (4.0.11)\n",
      "Requirement already satisfied: python-dateutil>=2.8.2 in /Library/Frameworks/Python.framework/Versions/3.12/lib/python3.12/site-packages (from pandas<3,>=1.3.0->streamlit) (2.8.2)\n",
      "Requirement already satisfied: pytz>=2020.1 in /Library/Frameworks/Python.framework/Versions/3.12/lib/python3.12/site-packages (from pandas<3,>=1.3.0->streamlit) (2023.4)\n",
      "Requirement already satisfied: tzdata>=2022.7 in /Library/Frameworks/Python.framework/Versions/3.12/lib/python3.12/site-packages (from pandas<3,>=1.3.0->streamlit) (2023.4)\n",
      "Requirement already satisfied: charset-normalizer<4,>=2 in /Library/Frameworks/Python.framework/Versions/3.12/lib/python3.12/site-packages (from requests<3,>=2.27->streamlit) (3.3.2)\n",
      "Requirement already satisfied: idna<4,>=2.5 in /Library/Frameworks/Python.framework/Versions/3.12/lib/python3.12/site-packages (from requests<3,>=2.27->streamlit) (3.6)\n",
      "Requirement already satisfied: urllib3<3,>=1.21.1 in /Library/Frameworks/Python.framework/Versions/3.12/lib/python3.12/site-packages (from requests<3,>=2.27->streamlit) (2.1.0)\n",
      "Requirement already satisfied: certifi>=2017.4.17 in /Library/Frameworks/Python.framework/Versions/3.12/lib/python3.12/site-packages (from requests<3,>=2.27->streamlit) (2023.11.17)\n",
      "Requirement already satisfied: markdown-it-py>=2.2.0 in /Library/Frameworks/Python.framework/Versions/3.12/lib/python3.12/site-packages (from rich<14,>=10.14.0->streamlit) (3.0.0)\n",
      "Requirement already satisfied: pygments<3.0.0,>=2.13.0 in /Library/Frameworks/Python.framework/Versions/3.12/lib/python3.12/site-packages (from rich<14,>=10.14.0->streamlit) (2.17.2)\n",
      "Requirement already satisfied: smmap<6,>=3.0.1 in /Library/Frameworks/Python.framework/Versions/3.12/lib/python3.12/site-packages (from gitdb<5,>=4.0.1->gitpython!=3.1.19,<4,>=3.0.7->streamlit) (5.0.1)\n",
      "Requirement already satisfied: MarkupSafe>=2.0 in /Library/Frameworks/Python.framework/Versions/3.12/lib/python3.12/site-packages (from jinja2->altair<6,>=4.0->streamlit) (2.1.4)\n",
      "Requirement already satisfied: attrs>=22.2.0 in /Library/Frameworks/Python.framework/Versions/3.12/lib/python3.12/site-packages (from jsonschema>=3.0->altair<6,>=4.0->streamlit) (23.2.0)\n",
      "Requirement already satisfied: jsonschema-specifications>=2023.03.6 in /Library/Frameworks/Python.framework/Versions/3.12/lib/python3.12/site-packages (from jsonschema>=3.0->altair<6,>=4.0->streamlit) (2023.12.1)\n",
      "Requirement already satisfied: referencing>=0.28.4 in /Library/Frameworks/Python.framework/Versions/3.12/lib/python3.12/site-packages (from jsonschema>=3.0->altair<6,>=4.0->streamlit) (0.33.0)\n",
      "Requirement already satisfied: rpds-py>=0.7.1 in /Library/Frameworks/Python.framework/Versions/3.12/lib/python3.12/site-packages (from jsonschema>=3.0->altair<6,>=4.0->streamlit) (0.17.1)\n",
      "Requirement already satisfied: mdurl~=0.1 in /Library/Frameworks/Python.framework/Versions/3.12/lib/python3.12/site-packages (from markdown-it-py>=2.2.0->rich<14,>=10.14.0->streamlit) (0.1.2)\n",
      "Requirement already satisfied: six>=1.5 in /Library/Frameworks/Python.framework/Versions/3.12/lib/python3.12/site-packages (from python-dateutil>=2.8.2->pandas<3,>=1.3.0->streamlit) (1.16.0)\n"
     ]
    }
   ],
   "source": [
    "!pip install streamlit"
   ]
  },
  {
   "cell_type": "code",
   "execution_count": 2,
   "id": "d6b73b2d-b5fc-40ce-981b-8772103a6820",
   "metadata": {},
   "outputs": [],
   "source": [
    "## !streamlit hello"
   ]
  },
  {
   "cell_type": "code",
   "execution_count": 3,
   "id": "9ba11115-d061-4e08-8d19-7f88d549eb3d",
   "metadata": {
    "scrolled": true
   },
   "outputs": [
    {
     "name": "stdout",
     "output_type": "stream",
     "text": [
      "Requirement already satisfied: langchain in /Library/Frameworks/Python.framework/Versions/3.12/lib/python3.12/site-packages (0.1.0)\n",
      "Requirement already satisfied: PyYAML>=5.3 in /Library/Frameworks/Python.framework/Versions/3.12/lib/python3.12/site-packages (from langchain) (6.0.1)\n",
      "Requirement already satisfied: SQLAlchemy<3,>=1.4 in /Library/Frameworks/Python.framework/Versions/3.12/lib/python3.12/site-packages (from langchain) (2.0.30)\n",
      "Requirement already satisfied: aiohttp<4.0.0,>=3.8.3 in /Library/Frameworks/Python.framework/Versions/3.12/lib/python3.12/site-packages (from langchain) (3.9.5)\n",
      "Requirement already satisfied: dataclasses-json<0.7,>=0.5.7 in /Library/Frameworks/Python.framework/Versions/3.12/lib/python3.12/site-packages (from langchain) (0.6.6)\n",
      "Requirement already satisfied: jsonpatch<2.0,>=1.33 in /Library/Frameworks/Python.framework/Versions/3.12/lib/python3.12/site-packages (from langchain) (1.33)\n",
      "Requirement already satisfied: langchain-community<0.1,>=0.0.9 in /Library/Frameworks/Python.framework/Versions/3.12/lib/python3.12/site-packages (from langchain) (0.0.20)\n",
      "Requirement already satisfied: langchain-core<0.2,>=0.1.7 in /Library/Frameworks/Python.framework/Versions/3.12/lib/python3.12/site-packages (from langchain) (0.1.23)\n",
      "Requirement already satisfied: langsmith<0.1.0,>=0.0.77 in /Library/Frameworks/Python.framework/Versions/3.12/lib/python3.12/site-packages (from langchain) (0.0.87)\n",
      "Requirement already satisfied: numpy<2,>=1 in /Library/Frameworks/Python.framework/Versions/3.12/lib/python3.12/site-packages (from langchain) (1.26.3)\n",
      "Requirement already satisfied: pydantic<3,>=1 in /Library/Frameworks/Python.framework/Versions/3.12/lib/python3.12/site-packages (from langchain) (2.7.1)\n",
      "Requirement already satisfied: requests<3,>=2 in /Library/Frameworks/Python.framework/Versions/3.12/lib/python3.12/site-packages (from langchain) (2.31.0)\n",
      "Requirement already satisfied: tenacity<9.0.0,>=8.1.0 in /Library/Frameworks/Python.framework/Versions/3.12/lib/python3.12/site-packages (from langchain) (8.3.0)\n",
      "Requirement already satisfied: aiosignal>=1.1.2 in /Library/Frameworks/Python.framework/Versions/3.12/lib/python3.12/site-packages (from aiohttp<4.0.0,>=3.8.3->langchain) (1.3.1)\n",
      "Requirement already satisfied: attrs>=17.3.0 in /Library/Frameworks/Python.framework/Versions/3.12/lib/python3.12/site-packages (from aiohttp<4.0.0,>=3.8.3->langchain) (23.2.0)\n",
      "Requirement already satisfied: frozenlist>=1.1.1 in /Library/Frameworks/Python.framework/Versions/3.12/lib/python3.12/site-packages (from aiohttp<4.0.0,>=3.8.3->langchain) (1.4.1)\n",
      "Requirement already satisfied: multidict<7.0,>=4.5 in /Library/Frameworks/Python.framework/Versions/3.12/lib/python3.12/site-packages (from aiohttp<4.0.0,>=3.8.3->langchain) (6.0.5)\n",
      "Requirement already satisfied: yarl<2.0,>=1.0 in /Library/Frameworks/Python.framework/Versions/3.12/lib/python3.12/site-packages (from aiohttp<4.0.0,>=3.8.3->langchain) (1.9.4)\n",
      "Requirement already satisfied: marshmallow<4.0.0,>=3.18.0 in /Library/Frameworks/Python.framework/Versions/3.12/lib/python3.12/site-packages (from dataclasses-json<0.7,>=0.5.7->langchain) (3.21.2)\n",
      "Requirement already satisfied: typing-inspect<1,>=0.4.0 in /Library/Frameworks/Python.framework/Versions/3.12/lib/python3.12/site-packages (from dataclasses-json<0.7,>=0.5.7->langchain) (0.9.0)\n",
      "Requirement already satisfied: jsonpointer>=1.9 in /Library/Frameworks/Python.framework/Versions/3.12/lib/python3.12/site-packages (from jsonpatch<2.0,>=1.33->langchain) (2.4)\n",
      "Requirement already satisfied: anyio<5,>=3 in /Library/Frameworks/Python.framework/Versions/3.12/lib/python3.12/site-packages (from langchain-core<0.2,>=0.1.7->langchain) (4.2.0)\n",
      "Requirement already satisfied: packaging<24.0,>=23.2 in /Library/Frameworks/Python.framework/Versions/3.12/lib/python3.12/site-packages (from langchain-core<0.2,>=0.1.7->langchain) (23.2)\n",
      "Requirement already satisfied: annotated-types>=0.4.0 in /Library/Frameworks/Python.framework/Versions/3.12/lib/python3.12/site-packages (from pydantic<3,>=1->langchain) (0.6.0)\n",
      "Requirement already satisfied: pydantic-core==2.18.2 in /Library/Frameworks/Python.framework/Versions/3.12/lib/python3.12/site-packages (from pydantic<3,>=1->langchain) (2.18.2)\n",
      "Requirement already satisfied: typing-extensions>=4.6.1 in /Library/Frameworks/Python.framework/Versions/3.12/lib/python3.12/site-packages (from pydantic<3,>=1->langchain) (4.11.0)\n",
      "Requirement already satisfied: charset-normalizer<4,>=2 in /Library/Frameworks/Python.framework/Versions/3.12/lib/python3.12/site-packages (from requests<3,>=2->langchain) (3.3.2)\n",
      "Requirement already satisfied: idna<4,>=2.5 in /Library/Frameworks/Python.framework/Versions/3.12/lib/python3.12/site-packages (from requests<3,>=2->langchain) (3.6)\n",
      "Requirement already satisfied: urllib3<3,>=1.21.1 in /Library/Frameworks/Python.framework/Versions/3.12/lib/python3.12/site-packages (from requests<3,>=2->langchain) (2.1.0)\n",
      "Requirement already satisfied: certifi>=2017.4.17 in /Library/Frameworks/Python.framework/Versions/3.12/lib/python3.12/site-packages (from requests<3,>=2->langchain) (2023.11.17)\n",
      "Requirement already satisfied: sniffio>=1.1 in /Library/Frameworks/Python.framework/Versions/3.12/lib/python3.12/site-packages (from anyio<5,>=3->langchain-core<0.2,>=0.1.7->langchain) (1.3.0)\n",
      "Requirement already satisfied: mypy-extensions>=0.3.0 in /Library/Frameworks/Python.framework/Versions/3.12/lib/python3.12/site-packages (from typing-inspect<1,>=0.4.0->dataclasses-json<0.7,>=0.5.7->langchain) (1.0.0)\n"
     ]
    }
   ],
   "source": [
    "!pip install langchain"
   ]
  },
  {
   "cell_type": "code",
   "execution_count": 4,
   "id": "7dfdb156-bf3b-4cd3-a7ca-6fe0edcd24c5",
   "metadata": {},
   "outputs": [
    {
     "name": "stdout",
     "output_type": "stream",
     "text": [
      "Requirement already satisfied: langdetect in /Library/Frameworks/Python.framework/Versions/3.12/lib/python3.12/site-packages (1.0.9)\n",
      "Requirement already satisfied: six in /Library/Frameworks/Python.framework/Versions/3.12/lib/python3.12/site-packages (from langdetect) (1.16.0)\n"
     ]
    }
   ],
   "source": [
    "!pip install langdetect"
   ]
  },
  {
   "cell_type": "code",
   "execution_count": 5,
   "id": "05c9b200-f2e3-42ea-93ec-e0ad57d18995",
   "metadata": {},
   "outputs": [
    {
     "name": "stdout",
     "output_type": "stream",
     "text": [
      "Requirement already satisfied: torch in /Library/Frameworks/Python.framework/Versions/3.12/lib/python3.12/site-packages (2.3.0)\n",
      "Requirement already satisfied: filelock in /Library/Frameworks/Python.framework/Versions/3.12/lib/python3.12/site-packages (from torch) (3.14.0)\n",
      "Requirement already satisfied: typing-extensions>=4.8.0 in /Library/Frameworks/Python.framework/Versions/3.12/lib/python3.12/site-packages (from torch) (4.11.0)\n",
      "Requirement already satisfied: sympy in /Library/Frameworks/Python.framework/Versions/3.12/lib/python3.12/site-packages (from torch) (1.12)\n",
      "Requirement already satisfied: networkx in /Library/Frameworks/Python.framework/Versions/3.12/lib/python3.12/site-packages (from torch) (3.3)\n",
      "Requirement already satisfied: jinja2 in /Library/Frameworks/Python.framework/Versions/3.12/lib/python3.12/site-packages (from torch) (3.1.3)\n",
      "Requirement already satisfied: fsspec in /Library/Frameworks/Python.framework/Versions/3.12/lib/python3.12/site-packages (from torch) (2024.3.1)\n",
      "Requirement already satisfied: MarkupSafe>=2.0 in /Library/Frameworks/Python.framework/Versions/3.12/lib/python3.12/site-packages (from jinja2->torch) (2.1.4)\n",
      "Requirement already satisfied: mpmath>=0.19 in /Library/Frameworks/Python.framework/Versions/3.12/lib/python3.12/site-packages (from sympy->torch) (1.3.0)\n"
     ]
    }
   ],
   "source": [
    "!pip install -U torch"
   ]
  },
  {
   "cell_type": "markdown",
   "id": "04dcb4f5-3194-40f1-aacf-132a5c8fefdf",
   "metadata": {},
   "source": [
    "## Set Enviroment "
   ]
  },
  {
   "cell_type": "code",
   "execution_count": 6,
   "id": "17dc64bb-3180-49c0-aa85-e2487818a433",
   "metadata": {},
   "outputs": [],
   "source": [
    "import os\n",
    "import pandas as pd"
   ]
  },
  {
   "cell_type": "code",
   "execution_count": 7,
   "id": "2d851e54-5dae-4df6-a792-439230126c97",
   "metadata": {},
   "outputs": [],
   "source": [
    "import langdetect\n",
    "from langdetect import DetectorFactory, detect, detect_langs"
   ]
  },
  {
   "cell_type": "code",
   "execution_count": 8,
   "id": "3cf99065-b7c1-4a2a-b9ed-9c0755bd1b82",
   "metadata": {},
   "outputs": [],
   "source": [
    "from langchain.llms import Ollama\n",
    "from langchain.callbacks.manager import CallbackManager\n",
    "from langchain.callbacks.streaming_stdout import StreamingStdOutCallbackHandler"
   ]
  },
  {
   "cell_type": "code",
   "execution_count": 9,
   "id": "97f18d42-9d9d-459c-85db-7fb89bb3d62f",
   "metadata": {},
   "outputs": [],
   "source": [
    "\n",
    "from langchain.docstore.document import Document\n",
    "from langchain.text_splitter import RecursiveCharacterTextSplitter\n",
    "from langchain.vectorstores import Chroma\n",
    "from langchain.chains import ConversationalRetrievalChain\n",
    "from langchain.memory import ConversationBufferMemory\n",
    "from langchain.prompts import PromptTemplate"
   ]
  },
  {
   "cell_type": "code",
   "execution_count": 10,
   "id": "d5af439d-bca5-45bb-802f-b1639d4a43d5",
   "metadata": {},
   "outputs": [],
   "source": [
    "# Embedding facilities\n",
    "from langchain.embeddings import HuggingFaceEmbeddings"
   ]
  },
  {
   "cell_type": "code",
   "execution_count": 11,
   "id": "4a7cff1c-5f20-47a9-865e-29be87928509",
   "metadata": {},
   "outputs": [],
   "source": [
    "# Pipelines\n",
    "from langchain import HuggingFacePipeline\n",
    "from langchain.chains import RetrievalQA"
   ]
  },
  {
   "cell_type": "markdown",
   "id": "438840ac-cfb9-4c18-8265-ecb383398277",
   "metadata": {},
   "source": [
    "## Load Documents"
   ]
  },
  {
   "cell_type": "code",
   "execution_count": 12,
   "id": "ebdc951d-80e1-46d2-8cf2-e5da197c02c3",
   "metadata": {},
   "outputs": [],
   "source": [
    "import myloadlib\n",
    "from myloadlib import loadDir, loadFile, loadWiki, loadYoutube, readAPI"
   ]
  },
  {
   "cell_type": "code",
   "execution_count": 13,
   "id": "0932c18c-3ace-48bf-9a86-8f64020d2919",
   "metadata": {},
   "outputs": [
    {
     "data": {
      "text/plain": [
       "<module 'myloadlib' from '/Users/mariamcnally/Desktop/SW2Semester/AI/OLA5/myloadlib.py'>"
      ]
     },
     "execution_count": 13,
     "metadata": {},
     "output_type": "execute_result"
    }
   ],
   "source": [
    "import importlib \n",
    "importlib.reload(myloadlib)"
   ]
  },
  {
   "cell_type": "code",
   "execution_count": 14,
   "id": "6b27dfb0-bfb1-4475-9d94-0558dc6bc264",
   "metadata": {},
   "outputs": [],
   "source": [
    "# Collect all here\n",
    "documents = []"
   ]
  },
  {
   "cell_type": "markdown",
   "id": "22113093-ce47-45ed-b2b2-cf9f459c572c",
   "metadata": {},
   "source": [
    "## Load single files"
   ]
  },
  {
   "cell_type": "code",
   "execution_count": 15,
   "id": "310103aa-5e9b-44f4-aff5-993700838ef4",
   "metadata": {},
   "outputs": [],
   "source": [
    "file = \"/Users/mariamcnally/Desktop/SW2Semester/AI/DataWrangling.pdf\""
   ]
  },
  {
   "cell_type": "code",
   "execution_count": 16,
   "id": "4bb6440e-2574-47ec-aa22-0376efc41c70",
   "metadata": {},
   "outputs": [
    {
     "name": "stdout",
     "output_type": "stream",
     "text": [
      "Requirement already satisfied: pypdf in /Library/Frameworks/Python.framework/Versions/3.12/lib/python3.12/site-packages (4.2.0)\n"
     ]
    }
   ],
   "source": [
    "!pip install pypdf"
   ]
  },
  {
   "cell_type": "code",
   "execution_count": 17,
   "id": "4a915478-86e9-4261-b2c2-3e826eaeae59",
   "metadata": {},
   "outputs": [
    {
     "name": "stderr",
     "output_type": "stream",
     "text": [
      "Ignoring wrong pointing object 6 0 (offset 0)\n",
      "Ignoring wrong pointing object 8 0 (offset 0)\n",
      "Ignoring wrong pointing object 11 0 (offset 0)\n",
      "Ignoring wrong pointing object 13 0 (offset 0)\n",
      "Ignoring wrong pointing object 15 0 (offset 0)\n",
      "Ignoring wrong pointing object 17 0 (offset 0)\n",
      "Ignoring wrong pointing object 19 0 (offset 0)\n",
      "Ignoring wrong pointing object 21 0 (offset 0)\n"
     ]
    }
   ],
   "source": [
    "docs = myloadlib.loadFile(file)"
   ]
  },
  {
   "cell_type": "code",
   "execution_count": 18,
   "id": "ce6e044b-ba68-44af-adc9-0b54be98b380",
   "metadata": {},
   "outputs": [
    {
     "data": {
      "text/plain": [
       "2"
      ]
     },
     "execution_count": 18,
     "metadata": {},
     "output_type": "execute_result"
    }
   ],
   "source": [
    "documents.extend(docs)\n",
    "len(documents)"
   ]
  },
  {
   "cell_type": "code",
   "execution_count": 19,
   "id": "71d6b155-a7ad-4f96-8799-4c76f185ac95",
   "metadata": {},
   "outputs": [
    {
     "data": {
      "text/plain": [
       "{'source': '/Users/mariamcnally/Desktop/SW2Semester/AI/DataWrangling.pdf',\n",
       " 'page': 0}"
      ]
     },
     "execution_count": 19,
     "metadata": {},
     "output_type": "execute_result"
    }
   ],
   "source": [
    "# metadata of loaded Document\n",
    "docs[0].metadata "
   ]
  },
  {
   "cell_type": "markdown",
   "id": "c6aea562-013b-4182-bff9-96ac549d16af",
   "metadata": {},
   "source": [
    "Content of page [0] = page 1. "
   ]
  },
  {
   "cell_type": "code",
   "execution_count": 20,
   "id": "b4a67e29-a9ba-41d1-a186-af03622038ee",
   "metadata": {},
   "outputs": [
    {
     "data": {
      "text/plain": [
       "'Data Wrangling To get the data into a good state before analysing it there are some steps we need to go  through . The following process is a basic outline of what needs to happen before data is  ready for modelling and analysis. • Data\\tDiscovery:\\tThis\\tis\\tan\\tall-encompassing\\tterm\\tthat\\tdescribes\\tunderstanding\\twhat\\tyour\\tdata\\tis\\tall\\tabout.\\tIn\\tthis\\tfirst\\tstep,\\tyou\\tget\\tfamiliar\\twith\\tyour\\tdata\\t\\tand\\tensure\\tit\\tis\\tcapable\\tof\\tbeing\\tused\\tto\\thelp\\twork\\ton\\tyour\\tproblem.\\t\\t• Data\\tStructuring:\\tWhen\\tyou\\tcollect\\traw\\tdata,\\tit\\tinitially\\tis\\tin\\tall\\tshapes\\tand\\t\\tsizes,\\tand\\thas\\tno\\tdefinite\\tstructure.\\tSuch\\tdata\\tneeds\\tto\\tbe\\trestructured\\tto\\tsuit\\tthe\\t\\tanalytical\\tmodel\\tthat\\tyour\\tenterprise\\tplans\\tto\\tdeploy\\t\\t\\t• Data\\tCleaning:\\tRaw\\tdata\\tcomes\\twith\\tsome\\terrors\\tthat\\tneed\\tto\\tbe\\tfixed\\tbefore\\t\\tdata\\tis\\tpassed\\ton\\tto\\tthe\\tnext\\tstage.\\tCleaning\\tinvolves\\tthe\\ttackling\\tof\\toutliers,\\t\\tmaking\\tcorrections,\\tor\\tdeleting\\tbad\\tdata\\tcompletely\\t\\t\\t• Data\\tEnriching:\\tBy\\tthis\\tstage,\\tyou\\thave\\tkind\\tof\\tbecome\\tfamiliar\\twith\\tthe\\tdata\\tin\\t\\thand.\\tNow\\tis\\tthe\\ttime\\tto\\task\\tyourself\\tthis\\tquestion\\t–\\tdo\\tyou\\tneed\\tto\\tembellish\\t\\tthe\\traw\\tdata?\\tDo\\tyou\\twant\\tto\\taugment\\tit\\twith\\tother\\tdata?\\t\\t\\t• Data\\tValidating:\\tThis\\tactivity\\tsurfaces\\tdata\\tquality\\tissues,\\tand\\tthey\\thave\\tto\\tbe\\t\\taddressed\\twith\\tthe\\tnecessary\\ttransformations.\\tThe\\trules\\tof\\tvalidation\\trules\\trequire\\trepetitive\\tprogramming\\tsteps\\tto\\tcheck\\tthe\\tauthenticity\\tand\\tthe\\tquality\\tof\\tyour\\tdata\\t\\t• Data\\tPublishing:\\tOnce\\tall\\tthe\\tabove\\tsteps\\tare\\tcompleted,\\tthe\\tfinal\\toutput\\tof\\tthe\\twrangling\\tcan\\tbe\\tpublished\\tas\\tpart\\tof\\ta\\tdata\\tpipeline\\tand\\tis\\tready\\tfor\\tanalysis.\\tData wrangling is a core iterative process that throws up the cleanest, most useful data possible before you start your actual analysis. It is THE most important stage in building credible models as everything else depends on the quality of the data.  Examples\\tof\\tthe\\tsteps\\t Data\\tDiscovery\\t\\tThink\\tabout\\tthe\\tTitanic\\tdata\\tset\\t–\\twhat\\tcan\\tbe\\tsaid\\tabout\\tit\\t–\\twhat\\tcannot\\tbe\\tsaid;\\tit\\tgives\\tus\\tinformation\\ton\\tsurvivors\\t/\\tdeaths\\t/\\tgender\\t/\\tticket\\tclass\\tetc\\tbut\\tnot\\ton\\tweight\\tof\\tpassengers\\t(does\\tit\\tinfluence\\tsurvival\\tchance?).\\tAlso\\tit\\tgives\\tus\\tno\\tphysical\\tstate\\tinformation\\t(what\\twas\\tthe\\taverage\\tdrop\\theight\\tof\\tlifeboats\\tinto\\tthe\\tsea\\tfor\\texample).\\t\\t\\t\\tData\\tStructuring\\tIf\\tyou\\tare\\tcollecting\\traw\\tdata\\tyou\\twill\\tneed\\tto\\tput\\tthe\\tdata\\tinto\\ta\\tstandardized\\tformat,\\tyou\\tmight\\tneed\\tto\\tconvert\\tintegers\\tto\\ttext\\tor\\ttext\\tto\\tnumerical\\tdata.\\tFor\\texample\\tif\\tyou\\t'"
      ]
     },
     "execution_count": 20,
     "metadata": {},
     "output_type": "execute_result"
    }
   ],
   "source": [
    "documents[0].page_content\n",
    "#docs[0].page_content[:1000]\n",
    "# First 1000 charactors."
   ]
  },
  {
   "cell_type": "markdown",
   "id": "95b2a009-3953-4424-a1ad-44a0975bd92e",
   "metadata": {},
   "source": [
    "## Load wiki"
   ]
  },
  {
   "cell_type": "code",
   "execution_count": 21,
   "id": "47a4fec9-7516-48d5-b0ae-1ae164836a7a",
   "metadata": {},
   "outputs": [],
   "source": [
    "subject = \"Testing wiki load\""
   ]
  },
  {
   "cell_type": "code",
   "execution_count": 22,
   "id": "a050c7fd-663d-4056-9abe-2c9de0fc6fb0",
   "metadata": {},
   "outputs": [],
   "source": [
    "lang = 'en'"
   ]
  },
  {
   "cell_type": "code",
   "execution_count": 23,
   "id": "b7aa867f-356a-46a8-a1f5-1a2d368de8bb",
   "metadata": {},
   "outputs": [
    {
     "name": "stdout",
     "output_type": "stream",
     "text": [
      "Requirement already satisfied: wikipedia in /Library/Frameworks/Python.framework/Versions/3.12/lib/python3.12/site-packages (1.4.0)\n",
      "Requirement already satisfied: beautifulsoup4 in /Library/Frameworks/Python.framework/Versions/3.12/lib/python3.12/site-packages (from wikipedia) (4.12.3)\n",
      "Requirement already satisfied: requests<3.0.0,>=2.0.0 in /Library/Frameworks/Python.framework/Versions/3.12/lib/python3.12/site-packages (from wikipedia) (2.31.0)\n",
      "Requirement already satisfied: charset-normalizer<4,>=2 in /Library/Frameworks/Python.framework/Versions/3.12/lib/python3.12/site-packages (from requests<3.0.0,>=2.0.0->wikipedia) (3.3.2)\n",
      "Requirement already satisfied: idna<4,>=2.5 in /Library/Frameworks/Python.framework/Versions/3.12/lib/python3.12/site-packages (from requests<3.0.0,>=2.0.0->wikipedia) (3.6)\n",
      "Requirement already satisfied: urllib3<3,>=1.21.1 in /Library/Frameworks/Python.framework/Versions/3.12/lib/python3.12/site-packages (from requests<3.0.0,>=2.0.0->wikipedia) (2.1.0)\n",
      "Requirement already satisfied: certifi>=2017.4.17 in /Library/Frameworks/Python.framework/Versions/3.12/lib/python3.12/site-packages (from requests<3.0.0,>=2.0.0->wikipedia) (2023.11.17)\n",
      "Requirement already satisfied: soupsieve>1.2 in /Library/Frameworks/Python.framework/Versions/3.12/lib/python3.12/site-packages (from beautifulsoup4->wikipedia) (2.5)\n"
     ]
    }
   ],
   "source": [
    "!pip install wikipedia"
   ]
  },
  {
   "cell_type": "code",
   "execution_count": 24,
   "id": "8470c251-80e1-41bf-8d91-2fc5dc21aaf5",
   "metadata": {},
   "outputs": [],
   "source": [
    "docs = myloadlib.loadWiki(subject, lang, 2)"
   ]
  },
  {
   "cell_type": "code",
   "execution_count": 25,
   "id": "4e2e075b-abce-4cea-8b92-aa9a1040ca5c",
   "metadata": {},
   "outputs": [],
   "source": [
    "documents.extend(docs)"
   ]
  },
  {
   "cell_type": "markdown",
   "id": "6086c650-d6ce-48ed-be77-04c353fc80a0",
   "metadata": {},
   "source": [
    "Should be 4 at the moment, but will update everytime its run, and or other Docs/documents are ran again"
   ]
  },
  {
   "cell_type": "code",
   "execution_count": 26,
   "id": "66cea9a6-3bbe-43fb-8e11-ef6292d132a9",
   "metadata": {},
   "outputs": [
    {
     "data": {
      "text/plain": [
       "4"
      ]
     },
     "execution_count": 26,
     "metadata": {},
     "output_type": "execute_result"
    }
   ],
   "source": [
    "len(documents)"
   ]
  },
  {
   "cell_type": "code",
   "execution_count": 27,
   "id": "717553fc-efcb-4a36-8efd-bb7ac2962f3a",
   "metadata": {},
   "outputs": [],
   "source": [
    "## Choose not to show Load youtube"
   ]
  },
  {
   "cell_type": "code",
   "execution_count": null,
   "id": "6784d329-a149-4578-96c8-597b38c2f1df",
   "metadata": {},
   "outputs": [],
   "source": []
  },
  {
   "cell_type": "code",
   "execution_count": null,
   "id": "3111db97-f3c5-40f6-b3ea-032d7f87cffa",
   "metadata": {},
   "outputs": [],
   "source": []
  },
  {
   "cell_type": "code",
   "execution_count": null,
   "id": "6daf9ad3-e3bf-4f5f-b68b-3810fe16a2bd",
   "metadata": {},
   "outputs": [],
   "source": []
  }
 ],
 "metadata": {
  "kernelspec": {
   "display_name": "Python 3 (ipykernel)",
   "language": "python",
   "name": "python3"
  },
  "language_info": {
   "codemirror_mode": {
    "name": "ipython",
    "version": 3
   },
   "file_extension": ".py",
   "mimetype": "text/x-python",
   "name": "python",
   "nbconvert_exporter": "python",
   "pygments_lexer": "ipython3",
   "version": "3.12.1"
  }
 },
 "nbformat": 4,
 "nbformat_minor": 5
}
